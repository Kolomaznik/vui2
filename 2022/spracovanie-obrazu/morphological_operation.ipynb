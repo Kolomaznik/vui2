{
 "cells": [
  {
   "cell_type": "markdown",
   "metadata": {
    "id": "ASy5kf8X4NlS"
   },
   "source": [
    "# Pracovný list  - Morfologické Operácie\n",
    "\n",
    "Na základe teórie o morfologických operáciach poznáme 4 druhy operácií:\n",
    "- **Erózia**\n",
    "- **Dilatácia**\n",
    "- **Otvorenie**\n",
    "- **Uzatvorenie**\n",
    "\n",
    "Použitie vyššie spomínaných metód si vyskúšame v praxi!"
   ]
  },
  {
   "cell_type": "markdown",
   "metadata": {
    "id": "_PbBX-FQ4Nlc"
   },
   "source": [
    "## Importovanie potrebných knižníc"
   ]
  },
  {
   "cell_type": "code",
   "execution_count": 1,
   "metadata": {
    "executionInfo": {
     "elapsed": 292,
     "status": "ok",
     "timestamp": 1669668358690,
     "user": {
      "displayName": "Terézia Sochová",
      "userId": "09490605269537889215"
     },
     "user_tz": -60
    },
    "id": "nJNjqsfJ4Nld"
   },
   "outputs": [],
   "source": [
    "import cv2\n",
    "import numpy as np\n",
    "\n",
    "import matplotlib.pyplot as plt\n",
    "%matplotlib inline"
   ]
  },
  {
   "cell_type": "markdown",
   "metadata": {
    "id": "_9pKHzrh6NSd"
   },
   "source": [
    "## Vytvorenie vlastného obrazka"
   ]
  },
  {
   "cell_type": "code",
   "execution_count": 2,
   "metadata": {
    "executionInfo": {
     "elapsed": 2,
     "status": "ok",
     "timestamp": 1669668360399,
     "user": {
      "displayName": "Terézia Sochová",
      "userId": "09490605269537889215"
     },
     "user_tz": -60
    },
    "id": "Ajv5xSaX4Nlf"
   },
   "outputs": [],
   "source": [
    "def load_img():\n",
    "    img_template = np.zeros(shape=(600,600), dtype=np.int16)\n",
    "    font = cv2.FONT_HERSHEY_SIMPLEX\n",
    "    cv2.putText(img_template, text='Hello', org=(40,350), fontFace=font, fontScale=5, color=(255,255,255), thickness=25)\n",
    "    return img_template"
   ]
  },
  {
   "cell_type": "markdown",
   "metadata": {
    "id": "Hkuq1sE_6tqF"
   },
   "source": [
    "## Zobrazenie obrazu"
   ]
  },
  {
   "cell_type": "code",
   "execution_count": 3,
   "metadata": {
    "executionInfo": {
     "elapsed": 653,
     "status": "ok",
     "timestamp": 1669668368157,
     "user": {
      "displayName": "Terézia Sochová",
      "userId": "09490605269537889215"
     },
     "user_tz": -60
    },
    "id": "K3CO_ieK4Nlg"
   },
   "outputs": [],
   "source": [
    "def display_img(img):\n",
    "    fig = plt.figure(figsize=(12,10))\n",
    "    ax = fig.add_subplot(111)\n",
    "    ax.imshow(img, cmap='gray')"
   ]
  },
  {
   "cell_type": "code",
   "execution_count": 4,
   "metadata": {
    "colab": {
     "base_uri": "https://localhost:8080/",
     "height": 595
    },
    "executionInfo": {
     "elapsed": 724,
     "status": "ok",
     "timestamp": 1669668370824,
     "user": {
      "displayName": "Terézia Sochová",
      "userId": "09490605269537889215"
     },
     "user_tz": -60
    },
    "id": "KgGuue894Nli",
    "outputId": "74089a73-203d-4d99-f451-60917d2eb94e"
   },
   "outputs": [
    {
     "data": {
      "image/png": "[encoded data removed]",
      "text/plain": [
       "<Figure size 864x720 with 1 Axes>"
      ]
     },
     "metadata": {
      "needs_background": "light"
     },
     "output_type": "display_data"
    }
   ],
   "source": [
    "img = load_img()\n",
    "display_img(img)"
   ]
  },
  {
   "cell_type": "markdown",
   "metadata": {
    "id": "CDt3jj7_4Nlp"
   },
   "source": [
    "## Úlohy - morfologické operácie"
   ]
  },
  {
   "cell_type": "code",
   "execution_count": 5,
   "metadata": {
    "executionInfo": {
     "elapsed": 243,
     "status": "ok",
     "timestamp": 1669668509460,
     "user": {
      "displayName": "Terézia Sochová",
      "userId": "09490605269537889215"
     },
     "user_tz": -60
    },
    "id": "I8RX_Qpr4Nlq"
   },
   "outputs": [],
   "source": [
    "kernel = np.ones((5,5), dtype=np.uint8)"
   ]
  },
  {
   "cell_type": "markdown",
   "metadata": {
    "id": "bov63jgx4Nlq"
   },
   "source": [
    "#### A  - Erózia"
   ]
  },
  {
   "cell_type": "code",
   "execution_count": null,
   "metadata": {
    "executionInfo": {
     "elapsed": 315,
     "status": "ok",
     "timestamp": 1669668511693,
     "user": {
      "displayName": "Terézia Sochová",
      "userId": "09490605269537889215"
     },
     "user_tz": -60
    },
    "id": "Mh-J1XjN4Nlq"
   },
   "outputs": [],
   "source": [
    "# vlozte kod ktorý stenší nápis\n",
    "# task 1 "
   ]
  },
  {
   "cell_type": "code",
   "execution_count": null,
   "metadata": {
    "colab": {
     "base_uri": "https://localhost:8080/",
     "height": 595
    },
    "executionInfo": {
     "elapsed": 747,
     "status": "ok",
     "timestamp": 1669668651414,
     "user": {
      "displayName": "Terézia Sochová",
      "userId": "09490605269537889215"
     },
     "user_tz": -60
    },
    "id": "696RQKrG4Nlr",
    "outputId": "35f9a038-8bd1-42d6-cc69-c1ecaba5a876"
   },
   "outputs": [],
   "source": [
    "display_img(result)"
   ]
  },
  {
   "cell_type": "markdown",
   "metadata": {
    "id": "SpaNiJux4Nls"
   },
   "source": [
    "#### B  - Dilatácia"
   ]
  },
  {
   "cell_type": "code",
   "execution_count": null,
   "metadata": {
    "executionInfo": {
     "elapsed": 209,
     "status": "ok",
     "timestamp": 1669668519699,
     "user": {
      "displayName": "Terézia Sochová",
      "userId": "09490605269537889215"
     },
     "user_tz": -60
    },
    "id": "MmmzVzZB4Nls"
   },
   "outputs": [],
   "source": [
    "\n",
    "# vlozte kod ktorý zhrubí nápis\n",
    "# task 2 "
   ]
  },
  {
   "cell_type": "code",
   "execution_count": null,
   "metadata": {
    "colab": {
     "base_uri": "https://localhost:8080/",
     "height": 595
    },
    "executionInfo": {
     "elapsed": 602,
     "status": "ok",
     "timestamp": 1669668521420,
     "user": {
      "displayName": "Terézia Sochová",
      "userId": "09490605269537889215"
     },
     "user_tz": -60
    },
    "id": "LfgIInth4Nls",
    "outputId": "2a15972e-be8f-4a10-cc00-e4e802e8dd16"
   },
   "outputs": [],
   "source": [
    "display_img(result)"
   ]
  },
  {
   "cell_type": "markdown",
   "metadata": {
    "id": "eJwsR1ob4Nlt"
   },
   "source": [
    "#### C - Otvorenie"
   ]
  },
  {
   "cell_type": "code",
   "execution_count": null,
   "metadata": {
    "executionInfo": {
     "elapsed": 583,
     "status": "ok",
     "timestamp": 1669667497698,
     "user": {
      "displayName": "Terézia Sochová",
      "userId": "09490605269537889215"
     },
     "user_tz": -60
    },
    "id": "YZpM5ry-4Nlt"
   },
   "outputs": [],
   "source": [
    "white_noise = np.random.randint(low=0, high=2, size=(600,600))"
   ]
  },
  {
   "cell_type": "code",
   "execution_count": null,
   "metadata": {
    "executionInfo": {
     "elapsed": 4,
     "status": "ok",
     "timestamp": 1669667498031,
     "user": {
      "displayName": "Terézia Sochová",
      "userId": "09490605269537889215"
     },
     "user_tz": -60
    },
    "id": "HoX_mLQt4Nlt"
   },
   "outputs": [],
   "source": [
    "# BACKGROUND NOISE\n",
    "white_noise = white_noise * 255"
   ]
  },
  {
   "cell_type": "code",
   "execution_count": null,
   "metadata": {
    "colab": {
     "base_uri": "https://localhost:8080/",
     "height": 595
    },
    "executionInfo": {
     "elapsed": 1704,
     "status": "ok",
     "timestamp": 1669667499731,
     "user": {
      "displayName": "Terézia Sochová",
      "userId": "09490605269537889215"
     },
     "user_tz": -60
    },
    "id": "iaky6m9O4Nlu",
    "outputId": "fb3a4a95-a5d3-4870-ed69-bbe89fbebb8c"
   },
   "outputs": [],
   "source": [
    "display_img(white_noise)"
   ]
  },
  {
   "cell_type": "code",
   "execution_count": null,
   "metadata": {
    "colab": {
     "base_uri": "https://localhost:8080/"
    },
    "executionInfo": {
     "elapsed": 34,
     "status": "ok",
     "timestamp": 1669667499732,
     "user": {
      "displayName": "Terézia Sochová",
      "userId": "09490605269537889215"
     },
     "user_tz": -60
    },
    "id": "DlIR_xE84Nlu",
    "outputId": "ec37fd17-c2ce-4559-96de-632d561451ed"
   },
   "outputs": [],
   "source": [
    "white_noise.shape"
   ]
  },
  {
   "cell_type": "code",
   "execution_count": null,
   "metadata": {
    "colab": {
     "base_uri": "https://localhost:8080/"
    },
    "executionInfo": {
     "elapsed": 31,
     "status": "ok",
     "timestamp": 1669667499734,
     "user": {
      "displayName": "Terézia Sochová",
      "userId": "09490605269537889215"
     },
     "user_tz": -60
    },
    "id": "zY4JjYw04Nlv",
    "outputId": "ae7ca853-3932-4c02-e313-dc3ad03c5e2a"
   },
   "outputs": [],
   "source": [
    "type(white_noise)"
   ]
  },
  {
   "cell_type": "code",
   "execution_count": null,
   "metadata": {
    "executionInfo": {
     "elapsed": 22,
     "status": "ok",
     "timestamp": 1669667499737,
     "user": {
      "displayName": "Terézia Sochová",
      "userId": "09490605269537889215"
     },
     "user_tz": -60
    },
    "id": "vnDU1Kjt4Nlv"
   },
   "outputs": [],
   "source": [
    "img = load_img()"
   ]
  },
  {
   "cell_type": "code",
   "execution_count": null,
   "metadata": {
    "executionInfo": {
     "elapsed": 247,
     "status": "ok",
     "timestamp": 1669668409584,
     "user": {
      "displayName": "Terézia Sochová",
      "userId": "09490605269537889215"
     },
     "user_tz": -60
    },
    "id": "0Ub-Ea8Y4Nlv"
   },
   "outputs": [],
   "source": [
    "# https://stackoverflow.com/questions/61583991/opencv-python-error-unsupported-data-type-4-in-function-cvopt-avx2getmo\n",
    "# Adding the images\n",
    "noise_img = white_noise + img\n",
    "noise_img = noise_img.astype('uint8') "
   ]
  },
  {
   "cell_type": "code",
   "execution_count": null,
   "metadata": {
    "colab": {
     "base_uri": "https://localhost:8080/",
     "height": 595
    },
    "executionInfo": {
     "elapsed": 1647,
     "status": "ok",
     "timestamp": 1669668449446,
     "user": {
      "displayName": "Terézia Sochová",
      "userId": "09490605269537889215"
     },
     "user_tz": -60
    },
    "id": "A3gyyJJL4Nlw",
    "outputId": "fc3ae670-a124-4ca1-9054-18884cda3c87"
   },
   "outputs": [],
   "source": [
    "display_img(noise_img)"
   ]
  },
  {
   "cell_type": "code",
   "execution_count": null,
   "metadata": {
    "executionInfo": {
     "elapsed": 325,
     "status": "ok",
     "timestamp": 1669668452987,
     "user": {
      "displayName": "Terézia Sochová",
      "userId": "09490605269537889215"
     },
     "user_tz": -60
    },
    "id": "a-tIoz7n4Nlw"
   },
   "outputs": [],
   "source": [
    "# vlozte kod ktorý odstráni zrnite pozadie.\n",
    "# task 3 "
   ]
  },
  {
   "cell_type": "code",
   "execution_count": null,
   "metadata": {
    "colab": {
     "base_uri": "https://localhost:8080/",
     "height": 595
    },
    "executionInfo": {
     "elapsed": 508,
     "status": "ok",
     "timestamp": 1669668455202,
     "user": {
      "displayName": "Terézia Sochová",
      "userId": "09490605269537889215"
     },
     "user_tz": -60
    },
    "id": "jxyD23ET4Nlw",
    "outputId": "66594898-b0dc-4801-c461-90cc8012acd2"
   },
   "outputs": [],
   "source": [
    "display_img(opening)"
   ]
  },
  {
   "cell_type": "markdown",
   "metadata": {
    "id": "Ei3R95494Nlx"
   },
   "source": [
    "#### D - Uzavretie\n"
   ]
  },
  {
   "cell_type": "code",
   "execution_count": null,
   "metadata": {
    "executionInfo": {
     "elapsed": 237,
     "status": "ok",
     "timestamp": 1669668471308,
     "user": {
      "displayName": "Terézia Sochová",
      "userId": "09490605269537889215"
     },
     "user_tz": -60
    },
    "id": "PaMrkdS_4Nlx"
   },
   "outputs": [],
   "source": [
    "img = load_img()"
   ]
  },
  {
   "cell_type": "code",
   "execution_count": null,
   "metadata": {
    "executionInfo": {
     "elapsed": 5,
     "status": "ok",
     "timestamp": 1669668472508,
     "user": {
      "displayName": "Terézia Sochová",
      "userId": "09490605269537889215"
     },
     "user_tz": -60
    },
    "id": "pD6kVZiw4Nlx"
   },
   "outputs": [],
   "source": [
    "black_noise = np.random.randint(low=0, high=2, size=(600,600))"
   ]
  },
  {
   "cell_type": "code",
   "execution_count": null,
   "metadata": {
    "executionInfo": {
     "elapsed": 4,
     "status": "ok",
     "timestamp": 1669668473450,
     "user": {
      "displayName": "Terézia Sochová",
      "userId": "09490605269537889215"
     },
     "user_tz": -60
    },
    "id": "Rjdo8WC94Nlx"
   },
   "outputs": [],
   "source": [
    "black_noise = black_noise * -255"
   ]
  },
  {
   "cell_type": "code",
   "execution_count": null,
   "metadata": {
    "colab": {
     "base_uri": "https://localhost:8080/"
    },
    "executionInfo": {
     "elapsed": 5,
     "status": "ok",
     "timestamp": 1669668474980,
     "user": {
      "displayName": "Terézia Sochová",
      "userId": "09490605269537889215"
     },
     "user_tz": -60
    },
    "id": "nMXKTB0Z4Nly",
    "outputId": "e4605273-2a02-4749-8cd8-c70c74087949"
   },
   "outputs": [],
   "source": [
    "black_noise.min()"
   ]
  },
  {
   "cell_type": "code",
   "execution_count": null,
   "metadata": {
    "executionInfo": {
     "elapsed": 26,
     "status": "ok",
     "timestamp": 1669668475959,
     "user": {
      "displayName": "Terézia Sochová",
      "userId": "09490605269537889215"
     },
     "user_tz": -60
    },
    "id": "ggF7Yv9Z4Nly"
   },
   "outputs": [],
   "source": [
    "noise_img = black_noise + img\n",
    "noise_img = noise_img.astype('uint8') "
   ]
  },
  {
   "cell_type": "code",
   "execution_count": null,
   "metadata": {
    "executionInfo": {
     "elapsed": 639,
     "status": "ok",
     "timestamp": 1669668478371,
     "user": {
      "displayName": "Terézia Sochová",
      "userId": "09490605269537889215"
     },
     "user_tz": -60
    },
    "id": "5uca8LQt4Nly"
   },
   "outputs": [],
   "source": [
    "noise_img[noise_img==-255] = 0"
   ]
  },
  {
   "cell_type": "code",
   "execution_count": null,
   "metadata": {
    "colab": {
     "base_uri": "https://localhost:8080/"
    },
    "executionInfo": {
     "elapsed": 24,
     "status": "ok",
     "timestamp": 1669668479263,
     "user": {
      "displayName": "Terézia Sochová",
      "userId": "09490605269537889215"
     },
     "user_tz": -60
    },
    "id": "a5kPLidM4Nlz",
    "outputId": "65905f02-1323-4669-b42c-0df254e11079"
   },
   "outputs": [],
   "source": [
    "black_noise.min()"
   ]
  },
  {
   "cell_type": "code",
   "execution_count": null,
   "metadata": {
    "colab": {
     "base_uri": "https://localhost:8080/",
     "height": 595
    },
    "executionInfo": {
     "elapsed": 1106,
     "status": "ok",
     "timestamp": 1669668482211,
     "user": {
      "displayName": "Terézia Sochová",
      "userId": "09490605269537889215"
     },
     "user_tz": -60
    },
    "id": "FaB0RTQV4Nlz",
    "outputId": "0d788721-3746-4fb3-e100-9b5f3c4123bb"
   },
   "outputs": [],
   "source": [
    "display_img(noise_img)"
   ]
  },
  {
   "cell_type": "code",
   "execution_count": null,
   "metadata": {
    "executionInfo": {
     "elapsed": 242,
     "status": "ok",
     "timestamp": 1669668486476,
     "user": {
      "displayName": "Terézia Sochová",
      "userId": "09490605269537889215"
     },
     "user_tz": -60
    },
    "id": "uJzAEnSf4Nlz"
   },
   "outputs": [],
   "source": [
    "# vlozte kod ktorý odstráni male dierky v napise.\n",
    "# task 4 "
   ]
  },
  {
   "cell_type": "code",
   "execution_count": null,
   "metadata": {
    "colab": {
     "base_uri": "https://localhost:8080/",
     "height": 595
    },
    "executionInfo": {
     "elapsed": 638,
     "status": "ok",
     "timestamp": 1669668488955,
     "user": {
      "displayName": "Terézia Sochová",
      "userId": "09490605269537889215"
     },
     "user_tz": -60
    },
    "id": "7B0US_Md4Nlz",
    "outputId": "41ad7146-3d90-4747-c47b-96211608292a"
   },
   "outputs": [],
   "source": [
    "display_img(closing)"
   ]
  },
  {
   "cell_type": "markdown",
   "metadata": {
    "id": "I4rC7JVA88Fs"
   },
   "source": [
    "#Výsledky\n",
    "\n",
    "**Task1**\n",
    "\n",
    "result = cv2.erode(img, kernel, iterations=2)\n",
    "\n",
    "**Task2**\n",
    "\n",
    "result = cv2.dilate(img, kernel, iterations=2)\n",
    "\n",
    "\n",
    "**Task3**\n",
    "\n",
    "opening = cv2.morphologyEx(noise_img, cv2.MORPH_OPEN, kernel)\n",
    "\n",
    "**Task4**\n",
    "\n",
    "closing = cv2.morphologyEx(noise_img, cv2.MORPH_CLOSE, kernel)\n"
   ]
  }
 ],
 "metadata": {
  "colab": {
   "provenance": []
  },
  "kernelspec": {
   "display_name": "Python 3 (ipykernel)",
   "language": "python",
   "name": "python3"
  },
  "language_info": {
   "codemirror_mode": {
    "name": "ipython",
    "version": 3
   },
   "file_extension": ".py",
   "mimetype": "text/x-python",
   "name": "python",
   "nbconvert_exporter": "python",
   "pygments_lexer": "ipython3",
   "version": "3.10.5"
  },
  "vscode": {
   "interpreter": {
    "hash": "97bece543b3b135a50e48497ab53726fc7264ccbefe841bb12bf158ac8b265be"
   }
  }
 },
 "nbformat": 4,
 "nbformat_minor": 1
}
