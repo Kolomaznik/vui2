{
 "cells": [
  {
   "cell_type": "markdown",
   "metadata": {},
   "source": [
    "# Object recognition úloha\n",
    "\n",
    "Detekcia objektov z obrázku pomocou modelu Yolov3-tiny.\n",
    "\n",
    "Tento notebook je potrebné spustiť v Google Colab."
   ]
  },
  {
   "cell_type": "markdown",
   "metadata": {
    "id": "bc3dmWFtj6Ty"
   },
   "source": [
    "# 1. krok\n",
    "\n",
    "V prvom kroku si vytvoríme štrutúru  priečinkov\n",
    "\n",
    "- **Object_Recognition** - koreňový adresár, ulozit python súbor recognition.py (recognition.ipynb) \n",
    "\n",
    "- **Input** - adresár s obrázkami na detekovanie\n",
    "\n",
    "- **Models** -  adresár na uloženie modelov (yolo-tiny.h5)\n",
    "\n",
    "odkaz na stiahnutie modelu - https://github.com/OlafenwaMoses/ImageAI/releases/download/1.0/yolo-tiny.h5\n",
    "\n",
    "- **Output** - adresár s výslednými detekovanými obrazmi \n"
   ]
  },
  {
   "cell_type": "markdown",
   "metadata": {
    "id": "bl80A-D4iKQw"
   },
   "source": [
    "# 2. krok\n",
    "V druhom kroku si nainštalujeme potrebné knžnice pomocou príkazu pip:\n",
    "\n",
    "- tensorflow\n",
    "\n",
    "- keras\n",
    "\n",
    "- opencv\n",
    "\n",
    "- imageai\n",
    "\n",
    "Pri knižniciach je potrebné nainštalovať špecifické verzie aby mohla fungovať knožnica imageai\n"
   ]
  },
  {
   "cell_type": "code",
   "execution_count": null,
   "metadata": {
    "colab": {
     "base_uri": "https://localhost:8080/",
     "height": 1000
    },
    "executionInfo": {
     "elapsed": 90645,
     "status": "ok",
     "timestamp": 1669658230369,
     "user": {
      "displayName": "Terézia Sochová",
      "userId": "09490605269537889215"
     },
     "user_tz": -60
    },
    "id": "uNYKTbAbV_Mg",
    "outputId": "ea691f81-a57f-4c5b-d171-59a618ab1430"
   },
   "outputs": [],
   "source": [
    " \n",
    "# installing TensorFlow  \n",
    "%pip install tensorflow==2.4.0\n",
    "  \n",
    "%pip install keras==2.4.3 numpy==1.19.3 pillow==7.0.0 scipy==1.4.1 h5py==2.10.0 matplotlib==3.3.2 opencv-python keras-resnet==0.2.0\n",
    "  \n",
    "# installing ImageAI  \n",
    "%pip install imageai --upgrade "
   ]
  },
  {
   "cell_type": "code",
   "execution_count": null,
   "metadata": {},
   "outputs": [],
   "source": [
    "%pip install imageai --upgrade "
   ]
  },
  {
   "cell_type": "markdown",
   "metadata": {
    "id": "lSOsORDslk1B"
   },
   "source": [
    "# 3.krok\n",
    "Začneme importovaním triedy **ObjectDetection** z knižnice **ImageAI**.\n",
    "\n",
    "Nasledne vytvoríme inštanciu triedy **ObjectDetection**, ktorú pomenujeme recognizer.\n",
    "\n",
    "\n"
   ]
  },
  {
   "cell_type": "code",
   "execution_count": null,
   "metadata": {
    "executionInfo": {
     "elapsed": 378,
     "status": "ok",
     "timestamp": 1669666133197,
     "user": {
      "displayName": "Terézia Sochová",
      "userId": "09490605269537889215"
     },
     "user_tz": -60
    },
    "id": "EUdPN88tT1Gv"
   },
   "outputs": [],
   "source": [
    "# importing the required library  \n",
    "from imageai.Detection import ObjectDetection  \n",
    "  \n",
    "# instantiating the class  \n",
    "recognizer = ObjectDetection()    \n"
   ]
  },
  {
   "cell_type": "markdown",
   "metadata": {
    "id": "kVejUyMflnUj"
   },
   "source": [
    "# 4. krok\n",
    "\n",
    "Špecifikujeme cestu k modelu, vstupným obrazkom a výstupným obrazkom "
   ]
  },
  {
   "cell_type": "code",
   "execution_count": null,
   "metadata": {
    "executionInfo": {
     "elapsed": 3,
     "status": "ok",
     "timestamp": 1669666136734,
     "user": {
      "displayName": "Terézia Sochová",
      "userId": "09490605269537889215"
     },
     "user_tz": -60
    },
    "id": "f0mmVT3wlnxU"
   },
   "outputs": [],
   "source": [
    "\n",
    "# defining the paths  \n",
    "path_model = \"/content/drive/MyDrive/UI/Object_Detection_Exercise/Object_Recognition/Models/yolo-tiny.h5\"  \n",
    "path_input = \"/content/drive/MyDrive/UI/Object_Detection_Exercise/Object_Recognition/Input/input.jpg\"  \n",
    "path_output = \"/content/drive/MyDrive/UI/Object_Detection_Exercise/Object_Recognition/Output/output.jpg\"  \n",
    "  "
   ]
  },
  {
   "cell_type": "markdown",
   "metadata": {
    "id": "040-ozBylu1f"
   },
   "source": [
    "# 5. krok\n",
    "\n",
    "Nastavíme druh modelu, ktorý budeme používať\n"
   ]
  },
  {
   "cell_type": "code",
   "execution_count": null,
   "metadata": {
    "executionInfo": {
     "elapsed": 2,
     "status": "ok",
     "timestamp": 1669666139152,
     "user": {
      "displayName": "Terézia Sochová",
      "userId": "09490605269537889215"
     },
     "user_tz": -60
    },
    "id": "TGF95DXQlvd7"
   },
   "outputs": [],
   "source": [
    "# using the setModelTypeAsTinyYOLOv3() function  \n",
    "recognizer.setModelTypeAsTinyYOLOv3()  \n"
   ]
  },
  {
   "cell_type": "markdown",
   "metadata": {
    "id": "NnSXubkqlygQ"
   },
   "source": [
    "# 6. krok\n",
    "Nastavíme cestu k predtrénovanému modelu "
   ]
  },
  {
   "cell_type": "code",
   "execution_count": null,
   "metadata": {
    "executionInfo": {
     "elapsed": 12,
     "status": "ok",
     "timestamp": 1669666140970,
     "user": {
      "displayName": "Terézia Sochová",
      "userId": "09490605269537889215"
     },
     "user_tz": -60
    },
    "id": "gj7fvwEilzHR"
   },
   "outputs": [],
   "source": [
    "# setting the path of the Model  \n",
    "recognizer.setModelPath(path_model)  \n"
   ]
  },
  {
   "cell_type": "markdown",
   "metadata": {
    "id": "haI6Uvgal1Yy"
   },
   "source": [
    "# 7. krok\n",
    "\n",
    "Načítame model, ktorý bude detekovať objekty na obraze"
   ]
  },
  {
   "cell_type": "code",
   "execution_count": null,
   "metadata": {
    "executionInfo": {
     "elapsed": 1061,
     "status": "ok",
     "timestamp": 1669666144233,
     "user": {
      "displayName": "Terézia Sochová",
      "userId": "09490605269537889215"
     },
     "user_tz": -60
    },
    "id": "Krv8cbBGl16q"
   },
   "outputs": [],
   "source": [
    "# loading the model  \n",
    "recognizer.loadModel()  "
   ]
  },
  {
   "cell_type": "markdown",
   "metadata": {
    "id": "c6fgcGFnl4TF"
   },
   "source": [
    "# 8. krok\n",
    "\n",
    "Pomocou funkcie detectObjectsFromImage() detekujeme objekty na vstupnom obraze a zakraslíme ich detekciu pomoocu farebných obdĺžnikov do výstupného obrazu.\n"
   ]
  },
  {
   "cell_type": "code",
   "execution_count": null,
   "metadata": {
    "executionInfo": {
     "elapsed": 6306,
     "status": "ok",
     "timestamp": 1669666152586,
     "user": {
      "displayName": "Terézia Sochová",
      "userId": "09490605269537889215"
     },
     "user_tz": -60
    },
    "id": "YBAGpueOl4ou"
   },
   "outputs": [],
   "source": [
    "# calling the detectObjectsFromImage() function  \n",
    "recognition = recognizer.detectObjectsFromImage(\n",
    "    input_image = path_input,  \n",
    "    output_image_path = path_output)  \n"
   ]
  },
  {
   "cell_type": "markdown",
   "metadata": {
    "id": "0Y2cvlsRl7l1"
   },
   "source": [
    "# 9. krok\n",
    "\n",
    "vypis zaznamenaných hodnôt"
   ]
  },
  {
   "cell_type": "code",
   "execution_count": null,
   "metadata": {
    "colab": {
     "base_uri": "https://localhost:8080/"
    },
    "executionInfo": {
     "elapsed": 5,
     "status": "ok",
     "timestamp": 1669666153482,
     "user": {
      "displayName": "Terézia Sochová",
      "userId": "09490605269537889215"
     },
     "user_tz": -60
    },
    "id": "iP4lWVFFl8Mp",
    "outputId": "1241ea6d-70b8-42db-847b-bce7f70ff0c5"
   },
   "outputs": [],
   "source": [
    "# iterating through the items found in the image  \n",
    "for eachItem in recognition:  \n",
    "    print(eachItem[\"name\"] , \" : \", eachItem[\"percentage_probability\"])  "
   ]
  },
  {
   "cell_type": "markdown",
   "metadata": {
    "id": "bHW7JSx6l9or"
   },
   "source": [
    "# Úlohy\n",
    "\n",
    "1. Nájdi obrázok s jedlom a načítaj ho do vytvoreného súboru a sleduj výsledky.\n",
    "\n",
    "2. Doplň kód tak aby sa zakreslovali a vypisovali iba objekty, ktoré majúú skóre nad **80**.\n",
    "\n",
    "3. Doplň kód tak aby sa na obraze zachytával iba špecifický typ objektu.\n",
    "\n",
    "4. Skús na obrázok použiť jednu z metód predspracovania obrazu na jeho vylepšenie a sleduj, či sa skóre objektov na obraze zlepšilo alebo práve naopak zhoršilo.\n",
    "\n",
    "#Zdroje\n",
    "\n",
    "- https://imageai.readthedocs.io/en/latest/detection/\n"
   ]
  },
  {
   "cell_type": "markdown",
   "metadata": {
    "id": "WW5-pszYuTRj"
   },
   "source": [
    "# Odpovede\n",
    "\n",
    "1.\n",
    "- Pridat obrazok do priecinku Input\n",
    "- path_input = \"/content/drive/MyDrive/UI/Object_Detection_Exercise/Object_Recognition/Input/food.jpg\"\n",
    "\n",
    "2.\n",
    "- Pridat parameter  minimum_percentage_probability=80 do funkcie recognizer.detectObjectsFromImage() \n",
    "\n",
    "3.\n",
    "\n",
    "- Pridanie funkcie custom = recognizer.CustomObjects(apple=True)\n",
    "- Zmena fukcie detectObjectsFromImage() na detectCustomObjectsFromImage()\n",
    "\n"
   ]
  }
 ],
 "metadata": {
  "colab": {
   "authorship_tag": "ABX9TyNTWEArIf4oj/vRv7Tfz6kW",
   "provenance": []
  },
  "kernelspec": {
   "display_name": "Python 3 (ipykernel)",
   "language": "python",
   "name": "python3"
  },
  "language_info": {
   "codemirror_mode": {
    "name": "ipython",
    "version": 3
   },
   "file_extension": ".py",
   "mimetype": "text/x-python",
   "name": "python",
   "nbconvert_exporter": "python",
   "pygments_lexer": "ipython3",
   "version": "3.10.5"
  },
  "vscode": {
   "interpreter": {
    "hash": "97bece543b3b135a50e48497ab53726fc7264ccbefe841bb12bf158ac8b265be"
   }
  }
 },
 "nbformat": 4,
 "nbformat_minor": 1
}
