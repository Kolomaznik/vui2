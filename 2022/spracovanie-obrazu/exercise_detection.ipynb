{
 "cells": [
  {
   "cell_type": "code",
   "execution_count": null,
   "metadata": {},
   "outputs": [],
   "source": [
    "import cv2\n",
    "import tensorflow as tf\n",
    "import numpy as np\n",
    "from matplotlib import pyplot as plt\n",
    "from os import path\n",
    "\n",
    "import ipywidgets as widgets\n",
    "\n",
    "import src.yolo_postprocessing as postprocessing"
   ]
  },
  {
   "cell_type": "markdown",
   "metadata": {},
   "source": [
    "# Detekcia objektov pomocou modelu yolov4-tiny"
   ]
  },
  {
   "cell_type": "markdown",
   "metadata": {},
   "source": [
    "### funkcia preprocess_image\n",
    "\n",
    "**parametre**\n",
    "- filepath - cesta k obrazku\n",
    "\n",
    "**ulohy**\n",
    "1. načítajte obrázok\n",
    "2. zmeňte mierku obrázku na (416, 416)\n",
    "3. normalizujte obrázok na hodnoty medzi 0 a 1"
   ]
  },
  {
   "cell_type": "code",
   "execution_count": null,
   "metadata": {},
   "outputs": [],
   "source": [
    "\n",
    "def preprocess_image(filepath):\n",
    "    NORM_IMG_SIZE = (416, 416)\n",
    "\n",
    "    # nacitajne obrazok\n",
    "    # img = \n",
    "    img = cv2.cvtColor(img, cv2.COLOR_BGR2RGB)\n",
    "\n",
    "    # zmente mierku obrazku na NORM_IMG_SIZE\n",
    "    # img = \n",
    "    img = np.asarray(img, np.float32)\n",
    "    \n",
    "    # normalizujte obrazok\n",
    "    # img = \n",
    "    img = np.expand_dims(img, axis=0)  # add 4th dim to (1, H, W, C)\n",
    "    return img"
   ]
  },
  {
   "cell_type": "markdown",
   "metadata": {},
   "source": [
    "### funkcia draw_bboxes\n",
    "\n",
    "**parametre:**\n",
    "- image - pôvodný obrázok\n",
    "\n",
    "- boxes - zoznam, ktorý obsahuje koordinaty všetkých bounding boxov\n",
    "\n",
    "- classes - zoznam všetkých správnych tried\n",
    "\n",
    "- scores - zoznam pravdepodobností\n",
    "\n",
    "- labels - zoznam tried, na ktorom bol natrénovaný model.\n",
    "\n",
    "**Úlohy**\n",
    "\n",
    "1. vytiahnite koordinaty bounding boxu\n",
    "\n",
    "    bounding box je definovany koordinatmi svojich rohov a to nasledovne:\n",
    "\n",
    "    bbox = [y1, x1, y2, x2]\n",
    "2. vykreslite stvorec pomocou metody cv2.rectangle\n",
    "\n",
    "    cv2.rectangle(image, coordinates, color, thickness)\n",
    "3. pridajte popis pomocou metody cv2.putText\n",
    "\n",
    "    cv2.putText(image, text, coordinates, font, fontScale, color, thickness)"
   ]
  },
  {
   "cell_type": "code",
   "execution_count": null,
   "metadata": {},
   "outputs": [],
   "source": [
    "def draw_bboxes(image, boxes, classes, scores, labels):\n",
    "    image = np.squeeze(image, axis=0) * 255\n",
    "    font = cv2.FONT_HERSHEY_SIMPLEX\n",
    "    fontScale = 1\n",
    "    color = (255, 0, 0)\n",
    "    thickness = 1\n",
    "\n",
    "\n",
    "    for i, box in enumerate(boxes):\n",
    "        box *= 416\n",
    "        cls_id = int(classes[i]) -1\n",
    "        \n",
    "        score = float(scores[i])\n",
    "\n",
    "        #kod\n",
    "\n",
    "\n",
    "\n",
    "        #kod\n",
    "        \n",
    "        print(\"class: {}, score: {}\".format(labels[cls_id], score))\n",
    "\n",
    "    fig, ax = plt.subplots(1, 1)\n",
    "    fig.set_size_inches(6, 6)\n",
    "    ax.set_axis_off()\n",
    "\n",
    "    ax.imshow((image).astype(np.uint8))"
   ]
  },
  {
   "cell_type": "code",
   "execution_count": null,
   "metadata": {},
   "outputs": [],
   "source": [
    "image_path = '.\\\\imgs\\image.jpg'\n",
    "image = preprocess_image(image_path)\n",
    "plt.imshow(np.squeeze(image))  # remove N dim for display\n",
    "plt.show()"
   ]
  },
  {
   "cell_type": "code",
   "execution_count": null,
   "metadata": {},
   "outputs": [],
   "source": [
    "model_path = './src/yolov4-tiny.h5'\n",
    "model = tf.keras.models.load_model(model_path, compile=False)\n",
    "\n",
    "modelOutput = model.predict(image)\n",
    "boxes, scores, classes = postprocessing.decoder(modelOutput)"
   ]
  },
  {
   "cell_type": "code",
   "execution_count": null,
   "metadata": {},
   "outputs": [],
   "source": [
    "with open('.\\src\\detection_labels.txt') as f:\n",
    "    labels = f.readlines()\n",
    "    labels = [label.strip() for label in labels ]"
   ]
  },
  {
   "cell_type": "code",
   "execution_count": null,
   "metadata": {},
   "outputs": [],
   "source": [
    "draw_bboxes(image, boxes, classes, scores, labels)"
   ]
  },
  {
   "cell_type": "markdown",
   "metadata": {},
   "source": [
    "# Riešenie\n",
    "\n",
    "Riešenie funkcie *preprocess_image*"
   ]
  },
  {
   "cell_type": "code",
   "execution_count": null,
   "metadata": {},
   "outputs": [],
   "source": [
    "img = cv2.imread(filepath)\n",
    "\n",
    "img = cv2.resize(img, NORM_IMG_SIZE)\n",
    "\n",
    "img = img / 255.0"
   ]
  },
  {
   "cell_type": "markdown",
   "metadata": {},
   "source": [
    "Riešenie funkcie *draw_bbox*"
   ]
  },
  {
   "cell_type": "code",
   "execution_count": null,
   "metadata": {},
   "outputs": [],
   "source": [
    "y1, x1, y2, x2 = box\n",
    "\n",
    "cv2.rectangle(image, (int(x1), int(y1)), (int(x2), int(y2)), color, 1)\n",
    "cv2.putText(image, labels[cls_id], (int(x1), int(y1)), font, fontScale, color, thickness)\n",
    "        "
   ]
  }
 ],
 "metadata": {
  "kernelspec": {
   "display_name": "Python 3.10.5 64-bit",
   "language": "python",
   "name": "python3"
  },
  "language_info": {
   "codemirror_mode": {
    "name": "ipython",
    "version": 3
   },
   "file_extension": ".py",
   "mimetype": "text/x-python",
   "name": "python",
   "nbconvert_exporter": "python",
   "pygments_lexer": "ipython3",
   "version": "3.10.5"
  },
  "vscode": {
   "interpreter": {
    "hash": "4776c190fdcf64b678190bf18ff85df63399196e46de293ede3697dbff2c1e6e"
   }
  }
 },
 "nbformat": 4,
 "nbformat_minor": 2
}
