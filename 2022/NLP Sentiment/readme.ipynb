{
  "cells": [
    {
      "cell_type": "markdown",
      "metadata": {
        "id": "view-in-github",
        "colab_type": "text"
      },
      "source": [
        "<a href=\"https://colab.research.google.com/github/Kolomaznik/vui2/blob/main/2022/NLP%20Sentiment/readme.ipynb\" target=\"_parent\"><img src=\"https://colab.research.google.com/assets/colab-badge.svg\" alt=\"Open In Colab\"/></a>"
      ]
    },
    {
      "cell_type": "markdown",
      "source": [
        "Projekt: NLP príprava na cviko\n",
        "\n",
        "Gramatová, Kubíčková"
      ],
      "metadata": {
        "id": "8eqBJLUoU33s"
      }
    },
    {
      "cell_type": "markdown",
      "metadata": {
        "id": "JQFnHXq5GYV8"
      },
      "source": [
        "# Čo je analýza sentimentu"
      ]
    },
    {
      "cell_type": "markdown",
      "metadata": {
        "id": "ajGteTKCGYV-"
      },
      "source": [
        "Analýza sentimentu je technika zpracování přirozeného jazyka (NLP), která se používá k určení, zda jsou data pozitivní, negativní nebo neutrální. Analýza sentimentu je tedy proces odhalování pozitivního nebo negativního sentimentu v textových datech. \n",
        "\n",
        "Analýza sentimentu se často provádí, aby podnikům pomohla sledovat sentiment značky a produktu ve zpětné vazbě zákazníků a porozumět potřebám zákazníků. Firmy ji často používají k detekci sentimentu v sociálních datech a měření reputace značky.\n",
        "\n",
        "Jinými slovy, analýza sentimentu znamená příležitost prozkoumat myšlení členů publika a studovat stav produktu z opačného úhlu pohledu. Díky tomu je analýza sentimentu skvělým nástrojem pro:\n",
        "- rozšířenou produktovou analytiku,\n",
        "- průzkum trhu,\n",
        "- řízení reputace,\n",
        "- přesné cílení,\n",
        "- marketingové analýzy,\n",
        "- vztahy s veřejností (PR),\n",
        "- recenze produktů,\n",
        "- zpětnou vazbu k produktu,\n",
        "- služby zákazníkům."
      ]
    },
    {
      "cell_type": "markdown",
      "metadata": {
        "id": "3QDBn9XzGYV_"
      },
      "source": [
        "# Typy analýzy sentimentu"
      ]
    },
    {
      "cell_type": "markdown",
      "metadata": {
        "id": "BZ6q6djzGYV_"
      },
      "source": [
        "![Picture title](https://akela.mendelu.cz/~xgramato/AI/Images/image-20221122-144938.png)"
      ]
    },
    {
      "cell_type": "markdown",
      "metadata": {
        "id": "m-_3FLY8GYWA"
      },
      "source": [
        "### Emotion detection sentiment analysis"
      ]
    },
    {
      "cell_type": "markdown",
      "metadata": {
        "id": "UTvCH0ASGYWA"
      },
      "source": [
        "Detekce emocí se používá k identifikaci znaků konkrétních emočních stavů prezentovaných v textu. Zaměřuje se detekce zejména na identifikaci emocí jako štěstí, frustrace, hněv, smutek a mnoho podobných v této kategorii. Mnoho systémů detekce emocí se uchyluje k lexikonům (tj. seznamům slov a emocí, které přenášejí) nebo složitým algoritmům strojového učení. S touto klasifikací jsou určité potíže, jelikož uživatelé mohou vyjádřit své pocity mnoha různými slovy."
      ]
    },
    {
      "cell_type": "markdown",
      "metadata": {
        "id": "UGTJwR2PGYWA"
      },
      "source": [
        "### Multilingual Sentiment Analysis"
      ]
    },
    {
      "cell_type": "markdown",
      "metadata": {
        "id": "eqFEORmnGYWB"
      },
      "source": [
        "Vícejazyčná analýza sentimentu umožňuje extrahovat poznatky o značce ze zpětné vazby od zákazníků v rodném jazyce bez použití překladu. Je to skutečně jedna z nejdůležitějších funkcí nástrojů analýzy sentimentu. Tato analýza je poměrně obtížná, vyžaduje mnoho předzpracování dat a použití více zdrojů. Použití lexikonů sentimentu a algoritmů detekce šumu, které vyžaduje mnoho kódování a času na implementaci. "
      ]
    },
    {
      "cell_type": "markdown",
      "metadata": {
        "id": "Bh9xCDVAGYWB"
      },
      "source": [
        "### Fine-grained sentiment analysis"
      ]
    },
    {
      "cell_type": "markdown",
      "metadata": {
        "id": "6cXai-qlGYWB"
      },
      "source": [
        "Jemná analýza sentimentu zahrnuje určení polarity názoru. Může to být jednoduchá binární diferenciace pozitivního/negativního sentimentu. Tento typ může jít také do vyšší specifikace (například velmi pozitivní, pozitivní, neutrální, negativní, velmi negativní), v závislosti na use casu (například jako v pětihvězdičkových recenzích Amazonu)."
      ]
    },
    {
      "cell_type": "markdown",
      "metadata": {
        "id": "2gCVhaXiGYWC"
      },
      "source": [
        "### Aspect-based sentiment analysis "
      ]
    },
    {
      "cell_type": "markdown",
      "metadata": {
        "id": "ngjB0v_3GYWC"
      },
      "source": [
        "Obecně platí, že při analýze emocí textů se zaměřujeme na určení, zda je komentář/názor pozitivní nebo negativní. Ale nezaměřujeme se na to, co je v tomto textu pozitivní nebo negativní. Např. ve výrazu „výrobek se mi vůbec nelíbil, velikost je příliš malá“ uživatel není s výrobkem spokojen a stěžuje si na jeho rozměry. V normální analýze sentimentu je tato věta klasifikována jako negativní, ale v analýze sentimentu založené na aspektech se také zaměřuje na část „velikost je příliš malá“."
      ]
    },
    {
      "cell_type": "markdown",
      "metadata": {
        "id": "A0DLBCqGGYWC"
      },
      "source": [
        "Analýza sentimentu založená na aspektech tedy jde hlouběji. Jejím účelem je identifikovat názor na konkrétní prvek hodnoceného produktu (např. jas baterky ve smartphonu). Analýza založená na aspektech se běžně používá v produktové analýze, aby bylo možné sledovat, jak je produkt vnímán a jaké jsou silné a slabé stránky z pohledu zákazníka."
      ]
    },
    {
      "cell_type": "markdown",
      "metadata": {
        "id": "uWYHGH0XGYWD"
      },
      "source": [
        "### Intent sentiment analysis"
      ]
    },
    {
      "cell_type": "markdown",
      "metadata": {
        "id": "FnMnoDPrGYWD"
      },
      "source": [
        "Analýza záměru se zaměřuje na to, co chce uživatel dělat. Pochopení toho, co chce uživatel dělat, nám umožní lépe ho vést. Účelem je určit, jaký druh záměru je ve zprávě vyjádřen. Běžně se používá v systémech zákaznické podpory ke zefektivnění pracovního postupu."
      ]
    },
    {
      "cell_type": "markdown",
      "metadata": {
        "id": "-GS7rmRgGYWD"
      },
      "source": [
        "Například schopnost porozumět tomu, že zákazník procházející web elektronického obchodu má úmysl nakupovat, nám také umožňuje nabízet mu správné produkty."
      ]
    },
    {
      "cell_type": "markdown",
      "metadata": {
        "id": "BwLbepCUGYWE"
      },
      "source": [
        "Jednou z nejpoužívanějších oblastí jsou chytré asistenční systémy v aplikacích. Umožňuje nám nasměrovat uživatele na správná místa v rámci aplikace v souladu s jejich požadavky a můžeme uživateli nabídnout lepší zkušenost s aplikací."
      ]
    },
    {
      "cell_type": "markdown",
      "metadata": {
        "id": "XLiHEgyhGYWE"
      },
      "source": []
    },
    {
      "cell_type": "markdown",
      "metadata": {
        "id": "osx4vVS1GYWE"
      },
      "source": [
        "# Prečo je analýza sentimentu dôležitá"
      ]
    },
    {
      "cell_type": "markdown",
      "metadata": {
        "id": "uc0d_RKrGYWE"
      },
      "source": [
        "Ľudia teraz zdieľajú svoje komentáre/emócie na sociálnych sieťach, na stránkach elektronického obchodu a na mnohých ďalších stránkach. Na týchto platformách sa vytvára množstvo údajov.\n",
        "\n",
        "Značky často chcú vedieť, o čom hovoria. Značky/spoločnosti vynakladajú veľké úsilie, aby rýchlo identifikovali očakávania svojich zákazníkov a poskytli im tie správne služby. Umožňuje ich zákazníkom zistiť, čo ich robí šťastnými alebo sklamanými, aby mohli prispôsobiť produkty a služby potrebám svojich zákazníkov. Okrem toho chcú značky sledovať vplyv svojich reklám na používateľov.\n",
        "\n",
        "Z týchto dôvodov je analýza sentimentu každým dňom dôležitejšia.\n",
        "\n",
        "Analýza sentimentu automaticky určuje emocionálny tón vďaka spracovaniu prirodzeného jazyka (**NLP**), metódam založeným na pravidlách a algoritmom strojového učenia.\n",
        "\n",
        "Existujú rôzne spôsoby, ako môžeme vykonať analýzu sentimentu, v závislosti od toho, koľko údajov potrebujete analyzovať, aký presný musí byť váš model a koľko zdrojov máte.\n",
        "\n",
        "O niektorých z nich si povieme nižšie."
      ]
    },
    {
      "cell_type": "markdown",
      "metadata": {
        "id": "kzYs4FO4GYWF"
      },
      "source": [
        "# Jak analýza sentimentu funguje"
      ]
    },
    {
      "cell_type": "markdown",
      "metadata": {
        "id": "LCNdwOl4GYWF"
      },
      "source": [
        "## Spôsoby vykonania anlýzy sentimentu"
      ]
    },
    {
      "cell_type": "markdown",
      "metadata": {
        "id": "fpiZSwcXGYWF"
      },
      "source": [
        "### Rule based\n",
        "\n",
        "Zvyčajne sa systém založený na pravidlách snaží pomôcť určiť subjektivitu vety, polaritu alebo predmet myšlienky. Najpoužívanejším nástrojom je tu „regex“.\n",
        "\n",
        "Tieto pravidlá zvyčajne zahŕňajú nasledujúce dve techniky NLP:\n",
        "\n",
        "**Stemming, tokenizácia, značkovanie a syntaktická analýza.**\n",
        "**Lexikóny** (t. j. slovniky - zoznamy slov a výrazov).\n",
        "Pracovný mechanizmus týchto systémov je stručne nasledovný;\n",
        "\n",
        "-Vytvoríme zoznam polarizovaných slov (napr. zlé-dobré, najhoršie-najlepšie, škaredé-krásne atď.). Nájdeme ich ako open source\n",
        "\n",
        "-Pomer kladných a kladných slov vo vete\n",
        "\n",
        "Prístupy založené na pravidlách sú už zastarané a nepoužívajú sa v takej miere ako kedysi.Nedokážu totiž odhaliť iróniu a nie presne to, ako sa používatelia cítia. Z tohto dôvodu v súčasnosti získavajú na význame automatizované prístupy.\n",
        "\n",
        "### Automatic Approaches\n",
        "\n",
        "Tieto systémy sa nespoliehajú na ručne vytvorené pravidlá, ale na techniky strojového učenia, ako je klasifikácia. Klasifikácia, ktorá sa používa na analýzu sentimentu, je automatický systém, do ktorého je potrebné vložiť vzorový text pred vrátením kategórie, napr. pozitívne, negatívne alebo neutrálne.\n",
        "\n",
        "#### Klasifikačné algoritmy\n",
        "\n",
        "**Naivné Bayesove**: sú rodinou jednoduchých „pravdepodobnostných klasifikátorov“ založených na aplikácii Bayesovej vety so silnými (naivnými) predpokladmi nezávislosti medzi znakmi (pozri Bayesov klasifikátor).\n",
        "\n",
        "**Lineárna regresia**: je lineárny prístup na modelovanie vzťahu medzi skalárnou odozvou a jednou alebo viacerými vysvetľujúcimi premennými (známymi aj ako závislé a nezávislé premenné).\n",
        "\n",
        "**Support Vector Machines (SVM)**: je riadený algoritmus strojového učenia, ktorý možno použiť na klasifikáciu alebo regresné problémy. Väčšinou sa však používa pri klasifikačných problémoch. Support Vector Machine je hranica, ktorá najlepšie oddeľuje dve triedy (hyperplane/line)\n",
        "\n",
        "**Hlboké učenie**: (tiež známe ako hlboké štruktúrované učenie) je súčasťou širšej rodiny metód strojového učenia založených na umelých neurónových sieťach s učením reprezentácie. Učenie môže byť pod dohľadom, čiastočne pod dohľadom alebo bez dozoru."
      ]
    },
    {
      "cell_type": "markdown",
      "metadata": {
        "id": "3KKNkWT9GYWG"
      },
      "source": [
        "# Exploratory Data Analysis (EDA)"
      ]
    },
    {
      "cell_type": "markdown",
      "metadata": {
        "id": "DHpz3F9KGYWG"
      },
      "source": [
        "Dataset\n",
        "\n",
        "Súbor údajov, ktorý pozostáva z 20 000 recenzií z **Tripadvisoru**, môžeme preskúmať, čo robí skvelý hotel skvelým hotelom.\n",
        "\n",
        "Ako to použiť:\n",
        "\n",
        "Predpovedať hodnotenie recenzie\n",
        "Modelovanie tém v recenziách\n",
        "Preskúmajte kľúčové aspekty, ktoré robia hotely dobrými alebo zlými.\n",
        "\n",
        "V našich údajoch o recenziách hotelov musíme klasifikovať emócie používateľa."
      ]
    },
    {
      "cell_type": "code",
      "execution_count": null,
      "metadata": {
        "id": "zXqLtpE6GYWH"
      },
      "outputs": [],
      "source": [
        "import pandas as pd\n",
        "from wordcloud import WordCloud\n",
        "import seaborn as sns\n",
        "import re\n",
        "import string\n",
        "from collections import Counter, defaultdict\n",
        "import urllib.request\n",
        "\n",
        "from sklearn.feature_extraction.text import CountVectorizer, TfidfVectorizer\n",
        "\n",
        "import plotly.express as px\n",
        "from plotly.subplots import make_subplots\n",
        "import plotly.graph_objects as go\n",
        "from plotly.offline import plot\n",
        "\n",
        "import matplotlib.gridspec as gridspec\n",
        "from matplotlib.ticker import MaxNLocator\n",
        "import matplotlib.patches as mpatches\n",
        "import matplotlib.pyplot as plt\n",
        "\n",
        "import numpy as np "
      ]
    },
    {
      "cell_type": "code",
      "execution_count": null,
      "metadata": {
        "id": "sX6QbYRJGYWI",
        "colab": {
          "base_uri": "https://localhost:8080/"
        },
        "outputId": "c12c08b2-3303-4090-ea7e-3cd0c7143934"
      },
      "outputs": [
        {
          "output_type": "stream",
          "name": "stdout",
          "text": [
            "<class 'pandas.core.frame.DataFrame'>\n",
            "RangeIndex: 20491 entries, 0 to 20490\n",
            "Data columns (total 2 columns):\n",
            " #   Column  Non-Null Count  Dtype \n",
            "---  ------  --------------  ----- \n",
            " 0   Review  20491 non-null  object\n",
            " 1   Rating  20491 non-null  int64 \n",
            "dtypes: int64(1), object(1)\n",
            "memory usage: 320.3+ KB\n"
          ]
        }
      ],
      "source": [
        "#Načítanie dát\n",
        "urllib.request.urlretrieve('https://akela.mendelu.cz/~xgramato/AI/tripadvisor_hotel_reviews.csv', 'tripadvisor_hotel_reviews.csv')\n",
        "df = pd.read_csv('tripadvisor_hotel_reviews.csv')\n",
        "info = df.info()"
      ]
    },
    {
      "cell_type": "code",
      "execution_count": null,
      "metadata": {
        "id": "4WR0n1ljGYWJ",
        "colab": {
          "base_uri": "https://localhost:8080/",
          "height": 201
        },
        "outputId": "8471d382-93f4-4453-d7f5-5b223fb3fc60"
      },
      "outputs": [
        {
          "output_type": "execute_result",
          "data": {
            "text/plain": [
              "                                              Review  Rating\n",
              "0  nice hotel expensive parking got good deal sta...       4\n",
              "1  ok nothing special charge diamond member hilto...       2\n",
              "2  nice rooms not 4* experience hotel monaco seat...       3\n",
              "3  unique, great stay, wonderful time hotel monac...       5\n",
              "4  great stay great stay, went seahawk game aweso...       5"
            ],
            "text/html": [
              "\n",
              "  <div id=\"df-189ab2fd-000b-4050-8fcc-4e1b3c5e246b\">\n",
              "    <div class=\"colab-df-container\">\n",
              "      <div>\n",
              "<style scoped>\n",
              "    .dataframe tbody tr th:only-of-type {\n",
              "        vertical-align: middle;\n",
              "    }\n",
              "\n",
              "    .dataframe tbody tr th {\n",
              "        vertical-align: top;\n",
              "    }\n",
              "\n",
              "    .dataframe thead th {\n",
              "        text-align: right;\n",
              "    }\n",
              "</style>\n",
              "<table border=\"1\" class=\"dataframe\">\n",
              "  <thead>\n",
              "    <tr style=\"text-align: right;\">\n",
              "      <th></th>\n",
              "      <th>Review</th>\n",
              "      <th>Rating</th>\n",
              "    </tr>\n",
              "  </thead>\n",
              "  <tbody>\n",
              "    <tr>\n",
              "      <th>0</th>\n",
              "      <td>nice hotel expensive parking got good deal sta...</td>\n",
              "      <td>4</td>\n",
              "    </tr>\n",
              "    <tr>\n",
              "      <th>1</th>\n",
              "      <td>ok nothing special charge diamond member hilto...</td>\n",
              "      <td>2</td>\n",
              "    </tr>\n",
              "    <tr>\n",
              "      <th>2</th>\n",
              "      <td>nice rooms not 4* experience hotel monaco seat...</td>\n",
              "      <td>3</td>\n",
              "    </tr>\n",
              "    <tr>\n",
              "      <th>3</th>\n",
              "      <td>unique, great stay, wonderful time hotel monac...</td>\n",
              "      <td>5</td>\n",
              "    </tr>\n",
              "    <tr>\n",
              "      <th>4</th>\n",
              "      <td>great stay great stay, went seahawk game aweso...</td>\n",
              "      <td>5</td>\n",
              "    </tr>\n",
              "  </tbody>\n",
              "</table>\n",
              "</div>\n",
              "      <button class=\"colab-df-convert\" onclick=\"convertToInteractive('df-189ab2fd-000b-4050-8fcc-4e1b3c5e246b')\"\n",
              "              title=\"Convert this dataframe to an interactive table.\"\n",
              "              style=\"display:none;\">\n",
              "        \n",
              "  <svg xmlns=\"http://www.w3.org/2000/svg\" height=\"24px\"viewBox=\"0 0 24 24\"\n",
              "       width=\"24px\">\n",
              "    <path d=\"M0 0h24v24H0V0z\" fill=\"none\"/>\n",
              "    <path d=\"M18.56 5.44l.94 2.06.94-2.06 2.06-.94-2.06-.94-.94-2.06-.94 2.06-2.06.94zm-11 1L8.5 8.5l.94-2.06 2.06-.94-2.06-.94L8.5 2.5l-.94 2.06-2.06.94zm10 10l.94 2.06.94-2.06 2.06-.94-2.06-.94-.94-2.06-.94 2.06-2.06.94z\"/><path d=\"M17.41 7.96l-1.37-1.37c-.4-.4-.92-.59-1.43-.59-.52 0-1.04.2-1.43.59L10.3 9.45l-7.72 7.72c-.78.78-.78 2.05 0 2.83L4 21.41c.39.39.9.59 1.41.59.51 0 1.02-.2 1.41-.59l7.78-7.78 2.81-2.81c.8-.78.8-2.07 0-2.86zM5.41 20L4 18.59l7.72-7.72 1.47 1.35L5.41 20z\"/>\n",
              "  </svg>\n",
              "      </button>\n",
              "      \n",
              "  <style>\n",
              "    .colab-df-container {\n",
              "      display:flex;\n",
              "      flex-wrap:wrap;\n",
              "      gap: 12px;\n",
              "    }\n",
              "\n",
              "    .colab-df-convert {\n",
              "      background-color: #E8F0FE;\n",
              "      border: none;\n",
              "      border-radius: 50%;\n",
              "      cursor: pointer;\n",
              "      display: none;\n",
              "      fill: #1967D2;\n",
              "      height: 32px;\n",
              "      padding: 0 0 0 0;\n",
              "      width: 32px;\n",
              "    }\n",
              "\n",
              "    .colab-df-convert:hover {\n",
              "      background-color: #E2EBFA;\n",
              "      box-shadow: 0px 1px 2px rgba(60, 64, 67, 0.3), 0px 1px 3px 1px rgba(60, 64, 67, 0.15);\n",
              "      fill: #174EA6;\n",
              "    }\n",
              "\n",
              "    [theme=dark] .colab-df-convert {\n",
              "      background-color: #3B4455;\n",
              "      fill: #D2E3FC;\n",
              "    }\n",
              "\n",
              "    [theme=dark] .colab-df-convert:hover {\n",
              "      background-color: #434B5C;\n",
              "      box-shadow: 0px 1px 3px 1px rgba(0, 0, 0, 0.15);\n",
              "      filter: drop-shadow(0px 1px 2px rgba(0, 0, 0, 0.3));\n",
              "      fill: #FFFFFF;\n",
              "    }\n",
              "  </style>\n",
              "\n",
              "      <script>\n",
              "        const buttonEl =\n",
              "          document.querySelector('#df-189ab2fd-000b-4050-8fcc-4e1b3c5e246b button.colab-df-convert');\n",
              "        buttonEl.style.display =\n",
              "          google.colab.kernel.accessAllowed ? 'block' : 'none';\n",
              "\n",
              "        async function convertToInteractive(key) {\n",
              "          const element = document.querySelector('#df-189ab2fd-000b-4050-8fcc-4e1b3c5e246b');\n",
              "          const dataTable =\n",
              "            await google.colab.kernel.invokeFunction('convertToInteractive',\n",
              "                                                     [key], {});\n",
              "          if (!dataTable) return;\n",
              "\n",
              "          const docLinkHtml = 'Like what you see? Visit the ' +\n",
              "            '<a target=\"_blank\" href=https://colab.research.google.com/notebooks/data_table.ipynb>data table notebook</a>'\n",
              "            + ' to learn more about interactive tables.';\n",
              "          element.innerHTML = '';\n",
              "          dataTable['output_type'] = 'display_data';\n",
              "          await google.colab.output.renderOutput(dataTable, element);\n",
              "          const docLink = document.createElement('div');\n",
              "          docLink.innerHTML = docLinkHtml;\n",
              "          element.appendChild(docLink);\n",
              "        }\n",
              "      </script>\n",
              "    </div>\n",
              "  </div>\n",
              "  "
            ]
          },
          "metadata": {},
          "execution_count": 3
        }
      ],
      "source": [
        "df.head()"
      ]
    },
    {
      "cell_type": "code",
      "execution_count": null,
      "metadata": {
        "id": "4U9BpPNmGYWJ",
        "colab": {
          "base_uri": "https://localhost:8080/",
          "height": 542
        },
        "outputId": "40ca4877-a334-4941-d716-40234a957e62"
      },
      "outputs": [
        {
          "output_type": "display_data",
          "data": {
            "text/html": [
              "<html>\n",
              "<head><meta charset=\"utf-8\" /></head>\n",
              "<body>\n",
              "    <div>            <script src=\"https://cdnjs.cloudflare.com/ajax/libs/mathjax/2.7.5/MathJax.js?config=TeX-AMS-MML_SVG\"></script><script type=\"text/javascript\">if (window.MathJax) {MathJax.Hub.Config({SVG: {font: \"STIX-Web\"}});}</script>                <script type=\"text/javascript\">window.PlotlyConfig = {MathJaxConfig: 'local'};</script>\n",
              "        <script src=\"https://cdn.plot.ly/plotly-2.8.3.min.js\"></script>                <div id=\"8f9a0bd3-fb5b-4f05-ad3d-c03238818cd0\" class=\"plotly-graph-div\" style=\"height:525px; width:835px;\"></div>            <script type=\"text/javascript\">                                    window.PLOTLYENV=window.PLOTLYENV || {};                                    if (document.getElementById(\"8f9a0bd3-fb5b-4f05-ad3d-c03238818cd0\")) {                    Plotly.newPlot(                        \"8f9a0bd3-fb5b-4f05-ad3d-c03238818cd0\",                        [{\"alignmentgroup\":\"True\",\"bingroup\":\"x\",\"hovertemplate\":\"Rating=%{x}<br>count=%{y}<extra></extra>\",\"legendgroup\":\"4\",\"marker\":{\"color\":\"rgb(8,48,107)\",\"opacity\":0.8,\"pattern\":{\"shape\":\"\"}},\"name\":\"4\",\"offsetgroup\":\"4\",\"orientation\":\"v\",\"showlegend\":true,\"x\":[4,4,4,4,4,4,4,4,4,4,4,4,4,4,4,4,4,4,4,4,4,4,4,4,4,4,4,4,4,4,4,4,4,4,4,4,4,4,4,4,4,4,4,4,4,4,4,4,4,4,4,4,4,4,4,4,4,4,4,4,4,4,4,4,4,4,4,4,4,4,4,4,4,4,4,4,4,4,4,4,4,4,4,4,4,4,4,4,4,4,4,4,4,4,4,4,4,4,4,4,4,4,4,4,4,4,4,4,4,4,4,4,4,4,4,4,4,4,4,4,4,4,4,4,4,4,4,4,4,4,4,4,4,4,4,4,4,4,4,4,4,4,4,4,4,4,4,4,4,4,4,4,4,4,4,4,4,4,4,4,4,4,4,4,4,4,4,4,4,4,4,4,4,4,4,4,4,4,4,4,4,4,4,4,4,4,4,4,4,4,4,4,4,4,4,4,4,4,4,4,4,4,4,4,4,4,4,4,4,4,4,4,4,4,4,4,4,4,4,4,4,4,4,4,4,4,4,4,4,4,4,4,4,4,4,4,4,4,4,4,4,4,4,4,4,4,4,4,4,4,4,4,4,4,4,4,4,4,4,4,4,4,4,4,4,4,4,4,4,4,4,4,4,4,4,4,4,4,4,4,4,4,4,4,4,4,4,4,4,4,4,4,4,4,4,4,4,4,4,4,4,4,4,4,4,4,4,4,4,4,4,4,4,4,4,4,4,4,4,4,4,4,4,4,4,4,4,4,4,4,4,4,4,4,4,4,4,4,4,4,4,4,4,4,4,4,4,4,4,4,4,4,4,4,4,4,4,4,4,4,4,4,4,4,4,4,4,4,4,4,4,4,4,4,4,4,4,4,4,4,4,4,4,4,4,4,4,4,4,4,4,4,4,4,4,4,4,4,4,4,4,4,4,4,4,4,4,4,4,4,4,4,4,4,4,4,4,4,4,4,4,4,4,4,4,4,4,4,4,4,4,4,4,4,4,4,4,4,4,4,4,4,4,4,4,4,4,4,4,4,4,4,4,4,4,4,4,4,4,4,4,4,4,4,4,4,4,4,4,4,4,4,4,4,4,4,4,4,4,4,4,4,4,4,4,4,4,4,4,4,4,4,4,4,4,4,4,4,4,4,4,4,4,4,4,4,4,4,4,4,4,4,4,4,4,4,4,4,4,4,4,4,4,4,4,4,4,4,4,4,4,4,4,4,4,4,4,4,4,4,4,4,4,4,4,4,4,4,4,4,4,4,4,4,4,4,4,4,4,4,4,4,4,4,4,4,4,4,4,4,4,4,4,4,4,4,4,4,4,4,4,4,4,4,4,4,4,4,4,4,4,4,4,4,4,4,4,4,4,4,4,4,4,4,4,4,4,4,4,4,4,4,4,4,4,4,4,4,4,4,4,4,4,4,4,4,4,4,4,4,4,4,4,4,4,4,4,4,4,4,4,4,4,4,4,4,4,4,4,4,4,4,4,4,4,4,4,4,4,4,4,4,4,4,4,4,4,4,4,4,4,4,4,4,4,4,4,4,4,4,4,4,4,4,4,4,4,4,4,4,4,4,4,4,4,4,4,4,4,4,4,4,4,4,4,4,4,4,4,4,4,4,4,4,4,4,4,4,4,4,4,4,4,4,4,4,4,4,4,4,4,4,4,4,4,4,4,4,4,4,4,4,4,4,4,4,4,4,4,4,4,4,4,4,4,4,4,4,4,4,4,4,4,4,4,4,4,4,4,4,4,4,4,4,4,4,4,4,4,4,4,4,4,4,4,4,4,4,4,4,4,4,4,4,4,4,4,4,4,4,4,4,4,4,4,4,4,4,4,4,4,4,4,4,4,4,4,4,4,4,4,4,4,4,4,4,4,4,4,4,4,4,4,4,4,4,4,4,4,4,4,4,4,4,4,4,4,4,4,4,4,4,4,4,4,4,4,4,4,4,4,4,4,4,4,4,4,4,4,4,4,4,4,4,4,4,4,4,4,4,4,4,4,4,4,4,4,4,4,4,4,4,4,4,4,4,4,4,4,4,4,4,4,4,4,4,4,4,4,4,4,4,4,4,4,4,4,4,4,4,4,4,4,4,4,4,4,4,4,4,4,4,4,4,4,4,4,4,4,4,4,4,4,4,4,4,4,4,4,4,4,4,4,4,4,4,4,4,4,4,4,4,4,4,4,4,4,4,4,4,4,4,4,4,4,4,4,4,4,4,4,4,4,4,4,4,4,4,4,4,4,4,4,4,4,4,4,4,4,4,4,4,4,4,4,4,4,4,4,4,4,4,4,4,4,4,4,4,4,4,4,4,4,4,4,4,4,4,4,4,4,4,4,4,4,4,4,4,4,4,4,4,4,4,4,4,4,4,4,4,4,4,4,4,4,4,4,4,4,4,4,4,4,4,4,4,4,4,4,4,4,4,4,4,4,4,4,4,4,4,4,4,4,4,4,4,4,4,4,4,4,4,4,4,4,4,4,4,4,4,4,4,4,4,4,4,4,4,4,4,4,4,4,4,4,4,4,4,4,4,4,4,4,4,4,4,4,4,4,4,4,4,4,4,4,4,4,4,4,4,4,4,4,4,4,4,4,4,4,4,4,4,4,4,4,4,4,4,4,4,4,4,4,4,4,4,4,4,4,4,4,4,4,4,4,4,4,4,4,4,4,4,4,4,4,4,4,4,4,4,4,4,4,4,4,4,4,4,4,4,4,4,4,4,4,4,4,4,4,4,4,4,4,4,4,4,4,4,4,4,4,4,4,4,4,4,4,4,4,4,4,4,4,4,4,4,4,4,4,4,4,4,4,4,4,4,4,4,4,4,4,4,4,4,4,4,4,4,4,4,4,4,4,4,4,4,4,4,4,4,4,4,4,4,4,4,4,4,4,4,4,4,4,4,4,4,4,4,4,4,4,4,4,4,4,4,4,4,4,4,4,4,4,4,4,4,4,4,4,4,4,4,4,4,4,4,4,4,4,4,4,4,4,4,4,4,4,4,4,4,4,4,4,4,4,4,4,4,4,4,4,4,4,4,4,4,4,4,4,4,4,4,4,4,4,4,4,4,4,4,4,4,4,4,4,4,4,4,4,4,4,4,4,4,4,4,4,4,4,4,4,4,4,4,4,4,4,4,4,4,4,4,4,4,4,4,4,4,4,4,4,4,4,4,4,4,4,4,4,4,4,4,4,4,4,4,4,4,4,4,4,4,4,4,4,4,4,4,4,4,4,4,4,4,4,4,4,4,4,4,4,4,4,4,4,4,4,4,4,4,4,4,4,4,4,4,4,4,4,4,4,4,4,4,4,4,4,4,4,4,4,4,4,4,4,4,4,4,4,4,4,4,4,4,4,4,4,4,4,4,4,4,4,4,4,4,4,4,4,4,4,4,4,4,4,4,4,4,4,4,4,4,4,4,4,4,4,4,4,4,4,4,4,4,4,4,4,4,4,4,4,4,4,4,4,4,4,4,4,4,4,4,4,4,4,4,4,4,4,4,4,4,4,4,4,4,4,4,4,4,4,4,4,4,4,4,4,4,4,4,4,4,4,4,4,4,4,4,4,4,4,4,4,4,4,4,4,4,4,4,4,4,4,4,4,4,4,4,4,4,4,4,4,4,4,4,4,4,4,4,4,4,4,4,4,4,4,4,4,4,4,4,4,4,4,4,4,4,4,4,4,4,4,4,4,4,4,4,4,4,4,4,4,4,4,4,4,4,4,4,4,4,4,4,4,4,4,4,4,4,4,4,4,4,4,4,4,4,4,4,4,4,4,4,4,4,4,4,4,4,4,4,4,4,4,4,4,4,4,4,4,4,4,4,4,4,4,4,4,4,4,4,4,4,4,4,4,4,4,4,4,4,4,4,4,4,4,4,4,4,4,4,4,4,4,4,4,4,4,4,4,4,4,4,4,4,4,4,4,4,4,4,4,4,4,4,4,4,4,4,4,4,4,4,4,4,4,4,4,4,4,4,4,4,4,4,4,4,4,4,4,4,4,4,4,4,4,4,4,4,4,4,4,4,4,4,4,4,4,4,4,4,4,4,4,4,4,4,4,4,4,4,4,4,4,4,4,4,4,4,4,4,4,4,4,4,4,4,4,4,4,4,4,4,4,4,4,4,4,4,4,4,4,4,4,4,4,4,4,4,4,4,4,4,4,4,4,4,4,4,4,4,4,4,4,4,4,4,4,4,4,4,4,4,4,4,4,4,4,4,4,4,4,4,4,4,4,4,4,4,4,4,4,4,4,4,4,4,4,4,4,4,4,4,4,4,4,4,4,4,4,4,4,4,4,4,4,4,4,4,4,4,4,4,4,4,4,4,4,4,4,4,4,4,4,4,4,4,4,4,4,4,4,4,4,4,4,4,4,4,4,4,4,4,4,4,4,4,4,4,4,4,4,4,4,4,4,4,4,4,4,4,4,4,4,4,4,4,4,4,4,4,4,4,4,4,4,4,4,4,4,4,4,4,4,4,4,4,4,4,4,4,4,4,4,4,4,4,4,4,4,4,4,4,4,4,4,4,4,4,4,4,4,4,4,4,4,4,4,4,4,4,4,4,4,4,4,4,4,4,4,4,4,4,4,4,4,4,4,4,4,4,4,4,4,4,4,4,4,4,4,4,4,4,4,4,4,4,4,4,4,4,4,4,4,4,4,4,4,4,4,4,4,4,4,4,4,4,4,4,4,4,4,4,4,4,4,4,4,4,4,4,4,4,4,4,4,4,4,4,4,4,4,4,4,4,4,4,4,4,4,4,4,4,4,4,4,4,4,4,4,4,4,4,4,4,4,4,4,4,4,4,4,4,4,4,4,4,4,4,4,4,4,4,4,4,4,4,4,4,4,4,4,4,4,4,4,4,4,4,4,4,4,4,4,4,4,4,4,4,4,4,4,4,4,4,4,4,4,4,4,4,4,4,4,4,4,4,4,4,4,4,4,4,4,4,4,4,4,4,4,4,4,4,4,4,4,4,4,4,4,4,4,4,4,4,4,4,4,4,4,4,4,4,4,4,4,4,4,4,4,4,4,4,4,4,4,4,4,4,4,4,4,4,4,4,4,4,4,4,4,4,4,4,4,4,4,4,4,4,4,4,4,4,4,4,4,4,4,4,4,4,4,4,4,4,4,4,4,4,4,4,4,4,4,4,4,4,4,4,4,4,4,4,4,4,4,4,4,4,4,4,4,4,4,4,4,4,4,4,4,4,4,4,4,4,4,4,4,4,4,4,4,4,4,4,4,4,4,4,4,4,4,4,4,4,4,4,4,4,4,4,4,4,4,4,4,4,4,4,4,4,4,4,4,4,4,4,4,4,4,4,4,4,4,4,4,4,4,4,4,4,4,4,4,4,4,4,4,4,4,4,4,4,4,4,4,4,4,4,4,4,4,4,4,4,4,4,4,4,4,4,4,4,4,4,4,4,4,4,4,4,4,4,4,4,4,4,4,4,4,4,4,4,4,4,4,4,4,4,4,4,4,4,4,4,4,4,4,4,4,4,4,4,4,4,4,4,4,4,4,4,4,4,4,4,4,4,4,4,4,4,4,4,4,4,4,4,4,4,4,4,4,4,4,4,4,4,4,4,4,4,4,4,4,4,4,4,4,4,4,4,4,4,4,4,4,4,4,4,4,4,4,4,4,4,4,4,4,4,4,4,4,4,4,4,4,4,4,4,4,4,4,4,4,4,4,4,4,4,4,4,4,4,4,4,4,4,4,4,4,4,4,4,4,4,4,4,4,4,4,4,4,4,4,4,4,4,4,4,4,4,4,4,4,4,4,4,4,4,4,4,4,4,4,4,4,4,4,4,4,4,4,4,4,4,4,4,4,4,4,4,4,4,4,4,4,4,4,4,4,4,4,4,4,4,4,4,4,4,4,4,4,4,4,4,4,4,4,4,4,4,4,4,4,4,4,4,4,4,4,4,4,4,4,4,4,4,4,4,4,4,4,4,4,4,4,4,4,4,4,4,4,4,4,4,4,4,4,4,4,4,4,4,4,4,4,4,4,4,4,4,4,4,4,4,4,4,4,4,4,4,4,4,4,4,4,4,4,4,4,4,4,4,4,4,4,4,4,4,4,4,4,4,4,4,4,4,4,4,4,4,4,4,4,4,4,4,4,4,4,4,4,4,4,4,4,4,4,4,4,4,4,4,4,4,4,4,4,4,4,4,4,4,4,4,4,4,4,4,4,4,4,4,4,4,4,4,4,4,4,4,4,4,4,4,4,4,4,4,4,4,4,4,4,4,4,4,4,4,4,4,4,4,4,4,4,4,4,4,4,4,4,4,4,4,4,4,4,4,4,4,4,4,4,4,4,4,4,4,4,4,4,4,4,4,4,4,4,4,4,4,4,4,4,4,4,4,4,4,4,4,4,4,4,4,4,4,4,4,4,4,4,4,4,4,4,4,4,4,4,4,4,4,4,4,4,4,4,4,4,4,4,4,4,4,4,4,4,4,4,4,4,4,4,4,4,4,4,4,4,4,4,4,4,4,4,4,4,4,4,4,4,4,4,4,4,4,4,4,4,4,4,4,4,4,4,4,4,4,4,4,4,4,4,4,4,4,4,4,4,4,4,4,4,4,4,4,4,4,4,4,4,4,4,4,4,4,4,4,4,4,4,4,4,4,4,4,4,4,4,4,4,4,4,4,4,4,4,4,4,4,4,4,4,4,4,4,4,4,4,4,4,4,4,4,4,4,4,4,4,4,4,4,4,4,4,4,4,4,4,4,4,4,4,4,4,4,4,4,4,4,4,4,4,4,4,4,4,4,4,4,4,4,4,4,4,4,4,4,4,4,4,4,4,4,4,4,4,4,4,4,4,4,4,4,4,4,4,4,4,4,4,4,4,4,4,4,4,4,4,4,4,4,4,4,4,4,4,4,4,4,4,4,4,4,4,4,4,4,4,4,4,4,4,4,4,4,4,4,4,4,4,4,4,4,4,4,4,4,4,4,4,4,4,4,4,4,4,4,4,4,4,4,4,4,4,4,4,4,4,4,4,4,4,4,4,4,4,4,4,4,4,4,4,4,4,4,4,4,4,4,4,4,4,4,4,4,4,4,4,4,4,4,4,4,4,4,4,4,4,4,4,4,4,4,4,4,4,4,4,4,4,4,4,4,4,4,4,4,4,4,4,4,4,4,4,4,4,4,4,4,4,4,4,4,4,4,4,4,4,4,4,4,4,4,4,4,4,4,4,4,4,4,4,4,4,4,4,4,4,4,4,4,4,4,4,4,4,4,4,4,4,4,4,4,4,4,4,4,4,4,4,4,4,4,4,4,4,4,4,4,4,4,4,4,4,4,4,4,4,4,4,4,4,4,4,4,4,4,4,4,4,4,4,4,4,4,4,4,4,4,4,4,4,4,4,4,4,4,4,4,4,4,4,4,4,4,4,4,4,4,4,4,4,4,4,4,4,4,4,4,4,4,4,4,4,4,4,4,4,4,4,4,4,4,4,4,4,4,4,4,4,4,4,4,4,4,4,4,4,4,4,4,4,4,4,4,4,4,4,4,4,4,4,4,4,4,4,4,4,4,4,4,4,4,4,4,4,4,4,4,4,4,4,4,4,4,4,4,4,4,4,4,4,4,4,4,4,4,4,4,4,4,4,4,4,4,4,4,4,4,4,4,4,4,4,4,4,4,4,4,4,4,4,4,4,4,4,4,4,4,4,4,4,4,4,4,4,4,4,4,4,4,4,4,4,4,4,4,4,4,4,4,4,4,4,4,4,4,4,4,4,4,4,4,4,4,4,4,4,4,4,4,4,4,4,4,4,4,4,4,4,4,4,4,4,4,4,4,4,4,4,4,4,4,4,4,4,4,4,4,4,4,4,4,4,4,4,4,4,4,4,4,4,4,4,4,4,4,4,4,4,4,4,4,4,4,4,4,4,4,4,4,4,4,4,4,4,4,4,4,4,4,4,4,4,4,4,4,4,4,4,4,4,4,4,4,4,4,4,4,4,4,4,4,4,4,4,4,4,4,4,4,4,4,4,4,4,4,4,4,4,4,4,4,4,4,4,4,4,4,4,4,4,4,4,4,4,4,4,4,4,4,4,4,4,4,4,4,4,4,4,4,4,4,4,4,4,4,4,4,4,4,4,4,4,4,4,4,4,4,4,4,4,4,4,4,4,4,4,4,4,4,4,4,4,4,4,4,4,4,4,4,4,4,4,4,4,4,4,4,4,4,4,4,4,4,4,4,4,4,4,4,4,4,4,4,4,4,4,4,4,4,4,4,4,4,4,4,4,4,4,4,4,4,4,4,4,4,4,4,4,4,4,4,4,4,4,4,4,4,4,4,4,4,4,4,4,4,4,4,4,4,4,4,4,4,4,4,4,4,4,4,4,4,4,4,4,4,4,4,4,4,4,4,4,4,4,4,4,4,4,4,4,4,4,4,4,4,4,4,4,4,4,4,4,4,4,4,4,4,4,4,4,4,4,4,4,4,4,4,4,4,4,4,4,4,4,4,4,4,4,4,4,4,4,4,4,4,4,4,4,4,4,4,4,4,4,4,4,4,4,4,4,4,4,4,4,4,4,4,4,4,4,4,4,4,4,4,4,4,4,4,4,4,4,4,4,4,4,4,4,4,4,4,4,4,4,4,4,4,4,4,4,4,4,4,4,4,4,4,4,4,4,4,4,4,4,4,4,4,4,4,4,4,4,4,4,4,4,4,4,4,4,4,4,4,4,4,4,4,4,4,4,4,4,4,4,4,4,4,4,4,4,4,4,4,4,4,4,4,4,4,4,4,4,4,4,4,4,4,4,4,4,4,4,4,4,4,4,4,4,4,4,4,4,4,4,4,4,4,4,4,4,4,4,4,4,4,4,4,4,4,4,4,4,4,4,4,4,4,4,4,4,4,4,4,4,4,4,4,4,4,4,4,4,4,4,4,4,4,4,4,4,4,4,4,4,4,4,4,4,4,4,4,4,4,4,4,4,4,4,4,4,4,4,4,4,4,4,4,4,4,4,4,4,4,4,4,4,4,4,4,4,4,4,4,4,4,4,4,4,4,4,4,4,4,4,4,4,4,4,4,4,4,4,4,4,4,4,4,4,4,4,4,4,4,4,4,4,4,4,4,4,4,4,4,4,4,4,4,4,4,4,4,4,4,4,4,4,4,4,4,4,4,4,4,4,4,4,4,4,4,4,4,4,4,4,4,4,4,4,4,4,4,4,4,4,4,4,4,4,4,4,4,4,4,4,4,4,4,4,4,4,4,4,4,4,4,4,4,4,4,4,4,4,4,4,4,4,4,4,4,4,4,4,4,4,4,4,4,4,4,4,4,4,4,4,4,4,4,4,4,4,4,4,4,4,4,4,4,4,4,4,4,4,4,4,4,4,4,4,4,4,4,4,4,4,4,4,4,4,4,4,4,4,4,4,4,4,4,4,4,4,4,4,4,4,4,4,4,4,4,4,4,4,4,4,4,4,4,4,4,4,4,4,4,4,4,4,4,4,4,4,4,4,4,4,4,4,4,4,4,4,4,4,4,4,4,4,4,4,4,4,4,4,4,4,4,4,4,4,4,4,4,4,4,4,4,4,4,4,4,4,4,4,4,4,4,4,4,4,4,4,4,4,4,4,4,4,4,4,4,4,4,4,4,4,4,4,4,4,4,4,4,4,4,4,4,4,4,4,4,4,4,4,4,4,4,4,4,4,4,4,4,4,4,4,4,4,4,4,4,4,4,4,4,4,4,4,4,4,4,4,4,4,4,4,4,4,4,4,4,4,4,4,4,4,4,4,4,4,4,4,4,4,4,4,4,4,4,4,4,4,4,4,4,4,4,4,4,4,4,4,4,4,4,4,4,4,4,4,4,4,4,4,4,4,4,4,4,4,4,4,4,4,4,4,4,4,4,4,4,4,4,4,4,4,4,4,4,4,4,4,4,4,4,4,4,4,4,4,4,4,4,4,4,4,4,4,4,4,4,4,4,4,4,4,4,4,4,4,4,4,4,4,4,4,4,4,4,4,4,4,4,4,4,4,4,4,4,4,4,4,4,4,4,4,4,4,4,4,4,4,4,4,4,4,4,4,4,4,4,4,4,4,4,4,4,4,4,4,4,4,4,4,4,4,4,4,4,4,4,4,4,4,4,4,4,4,4,4,4,4,4,4,4,4,4,4,4,4,4,4,4,4,4,4,4,4,4,4,4,4,4,4,4,4,4,4,4,4,4,4,4,4,4,4,4,4,4,4,4,4,4,4,4,4,4,4,4,4,4,4,4,4,4,4,4,4,4,4,4,4,4,4,4,4,4,4,4,4,4,4,4,4,4,4,4,4,4,4,4,4,4,4,4,4,4,4,4,4,4,4,4,4,4,4,4,4,4,4,4,4,4,4,4,4,4,4,4,4,4,4,4,4,4,4,4,4,4,4,4,4,4,4,4,4,4,4,4,4,4,4,4,4,4,4,4,4,4,4,4,4,4,4,4,4,4,4,4,4,4,4,4,4,4,4,4,4,4,4,4,4,4,4,4,4,4,4,4,4,4,4,4,4,4,4,4,4,4,4,4,4,4,4,4,4,4,4,4,4,4,4,4,4,4,4,4,4,4,4,4,4,4,4,4,4,4,4,4,4,4,4,4,4,4,4,4,4,4,4,4,4,4,4,4,4,4,4,4,4,4,4,4,4,4,4,4,4,4,4,4,4,4,4,4,4,4,4,4,4,4,4,4,4,4,4,4,4,4,4,4,4,4,4,4,4,4,4,4,4,4,4,4,4,4,4,4,4,4,4,4,4,4,4,4,4,4,4,4,4,4,4,4,4,4,4,4,4,4,4,4,4,4,4,4,4,4,4,4,4,4,4,4,4,4,4,4,4,4,4,4,4,4,4,4,4,4,4,4,4,4,4,4,4,4,4,4,4,4,4,4,4,4,4,4,4,4,4,4,4,4,4,4,4,4,4,4,4,4,4,4,4,4,4,4,4,4,4,4,4,4,4,4,4,4,4,4,4,4,4,4,4,4,4,4,4,4,4,4,4,4,4,4,4,4,4,4,4,4,4,4,4,4,4,4,4,4,4,4,4,4,4,4,4,4,4,4,4,4,4,4,4,4,4,4,4,4,4,4,4,4,4,4,4,4,4,4,4,4,4,4,4,4,4,4,4,4,4,4,4,4,4,4,4,4,4,4,4,4,4,4,4,4,4,4,4,4,4,4,4,4,4,4,4,4,4,4,4,4,4,4,4,4,4,4,4,4,4,4,4,4,4,4,4,4,4,4,4,4,4,4,4,4,4,4,4,4,4,4,4,4,4,4,4,4,4,4,4,4,4,4,4,4,4,4,4,4,4,4,4,4,4,4,4,4,4,4,4,4,4,4,4,4,4,4,4,4,4,4,4,4,4,4,4,4,4,4,4,4,4,4,4,4,4,4,4,4,4,4,4,4,4,4,4,4,4,4,4,4,4,4,4,4,4,4,4,4,4,4,4,4,4,4,4,4,4,4,4,4,4,4,4,4,4,4,4,4,4,4,4,4,4,4,4,4,4,4,4,4,4,4,4,4,4,4,4,4,4,4,4,4,4,4,4,4,4,4,4,4,4,4,4,4,4,4,4,4,4,4,4,4,4,4,4,4,4,4,4,4,4,4,4,4,4,4,4,4,4,4,4,4,4,4,4,4,4,4,4,4,4,4,4,4,4,4,4,4,4,4,4,4,4,4,4,4,4,4,4,4,4,4,4,4,4,4,4,4,4,4,4,4,4,4,4,4,4,4,4,4,4,4,4,4,4,4,4,4,4,4,4,4,4,4,4,4,4,4,4,4,4,4,4,4,4,4,4,4,4,4,4,4,4,4,4,4,4,4,4,4,4,4,4,4,4,4,4,4,4,4,4,4,4,4,4,4,4,4,4,4,4,4,4,4,4,4,4,4,4,4,4,4,4,4,4,4,4,4,4,4,4,4,4,4,4,4,4,4,4,4,4,4,4,4,4,4,4,4,4,4,4,4,4,4,4,4,4,4,4,4,4,4,4,4,4,4,4,4,4,4,4,4,4,4,4,4,4,4,4,4,4,4,4,4,4,4,4,4,4,4,4,4,4,4,4,4,4,4,4,4,4,4,4,4,4,4,4,4,4,4,4,4,4,4,4,4,4,4,4,4,4,4,4,4,4,4,4,4,4,4,4,4,4,4,4,4,4,4,4,4,4,4,4,4,4,4,4,4,4,4,4,4,4,4,4,4,4,4,4,4,4,4,4,4,4,4,4,4,4,4,4,4,4,4,4,4,4,4,4,4,4,4,4,4,4,4,4,4,4,4,4,4,4,4,4,4,4,4,4,4,4,4,4,4,4,4,4,4,4,4,4,4,4,4,4,4,4,4,4,4,4,4,4,4,4,4,4,4,4,4,4,4,4,4,4,4,4,4,4,4,4,4,4,4,4,4,4,4,4,4,4,4,4,4,4,4,4,4,4,4,4,4,4,4,4,4,4,4,4,4,4,4,4,4,4,4,4,4,4,4,4,4,4,4,4,4,4,4,4,4,4,4,4,4,4,4,4,4,4,4,4,4,4,4,4,4,4,4,4,4,4,4,4,4,4,4,4,4,4,4,4,4,4,4,4,4,4,4,4,4,4,4,4,4,4,4,4,4,4,4,4,4,4,4,4,4,4,4,4,4,4,4,4,4,4,4,4,4,4,4,4,4,4,4,4,4,4,4,4,4,4,4,4,4,4,4,4,4,4,4,4,4,4,4,4,4,4,4,4,4,4,4,4,4,4,4,4,4,4,4,4,4,4,4,4,4,4,4,4,4,4,4,4,4,4,4,4,4,4,4,4,4,4,4,4,4,4,4,4,4,4,4,4,4,4,4,4,4,4,4,4,4,4,4,4,4,4,4,4,4,4,4,4,4,4,4,4,4,4,4,4,4,4,4,4,4,4,4,4,4,4,4,4,4,4,4,4,4,4,4,4,4,4,4,4,4,4,4,4,4,4,4,4,4,4,4,4,4,4,4,4,4,4,4,4,4,4,4,4,4,4,4,4,4,4,4,4,4,4,4,4,4,4,4,4,4,4,4,4,4,4,4,4,4,4,4,4,4,4,4,4,4,4,4,4,4,4,4,4,4,4,4,4,4,4,4,4,4,4,4,4,4,4,4,4,4,4,4,4,4,4,4,4,4,4,4,4,4,4,4,4,4,4,4,4,4,4,4,4,4,4,4,4,4,4,4,4,4,4,4,4,4,4,4,4,4,4,4,4,4,4,4,4,4,4,4,4,4,4,4,4,4,4,4,4,4,4,4,4,4,4,4,4,4,4,4,4,4,4,4,4,4,4,4,4,4,4,4,4,4,4,4,4,4,4,4,4,4,4,4,4,4,4,4,4,4,4,4,4,4,4,4,4,4,4,4,4,4,4,4,4,4,4,4,4,4,4,4,4,4,4,4,4,4,4,4,4,4,4,4,4,4,4,4,4,4,4,4,4,4,4,4,4,4,4,4,4,4,4,4,4,4,4,4,4,4,4,4,4,4,4,4,4,4,4,4,4,4,4,4,4,4,4,4,4,4,4,4,4,4,4,4,4,4,4,4,4,4,4,4,4,4,4,4,4,4,4],\"xaxis\":\"x\",\"yaxis\":\"y\",\"type\":\"histogram\"},{\"alignmentgroup\":\"True\",\"bingroup\":\"x\",\"hovertemplate\":\"Rating=%{x}<br>count=%{y}<extra></extra>\",\"legendgroup\":\"2\",\"marker\":{\"color\":\"rgb(8,81,156)\",\"opacity\":0.8,\"pattern\":{\"shape\":\"\"}},\"name\":\"2\",\"offsetgroup\":\"2\",\"orientation\":\"v\",\"showlegend\":true,\"x\":[2,2,2,2,2,2,2,2,2,2,2,2,2,2,2,2,2,2,2,2,2,2,2,2,2,2,2,2,2,2,2,2,2,2,2,2,2,2,2,2,2,2,2,2,2,2,2,2,2,2,2,2,2,2,2,2,2,2,2,2,2,2,2,2,2,2,2,2,2,2,2,2,2,2,2,2,2,2,2,2,2,2,2,2,2,2,2,2,2,2,2,2,2,2,2,2,2,2,2,2,2,2,2,2,2,2,2,2,2,2,2,2,2,2,2,2,2,2,2,2,2,2,2,2,2,2,2,2,2,2,2,2,2,2,2,2,2,2,2,2,2,2,2,2,2,2,2,2,2,2,2,2,2,2,2,2,2,2,2,2,2,2,2,2,2,2,2,2,2,2,2,2,2,2,2,2,2,2,2,2,2,2,2,2,2,2,2,2,2,2,2,2,2,2,2,2,2,2,2,2,2,2,2,2,2,2,2,2,2,2,2,2,2,2,2,2,2,2,2,2,2,2,2,2,2,2,2,2,2,2,2,2,2,2,2,2,2,2,2,2,2,2,2,2,2,2,2,2,2,2,2,2,2,2,2,2,2,2,2,2,2,2,2,2,2,2,2,2,2,2,2,2,2,2,2,2,2,2,2,2,2,2,2,2,2,2,2,2,2,2,2,2,2,2,2,2,2,2,2,2,2,2,2,2,2,2,2,2,2,2,2,2,2,2,2,2,2,2,2,2,2,2,2,2,2,2,2,2,2,2,2,2,2,2,2,2,2,2,2,2,2,2,2,2,2,2,2,2,2,2,2,2,2,2,2,2,2,2,2,2,2,2,2,2,2,2,2,2,2,2,2,2,2,2,2,2,2,2,2,2,2,2,2,2,2,2,2,2,2,2,2,2,2,2,2,2,2,2,2,2,2,2,2,2,2,2,2,2,2,2,2,2,2,2,2,2,2,2,2,2,2,2,2,2,2,2,2,2,2,2,2,2,2,2,2,2,2,2,2,2,2,2,2,2,2,2,2,2,2,2,2,2,2,2,2,2,2,2,2,2,2,2,2,2,2,2,2,2,2,2,2,2,2,2,2,2,2,2,2,2,2,2,2,2,2,2,2,2,2,2,2,2,2,2,2,2,2,2,2,2,2,2,2,2,2,2,2,2,2,2,2,2,2,2,2,2,2,2,2,2,2,2,2,2,2,2,2,2,2,2,2,2,2,2,2,2,2,2,2,2,2,2,2,2,2,2,2,2,2,2,2,2,2,2,2,2,2,2,2,2,2,2,2,2,2,2,2,2,2,2,2,2,2,2,2,2,2,2,2,2,2,2,2,2,2,2,2,2,2,2,2,2,2,2,2,2,2,2,2,2,2,2,2,2,2,2,2,2,2,2,2,2,2,2,2,2,2,2,2,2,2,2,2,2,2,2,2,2,2,2,2,2,2,2,2,2,2,2,2,2,2,2,2,2,2,2,2,2,2,2,2,2,2,2,2,2,2,2,2,2,2,2,2,2,2,2,2,2,2,2,2,2,2,2,2,2,2,2,2,2,2,2,2,2,2,2,2,2,2,2,2,2,2,2,2,2,2,2,2,2,2,2,2,2,2,2,2,2,2,2,2,2,2,2,2,2,2,2,2,2,2,2,2,2,2,2,2,2,2,2,2,2,2,2,2,2,2,2,2,2,2,2,2,2,2,2,2,2,2,2,2,2,2,2,2,2,2,2,2,2,2,2,2,2,2,2,2,2,2,2,2,2,2,2,2,2,2,2,2,2,2,2,2,2,2,2,2,2,2,2,2,2,2,2,2,2,2,2,2,2,2,2,2,2,2,2,2,2,2,2,2,2,2,2,2,2,2,2,2,2,2,2,2,2,2,2,2,2,2,2,2,2,2,2,2,2,2,2,2,2,2,2,2,2,2,2,2,2,2,2,2,2,2,2,2,2,2,2,2,2,2,2,2,2,2,2,2,2,2,2,2,2,2,2,2,2,2,2,2,2,2,2,2,2,2,2,2,2,2,2,2,2,2,2,2,2,2,2,2,2,2,2,2,2,2,2,2,2,2,2,2,2,2,2,2,2,2,2,2,2,2,2,2,2,2,2,2,2,2,2,2,2,2,2,2,2,2,2,2,2,2,2,2,2,2,2,2,2,2,2,2,2,2,2,2,2,2,2,2,2,2,2,2,2,2,2,2,2,2,2,2,2,2,2,2,2,2,2,2,2,2,2,2,2,2,2,2,2,2,2,2,2,2,2,2,2,2,2,2,2,2,2,2,2,2,2,2,2,2,2,2,2,2,2,2,2,2,2,2,2,2,2,2,2,2,2,2,2,2,2,2,2,2,2,2,2,2,2,2,2,2,2,2,2,2,2,2,2,2,2,2,2,2,2,2,2,2,2,2,2,2,2,2,2,2,2,2,2,2,2,2,2,2,2,2,2,2,2,2,2,2,2,2,2,2,2,2,2,2,2,2,2,2,2,2,2,2,2,2,2,2,2,2,2,2,2,2,2,2,2,2,2,2,2,2,2,2,2,2,2,2,2,2,2,2,2,2,2,2,2,2,2,2,2,2,2,2,2,2,2,2,2,2,2,2,2,2,2,2,2,2,2,2,2,2,2,2,2,2,2,2,2,2,2,2,2,2,2,2,2,2,2,2,2,2,2,2,2,2,2,2,2,2,2,2,2,2,2,2,2,2,2,2,2,2,2,2,2,2,2,2,2,2,2,2,2,2,2,2,2,2,2,2,2,2,2,2,2,2,2,2,2,2,2,2,2,2,2,2,2,2,2,2,2,2,2,2,2,2,2,2,2,2,2,2,2,2,2,2,2,2,2,2,2,2,2,2,2,2,2,2,2,2,2,2,2,2,2,2,2,2,2,2,2,2,2,2,2,2,2,2,2,2,2,2,2,2,2,2,2,2,2,2,2,2,2,2,2,2,2,2,2,2,2,2,2,2,2,2,2,2,2,2,2,2,2,2,2,2,2,2,2,2,2,2,2,2,2,2,2,2,2,2,2,2,2,2,2,2,2,2,2,2,2,2,2,2,2,2,2,2,2,2,2,2,2,2,2,2,2,2,2,2,2,2,2,2,2,2,2,2,2,2,2,2,2,2,2,2,2,2,2,2,2,2,2,2,2,2,2,2,2,2,2,2,2,2,2,2,2,2,2,2,2,2,2,2,2,2,2,2,2,2,2,2,2,2,2,2,2,2,2,2,2,2,2,2,2,2,2,2,2,2,2,2,2,2,2,2,2,2,2,2,2,2,2,2,2,2,2,2,2,2,2,2,2,2,2,2,2,2,2,2,2,2,2,2,2,2,2,2,2,2,2,2,2,2,2,2,2,2,2,2,2,2,2,2,2,2,2,2,2,2,2,2,2,2,2,2,2,2,2,2,2,2,2,2,2,2,2,2,2,2,2,2,2,2,2,2,2,2,2,2,2,2,2,2,2,2,2,2,2,2,2,2,2,2,2,2,2,2,2,2,2,2,2,2,2,2,2,2,2,2,2,2,2,2,2,2,2,2,2,2,2,2,2,2,2,2,2,2,2,2,2,2,2,2,2,2,2,2,2,2,2,2,2,2,2,2,2,2,2,2,2,2,2,2,2,2,2,2,2,2,2,2,2,2,2,2,2,2,2,2,2,2,2,2,2,2,2,2,2,2,2,2,2,2,2,2,2,2,2,2,2,2,2,2,2,2,2,2,2,2,2,2,2,2,2,2,2,2,2,2,2,2,2,2,2,2,2,2,2,2,2,2,2,2,2,2,2,2,2,2,2,2,2,2,2,2,2,2,2,2,2,2,2,2,2,2,2,2,2,2,2,2,2,2,2,2,2,2,2,2,2,2,2,2,2,2,2,2,2,2,2,2,2,2,2,2,2,2,2,2,2,2,2,2,2,2,2,2,2,2,2,2,2,2,2,2,2,2,2,2,2,2,2,2,2,2,2,2,2,2,2,2,2,2,2,2,2,2,2,2,2,2,2,2,2,2,2,2,2,2,2,2,2,2,2,2,2,2,2,2,2,2,2,2,2,2,2,2,2,2],\"xaxis\":\"x\",\"yaxis\":\"y\",\"type\":\"histogram\"},{\"alignmentgroup\":\"True\",\"bingroup\":\"x\",\"hovertemplate\":\"Rating=%{x}<br>count=%{y}<extra></extra>\",\"legendgroup\":\"3\",\"marker\":{\"color\":\"rgb(33,113,181)\",\"opacity\":0.8,\"pattern\":{\"shape\":\"\"}},\"name\":\"3\",\"offsetgroup\":\"3\",\"orientation\":\"v\",\"showlegend\":true,\"x\":[3,3,3,3,3,3,3,3,3,3,3,3,3,3,3,3,3,3,3,3,3,3,3,3,3,3,3,3,3,3,3,3,3,3,3,3,3,3,3,3,3,3,3,3,3,3,3,3,3,3,3,3,3,3,3,3,3,3,3,3,3,3,3,3,3,3,3,3,3,3,3,3,3,3,3,3,3,3,3,3,3,3,3,3,3,3,3,3,3,3,3,3,3,3,3,3,3,3,3,3,3,3,3,3,3,3,3,3,3,3,3,3,3,3,3,3,3,3,3,3,3,3,3,3,3,3,3,3,3,3,3,3,3,3,3,3,3,3,3,3,3,3,3,3,3,3,3,3,3,3,3,3,3,3,3,3,3,3,3,3,3,3,3,3,3,3,3,3,3,3,3,3,3,3,3,3,3,3,3,3,3,3,3,3,3,3,3,3,3,3,3,3,3,3,3,3,3,3,3,3,3,3,3,3,3,3,3,3,3,3,3,3,3,3,3,3,3,3,3,3,3,3,3,3,3,3,3,3,3,3,3,3,3,3,3,3,3,3,3,3,3,3,3,3,3,3,3,3,3,3,3,3,3,3,3,3,3,3,3,3,3,3,3,3,3,3,3,3,3,3,3,3,3,3,3,3,3,3,3,3,3,3,3,3,3,3,3,3,3,3,3,3,3,3,3,3,3,3,3,3,3,3,3,3,3,3,3,3,3,3,3,3,3,3,3,3,3,3,3,3,3,3,3,3,3,3,3,3,3,3,3,3,3,3,3,3,3,3,3,3,3,3,3,3,3,3,3,3,3,3,3,3,3,3,3,3,3,3,3,3,3,3,3,3,3,3,3,3,3,3,3,3,3,3,3,3,3,3,3,3,3,3,3,3,3,3,3,3,3,3,3,3,3,3,3,3,3,3,3,3,3,3,3,3,3,3,3,3,3,3,3,3,3,3,3,3,3,3,3,3,3,3,3,3,3,3,3,3,3,3,3,3,3,3,3,3,3,3,3,3,3,3,3,3,3,3,3,3,3,3,3,3,3,3,3,3,3,3,3,3,3,3,3,3,3,3,3,3,3,3,3,3,3,3,3,3,3,3,3,3,3,3,3,3,3,3,3,3,3,3,3,3,3,3,3,3,3,3,3,3,3,3,3,3,3,3,3,3,3,3,3,3,3,3,3,3,3,3,3,3,3,3,3,3,3,3,3,3,3,3,3,3,3,3,3,3,3,3,3,3,3,3,3,3,3,3,3,3,3,3,3,3,3,3,3,3,3,3,3,3,3,3,3,3,3,3,3,3,3,3,3,3,3,3,3,3,3,3,3,3,3,3,3,3,3,3,3,3,3,3,3,3,3,3,3,3,3,3,3,3,3,3,3,3,3,3,3,3,3,3,3,3,3,3,3,3,3,3,3,3,3,3,3,3,3,3,3,3,3,3,3,3,3,3,3,3,3,3,3,3,3,3,3,3,3,3,3,3,3,3,3,3,3,3,3,3,3,3,3,3,3,3,3,3,3,3,3,3,3,3,3,3,3,3,3,3,3,3,3,3,3,3,3,3,3,3,3,3,3,3,3,3,3,3,3,3,3,3,3,3,3,3,3,3,3,3,3,3,3,3,3,3,3,3,3,3,3,3,3,3,3,3,3,3,3,3,3,3,3,3,3,3,3,3,3,3,3,3,3,3,3,3,3,3,3,3,3,3,3,3,3,3,3,3,3,3,3,3,3,3,3,3,3,3,3,3,3,3,3,3,3,3,3,3,3,3,3,3,3,3,3,3,3,3,3,3,3,3,3,3,3,3,3,3,3,3,3,3,3,3,3,3,3,3,3,3,3,3,3,3,3,3,3,3,3,3,3,3,3,3,3,3,3,3,3,3,3,3,3,3,3,3,3,3,3,3,3,3,3,3,3,3,3,3,3,3,3,3,3,3,3,3,3,3,3,3,3,3,3,3,3,3,3,3,3,3,3,3,3,3,3,3,3,3,3,3,3,3,3,3,3,3,3,3,3,3,3,3,3,3,3,3,3,3,3,3,3,3,3,3,3,3,3,3,3,3,3,3,3,3,3,3,3,3,3,3,3,3,3,3,3,3,3,3,3,3,3,3,3,3,3,3,3,3,3,3,3,3,3,3,3,3,3,3,3,3,3,3,3,3,3,3,3,3,3,3,3,3,3,3,3,3,3,3,3,3,3,3,3,3,3,3,3,3,3,3,3,3,3,3,3,3,3,3,3,3,3,3,3,3,3,3,3,3,3,3,3,3,3,3,3,3,3,3,3,3,3,3,3,3,3,3,3,3,3,3,3,3,3,3,3,3,3,3,3,3,3,3,3,3,3,3,3,3,3,3,3,3,3,3,3,3,3,3,3,3,3,3,3,3,3,3,3,3,3,3,3,3,3,3,3,3,3,3,3,3,3,3,3,3,3,3,3,3,3,3,3,3,3,3,3,3,3,3,3,3,3,3,3,3,3,3,3,3,3,3,3,3,3,3,3,3,3,3,3,3,3,3,3,3,3,3,3,3,3,3,3,3,3,3,3,3,3,3,3,3,3,3,3,3,3,3,3,3,3,3,3,3,3,3,3,3,3,3,3,3,3,3,3,3,3,3,3,3,3,3,3,3,3,3,3,3,3,3,3,3,3,3,3,3,3,3,3,3,3,3,3,3,3,3,3,3,3,3,3,3,3,3,3,3,3,3,3,3,3,3,3,3,3,3,3,3,3,3,3,3,3,3,3,3,3,3,3,3,3,3,3,3,3,3,3,3,3,3,3,3,3,3,3,3,3,3,3,3,3,3,3,3,3,3,3,3,3,3,3,3,3,3,3,3,3,3,3,3,3,3,3,3,3,3,3,3,3,3,3,3,3,3,3,3,3,3,3,3,3,3,3,3,3,3,3,3,3,3,3,3,3,3,3,3,3,3,3,3,3,3,3,3,3,3,3,3,3,3,3,3,3,3,3,3,3,3,3,3,3,3,3,3,3,3,3,3,3,3,3,3,3,3,3,3,3,3,3,3,3,3,3,3,3,3,3,3,3,3,3,3,3,3,3,3,3,3,3,3,3,3,3,3,3,3,3,3,3,3,3,3,3,3,3,3,3,3,3,3,3,3,3,3,3,3,3,3,3,3,3,3,3,3,3,3,3,3,3,3,3,3,3,3,3,3,3,3,3,3,3,3,3,3,3,3,3,3,3,3,3,3,3,3,3,3,3,3,3,3,3,3,3,3,3,3,3,3,3,3,3,3,3,3,3,3,3,3,3,3,3,3,3,3,3,3,3,3,3,3,3,3,3,3,3,3,3,3,3,3,3,3,3,3,3,3,3,3,3,3,3,3,3,3,3,3,3,3,3,3,3,3,3,3,3,3,3,3,3,3,3,3,3,3,3,3,3,3,3,3,3,3,3,3,3,3,3,3,3,3,3,3,3,3,3,3,3,3,3,3,3,3,3,3,3,3,3,3,3,3,3,3,3,3,3,3,3,3,3,3,3,3,3,3,3,3,3,3,3,3,3,3,3,3,3,3,3,3,3,3,3,3,3,3,3,3,3,3,3,3,3,3,3,3,3,3,3,3,3,3,3,3,3,3,3,3,3,3,3,3,3,3,3,3,3,3,3,3,3,3,3,3,3,3,3,3,3,3,3,3,3,3,3,3,3,3,3,3,3,3,3,3,3,3,3,3,3,3,3,3,3,3,3,3,3,3,3,3,3,3,3,3,3,3,3,3,3,3,3,3,3,3,3,3,3,3,3,3,3,3,3,3,3,3,3,3,3,3,3,3,3,3,3,3,3,3,3,3,3,3,3,3,3,3,3,3,3,3,3,3,3,3,3,3,3,3,3,3,3,3,3,3,3,3,3,3,3,3,3,3,3,3,3,3,3,3,3,3,3,3,3,3,3,3,3,3,3,3,3,3,3,3,3,3,3,3,3,3,3,3,3,3,3,3,3,3,3,3,3,3,3,3,3,3,3,3,3,3,3,3,3,3,3,3,3,3,3,3,3,3,3,3,3,3,3,3,3,3,3,3,3,3,3,3,3,3,3,3,3,3,3,3,3,3,3,3,3,3,3,3,3,3,3,3,3,3,3,3,3,3,3,3,3,3,3,3,3,3,3,3,3,3,3,3,3,3,3,3,3,3,3,3,3,3,3,3,3,3,3,3,3,3,3,3,3,3,3,3,3,3,3,3,3,3,3,3,3,3,3,3,3,3,3,3,3,3,3,3,3,3,3,3,3,3,3,3,3,3,3,3,3,3,3,3,3,3,3,3,3,3,3,3,3,3,3,3,3,3,3,3,3,3,3,3,3,3,3,3,3,3,3,3,3,3,3,3,3,3,3,3,3,3,3,3,3,3,3,3,3,3,3,3,3,3,3,3,3,3,3,3,3,3,3,3,3,3,3,3,3,3,3,3,3,3,3,3,3,3,3,3,3,3,3,3,3,3,3,3,3,3,3,3,3,3,3,3,3,3,3,3,3,3,3,3,3,3,3,3,3,3,3,3,3,3,3,3,3,3,3,3,3,3,3,3,3,3,3,3,3,3,3,3,3,3,3,3,3,3,3,3,3,3,3,3,3,3,3,3,3,3,3,3,3,3,3,3,3,3,3,3,3,3,3,3,3,3,3,3,3,3,3,3,3,3,3,3,3,3,3,3,3,3,3,3,3,3,3,3,3,3,3,3,3,3,3,3,3,3,3,3,3,3,3,3,3,3,3,3,3,3,3,3,3,3,3,3,3,3,3,3,3,3,3,3,3,3,3,3,3,3,3,3,3,3,3,3,3,3,3,3,3,3,3,3,3,3,3,3,3,3,3,3,3,3,3,3,3,3,3,3,3,3,3,3,3,3,3,3,3,3,3,3,3,3,3,3,3,3,3,3,3,3,3,3,3,3,3,3,3,3,3,3,3,3,3,3,3,3,3,3],\"xaxis\":\"x\",\"yaxis\":\"y\",\"type\":\"histogram\"},{\"alignmentgroup\":\"True\",\"bingroup\":\"x\",\"hovertemplate\":\"Rating=%{x}<br>count=%{y}<extra></extra>\",\"legendgroup\":\"5\",\"marker\":{\"color\":\"rgb(66,146,198)\",\"opacity\":0.8,\"pattern\":{\"shape\":\"\"}},\"name\":\"5\",\"offsetgroup\":\"5\",\"orientation\":\"v\",\"showlegend\":true,\"x\":[5,5,5,5,5,5,5,5,5,5,5,5,5,5,5,5,5,5,5,5,5,5,5,5,5,5,5,5,5,5,5,5,5,5,5,5,5,5,5,5,5,5,5,5,5,5,5,5,5,5,5,5,5,5,5,5,5,5,5,5,5,5,5,5,5,5,5,5,5,5,5,5,5,5,5,5,5,5,5,5,5,5,5,5,5,5,5,5,5,5,5,5,5,5,5,5,5,5,5,5,5,5,5,5,5,5,5,5,5,5,5,5,5,5,5,5,5,5,5,5,5,5,5,5,5,5,5,5,5,5,5,5,5,5,5,5,5,5,5,5,5,5,5,5,5,5,5,5,5,5,5,5,5,5,5,5,5,5,5,5,5,5,5,5,5,5,5,5,5,5,5,5,5,5,5,5,5,5,5,5,5,5,5,5,5,5,5,5,5,5,5,5,5,5,5,5,5,5,5,5,5,5,5,5,5,5,5,5,5,5,5,5,5,5,5,5,5,5,5,5,5,5,5,5,5,5,5,5,5,5,5,5,5,5,5,5,5,5,5,5,5,5,5,5,5,5,5,5,5,5,5,5,5,5,5,5,5,5,5,5,5,5,5,5,5,5,5,5,5,5,5,5,5,5,5,5,5,5,5,5,5,5,5,5,5,5,5,5,5,5,5,5,5,5,5,5,5,5,5,5,5,5,5,5,5,5,5,5,5,5,5,5,5,5,5,5,5,5,5,5,5,5,5,5,5,5,5,5,5,5,5,5,5,5,5,5,5,5,5,5,5,5,5,5,5,5,5,5,5,5,5,5,5,5,5,5,5,5,5,5,5,5,5,5,5,5,5,5,5,5,5,5,5,5,5,5,5,5,5,5,5,5,5,5,5,5,5,5,5,5,5,5,5,5,5,5,5,5,5,5,5,5,5,5,5,5,5,5,5,5,5,5,5,5,5,5,5,5,5,5,5,5,5,5,5,5,5,5,5,5,5,5,5,5,5,5,5,5,5,5,5,5,5,5,5,5,5,5,5,5,5,5,5,5,5,5,5,5,5,5,5,5,5,5,5,5,5,5,5,5,5,5,5,5,5,5,5,5,5,5,5,5,5,5,5,5,5,5,5,5,5,5,5,5,5,5,5,5,5,5,5,5,5,5,5,5,5,5,5,5,5,5,5,5,5,5,5,5,5,5,5,5,5,5,5,5,5,5,5,5,5,5,5,5,5,5,5,5,5,5,5,5,5,5,5,5,5,5,5,5,5,5,5,5,5,5,5,5,5,5,5,5,5,5,5,5,5,5,5,5,5,5,5,5,5,5,5,5,5,5,5,5,5,5,5,5,5,5,5,5,5,5,5,5,5,5,5,5,5,5,5,5,5,5,5,5,5,5,5,5,5,5,5,5,5,5,5,5,5,5,5,5,5,5,5,5,5,5,5,5,5,5,5,5,5,5,5,5,5,5,5,5,5,5,5,5,5,5,5,5,5,5,5,5,5,5,5,5,5,5,5,5,5,5,5,5,5,5,5,5,5,5,5,5,5,5,5,5,5,5,5,5,5,5,5,5,5,5,5,5,5,5,5,5,5,5,5,5,5,5,5,5,5,5,5,5,5,5,5,5,5,5,5,5,5,5,5,5,5,5,5,5,5,5,5,5,5,5,5,5,5,5,5,5,5,5,5,5,5,5,5,5,5,5,5,5,5,5,5,5,5,5,5,5,5,5,5,5,5,5,5,5,5,5,5,5,5,5,5,5,5,5,5,5,5,5,5,5,5,5,5,5,5,5,5,5,5,5,5,5,5,5,5,5,5,5,5,5,5,5,5,5,5,5,5,5,5,5,5,5,5,5,5,5,5,5,5,5,5,5,5,5,5,5,5,5,5,5,5,5,5,5,5,5,5,5,5,5,5,5,5,5,5,5,5,5,5,5,5,5,5,5,5,5,5,5,5,5,5,5,5,5,5,5,5,5,5,5,5,5,5,5,5,5,5,5,5,5,5,5,5,5,5,5,5,5,5,5,5,5,5,5,5,5,5,5,5,5,5,5,5,5,5,5,5,5,5,5,5,5,5,5,5,5,5,5,5,5,5,5,5,5,5,5,5,5,5,5,5,5,5,5,5,5,5,5,5,5,5,5,5,5,5,5,5,5,5,5,5,5,5,5,5,5,5,5,5,5,5,5,5,5,5,5,5,5,5,5,5,5,5,5,5,5,5,5,5,5,5,5,5,5,5,5,5,5,5,5,5,5,5,5,5,5,5,5,5,5,5,5,5,5,5,5,5,5,5,5,5,5,5,5,5,5,5,5,5,5,5,5,5,5,5,5,5,5,5,5,5,5,5,5,5,5,5,5,5,5,5,5,5,5,5,5,5,5,5,5,5,5,5,5,5,5,5,5,5,5,5,5,5,5,5,5,5,5,5,5,5,5,5,5,5,5,5,5,5,5,5,5,5,5,5,5,5,5,5,5,5,5,5,5,5,5,5,5,5,5,5,5,5,5,5,5,5,5,5,5,5,5,5,5,5,5,5,5,5,5,5,5,5,5,5,5,5,5,5,5,5,5,5,5,5,5,5,5,5,5,5,5,5,5,5,5,5,5,5,5,5,5,5,5,5,5,5,5,5,5,5,5,5,5,5,5,5,5,5,5,5,5,5,5,5,5,5,5,5,5,5,5,5,5,5,5,5,5,5,5,5,5,5,5,5,5,5,5,5,5,5,5,5,5,5,5,5,5,5,5,5,5,5,5,5,5,5,5,5,5,5,5,5,5,5,5,5,5,5,5,5,5,5,5,5,5,5,5,5,5,5,5,5,5,5,5,5,5,5,5,5,5,5,5,5,5,5,5,5,5,5,5,5,5,5,5,5,5,5,5,5,5,5,5,5,5,5,5,5,5,5,5,5,5,5,5,5,5,5,5,5,5,5,5,5,5,5,5,5,5,5,5,5,5,5,5,5,5,5,5,5,5,5,5,5,5,5,5,5,5,5,5,5,5,5,5,5,5,5,5,5,5,5,5,5,5,5,5,5,5,5,5,5,5,5,5,5,5,5,5,5,5,5,5,5,5,5,5,5,5,5,5,5,5,5,5,5,5,5,5,5,5,5,5,5,5,5,5,5,5,5,5,5,5,5,5,5,5,5,5,5,5,5,5,5,5,5,5,5,5,5,5,5,5,5,5,5,5,5,5,5,5,5,5,5,5,5,5,5,5,5,5,5,5,5,5,5,5,5,5,5,5,5,5,5,5,5,5,5,5,5,5,5,5,5,5,5,5,5,5,5,5,5,5,5,5,5,5,5,5,5,5,5,5,5,5,5,5,5,5,5,5,5,5,5,5,5,5,5,5,5,5,5,5,5,5,5,5,5,5,5,5,5,5,5,5,5,5,5,5,5,5,5,5,5,5,5,5,5,5,5,5,5,5,5,5,5,5,5,5,5,5,5,5,5,5,5,5,5,5,5,5,5,5,5,5,5,5,5,5,5,5,5,5,5,5,5,5,5,5,5,5,5,5,5,5,5,5,5,5,5,5,5,5,5,5,5,5,5,5,5,5,5,5,5,5,5,5,5,5,5,5,5,5,5,5,5,5,5,5,5,5,5,5,5,5,5,5,5,5,5,5,5,5,5,5,5,5,5,5,5,5,5,5,5,5,5,5,5,5,5,5,5,5,5,5,5,5,5,5,5,5,5,5,5,5,5,5,5,5,5,5,5,5,5,5,5,5,5,5,5,5,5,5,5,5,5,5,5,5,5,5,5,5,5,5,5,5,5,5,5,5,5,5,5,5,5,5,5,5,5,5,5,5,5,5,5,5,5,5,5,5,5,5,5,5,5,5,5,5,5,5,5,5,5,5,5,5,5,5,5,5,5,5,5,5,5,5,5,5,5,5,5,5,5,5,5,5,5,5,5,5,5,5,5,5,5,5,5,5,5,5,5,5,5,5,5,5,5,5,5,5,5,5,5,5,5,5,5,5,5,5,5,5,5,5,5,5,5,5,5,5,5,5,5,5,5,5,5,5,5,5,5,5,5,5,5,5,5,5,5,5,5,5,5,5,5,5,5,5,5,5,5,5,5,5,5,5,5,5,5,5,5,5,5,5,5,5,5,5,5,5,5,5,5,5,5,5,5,5,5,5,5,5,5,5,5,5,5,5,5,5,5,5,5,5,5,5,5,5,5,5,5,5,5,5,5,5,5,5,5,5,5,5,5,5,5,5,5,5,5,5,5,5,5,5,5,5,5,5,5,5,5,5,5,5,5,5,5,5,5,5,5,5,5,5,5,5,5,5,5,5,5,5,5,5,5,5,5,5,5,5,5,5,5,5,5,5,5,5,5,5,5,5,5,5,5,5,5,5,5,5,5,5,5,5,5,5,5,5,5,5,5,5,5,5,5,5,5,5,5,5,5,5,5,5,5,5,5,5,5,5,5,5,5,5,5,5,5,5,5,5,5,5,5,5,5,5,5,5,5,5,5,5,5,5,5,5,5,5,5,5,5,5,5,5,5,5,5,5,5,5,5,5,5,5,5,5,5,5,5,5,5,5,5,5,5,5,5,5,5,5,5,5,5,5,5,5,5,5,5,5,5,5,5,5,5,5,5,5,5,5,5,5,5,5,5,5,5,5,5,5,5,5,5,5,5,5,5,5,5,5,5,5,5,5,5,5,5,5,5,5,5,5,5,5,5,5,5,5,5,5,5,5,5,5,5,5,5,5,5,5,5,5,5,5,5,5,5,5,5,5,5,5,5,5,5,5,5,5,5,5,5,5,5,5,5,5,5,5,5,5,5,5,5,5,5,5,5,5,5,5,5,5,5,5,5,5,5,5,5,5,5,5,5,5,5,5,5,5,5,5,5,5,5,5,5,5,5,5,5,5,5,5,5,5,5,5,5,5,5,5,5,5,5,5,5,5,5,5,5,5,5,5,5,5,5,5,5,5,5,5,5,5,5,5,5,5,5,5,5,5,5,5,5,5,5,5,5,5,5,5,5,5,5,5,5,5,5,5,5,5,5,5,5,5,5,5,5,5,5,5,5,5,5,5,5,5,5,5,5,5,5,5,5,5,5,5,5,5,5,5,5,5,5,5,5,5,5,5,5,5,5,5,5,5,5,5,5,5,5,5,5,5,5,5,5,5,5,5,5,5,5,5,5,5,5,5,5,5,5,5,5,5,5,5,5,5,5,5,5,5,5,5,5,5,5,5,5,5,5,5,5,5,5,5,5,5,5,5,5,5,5,5,5,5,5,5,5,5,5,5,5,5,5,5,5,5,5,5,5,5,5,5,5,5,5,5,5,5,5,5,5,5,5,5,5,5,5,5,5,5,5,5,5,5,5,5,5,5,5,5,5,5,5,5,5,5,5,5,5,5,5,5,5,5,5,5,5,5,5,5,5,5,5,5,5,5,5,5,5,5,5,5,5,5,5,5,5,5,5,5,5,5,5,5,5,5,5,5,5,5,5,5,5,5,5,5,5,5,5,5,5,5,5,5,5,5,5,5,5,5,5,5,5,5,5,5,5,5,5,5,5,5,5,5,5,5,5,5,5,5,5,5,5,5,5,5,5,5,5,5,5,5,5,5,5,5,5,5,5,5,5,5,5,5,5,5,5,5,5,5,5,5,5,5,5,5,5,5,5,5,5,5,5,5,5,5,5,5,5,5,5,5,5,5,5,5,5,5,5,5,5,5,5,5,5,5,5,5,5,5,5,5,5,5,5,5,5,5,5,5,5,5,5,5,5,5,5,5,5,5,5,5,5,5,5,5,5,5,5,5,5,5,5,5,5,5,5,5,5,5,5,5,5,5,5,5,5,5,5,5,5,5,5,5,5,5,5,5,5,5,5,5,5,5,5,5,5,5,5,5,5,5,5,5,5,5,5,5,5,5,5,5,5,5,5,5,5,5,5,5,5,5,5,5,5,5,5,5,5,5,5,5,5,5,5,5,5,5,5,5,5,5,5,5,5,5,5,5,5,5,5,5,5,5,5,5,5,5,5,5,5,5,5,5,5,5,5,5,5,5,5,5,5,5,5,5,5,5,5,5,5,5,5,5,5,5,5,5,5,5,5,5,5,5,5,5,5,5,5,5,5,5,5,5,5,5,5,5,5,5,5,5,5,5,5,5,5,5,5,5,5,5,5,5,5,5,5,5,5,5,5,5,5,5,5,5,5,5,5,5,5,5,5,5,5,5,5,5,5,5,5,5,5,5,5,5,5,5,5,5,5,5,5,5,5,5,5,5,5,5,5,5,5,5,5,5,5,5,5,5,5,5,5,5,5,5,5,5,5,5,5,5,5,5,5,5,5,5,5,5,5,5,5,5,5,5,5,5,5,5,5,5,5,5,5,5,5,5,5,5,5,5,5,5,5,5,5,5,5,5,5,5,5,5,5,5,5,5,5,5,5,5,5,5,5,5,5,5,5,5,5,5,5,5,5,5,5,5,5,5,5,5,5,5,5,5,5,5,5,5,5,5,5,5,5,5,5,5,5,5,5,5,5,5,5,5,5,5,5,5,5,5,5,5,5,5,5,5,5,5,5,5,5,5,5,5,5,5,5,5,5,5,5,5,5,5,5,5,5,5,5,5,5,5,5,5,5,5,5,5,5,5,5,5,5,5,5,5,5,5,5,5,5,5,5,5,5,5,5,5,5,5,5,5,5,5,5,5,5,5,5,5,5,5,5,5,5,5,5,5,5,5,5,5,5,5,5,5,5,5,5,5,5,5,5,5,5,5,5,5,5,5,5,5,5,5,5,5,5,5,5,5,5,5,5,5,5,5,5,5,5,5,5,5,5,5,5,5,5,5,5,5,5,5,5,5,5,5,5,5,5,5,5,5,5,5,5,5,5,5,5,5,5,5,5,5,5,5,5,5,5,5,5,5,5,5,5,5,5,5,5,5,5,5,5,5,5,5,5,5,5,5,5,5,5,5,5,5,5,5,5,5,5,5,5,5,5,5,5,5,5,5,5,5,5,5,5,5,5,5,5,5,5,5,5,5,5,5,5,5,5,5,5,5,5,5,5,5,5,5,5,5,5,5,5,5,5,5,5,5,5,5,5,5,5,5,5,5,5,5,5,5,5,5,5,5,5,5,5,5,5,5,5,5,5,5,5,5,5,5,5,5,5,5,5,5,5,5,5,5,5,5,5,5,5,5,5,5,5,5,5,5,5,5,5,5,5,5,5,5,5,5,5,5,5,5,5,5,5,5,5,5,5,5,5,5,5,5,5,5,5,5,5,5,5,5,5,5,5,5,5,5,5,5,5,5,5,5,5,5,5,5,5,5,5,5,5,5,5,5,5,5,5,5,5,5,5,5,5,5,5,5,5,5,5,5,5,5,5,5,5,5,5,5,5,5,5,5,5,5,5,5,5,5,5,5,5,5,5,5,5,5,5,5,5,5,5,5,5,5,5,5,5,5,5,5,5,5,5,5,5,5,5,5,5,5,5,5,5,5,5,5,5,5,5,5,5,5,5,5,5,5,5,5,5,5,5,5,5,5,5,5,5,5,5,5,5,5,5,5,5,5,5,5,5,5,5,5,5,5,5,5,5,5,5,5,5,5,5,5,5,5,5,5,5,5,5,5,5,5,5,5,5,5,5,5,5,5,5,5,5,5,5,5,5,5,5,5,5,5,5,5,5,5,5,5,5,5,5,5,5,5,5,5,5,5,5,5,5,5,5,5,5,5,5,5,5,5,5,5,5,5,5,5,5,5,5,5,5,5,5,5,5,5,5,5,5,5,5,5,5,5,5,5,5,5,5,5,5,5,5,5,5,5,5,5,5,5,5,5,5,5,5,5,5,5,5,5,5,5,5,5,5,5,5,5,5,5,5,5,5,5,5,5,5,5,5,5,5,5,5,5,5,5,5,5,5,5,5,5,5,5,5,5,5,5,5,5,5,5,5,5,5,5,5,5,5,5,5,5,5,5,5,5,5,5,5,5,5,5,5,5,5,5,5,5,5,5,5,5,5,5,5,5,5,5,5,5,5,5,5,5,5,5,5,5,5,5,5,5,5,5,5,5,5,5,5,5,5,5,5,5,5,5,5,5,5,5,5,5,5,5,5,5,5,5,5,5,5,5,5,5,5,5,5,5,5,5,5,5,5,5,5,5,5,5,5,5,5,5,5,5,5,5,5,5,5,5,5,5,5,5,5,5,5,5,5,5,5,5,5,5,5,5,5,5,5,5,5,5,5,5,5,5,5,5,5,5,5,5,5,5,5,5,5,5,5,5,5,5,5,5,5,5,5,5,5,5,5,5,5,5,5,5,5,5,5,5,5,5,5,5,5,5,5,5,5,5,5,5,5,5,5,5,5,5,5,5,5,5,5,5,5,5,5,5,5,5,5,5,5,5,5,5,5,5,5,5,5,5,5,5,5,5,5,5,5,5,5,5,5,5,5,5,5,5,5,5,5,5,5,5,5,5,5,5,5,5,5,5,5,5,5,5,5,5,5,5,5,5,5,5,5,5,5,5,5,5,5,5,5,5,5,5,5,5,5,5,5,5,5,5,5,5,5,5,5,5,5,5,5,5,5,5,5,5,5,5,5,5,5,5,5,5,5,5,5,5,5,5,5,5,5,5,5,5,5,5,5,5,5,5,5,5,5,5,5,5,5,5,5,5,5,5,5,5,5,5,5,5,5,5,5,5,5,5,5,5,5,5,5,5,5,5,5,5,5,5,5,5,5,5,5,5,5,5,5,5,5,5,5,5,5,5,5,5,5,5,5,5,5,5,5,5,5,5,5,5,5,5,5,5,5,5,5,5,5,5,5,5,5,5,5,5,5,5,5,5,5,5,5,5,5,5,5,5,5,5,5,5,5,5,5,5,5,5,5,5,5,5,5,5,5,5,5,5,5,5,5,5,5,5,5,5,5,5,5,5,5,5,5,5,5,5,5,5,5,5,5,5,5,5,5,5,5,5,5,5,5,5,5,5,5,5,5,5,5,5,5,5,5,5,5,5,5,5,5,5,5,5,5,5,5,5,5,5,5,5,5,5,5,5,5,5,5,5,5,5,5,5,5,5,5,5,5,5,5,5,5,5,5,5,5,5,5,5,5,5,5,5,5,5,5,5,5,5,5,5,5,5,5,5,5,5,5,5,5,5,5,5,5,5,5,5,5,5,5,5,5,5,5,5,5,5,5,5,5,5,5,5,5,5,5,5,5,5,5,5,5,5,5,5,5,5,5,5,5,5,5,5,5,5,5,5,5,5,5,5,5,5,5,5,5,5,5,5,5,5,5,5,5,5,5,5,5,5,5,5,5,5,5,5,5,5,5,5,5,5,5,5,5,5,5,5,5,5,5,5,5,5,5,5,5,5,5,5,5,5,5,5,5,5,5,5,5,5,5,5,5,5,5,5,5,5,5,5,5,5,5,5,5,5,5,5,5,5,5,5,5,5,5,5,5,5,5,5,5,5,5,5,5,5,5,5,5,5,5,5,5,5,5,5,5,5,5,5,5,5,5,5,5,5,5,5,5,5,5,5,5,5,5,5,5,5,5,5,5,5,5,5,5,5,5,5,5,5,5,5,5,5,5,5,5,5,5,5,5,5,5,5,5,5,5,5,5,5,5,5,5,5,5,5,5,5,5,5,5,5,5,5,5,5,5,5,5,5,5,5,5,5,5,5,5,5,5,5,5,5,5,5,5,5,5,5,5,5,5,5,5,5,5,5,5,5,5,5,5,5,5,5,5,5,5,5,5,5,5,5,5,5,5,5,5,5,5,5,5,5,5,5,5,5,5,5,5,5,5,5,5,5,5,5,5,5,5,5,5,5,5,5,5,5,5,5,5,5,5,5,5,5,5,5,5,5,5,5,5,5,5,5,5,5,5,5,5,5,5,5,5,5,5,5,5,5,5,5,5,5,5,5,5,5,5,5,5,5,5,5,5,5,5,5,5,5,5,5,5,5,5,5,5,5,5,5,5,5,5,5,5,5,5,5,5,5,5,5,5,5,5,5,5,5,5,5,5,5,5,5,5,5,5,5,5,5,5,5,5,5,5,5,5,5,5,5,5,5,5,5,5,5,5,5,5,5,5,5,5,5,5,5,5,5,5,5,5,5,5,5,5,5,5,5,5,5,5,5,5,5,5,5,5,5,5,5,5,5,5,5,5,5,5,5,5,5,5,5,5,5,5,5,5,5,5,5,5,5,5,5,5,5,5,5,5,5,5,5,5,5,5,5,5,5,5,5,5,5,5,5,5,5,5,5,5,5,5,5,5,5,5,5,5,5,5,5,5,5,5,5,5,5,5,5,5,5,5,5,5,5,5,5,5,5,5,5,5,5,5,5,5,5,5,5,5,5,5,5,5,5,5,5,5,5,5,5,5,5,5,5,5,5,5,5,5,5,5,5,5,5,5,5,5,5,5,5,5,5,5,5,5,5,5,5,5,5,5,5,5,5,5,5,5,5,5,5,5,5,5,5,5,5,5,5,5,5,5,5,5,5,5,5,5,5,5,5,5,5,5,5,5,5,5,5,5,5,5,5,5,5,5,5,5,5,5,5,5,5,5,5,5,5,5,5,5,5,5,5,5,5,5,5,5,5,5,5,5,5,5,5,5,5,5,5,5,5,5,5,5,5,5,5,5,5,5,5,5,5,5,5,5,5,5,5,5,5,5,5,5,5,5,5,5,5,5,5,5,5,5,5,5,5,5,5,5,5,5,5,5,5,5,5,5,5,5,5,5,5,5,5,5,5,5,5,5,5,5,5,5,5,5,5,5,5,5,5,5,5,5,5,5,5,5,5,5,5,5,5,5,5,5,5,5,5,5,5,5,5,5,5,5,5,5,5,5,5,5,5,5,5,5,5,5,5,5,5,5,5,5,5,5,5,5,5,5,5,5,5,5,5,5,5,5,5,5,5,5,5,5,5,5,5,5,5,5,5,5,5,5,5,5,5,5,5,5,5,5,5,5,5,5,5,5,5,5,5,5,5,5,5,5,5,5,5,5,5,5,5,5,5,5,5,5,5,5,5,5,5,5,5,5,5,5,5,5,5,5,5,5,5,5,5,5,5,5,5,5,5,5,5,5,5,5,5,5,5,5,5,5,5,5,5,5,5,5,5,5,5,5,5,5,5,5,5,5,5,5,5,5,5,5,5,5,5,5,5,5,5,5,5,5,5,5,5,5,5,5,5,5,5,5,5,5,5,5,5,5,5,5,5,5,5,5,5,5,5,5,5,5,5,5,5,5,5,5,5,5,5,5,5,5,5,5,5,5,5,5,5,5,5,5,5,5,5,5,5,5,5,5,5,5,5,5,5,5,5,5,5,5,5,5,5,5,5,5,5,5,5,5,5,5,5,5,5,5,5,5,5,5,5,5,5,5,5,5,5,5,5,5,5,5,5,5,5,5,5,5,5,5,5,5,5,5,5,5,5,5,5,5,5,5,5,5,5,5,5,5,5,5,5,5,5,5,5,5,5,5,5,5,5,5,5,5,5,5,5,5,5,5,5,5,5,5,5,5,5,5,5,5,5,5,5,5,5,5,5,5,5,5,5,5,5,5,5,5,5,5,5,5,5,5,5,5,5,5,5,5,5,5,5,5,5,5,5,5,5,5,5,5,5,5,5,5,5,5,5,5,5,5,5,5,5,5,5,5,5,5,5,5,5,5,5,5,5,5,5,5,5,5,5,5,5,5,5,5,5,5,5,5,5,5,5,5,5,5,5,5,5,5,5,5,5,5,5,5,5,5,5,5,5,5,5,5,5,5,5,5,5,5,5,5,5,5,5,5,5,5,5,5,5,5,5,5,5,5,5,5,5,5,5,5,5,5,5,5,5,5,5,5,5,5,5,5,5,5,5,5,5,5,5,5,5,5,5,5,5,5,5,5,5,5,5,5,5,5,5,5,5,5,5,5,5,5,5,5,5,5,5,5,5,5,5,5,5,5,5,5,5,5,5,5,5,5,5,5,5,5,5,5,5,5,5,5,5,5,5,5,5,5,5,5,5,5,5,5,5,5,5,5,5,5,5,5,5,5,5,5,5,5,5,5,5,5,5,5,5,5,5,5,5,5,5,5,5,5,5,5,5,5,5,5,5,5,5,5,5,5,5,5,5,5,5,5,5,5,5,5,5,5,5,5,5,5,5,5,5,5,5,5,5,5,5,5,5,5,5,5,5,5,5,5,5,5,5,5,5,5,5,5,5,5,5,5,5,5,5,5,5,5,5,5,5,5,5,5,5,5,5,5,5,5,5,5,5,5,5,5,5,5,5,5,5,5,5,5,5,5,5,5,5,5,5,5,5,5,5,5,5,5,5,5,5,5,5,5,5,5,5,5,5,5,5,5,5,5,5,5,5,5,5,5,5,5,5,5,5,5,5,5,5,5,5,5,5,5,5,5,5,5,5,5,5,5,5,5,5,5,5,5,5,5,5,5,5,5,5,5,5,5,5,5,5,5,5,5,5,5,5,5,5,5,5,5,5,5,5,5,5,5,5,5,5,5,5,5,5,5,5,5,5,5,5,5,5,5,5,5,5,5,5,5,5,5,5,5,5,5,5,5,5,5,5,5,5,5,5,5,5,5,5,5,5,5,5,5,5,5,5,5,5,5,5,5,5,5,5,5,5,5,5,5,5,5,5,5,5,5,5,5,5,5,5,5,5,5,5,5,5,5,5,5,5,5,5,5,5,5,5,5,5,5,5,5,5,5,5,5,5,5,5,5,5,5,5,5,5,5,5,5,5,5,5,5,5,5,5,5,5,5,5,5,5,5,5,5,5,5,5,5,5,5,5,5,5,5,5,5,5,5,5,5,5,5,5,5,5,5,5,5,5,5,5,5,5,5,5,5,5,5,5,5,5,5,5,5,5,5,5,5,5,5,5,5,5,5,5,5,5,5,5,5,5,5,5,5,5,5,5,5,5,5,5,5,5,5,5,5,5,5,5,5,5,5,5,5,5,5,5,5,5,5,5,5,5,5,5,5,5,5,5,5,5,5,5,5,5,5,5,5,5,5,5,5,5,5,5,5,5,5,5,5,5,5,5,5,5,5,5,5,5,5,5,5,5,5,5,5,5,5,5,5,5,5,5,5,5,5,5,5,5,5,5,5,5,5,5,5,5,5,5,5,5,5,5,5,5,5,5,5,5,5,5,5,5,5,5,5,5,5,5,5,5,5,5,5,5,5,5,5,5,5,5,5,5,5,5,5,5,5,5,5,5,5,5,5,5,5,5,5,5,5,5,5,5,5,5,5,5,5,5,5,5,5,5,5,5,5,5,5,5,5,5,5,5,5,5,5,5,5,5,5,5,5,5,5,5,5,5,5,5,5,5,5,5,5,5,5,5,5,5,5,5,5,5,5,5,5,5,5,5,5,5,5,5,5,5,5,5,5,5,5,5,5,5,5,5,5,5,5,5,5,5,5,5,5,5,5,5,5,5,5,5,5,5,5,5,5,5,5,5,5,5,5,5,5,5,5,5,5,5,5,5,5,5,5,5,5,5,5,5,5,5,5,5,5,5,5,5,5,5,5,5,5,5,5,5,5,5,5,5,5,5,5,5,5,5,5,5,5,5,5,5,5,5,5,5,5,5,5,5,5,5,5,5,5,5,5,5,5,5,5,5,5,5,5,5,5,5,5,5,5,5,5,5,5,5,5,5,5,5,5,5,5,5,5,5,5,5,5,5,5,5,5,5,5,5,5,5,5,5,5,5,5,5,5,5,5,5,5,5,5,5,5,5,5,5,5,5,5,5,5,5,5,5,5,5,5,5,5,5,5,5,5,5,5,5,5,5,5,5,5,5,5,5,5,5,5,5,5,5,5,5,5,5,5,5,5,5,5,5,5,5,5,5,5,5,5,5,5,5,5,5,5,5,5,5,5,5,5,5,5,5,5,5,5,5,5,5,5,5,5,5,5,5,5,5,5,5,5,5,5,5,5,5,5,5,5,5,5,5,5,5,5,5,5,5,5,5,5,5,5,5,5,5,5,5,5,5,5,5,5,5,5,5,5,5,5,5,5,5,5,5,5,5,5,5,5,5,5,5,5,5,5,5,5,5,5,5,5,5,5,5,5,5,5,5,5,5,5,5,5,5,5,5,5,5,5,5,5,5,5,5,5,5,5,5,5,5,5,5,5,5,5,5,5,5,5,5,5,5,5,5,5,5,5,5,5,5,5,5,5,5,5,5,5,5,5,5,5,5,5,5,5,5,5,5,5,5,5,5,5,5,5,5,5,5,5,5,5,5,5,5,5,5,5,5,5,5,5,5,5,5,5,5,5,5,5,5,5,5,5,5,5,5,5,5,5,5,5,5,5,5,5,5,5,5,5,5,5,5,5,5,5,5,5,5,5,5,5,5,5,5,5,5,5,5,5,5,5,5,5,5,5,5,5,5,5,5,5,5,5,5,5,5,5,5,5,5,5,5,5,5,5,5,5,5,5,5,5,5,5,5,5,5,5,5,5,5,5,5,5,5,5,5,5,5,5,5,5,5,5,5,5,5,5,5,5,5,5,5,5,5,5,5,5,5,5,5,5,5,5,5,5,5,5,5,5,5,5,5,5,5,5,5,5,5,5,5,5,5,5,5,5,5,5,5,5,5,5,5,5,5,5,5,5,5,5,5,5,5,5,5,5,5,5,5,5,5,5,5,5,5,5,5,5,5,5,5,5,5,5,5,5,5,5,5,5,5,5,5,5,5,5,5,5,5,5,5,5,5,5,5,5,5,5,5,5,5,5,5,5,5,5,5,5,5,5,5,5,5,5,5,5,5,5,5,5,5,5,5,5,5,5,5,5,5,5,5,5,5,5,5,5,5,5,5,5,5,5,5,5,5,5,5,5,5,5,5,5,5,5,5,5,5,5,5,5,5,5,5,5,5,5,5,5,5,5,5,5,5,5,5,5,5,5,5,5,5,5,5,5,5,5,5,5,5,5,5,5,5,5,5,5,5,5,5,5,5,5,5,5,5,5,5,5,5,5,5,5,5,5,5,5,5,5,5,5,5,5,5,5,5,5,5,5,5,5,5,5,5,5,5,5,5,5,5,5,5,5,5,5,5,5,5,5,5,5,5,5,5,5,5,5,5,5,5,5,5,5,5,5,5,5,5,5,5,5,5,5,5,5,5,5,5,5,5,5,5,5,5,5,5,5,5,5,5,5,5,5,5,5,5,5,5,5,5,5,5,5,5,5,5,5,5,5,5,5,5,5,5,5,5,5,5,5,5,5,5,5,5,5,5,5,5,5,5,5,5,5,5,5,5,5,5,5,5,5,5,5,5,5,5,5,5,5,5,5,5,5,5,5,5,5,5,5,5,5,5,5,5,5,5,5,5,5,5,5,5,5,5,5,5,5,5,5,5,5,5,5,5,5,5,5,5,5,5,5,5,5,5,5,5,5,5,5,5,5,5,5,5,5,5,5,5,5,5,5,5,5,5,5,5,5,5,5,5,5,5,5,5,5,5,5,5,5,5,5,5,5,5,5,5,5,5,5,5,5,5,5,5,5,5,5,5,5,5,5,5,5,5,5,5,5,5,5,5,5,5,5,5,5,5,5,5,5,5,5,5,5,5,5,5,5,5,5,5,5,5,5,5,5,5,5,5,5,5,5,5,5,5,5,5,5,5,5,5,5,5,5,5,5,5,5,5,5,5,5,5,5,5,5,5,5,5,5,5,5,5,5,5,5,5,5,5,5,5,5,5,5,5,5,5,5,5,5,5,5,5,5,5,5,5,5,5,5,5,5,5,5,5,5,5,5,5,5,5,5,5,5,5,5,5,5,5,5,5,5,5,5,5,5,5,5,5,5,5,5,5,5,5,5,5,5,5,5,5,5,5,5,5,5,5,5,5,5,5,5,5,5,5,5,5,5,5,5,5,5,5,5,5,5,5,5,5,5,5,5,5,5,5,5,5,5,5,5,5,5,5,5,5,5,5,5,5,5,5,5,5,5,5,5,5,5,5,5,5,5,5,5,5,5,5,5,5,5,5,5,5,5,5,5,5,5,5,5,5,5,5,5,5,5,5,5,5,5,5,5,5,5,5,5,5,5,5,5,5,5,5,5,5,5,5,5,5,5,5,5,5,5,5,5,5,5,5,5,5,5,5,5,5,5,5,5,5,5,5,5,5,5,5,5,5,5,5,5,5,5,5,5,5,5,5,5,5,5,5,5,5,5,5,5,5,5,5,5,5,5,5,5,5,5,5,5,5,5,5,5,5,5,5,5,5,5,5,5,5,5,5,5,5,5,5,5,5,5,5,5,5,5,5,5,5,5,5,5,5,5,5,5,5,5,5,5,5,5,5,5,5,5,5,5,5,5,5,5,5,5,5,5,5,5,5,5,5,5,5,5,5,5,5,5,5,5,5,5,5,5,5,5,5,5,5,5,5,5,5,5,5,5,5,5,5,5,5,5,5,5,5,5,5,5,5,5,5,5,5,5,5,5,5,5,5,5,5,5,5,5,5,5,5,5,5,5,5,5,5,5,5,5,5,5,5,5,5,5,5,5,5,5,5,5,5,5,5,5,5,5,5,5,5,5,5,5,5,5,5,5,5,5,5,5,5,5,5,5,5,5,5,5,5,5,5,5,5,5,5,5,5,5,5,5,5,5,5,5,5,5,5,5,5,5,5,5,5,5,5,5,5,5,5,5,5,5,5,5,5,5,5,5,5,5,5,5,5,5,5,5,5,5,5,5,5,5,5,5,5,5,5,5,5,5,5,5,5,5,5,5,5,5,5,5,5,5,5,5,5,5,5,5,5,5,5,5,5,5,5,5,5,5,5,5,5,5,5,5,5,5,5,5,5,5,5,5,5,5,5,5,5,5,5,5,5,5,5,5,5,5,5,5,5,5,5,5,5,5,5,5,5,5,5,5,5,5,5,5,5,5,5,5,5,5,5,5,5,5,5,5,5,5,5,5,5,5,5,5,5,5,5,5,5,5,5,5,5,5,5,5,5,5,5,5,5,5,5,5,5,5,5,5,5,5,5,5,5,5,5,5,5,5,5,5,5,5,5,5,5,5,5,5,5,5,5,5,5,5,5,5,5,5,5,5,5,5,5,5,5,5,5,5,5,5,5,5,5,5,5,5,5,5,5,5,5,5,5,5,5,5,5,5,5,5,5,5,5,5,5,5,5,5,5,5,5,5,5,5,5,5,5,5,5,5,5,5,5,5,5,5,5,5,5,5,5,5,5,5,5,5,5,5,5,5,5,5,5,5,5,5,5,5,5,5,5,5,5,5,5,5,5,5,5,5,5,5,5,5,5,5,5,5,5,5,5,5,5,5,5,5,5,5,5,5,5,5,5,5,5,5,5,5,5,5,5,5,5,5,5,5,5,5,5,5,5,5,5,5,5,5,5,5,5,5,5,5,5,5,5,5,5,5,5,5,5,5,5,5,5,5,5,5,5,5,5,5,5,5,5,5,5,5,5,5,5,5,5,5,5,5,5,5,5,5,5,5,5,5,5,5,5,5,5,5,5,5,5,5,5,5,5,5,5,5,5,5,5,5,5,5,5,5,5,5,5,5,5,5,5,5,5,5,5,5,5,5,5,5,5,5,5,5,5,5,5,5,5,5,5,5,5,5,5,5,5,5,5,5,5,5,5,5,5,5,5,5,5,5,5,5,5,5,5,5,5,5,5,5,5,5,5,5,5,5,5,5,5,5,5,5,5,5,5,5,5,5,5,5,5,5,5,5,5,5,5,5,5,5,5,5,5,5,5,5,5,5,5,5,5,5,5,5,5,5,5,5,5,5,5,5,5,5,5,5,5,5,5,5,5,5,5,5,5,5,5,5,5,5,5,5,5,5,5,5,5,5,5,5,5,5,5,5,5,5,5,5,5,5,5,5,5,5,5,5,5,5,5,5,5,5,5,5,5,5,5,5,5,5,5,5,5,5,5,5,5,5,5,5,5,5,5,5,5,5,5,5,5,5,5,5,5,5,5,5,5,5,5,5,5,5,5,5,5,5,5,5,5,5,5,5,5,5,5,5,5,5,5,5,5,5,5,5,5,5,5,5,5,5,5,5,5,5,5,5,5,5,5,5,5,5,5,5,5,5,5,5,5,5,5,5,5,5,5,5,5,5,5,5,5,5,5,5,5,5,5,5,5,5,5,5,5,5,5,5,5,5,5,5,5,5,5,5,5,5,5,5,5,5,5,5,5,5,5,5,5,5,5,5,5,5,5,5,5,5,5,5,5,5,5,5,5,5,5,5,5,5,5,5,5,5,5,5,5,5,5,5,5,5,5,5,5,5,5,5,5,5,5,5,5,5,5,5,5,5,5,5,5,5,5,5,5,5,5,5,5,5,5,5,5,5,5,5,5,5,5,5,5,5,5,5,5,5,5,5,5,5,5,5,5,5,5,5,5,5,5,5,5,5,5,5,5,5,5,5,5,5,5,5,5,5,5,5,5,5,5,5,5,5,5,5,5,5,5,5,5,5,5,5,5,5,5,5,5,5,5,5,5,5,5,5,5,5,5,5,5,5,5,5,5,5,5,5,5,5,5,5,5,5,5,5,5,5,5,5,5,5,5,5,5,5,5,5,5,5,5,5,5,5,5,5,5,5,5,5,5,5,5,5,5,5,5,5,5,5,5,5,5,5,5,5,5,5,5,5,5,5,5,5,5,5,5,5,5,5,5,5,5,5,5,5,5,5,5,5,5,5,5,5,5,5,5,5,5,5,5,5,5,5,5,5,5,5,5,5,5,5,5,5,5,5,5,5,5,5,5,5,5,5,5,5,5,5,5,5,5,5,5,5,5,5,5,5,5,5,5,5,5,5,5,5,5,5,5,5,5,5,5,5,5,5,5,5,5,5,5,5,5,5,5,5,5,5,5,5,5,5,5,5,5,5,5,5,5,5,5,5,5,5,5,5,5,5,5,5,5,5,5,5,5,5,5,5,5,5,5,5,5,5,5,5,5,5,5,5,5,5,5,5,5,5,5,5,5,5,5,5,5,5,5,5,5,5,5,5,5,5,5,5,5,5,5,5,5,5,5,5,5,5,5,5,5,5,5,5,5,5,5,5,5,5,5,5,5,5,5,5,5,5,5,5,5,5,5,5,5,5,5,5,5,5,5,5,5,5,5,5,5,5,5,5,5,5,5,5,5,5,5,5,5,5,5,5,5,5,5,5,5,5,5,5,5,5,5,5,5,5,5,5,5,5,5,5,5,5,5,5,5,5,5,5,5,5,5,5,5,5,5,5,5,5,5,5,5,5,5,5,5,5,5,5,5,5,5,5,5,5,5,5,5,5,5,5,5,5,5,5,5,5,5,5,5,5,5,5,5,5,5,5,5,5,5,5,5,5,5,5,5,5,5,5,5,5,5,5,5,5,5,5,5,5,5,5,5,5,5,5,5,5,5,5,5,5,5,5,5,5,5,5,5,5,5,5,5,5,5,5,5,5,5,5,5,5,5,5,5,5,5,5,5,5,5,5,5,5,5,5,5,5,5,5,5,5,5,5,5,5,5,5,5,5,5,5,5,5,5,5,5,5,5,5,5,5,5,5,5,5,5,5,5,5,5,5,5,5,5,5,5,5,5,5,5,5,5,5,5,5,5,5,5,5,5,5,5,5,5,5,5,5,5,5,5,5,5,5,5,5,5,5,5,5,5,5,5,5,5,5,5,5,5,5,5,5,5,5,5,5,5,5,5,5,5,5,5,5,5,5,5,5,5,5,5,5,5,5,5,5,5,5,5,5,5,5,5,5,5,5,5,5,5,5,5,5,5,5,5,5,5,5,5,5,5,5,5,5,5,5,5,5,5,5,5,5,5,5,5,5,5,5,5,5,5,5,5,5,5,5,5,5,5,5,5,5,5,5,5,5,5,5,5,5,5,5,5,5,5,5,5,5,5,5,5,5,5,5,5,5,5,5,5,5,5,5,5,5,5,5,5,5,5,5,5,5,5,5,5,5,5,5,5,5,5,5,5,5,5,5,5,5,5,5,5,5,5,5,5,5,5,5,5,5,5,5,5,5,5,5,5,5,5,5,5,5,5,5,5,5,5,5,5,5,5,5,5,5,5,5,5,5,5,5,5,5,5,5,5,5,5,5,5,5,5,5,5,5,5,5,5,5,5,5,5,5,5,5,5,5,5,5,5,5,5,5,5,5,5,5,5,5,5,5,5,5,5,5,5,5,5,5,5,5,5,5,5,5,5,5,5,5,5,5,5,5,5,5,5,5,5,5,5,5,5,5,5,5,5,5,5,5,5,5,5,5,5,5,5,5,5,5,5,5,5,5,5,5,5,5,5,5,5,5,5,5,5,5,5,5,5,5,5,5,5,5,5,5,5,5,5,5,5,5,5,5,5,5,5,5,5,5,5,5,5,5,5,5,5,5,5,5,5,5,5,5,5,5,5,5,5,5,5],\"xaxis\":\"x\",\"yaxis\":\"y\",\"type\":\"histogram\"},{\"alignmentgroup\":\"True\",\"bingroup\":\"x\",\"hovertemplate\":\"Rating=%{x}<br>count=%{y}<extra></extra>\",\"legendgroup\":\"1\",\"marker\":{\"color\":\"rgb(107,174,214)\",\"opacity\":0.8,\"pattern\":{\"shape\":\"\"}},\"name\":\"1\",\"offsetgroup\":\"1\",\"orientation\":\"v\",\"showlegend\":true,\"x\":[1,1,1,1,1,1,1,1,1,1,1,1,1,1,1,1,1,1,1,1,1,1,1,1,1,1,1,1,1,1,1,1,1,1,1,1,1,1,1,1,1,1,1,1,1,1,1,1,1,1,1,1,1,1,1,1,1,1,1,1,1,1,1,1,1,1,1,1,1,1,1,1,1,1,1,1,1,1,1,1,1,1,1,1,1,1,1,1,1,1,1,1,1,1,1,1,1,1,1,1,1,1,1,1,1,1,1,1,1,1,1,1,1,1,1,1,1,1,1,1,1,1,1,1,1,1,1,1,1,1,1,1,1,1,1,1,1,1,1,1,1,1,1,1,1,1,1,1,1,1,1,1,1,1,1,1,1,1,1,1,1,1,1,1,1,1,1,1,1,1,1,1,1,1,1,1,1,1,1,1,1,1,1,1,1,1,1,1,1,1,1,1,1,1,1,1,1,1,1,1,1,1,1,1,1,1,1,1,1,1,1,1,1,1,1,1,1,1,1,1,1,1,1,1,1,1,1,1,1,1,1,1,1,1,1,1,1,1,1,1,1,1,1,1,1,1,1,1,1,1,1,1,1,1,1,1,1,1,1,1,1,1,1,1,1,1,1,1,1,1,1,1,1,1,1,1,1,1,1,1,1,1,1,1,1,1,1,1,1,1,1,1,1,1,1,1,1,1,1,1,1,1,1,1,1,1,1,1,1,1,1,1,1,1,1,1,1,1,1,1,1,1,1,1,1,1,1,1,1,1,1,1,1,1,1,1,1,1,1,1,1,1,1,1,1,1,1,1,1,1,1,1,1,1,1,1,1,1,1,1,1,1,1,1,1,1,1,1,1,1,1,1,1,1,1,1,1,1,1,1,1,1,1,1,1,1,1,1,1,1,1,1,1,1,1,1,1,1,1,1,1,1,1,1,1,1,1,1,1,1,1,1,1,1,1,1,1,1,1,1,1,1,1,1,1,1,1,1,1,1,1,1,1,1,1,1,1,1,1,1,1,1,1,1,1,1,1,1,1,1,1,1,1,1,1,1,1,1,1,1,1,1,1,1,1,1,1,1,1,1,1,1,1,1,1,1,1,1,1,1,1,1,1,1,1,1,1,1,1,1,1,1,1,1,1,1,1,1,1,1,1,1,1,1,1,1,1,1,1,1,1,1,1,1,1,1,1,1,1,1,1,1,1,1,1,1,1,1,1,1,1,1,1,1,1,1,1,1,1,1,1,1,1,1,1,1,1,1,1,1,1,1,1,1,1,1,1,1,1,1,1,1,1,1,1,1,1,1,1,1,1,1,1,1,1,1,1,1,1,1,1,1,1,1,1,1,1,1,1,1,1,1,1,1,1,1,1,1,1,1,1,1,1,1,1,1,1,1,1,1,1,1,1,1,1,1,1,1,1,1,1,1,1,1,1,1,1,1,1,1,1,1,1,1,1,1,1,1,1,1,1,1,1,1,1,1,1,1,1,1,1,1,1,1,1,1,1,1,1,1,1,1,1,1,1,1,1,1,1,1,1,1,1,1,1,1,1,1,1,1,1,1,1,1,1,1,1,1,1,1,1,1,1,1,1,1,1,1,1,1,1,1,1,1,1,1,1,1,1,1,1,1,1,1,1,1,1,1,1,1,1,1,1,1,1,1,1,1,1,1,1,1,1,1,1,1,1,1,1,1,1,1,1,1,1,1,1,1,1,1,1,1,1,1,1,1,1,1,1,1,1,1,1,1,1,1,1,1,1,1,1,1,1,1,1,1,1,1,1,1,1,1,1,1,1,1,1,1,1,1,1,1,1,1,1,1,1,1,1,1,1,1,1,1,1,1,1,1,1,1,1,1,1,1,1,1,1,1,1,1,1,1,1,1,1,1,1,1,1,1,1,1,1,1,1,1,1,1,1,1,1,1,1,1,1,1,1,1,1,1,1,1,1,1,1,1,1,1,1,1,1,1,1,1,1,1,1,1,1,1,1,1,1,1,1,1,1,1,1,1,1,1,1,1,1,1,1,1,1,1,1,1,1,1,1,1,1,1,1,1,1,1,1,1,1,1,1,1,1,1,1,1,1,1,1,1,1,1,1,1,1,1,1,1,1,1,1,1,1,1,1,1,1,1,1,1,1,1,1,1,1,1,1,1,1,1,1,1,1,1,1,1,1,1,1,1,1,1,1,1,1,1,1,1,1,1,1,1,1,1,1,1,1,1,1,1,1,1,1,1,1,1,1,1,1,1,1,1,1,1,1,1,1,1,1,1,1,1,1,1,1,1,1,1,1,1,1,1,1,1,1,1,1,1,1,1,1,1,1,1,1,1,1,1,1,1,1,1,1,1,1,1,1,1,1,1,1,1,1,1,1,1,1,1,1,1,1,1,1,1,1,1,1,1,1,1,1,1,1,1,1,1,1,1,1,1,1,1,1,1,1,1,1,1,1,1,1,1,1,1,1,1,1,1,1,1,1,1,1,1,1,1,1,1,1,1,1,1,1,1,1,1,1,1,1,1,1,1,1,1,1,1,1,1,1,1,1,1,1,1,1,1,1,1,1,1,1,1,1,1,1,1,1,1,1,1,1,1,1,1,1,1,1,1,1,1,1,1,1,1,1,1,1,1,1,1,1,1,1,1,1,1,1,1,1,1,1,1,1,1,1,1,1,1,1,1,1,1,1,1,1,1,1,1,1,1,1,1,1,1,1,1,1,1,1,1,1,1,1,1,1,1,1,1,1,1,1,1,1,1,1,1,1,1,1,1,1,1,1,1,1,1,1,1,1,1,1,1,1,1,1,1,1,1,1,1,1,1,1,1,1,1,1,1,1,1,1,1,1,1,1,1,1,1,1,1,1,1,1,1,1,1,1,1,1,1,1,1,1,1,1,1,1,1,1,1,1,1,1,1,1,1,1,1,1,1,1,1,1,1,1,1,1,1,1,1,1,1,1,1,1,1,1,1,1,1,1,1,1,1,1,1,1,1,1,1,1,1,1,1,1,1,1,1,1,1,1,1,1,1,1,1,1,1,1,1,1,1,1,1,1,1,1,1,1,1,1,1,1,1,1,1,1,1,1,1,1,1,1,1,1,1,1,1,1,1,1,1,1,1,1,1,1,1,1,1,1,1,1,1,1,1,1,1,1,1,1,1,1,1,1,1,1,1,1,1,1,1,1,1,1,1,1,1,1,1,1,1,1,1,1,1,1,1,1,1,1,1,1,1,1],\"xaxis\":\"x\",\"yaxis\":\"y\",\"type\":\"histogram\"}],                        {\"template\":{\"data\":{\"barpolar\":[{\"marker\":{\"line\":{\"color\":\"rgb(237,237,237)\",\"width\":0.5},\"pattern\":{\"fillmode\":\"overlay\",\"size\":10,\"solidity\":0.2}},\"type\":\"barpolar\"}],\"bar\":[{\"error_x\":{\"color\":\"rgb(51,51,51)\"},\"error_y\":{\"color\":\"rgb(51,51,51)\"},\"marker\":{\"line\":{\"color\":\"rgb(237,237,237)\",\"width\":0.5},\"pattern\":{\"fillmode\":\"overlay\",\"size\":10,\"solidity\":0.2}},\"type\":\"bar\"}],\"carpet\":[{\"aaxis\":{\"endlinecolor\":\"rgb(51,51,51)\",\"gridcolor\":\"white\",\"linecolor\":\"white\",\"minorgridcolor\":\"white\",\"startlinecolor\":\"rgb(51,51,51)\"},\"baxis\":{\"endlinecolor\":\"rgb(51,51,51)\",\"gridcolor\":\"white\",\"linecolor\":\"white\",\"minorgridcolor\":\"white\",\"startlinecolor\":\"rgb(51,51,51)\"},\"type\":\"carpet\"}],\"choropleth\":[{\"colorbar\":{\"outlinewidth\":0,\"tickcolor\":\"rgb(237,237,237)\",\"ticklen\":6,\"ticks\":\"inside\"},\"type\":\"choropleth\"}],\"contourcarpet\":[{\"colorbar\":{\"outlinewidth\":0,\"tickcolor\":\"rgb(237,237,237)\",\"ticklen\":6,\"ticks\":\"inside\"},\"type\":\"contourcarpet\"}],\"contour\":[{\"colorbar\":{\"outlinewidth\":0,\"tickcolor\":\"rgb(237,237,237)\",\"ticklen\":6,\"ticks\":\"inside\"},\"colorscale\":[[0,\"rgb(20,44,66)\"],[1,\"rgb(90,179,244)\"]],\"type\":\"contour\"}],\"heatmapgl\":[{\"colorbar\":{\"outlinewidth\":0,\"tickcolor\":\"rgb(237,237,237)\",\"ticklen\":6,\"ticks\":\"inside\"},\"colorscale\":[[0,\"rgb(20,44,66)\"],[1,\"rgb(90,179,244)\"]],\"type\":\"heatmapgl\"}],\"heatmap\":[{\"colorbar\":{\"outlinewidth\":0,\"tickcolor\":\"rgb(237,237,237)\",\"ticklen\":6,\"ticks\":\"inside\"},\"colorscale\":[[0,\"rgb(20,44,66)\"],[1,\"rgb(90,179,244)\"]],\"type\":\"heatmap\"}],\"histogram2dcontour\":[{\"colorbar\":{\"outlinewidth\":0,\"tickcolor\":\"rgb(237,237,237)\",\"ticklen\":6,\"ticks\":\"inside\"},\"colorscale\":[[0,\"rgb(20,44,66)\"],[1,\"rgb(90,179,244)\"]],\"type\":\"histogram2dcontour\"}],\"histogram2d\":[{\"colorbar\":{\"outlinewidth\":0,\"tickcolor\":\"rgb(237,237,237)\",\"ticklen\":6,\"ticks\":\"inside\"},\"colorscale\":[[0,\"rgb(20,44,66)\"],[1,\"rgb(90,179,244)\"]],\"type\":\"histogram2d\"}],\"histogram\":[{\"marker\":{\"pattern\":{\"fillmode\":\"overlay\",\"size\":10,\"solidity\":0.2}},\"type\":\"histogram\"}],\"mesh3d\":[{\"colorbar\":{\"outlinewidth\":0,\"tickcolor\":\"rgb(237,237,237)\",\"ticklen\":6,\"ticks\":\"inside\"},\"type\":\"mesh3d\"}],\"parcoords\":[{\"line\":{\"colorbar\":{\"outlinewidth\":0,\"tickcolor\":\"rgb(237,237,237)\",\"ticklen\":6,\"ticks\":\"inside\"}},\"type\":\"parcoords\"}],\"pie\":[{\"automargin\":true,\"type\":\"pie\"}],\"scatter3d\":[{\"line\":{\"colorbar\":{\"outlinewidth\":0,\"tickcolor\":\"rgb(237,237,237)\",\"ticklen\":6,\"ticks\":\"inside\"}},\"marker\":{\"colorbar\":{\"outlinewidth\":0,\"tickcolor\":\"rgb(237,237,237)\",\"ticklen\":6,\"ticks\":\"inside\"}},\"type\":\"scatter3d\"}],\"scattercarpet\":[{\"marker\":{\"colorbar\":{\"outlinewidth\":0,\"tickcolor\":\"rgb(237,237,237)\",\"ticklen\":6,\"ticks\":\"inside\"}},\"type\":\"scattercarpet\"}],\"scattergeo\":[{\"marker\":{\"colorbar\":{\"outlinewidth\":0,\"tickcolor\":\"rgb(237,237,237)\",\"ticklen\":6,\"ticks\":\"inside\"}},\"type\":\"scattergeo\"}],\"scattergl\":[{\"marker\":{\"colorbar\":{\"outlinewidth\":0,\"tickcolor\":\"rgb(237,237,237)\",\"ticklen\":6,\"ticks\":\"inside\"}},\"type\":\"scattergl\"}],\"scattermapbox\":[{\"marker\":{\"colorbar\":{\"outlinewidth\":0,\"tickcolor\":\"rgb(237,237,237)\",\"ticklen\":6,\"ticks\":\"inside\"}},\"type\":\"scattermapbox\"}],\"scatterpolargl\":[{\"marker\":{\"colorbar\":{\"outlinewidth\":0,\"tickcolor\":\"rgb(237,237,237)\",\"ticklen\":6,\"ticks\":\"inside\"}},\"type\":\"scatterpolargl\"}],\"scatterpolar\":[{\"marker\":{\"colorbar\":{\"outlinewidth\":0,\"tickcolor\":\"rgb(237,237,237)\",\"ticklen\":6,\"ticks\":\"inside\"}},\"type\":\"scatterpolar\"}],\"scatter\":[{\"marker\":{\"colorbar\":{\"outlinewidth\":0,\"tickcolor\":\"rgb(237,237,237)\",\"ticklen\":6,\"ticks\":\"inside\"}},\"type\":\"scatter\"}],\"scatterternary\":[{\"marker\":{\"colorbar\":{\"outlinewidth\":0,\"tickcolor\":\"rgb(237,237,237)\",\"ticklen\":6,\"ticks\":\"inside\"}},\"type\":\"scatterternary\"}],\"surface\":[{\"colorbar\":{\"outlinewidth\":0,\"tickcolor\":\"rgb(237,237,237)\",\"ticklen\":6,\"ticks\":\"inside\"},\"colorscale\":[[0,\"rgb(20,44,66)\"],[1,\"rgb(90,179,244)\"]],\"type\":\"surface\"}],\"table\":[{\"cells\":{\"fill\":{\"color\":\"rgb(237,237,237)\"},\"line\":{\"color\":\"white\"}},\"header\":{\"fill\":{\"color\":\"rgb(217,217,217)\"},\"line\":{\"color\":\"white\"}},\"type\":\"table\"}]},\"layout\":{\"annotationdefaults\":{\"arrowhead\":0,\"arrowwidth\":1},\"autotypenumbers\":\"strict\",\"coloraxis\":{\"colorbar\":{\"outlinewidth\":0,\"tickcolor\":\"rgb(237,237,237)\",\"ticklen\":6,\"ticks\":\"inside\"}},\"colorscale\":{\"sequential\":[[0,\"rgb(20,44,66)\"],[1,\"rgb(90,179,244)\"]],\"sequentialminus\":[[0,\"rgb(20,44,66)\"],[1,\"rgb(90,179,244)\"]]},\"colorway\":[\"#F8766D\",\"#A3A500\",\"#00BF7D\",\"#00B0F6\",\"#E76BF3\"],\"font\":{\"color\":\"rgb(51,51,51)\"},\"geo\":{\"bgcolor\":\"white\",\"lakecolor\":\"white\",\"landcolor\":\"rgb(237,237,237)\",\"showlakes\":true,\"showland\":true,\"subunitcolor\":\"white\"},\"hoverlabel\":{\"align\":\"left\"},\"hovermode\":\"closest\",\"paper_bgcolor\":\"white\",\"plot_bgcolor\":\"rgb(237,237,237)\",\"polar\":{\"angularaxis\":{\"gridcolor\":\"white\",\"linecolor\":\"white\",\"showgrid\":true,\"tickcolor\":\"rgb(51,51,51)\",\"ticks\":\"outside\"},\"bgcolor\":\"rgb(237,237,237)\",\"radialaxis\":{\"gridcolor\":\"white\",\"linecolor\":\"white\",\"showgrid\":true,\"tickcolor\":\"rgb(51,51,51)\",\"ticks\":\"outside\"}},\"scene\":{\"xaxis\":{\"backgroundcolor\":\"rgb(237,237,237)\",\"gridcolor\":\"white\",\"gridwidth\":2,\"linecolor\":\"white\",\"showbackground\":true,\"showgrid\":true,\"tickcolor\":\"rgb(51,51,51)\",\"ticks\":\"outside\",\"zerolinecolor\":\"white\"},\"yaxis\":{\"backgroundcolor\":\"rgb(237,237,237)\",\"gridcolor\":\"white\",\"gridwidth\":2,\"linecolor\":\"white\",\"showbackground\":true,\"showgrid\":true,\"tickcolor\":\"rgb(51,51,51)\",\"ticks\":\"outside\",\"zerolinecolor\":\"white\"},\"zaxis\":{\"backgroundcolor\":\"rgb(237,237,237)\",\"gridcolor\":\"white\",\"gridwidth\":2,\"linecolor\":\"white\",\"showbackground\":true,\"showgrid\":true,\"tickcolor\":\"rgb(51,51,51)\",\"ticks\":\"outside\",\"zerolinecolor\":\"white\"}},\"shapedefaults\":{\"fillcolor\":\"black\",\"line\":{\"width\":0},\"opacity\":0.3},\"ternary\":{\"aaxis\":{\"gridcolor\":\"white\",\"linecolor\":\"white\",\"showgrid\":true,\"tickcolor\":\"rgb(51,51,51)\",\"ticks\":\"outside\"},\"baxis\":{\"gridcolor\":\"white\",\"linecolor\":\"white\",\"showgrid\":true,\"tickcolor\":\"rgb(51,51,51)\",\"ticks\":\"outside\"},\"bgcolor\":\"rgb(237,237,237)\",\"caxis\":{\"gridcolor\":\"white\",\"linecolor\":\"white\",\"showgrid\":true,\"tickcolor\":\"rgb(51,51,51)\",\"ticks\":\"outside\"}},\"xaxis\":{\"automargin\":true,\"gridcolor\":\"white\",\"linecolor\":\"white\",\"showgrid\":true,\"tickcolor\":\"rgb(51,51,51)\",\"ticks\":\"outside\",\"title\":{\"standoff\":15},\"zerolinecolor\":\"white\"},\"yaxis\":{\"automargin\":true,\"gridcolor\":\"white\",\"linecolor\":\"white\",\"showgrid\":true,\"tickcolor\":\"rgb(51,51,51)\",\"ticks\":\"outside\",\"title\":{\"standoff\":15},\"zerolinecolor\":\"white\"}}},\"xaxis\":{\"anchor\":\"y\",\"domain\":[0.0,1.0],\"title\":{\"text\":\"Rating\"},\"categoryorder\":\"array\",\"categoryarray\":[4,2,3,5,1]},\"yaxis\":{\"anchor\":\"x\",\"domain\":[0.0,1.0],\"title\":{\"text\":\"Count\"}},\"legend\":{\"title\":{\"text\":\"Rating\"},\"tracegroupgap\":0},\"title\":{\"text\":\"Histogram of Review Rating\"},\"barmode\":\"relative\",\"height\":525,\"width\":835},                        {\"responsive\": true}                    ).then(function(){\n",
              "                            \n",
              "var gd = document.getElementById('8f9a0bd3-fb5b-4f05-ad3d-c03238818cd0');\n",
              "var x = new MutationObserver(function (mutations, observer) {{\n",
              "        var display = window.getComputedStyle(gd).display;\n",
              "        if (!display || display === 'none') {{\n",
              "            console.log([gd, 'removed!']);\n",
              "            Plotly.purge(gd);\n",
              "            observer.disconnect();\n",
              "        }}\n",
              "}});\n",
              "\n",
              "// Listen for the removal of the full notebook cells\n",
              "var notebookContainer = gd.closest('#notebook-container');\n",
              "if (notebookContainer) {{\n",
              "    x.observe(notebookContainer, {childList: true});\n",
              "}}\n",
              "\n",
              "// Listen for the clearing of the current output cell\n",
              "var outputEl = gd.closest('.output');\n",
              "if (outputEl) {{\n",
              "    x.observe(outputEl, {childList: true});\n",
              "}}\n",
              "\n",
              "                        })                };                            </script>        </div>\n",
              "</body>\n",
              "</html>"
            ]
          },
          "metadata": {}
        }
      ],
      "source": [
        "# count of ratings\n",
        "fig = px.histogram(df,\n",
        "             x = 'Rating',\n",
        "             title = 'Histogram of Review Rating',\n",
        "             template = 'ggplot2',\n",
        "             color = 'Rating',\n",
        "             color_discrete_sequence= px.colors.sequential.Blues_r,\n",
        "             opacity = 0.8,\n",
        "             height = 525,\n",
        "             width = 835,\n",
        "            )\n",
        "\n",
        "fig.update_yaxes(title='Count')\n",
        "fig.show()"
      ]
    },
    {
      "cell_type": "markdown",
      "metadata": {
        "id": "paU_0YL6GYWK"
      },
      "source": [
        "Slovní pojmenování Ratingů."
      ]
    },
    {
      "cell_type": "code",
      "execution_count": null,
      "metadata": {
        "id": "q4HY5dpfGYWL",
        "colab": {
          "base_uri": "https://localhost:8080/",
          "height": 201
        },
        "outputId": "b364519d-55be-4917-ed61-f0d68582f9d3"
      },
      "outputs": [
        {
          "output_type": "execute_result",
          "data": {
            "text/plain": [
              "                                              Review  Rating Rating_sentiment\n",
              "0  nice hotel expensive parking got good deal sta...       4         Positive\n",
              "1  ok nothing special charge diamond member hilto...       2         Negative\n",
              "2  nice rooms not 4* experience hotel monaco seat...       3          Neutral\n",
              "3  unique, great stay, wonderful time hotel monac...       5         Positive\n",
              "4  great stay great stay, went seahawk game aweso...       5         Positive"
            ],
            "text/html": [
              "\n",
              "  <div id=\"df-5ef488c8-b839-426c-a48c-f3838337c3fc\">\n",
              "    <div class=\"colab-df-container\">\n",
              "      <div>\n",
              "<style scoped>\n",
              "    .dataframe tbody tr th:only-of-type {\n",
              "        vertical-align: middle;\n",
              "    }\n",
              "\n",
              "    .dataframe tbody tr th {\n",
              "        vertical-align: top;\n",
              "    }\n",
              "\n",
              "    .dataframe thead th {\n",
              "        text-align: right;\n",
              "    }\n",
              "</style>\n",
              "<table border=\"1\" class=\"dataframe\">\n",
              "  <thead>\n",
              "    <tr style=\"text-align: right;\">\n",
              "      <th></th>\n",
              "      <th>Review</th>\n",
              "      <th>Rating</th>\n",
              "      <th>Rating_sentiment</th>\n",
              "    </tr>\n",
              "  </thead>\n",
              "  <tbody>\n",
              "    <tr>\n",
              "      <th>0</th>\n",
              "      <td>nice hotel expensive parking got good deal sta...</td>\n",
              "      <td>4</td>\n",
              "      <td>Positive</td>\n",
              "    </tr>\n",
              "    <tr>\n",
              "      <th>1</th>\n",
              "      <td>ok nothing special charge diamond member hilto...</td>\n",
              "      <td>2</td>\n",
              "      <td>Negative</td>\n",
              "    </tr>\n",
              "    <tr>\n",
              "      <th>2</th>\n",
              "      <td>nice rooms not 4* experience hotel monaco seat...</td>\n",
              "      <td>3</td>\n",
              "      <td>Neutral</td>\n",
              "    </tr>\n",
              "    <tr>\n",
              "      <th>3</th>\n",
              "      <td>unique, great stay, wonderful time hotel monac...</td>\n",
              "      <td>5</td>\n",
              "      <td>Positive</td>\n",
              "    </tr>\n",
              "    <tr>\n",
              "      <th>4</th>\n",
              "      <td>great stay great stay, went seahawk game aweso...</td>\n",
              "      <td>5</td>\n",
              "      <td>Positive</td>\n",
              "    </tr>\n",
              "  </tbody>\n",
              "</table>\n",
              "</div>\n",
              "      <button class=\"colab-df-convert\" onclick=\"convertToInteractive('df-5ef488c8-b839-426c-a48c-f3838337c3fc')\"\n",
              "              title=\"Convert this dataframe to an interactive table.\"\n",
              "              style=\"display:none;\">\n",
              "        \n",
              "  <svg xmlns=\"http://www.w3.org/2000/svg\" height=\"24px\"viewBox=\"0 0 24 24\"\n",
              "       width=\"24px\">\n",
              "    <path d=\"M0 0h24v24H0V0z\" fill=\"none\"/>\n",
              "    <path d=\"M18.56 5.44l.94 2.06.94-2.06 2.06-.94-2.06-.94-.94-2.06-.94 2.06-2.06.94zm-11 1L8.5 8.5l.94-2.06 2.06-.94-2.06-.94L8.5 2.5l-.94 2.06-2.06.94zm10 10l.94 2.06.94-2.06 2.06-.94-2.06-.94-.94-2.06-.94 2.06-2.06.94z\"/><path d=\"M17.41 7.96l-1.37-1.37c-.4-.4-.92-.59-1.43-.59-.52 0-1.04.2-1.43.59L10.3 9.45l-7.72 7.72c-.78.78-.78 2.05 0 2.83L4 21.41c.39.39.9.59 1.41.59.51 0 1.02-.2 1.41-.59l7.78-7.78 2.81-2.81c.8-.78.8-2.07 0-2.86zM5.41 20L4 18.59l7.72-7.72 1.47 1.35L5.41 20z\"/>\n",
              "  </svg>\n",
              "      </button>\n",
              "      \n",
              "  <style>\n",
              "    .colab-df-container {\n",
              "      display:flex;\n",
              "      flex-wrap:wrap;\n",
              "      gap: 12px;\n",
              "    }\n",
              "\n",
              "    .colab-df-convert {\n",
              "      background-color: #E8F0FE;\n",
              "      border: none;\n",
              "      border-radius: 50%;\n",
              "      cursor: pointer;\n",
              "      display: none;\n",
              "      fill: #1967D2;\n",
              "      height: 32px;\n",
              "      padding: 0 0 0 0;\n",
              "      width: 32px;\n",
              "    }\n",
              "\n",
              "    .colab-df-convert:hover {\n",
              "      background-color: #E2EBFA;\n",
              "      box-shadow: 0px 1px 2px rgba(60, 64, 67, 0.3), 0px 1px 3px 1px rgba(60, 64, 67, 0.15);\n",
              "      fill: #174EA6;\n",
              "    }\n",
              "\n",
              "    [theme=dark] .colab-df-convert {\n",
              "      background-color: #3B4455;\n",
              "      fill: #D2E3FC;\n",
              "    }\n",
              "\n",
              "    [theme=dark] .colab-df-convert:hover {\n",
              "      background-color: #434B5C;\n",
              "      box-shadow: 0px 1px 3px 1px rgba(0, 0, 0, 0.15);\n",
              "      filter: drop-shadow(0px 1px 2px rgba(0, 0, 0, 0.3));\n",
              "      fill: #FFFFFF;\n",
              "    }\n",
              "  </style>\n",
              "\n",
              "      <script>\n",
              "        const buttonEl =\n",
              "          document.querySelector('#df-5ef488c8-b839-426c-a48c-f3838337c3fc button.colab-df-convert');\n",
              "        buttonEl.style.display =\n",
              "          google.colab.kernel.accessAllowed ? 'block' : 'none';\n",
              "\n",
              "        async function convertToInteractive(key) {\n",
              "          const element = document.querySelector('#df-5ef488c8-b839-426c-a48c-f3838337c3fc');\n",
              "          const dataTable =\n",
              "            await google.colab.kernel.invokeFunction('convertToInteractive',\n",
              "                                                     [key], {});\n",
              "          if (!dataTable) return;\n",
              "\n",
              "          const docLinkHtml = 'Like what you see? Visit the ' +\n",
              "            '<a target=\"_blank\" href=https://colab.research.google.com/notebooks/data_table.ipynb>data table notebook</a>'\n",
              "            + ' to learn more about interactive tables.';\n",
              "          element.innerHTML = '';\n",
              "          dataTable['output_type'] = 'display_data';\n",
              "          await google.colab.output.renderOutput(dataTable, element);\n",
              "          const docLink = document.createElement('div');\n",
              "          docLink.innerHTML = docLinkHtml;\n",
              "          element.appendChild(docLink);\n",
              "        }\n",
              "      </script>\n",
              "    </div>\n",
              "  </div>\n",
              "  "
            ]
          },
          "metadata": {},
          "execution_count": 5
        }
      ],
      "source": [
        "# label encode\n",
        "def label_encode(x):\n",
        "    if x == 1 or x == 2:\n",
        "        return 0\n",
        "    if x == 3:\n",
        "        return 1\n",
        "    if x == 5 or x == 4:\n",
        "        return 2\n",
        "    \n",
        "# label to name\n",
        "def label2name(x):\n",
        "    if x == 0:\n",
        "        return \"Negative\"\n",
        "    if x == 1:\n",
        "        return \"Neutral\"\n",
        "    if x == 2:\n",
        "        return \"Positive\"\n",
        "\n",
        "df['Rating_sentiment'] = df['Rating'].apply(label_encode)\n",
        "df['Rating_sentiment'] = df['Rating_sentiment'].apply(label2name)\n",
        "\n",
        "df.head()"
      ]
    },
    {
      "cell_type": "code",
      "execution_count": null,
      "metadata": {
        "id": "TzH4W7xpGYWL"
      },
      "outputs": [],
      "source": []
    },
    {
      "cell_type": "markdown",
      "metadata": {
        "id": "zCZUeXPiGYWM"
      },
      "source": [
        "## Word Clouds of reviews"
      ]
    },
    {
      "cell_type": "markdown",
      "metadata": {
        "id": "1NydWc_mGYWM"
      },
      "source": [
        "Můžeme si také vykreslit tzv. word cloud – obraz vytvořený ze slov nejčastěji se vyskytujících v recenzích, kde velikost slova ukazuje, jak důležité je — jeho četnost v textu. Zatím tato vizualizace nemá moc velkou vypovídající hodnotu, jelikož data ještě neprošla preprocessingem, vykreslíme si ji spíše pro představu o tom, jak dataset vypadá před jeho očištěním."
      ]
    },
    {
      "cell_type": "code",
      "execution_count": null,
      "metadata": {
        "id": "sLNdzOXuGYWN",
        "colab": {
          "base_uri": "https://localhost:8080/",
          "height": 608
        },
        "outputId": "4ce04a28-1af6-4cc8-940d-dfcb56cf127a"
      },
      "outputs": [
        {
          "output_type": "stream",
          "name": "stdout",
          "text": [
            "<wordcloud.wordcloud.WordCloud object at 0x7fd3e290e3d0>\n"
          ]
        },
        {
          "output_type": "display_data",
          "data": {
            "text/plain": [
              "<Figure size 864x1008 with 1 Axes>"
            ],
            "image/png": "[encoded data removed]"
          },
          "metadata": {
            "needs_background": "light"
          }
        }
      ],
      "source": [
        "from wordcloud import WordCloud\n",
        "\n",
        "wordcloud = WordCloud(\n",
        "    background_color='white',\n",
        "    max_words=300,\n",
        "    max_font_size=200, \n",
        "    width=1000, height=800,\n",
        "    random_state=42,\n",
        ").generate(\" \".join(df['Review'].astype(str)))\n",
        "\n",
        "print(wordcloud)\n",
        "fig = plt.figure(figsize = (12,14))\n",
        "plt.imshow(wordcloud)\n",
        "plt.title(\"WORD CLOUD - REVIEW\",fontsize=25)\n",
        "plt.axis('off')\n",
        "plt.show()"
      ]
    },
    {
      "cell_type": "markdown",
      "source": [
        "# The 200 Most Frequent Words"
      ],
      "metadata": {
        "id": "eXQ20UKMRCEq"
      }
    },
    {
      "cell_type": "markdown",
      "source": [
        "\n",
        "Jelikož jsou word clouds sice velmi vizuálně působivé, avšak co se týče nějaké informační hodnoty, tak spíše zbytečné, uvádíme i další způsob vizualizace četnosti slov, kde zaznamenáváme i jejich přesné počty."
      ],
      "metadata": {
        "id": "-uj__gnmRwYt"
      }
    },
    {
      "cell_type": "code",
      "source": [
        "mostUsedWords = df['Review'].str.split(expand=True).stack().value_counts()\n",
        "mostUsedWords_top200 = mostUsedWords[:200]\n",
        "\n",
        "fig = px.treemap(mostUsedWords_top200, path=[mostUsedWords_top200.index], values=0)\n",
        "fig.update_layout(title_text='The 200 Most Frequent Words',\n",
        "                  title_x=0.5, title_font=dict(size=20)\n",
        "                  )\n",
        "fig.update_traces(textinfo=\"label+value\")\n",
        "fig.show()"
      ],
      "metadata": {
        "id": "46NW6-s9RKV4",
        "colab": {
          "base_uri": "https://localhost:8080/",
          "height": 542
        },
        "outputId": "50843377-e1c9-4faf-c79c-40f9ce97dfae"
      },
      "execution_count": null,
      "outputs": [
        {
          "output_type": "display_data",
          "data": {
            "text/html": [
              "<html>\n",
              "<head><meta charset=\"utf-8\" /></head>\n",
              "<body>\n",
              "    <div>            <script src=\"https://cdnjs.cloudflare.com/ajax/libs/mathjax/2.7.5/MathJax.js?config=TeX-AMS-MML_SVG\"></script><script type=\"text/javascript\">if (window.MathJax) {MathJax.Hub.Config({SVG: {font: \"STIX-Web\"}});}</script>                <script type=\"text/javascript\">window.PlotlyConfig = {MathJaxConfig: 'local'};</script>\n",
              "        <script src=\"https://cdn.plot.ly/plotly-2.8.3.min.js\"></script>                <div id=\"b07f52a1-dc71-4b73-a4af-77d115962751\" class=\"plotly-graph-div\" style=\"height:525px; width:100%;\"></div>            <script type=\"text/javascript\">                                    window.PLOTLYENV=window.PLOTLYENV || {};                                    if (document.getElementById(\"b07f52a1-dc71-4b73-a4af-77d115962751\")) {                    Plotly.newPlot(                        \"b07f52a1-dc71-4b73-a4af-77d115962751\",                        [{\"branchvalues\":\"total\",\"domain\":{\"x\":[0.0,1.0],\"y\":[0.0,1.0]},\"hovertemplate\":\"labels=%{label}<br>0=%{value}<br>parent=%{parent}<br>id=%{id}<extra></extra>\",\"ids\":[\"1\",\"10\",\"2\",\"3\",\"4\",\"5\",\"air\",\"airport\",\"area\",\"arrived\",\"asked\",\"away\",\"bad\",\"bar\",\"bathroom\",\"beach\",\"beautiful\",\"bed\",\"beds\",\"best\",\"better\",\"big\",\"bit\",\"booked\",\"breakfast\",\"buffet\",\"bus\",\"ca\",\"called\",\"came\",\"check\",\"city\",\"clean\",\"clean,\",\"close\",\"club\",\"coffee\",\"come\",\"comfortable\",\"couple\",\"day\",\"day,\",\"days\",\"definitely\",\"desk\",\"did\",\"different\",\"dinner\",\"does\",\"door\",\"drinks\",\"early\",\"easy\",\"eat\",\"end\",\"enjoyed\",\"especially\",\"excellent\",\"experience\",\"extra\",\"extremely\",\"family\",\"fantastic\",\"far\",\"feel\",\"felt\",\"floor\",\"food\",\"free\",\"friendly\",\"getting\",\"going\",\"good\",\"good,\",\"got\",\"great\",\"great,\",\"having\",\"helpful\",\"helpful,\",\"highly\",\"hot\",\"hotel\",\"hotel,\",\"hotels\",\"huge\",\"husband\",\"internet\",\"just\",\"kids\",\"know\",\"large\",\"left\",\"like\",\"little\",\"lobby\",\"located\",\"location\",\"long\",\"looking\",\"lot\",\"lots\",\"loved\",\"lovely\",\"main\",\"make\",\"minute\",\"minutes\",\"modern\",\"money\",\"morning\",\"n't\",\"near\",\"need\",\"new\",\"nice\",\"night\",\"night,\",\"nights\",\"no\",\"noise\",\"not\",\"nothing\",\"ok\",\"old\",\"open\",\"outside\",\"overall\",\"pay\",\"people\",\"perfect\",\"place\",\"plenty\",\"pool\",\"pretty\",\"price\",\"problem\",\"punta\",\"quiet\",\"quite\",\"really\",\"reception\",\"recommend\",\"resort\",\"restaurant\",\"restaurants\",\"return\",\"returned\",\"reviews\",\"right\",\"room\",\"room,\",\"rooms\",\"said\",\"san\",\"say\",\"service\",\"shopping\",\"short\",\"shower\",\"size\",\"small\",\"spent\",\"staff\",\"star\",\"station\",\"stay\",\"stay,\",\"stayed\",\"staying\",\"street\",\"suite\",\"sure\",\"thing\",\"things\",\"think\",\"thought\",\"time\",\"time,\",\"times\",\"told\",\"took\",\"trip\",\"try\",\"tv\",\"use\",\"vacation\",\"value\",\"view\",\"visit\",\"walk\",\"walking\",\"want\",\"wanted\",\"water\",\"way\",\"week\",\"went\",\"wonderful\",\"worth\"],\"labels\":[\"1\",\"10\",\"2\",\"3\",\"4\",\"5\",\"air\",\"airport\",\"area\",\"arrived\",\"asked\",\"away\",\"bad\",\"bar\",\"bathroom\",\"beach\",\"beautiful\",\"bed\",\"beds\",\"best\",\"better\",\"big\",\"bit\",\"booked\",\"breakfast\",\"buffet\",\"bus\",\"ca\",\"called\",\"came\",\"check\",\"city\",\"clean\",\"clean,\",\"close\",\"club\",\"coffee\",\"come\",\"comfortable\",\"couple\",\"day\",\"day,\",\"days\",\"definitely\",\"desk\",\"did\",\"different\",\"dinner\",\"does\",\"door\",\"drinks\",\"early\",\"easy\",\"eat\",\"end\",\"enjoyed\",\"especially\",\"excellent\",\"experience\",\"extra\",\"extremely\",\"family\",\"fantastic\",\"far\",\"feel\",\"felt\",\"floor\",\"food\",\"free\",\"friendly\",\"getting\",\"going\",\"good\",\"good,\",\"got\",\"great\",\"great,\",\"having\",\"helpful\",\"helpful,\",\"highly\",\"hot\",\"hotel\",\"hotel,\",\"hotels\",\"huge\",\"husband\",\"internet\",\"just\",\"kids\",\"know\",\"large\",\"left\",\"like\",\"little\",\"lobby\",\"located\",\"location\",\"long\",\"looking\",\"lot\",\"lots\",\"loved\",\"lovely\",\"main\",\"make\",\"minute\",\"minutes\",\"modern\",\"money\",\"morning\",\"n't\",\"near\",\"need\",\"new\",\"nice\",\"night\",\"night,\",\"nights\",\"no\",\"noise\",\"not\",\"nothing\",\"ok\",\"old\",\"open\",\"outside\",\"overall\",\"pay\",\"people\",\"perfect\",\"place\",\"plenty\",\"pool\",\"pretty\",\"price\",\"problem\",\"punta\",\"quiet\",\"quite\",\"really\",\"reception\",\"recommend\",\"resort\",\"restaurant\",\"restaurants\",\"return\",\"returned\",\"reviews\",\"right\",\"room\",\"room,\",\"rooms\",\"said\",\"san\",\"say\",\"service\",\"shopping\",\"short\",\"shower\",\"size\",\"small\",\"spent\",\"staff\",\"star\",\"station\",\"stay\",\"stay,\",\"stayed\",\"staying\",\"street\",\"suite\",\"sure\",\"thing\",\"things\",\"think\",\"thought\",\"time\",\"time,\",\"times\",\"told\",\"took\",\"trip\",\"try\",\"tv\",\"use\",\"vacation\",\"value\",\"view\",\"visit\",\"walk\",\"walking\",\"want\",\"wanted\",\"water\",\"way\",\"week\",\"went\",\"wonderful\",\"worth\"],\"name\":\"\",\"parents\":[\"\",\"\",\"\",\"\",\"\",\"\",\"\",\"\",\"\",\"\",\"\",\"\",\"\",\"\",\"\",\"\",\"\",\"\",\"\",\"\",\"\",\"\",\"\",\"\",\"\",\"\",\"\",\"\",\"\",\"\",\"\",\"\",\"\",\"\",\"\",\"\",\"\",\"\",\"\",\"\",\"\",\"\",\"\",\"\",\"\",\"\",\"\",\"\",\"\",\"\",\"\",\"\",\"\",\"\",\"\",\"\",\"\",\"\",\"\",\"\",\"\",\"\",\"\",\"\",\"\",\"\",\"\",\"\",\"\",\"\",\"\",\"\",\"\",\"\",\"\",\"\",\"\",\"\",\"\",\"\",\"\",\"\",\"\",\"\",\"\",\"\",\"\",\"\",\"\",\"\",\"\",\"\",\"\",\"\",\"\",\"\",\"\",\"\",\"\",\"\",\"\",\"\",\"\",\"\",\"\",\"\",\"\",\"\",\"\",\"\",\"\",\"\",\"\",\"\",\"\",\"\",\"\",\"\",\"\",\"\",\"\",\"\",\"\",\"\",\"\",\"\",\"\",\"\",\"\",\"\",\"\",\"\",\"\",\"\",\"\",\"\",\"\",\"\",\"\",\"\",\"\",\"\",\"\",\"\",\"\",\"\",\"\",\"\",\"\",\"\",\"\",\"\",\"\",\"\",\"\",\"\",\"\",\"\",\"\",\"\",\"\",\"\",\"\",\"\",\"\",\"\",\"\",\"\",\"\",\"\",\"\",\"\",\"\",\"\",\"\",\"\",\"\",\"\",\"\",\"\",\"\",\"\",\"\",\"\",\"\",\"\",\"\",\"\",\"\",\"\",\"\",\"\",\"\",\"\",\"\",\"\",\"\",\"\",\"\",\"\"],\"values\":[1701,2353,5459,4052,2977,4027,1668,2467,4720,2647,2233,3024,2355,4498,4266,8218,3923,4187,2319,5003,3395,2891,3749,3638,8407,3149,2006,1848,1647,1797,2627,2902,7658,1684,2870,1879,2146,1776,3339,2055,7409,1911,2802,3003,4037,13433,1940,1953,1680,2222,2193,1872,1918,2090,1675,2253,1855,4923,2337,1746,2041,1838,2343,2010,2136,1866,3802,8026,3746,5651,1789,2918,14791,2151,5951,18732,2325,1945,3793,1648,1678,2073,42079,6678,3455,1816,2656,2081,12458,1759,2282,3580,2288,7677,6151,2917,2210,9515,2437,2173,2676,2179,2669,2735,2370,3911,1843,3032,1836,1874,2516,18436,1942,2576,3384,10918,7596,1808,3625,11360,1822,30750,2047,1683,2488,1905,2035,2141,1686,6116,2265,6341,1765,6398,2438,2901,2239,1753,2309,3487,7612,1836,4240,6248,4581,4179,1669,1868,3310,3856,30532,3706,10935,2405,1681,3322,8549,1686,1658,2412,1777,6116,1706,14950,2108,2043,11376,3761,10022,2149,3047,1709,2548,2081,2020,2812,1786,7615,2185,2392,2614,2903,4064,2122,1649,2461,1837,1993,4002,1651,5577,2735,3845,1844,4290,3399,2247,4471,3382,2064],\"type\":\"treemap\",\"textinfo\":\"label+value\"}],                        {\"template\":{\"data\":{\"bar\":[{\"error_x\":{\"color\":\"#2a3f5f\"},\"error_y\":{\"color\":\"#2a3f5f\"},\"marker\":{\"line\":{\"color\":\"#E5ECF6\",\"width\":0.5},\"pattern\":{\"fillmode\":\"overlay\",\"size\":10,\"solidity\":0.2}},\"type\":\"bar\"}],\"barpolar\":[{\"marker\":{\"line\":{\"color\":\"#E5ECF6\",\"width\":0.5},\"pattern\":{\"fillmode\":\"overlay\",\"size\":10,\"solidity\":0.2}},\"type\":\"barpolar\"}],\"carpet\":[{\"aaxis\":{\"endlinecolor\":\"#2a3f5f\",\"gridcolor\":\"white\",\"linecolor\":\"white\",\"minorgridcolor\":\"white\",\"startlinecolor\":\"#2a3f5f\"},\"baxis\":{\"endlinecolor\":\"#2a3f5f\",\"gridcolor\":\"white\",\"linecolor\":\"white\",\"minorgridcolor\":\"white\",\"startlinecolor\":\"#2a3f5f\"},\"type\":\"carpet\"}],\"choropleth\":[{\"colorbar\":{\"outlinewidth\":0,\"ticks\":\"\"},\"type\":\"choropleth\"}],\"contour\":[{\"colorbar\":{\"outlinewidth\":0,\"ticks\":\"\"},\"colorscale\":[[0.0,\"#0d0887\"],[0.1111111111111111,\"#46039f\"],[0.2222222222222222,\"#7201a8\"],[0.3333333333333333,\"#9c179e\"],[0.4444444444444444,\"#bd3786\"],[0.5555555555555556,\"#d8576b\"],[0.6666666666666666,\"#ed7953\"],[0.7777777777777778,\"#fb9f3a\"],[0.8888888888888888,\"#fdca26\"],[1.0,\"#f0f921\"]],\"type\":\"contour\"}],\"contourcarpet\":[{\"colorbar\":{\"outlinewidth\":0,\"ticks\":\"\"},\"type\":\"contourcarpet\"}],\"heatmap\":[{\"colorbar\":{\"outlinewidth\":0,\"ticks\":\"\"},\"colorscale\":[[0.0,\"#0d0887\"],[0.1111111111111111,\"#46039f\"],[0.2222222222222222,\"#7201a8\"],[0.3333333333333333,\"#9c179e\"],[0.4444444444444444,\"#bd3786\"],[0.5555555555555556,\"#d8576b\"],[0.6666666666666666,\"#ed7953\"],[0.7777777777777778,\"#fb9f3a\"],[0.8888888888888888,\"#fdca26\"],[1.0,\"#f0f921\"]],\"type\":\"heatmap\"}],\"heatmapgl\":[{\"colorbar\":{\"outlinewidth\":0,\"ticks\":\"\"},\"colorscale\":[[0.0,\"#0d0887\"],[0.1111111111111111,\"#46039f\"],[0.2222222222222222,\"#7201a8\"],[0.3333333333333333,\"#9c179e\"],[0.4444444444444444,\"#bd3786\"],[0.5555555555555556,\"#d8576b\"],[0.6666666666666666,\"#ed7953\"],[0.7777777777777778,\"#fb9f3a\"],[0.8888888888888888,\"#fdca26\"],[1.0,\"#f0f921\"]],\"type\":\"heatmapgl\"}],\"histogram\":[{\"marker\":{\"pattern\":{\"fillmode\":\"overlay\",\"size\":10,\"solidity\":0.2}},\"type\":\"histogram\"}],\"histogram2d\":[{\"colorbar\":{\"outlinewidth\":0,\"ticks\":\"\"},\"colorscale\":[[0.0,\"#0d0887\"],[0.1111111111111111,\"#46039f\"],[0.2222222222222222,\"#7201a8\"],[0.3333333333333333,\"#9c179e\"],[0.4444444444444444,\"#bd3786\"],[0.5555555555555556,\"#d8576b\"],[0.6666666666666666,\"#ed7953\"],[0.7777777777777778,\"#fb9f3a\"],[0.8888888888888888,\"#fdca26\"],[1.0,\"#f0f921\"]],\"type\":\"histogram2d\"}],\"histogram2dcontour\":[{\"colorbar\":{\"outlinewidth\":0,\"ticks\":\"\"},\"colorscale\":[[0.0,\"#0d0887\"],[0.1111111111111111,\"#46039f\"],[0.2222222222222222,\"#7201a8\"],[0.3333333333333333,\"#9c179e\"],[0.4444444444444444,\"#bd3786\"],[0.5555555555555556,\"#d8576b\"],[0.6666666666666666,\"#ed7953\"],[0.7777777777777778,\"#fb9f3a\"],[0.8888888888888888,\"#fdca26\"],[1.0,\"#f0f921\"]],\"type\":\"histogram2dcontour\"}],\"mesh3d\":[{\"colorbar\":{\"outlinewidth\":0,\"ticks\":\"\"},\"type\":\"mesh3d\"}],\"parcoords\":[{\"line\":{\"colorbar\":{\"outlinewidth\":0,\"ticks\":\"\"}},\"type\":\"parcoords\"}],\"pie\":[{\"automargin\":true,\"type\":\"pie\"}],\"scatter\":[{\"marker\":{\"colorbar\":{\"outlinewidth\":0,\"ticks\":\"\"}},\"type\":\"scatter\"}],\"scatter3d\":[{\"line\":{\"colorbar\":{\"outlinewidth\":0,\"ticks\":\"\"}},\"marker\":{\"colorbar\":{\"outlinewidth\":0,\"ticks\":\"\"}},\"type\":\"scatter3d\"}],\"scattercarpet\":[{\"marker\":{\"colorbar\":{\"outlinewidth\":0,\"ticks\":\"\"}},\"type\":\"scattercarpet\"}],\"scattergeo\":[{\"marker\":{\"colorbar\":{\"outlinewidth\":0,\"ticks\":\"\"}},\"type\":\"scattergeo\"}],\"scattergl\":[{\"marker\":{\"colorbar\":{\"outlinewidth\":0,\"ticks\":\"\"}},\"type\":\"scattergl\"}],\"scattermapbox\":[{\"marker\":{\"colorbar\":{\"outlinewidth\":0,\"ticks\":\"\"}},\"type\":\"scattermapbox\"}],\"scatterpolar\":[{\"marker\":{\"colorbar\":{\"outlinewidth\":0,\"ticks\":\"\"}},\"type\":\"scatterpolar\"}],\"scatterpolargl\":[{\"marker\":{\"colorbar\":{\"outlinewidth\":0,\"ticks\":\"\"}},\"type\":\"scatterpolargl\"}],\"scatterternary\":[{\"marker\":{\"colorbar\":{\"outlinewidth\":0,\"ticks\":\"\"}},\"type\":\"scatterternary\"}],\"surface\":[{\"colorbar\":{\"outlinewidth\":0,\"ticks\":\"\"},\"colorscale\":[[0.0,\"#0d0887\"],[0.1111111111111111,\"#46039f\"],[0.2222222222222222,\"#7201a8\"],[0.3333333333333333,\"#9c179e\"],[0.4444444444444444,\"#bd3786\"],[0.5555555555555556,\"#d8576b\"],[0.6666666666666666,\"#ed7953\"],[0.7777777777777778,\"#fb9f3a\"],[0.8888888888888888,\"#fdca26\"],[1.0,\"#f0f921\"]],\"type\":\"surface\"}],\"table\":[{\"cells\":{\"fill\":{\"color\":\"#EBF0F8\"},\"line\":{\"color\":\"white\"}},\"header\":{\"fill\":{\"color\":\"#C8D4E3\"},\"line\":{\"color\":\"white\"}},\"type\":\"table\"}]},\"layout\":{\"annotationdefaults\":{\"arrowcolor\":\"#2a3f5f\",\"arrowhead\":0,\"arrowwidth\":1},\"autotypenumbers\":\"strict\",\"coloraxis\":{\"colorbar\":{\"outlinewidth\":0,\"ticks\":\"\"}},\"colorscale\":{\"diverging\":[[0,\"#8e0152\"],[0.1,\"#c51b7d\"],[0.2,\"#de77ae\"],[0.3,\"#f1b6da\"],[0.4,\"#fde0ef\"],[0.5,\"#f7f7f7\"],[0.6,\"#e6f5d0\"],[0.7,\"#b8e186\"],[0.8,\"#7fbc41\"],[0.9,\"#4d9221\"],[1,\"#276419\"]],\"sequential\":[[0.0,\"#0d0887\"],[0.1111111111111111,\"#46039f\"],[0.2222222222222222,\"#7201a8\"],[0.3333333333333333,\"#9c179e\"],[0.4444444444444444,\"#bd3786\"],[0.5555555555555556,\"#d8576b\"],[0.6666666666666666,\"#ed7953\"],[0.7777777777777778,\"#fb9f3a\"],[0.8888888888888888,\"#fdca26\"],[1.0,\"#f0f921\"]],\"sequentialminus\":[[0.0,\"#0d0887\"],[0.1111111111111111,\"#46039f\"],[0.2222222222222222,\"#7201a8\"],[0.3333333333333333,\"#9c179e\"],[0.4444444444444444,\"#bd3786\"],[0.5555555555555556,\"#d8576b\"],[0.6666666666666666,\"#ed7953\"],[0.7777777777777778,\"#fb9f3a\"],[0.8888888888888888,\"#fdca26\"],[1.0,\"#f0f921\"]]},\"colorway\":[\"#636efa\",\"#EF553B\",\"#00cc96\",\"#ab63fa\",\"#FFA15A\",\"#19d3f3\",\"#FF6692\",\"#B6E880\",\"#FF97FF\",\"#FECB52\"],\"font\":{\"color\":\"#2a3f5f\"},\"geo\":{\"bgcolor\":\"white\",\"lakecolor\":\"white\",\"landcolor\":\"#E5ECF6\",\"showlakes\":true,\"showland\":true,\"subunitcolor\":\"white\"},\"hoverlabel\":{\"align\":\"left\"},\"hovermode\":\"closest\",\"mapbox\":{\"style\":\"light\"},\"paper_bgcolor\":\"white\",\"plot_bgcolor\":\"#E5ECF6\",\"polar\":{\"angularaxis\":{\"gridcolor\":\"white\",\"linecolor\":\"white\",\"ticks\":\"\"},\"bgcolor\":\"#E5ECF6\",\"radialaxis\":{\"gridcolor\":\"white\",\"linecolor\":\"white\",\"ticks\":\"\"}},\"scene\":{\"xaxis\":{\"backgroundcolor\":\"#E5ECF6\",\"gridcolor\":\"white\",\"gridwidth\":2,\"linecolor\":\"white\",\"showbackground\":true,\"ticks\":\"\",\"zerolinecolor\":\"white\"},\"yaxis\":{\"backgroundcolor\":\"#E5ECF6\",\"gridcolor\":\"white\",\"gridwidth\":2,\"linecolor\":\"white\",\"showbackground\":true,\"ticks\":\"\",\"zerolinecolor\":\"white\"},\"zaxis\":{\"backgroundcolor\":\"#E5ECF6\",\"gridcolor\":\"white\",\"gridwidth\":2,\"linecolor\":\"white\",\"showbackground\":true,\"ticks\":\"\",\"zerolinecolor\":\"white\"}},\"shapedefaults\":{\"line\":{\"color\":\"#2a3f5f\"}},\"ternary\":{\"aaxis\":{\"gridcolor\":\"white\",\"linecolor\":\"white\",\"ticks\":\"\"},\"baxis\":{\"gridcolor\":\"white\",\"linecolor\":\"white\",\"ticks\":\"\"},\"bgcolor\":\"#E5ECF6\",\"caxis\":{\"gridcolor\":\"white\",\"linecolor\":\"white\",\"ticks\":\"\"}},\"title\":{\"x\":0.05},\"xaxis\":{\"automargin\":true,\"gridcolor\":\"white\",\"linecolor\":\"white\",\"ticks\":\"\",\"title\":{\"standoff\":15},\"zerolinecolor\":\"white\",\"zerolinewidth\":2},\"yaxis\":{\"automargin\":true,\"gridcolor\":\"white\",\"linecolor\":\"white\",\"ticks\":\"\",\"title\":{\"standoff\":15},\"zerolinecolor\":\"white\",\"zerolinewidth\":2}}},\"legend\":{\"tracegroupgap\":0},\"margin\":{\"t\":60},\"title\":{\"font\":{\"size\":20},\"text\":\"The 200 Most Frequent Words\",\"x\":0.5}},                        {\"responsive\": true}                    ).then(function(){\n",
              "                            \n",
              "var gd = document.getElementById('b07f52a1-dc71-4b73-a4af-77d115962751');\n",
              "var x = new MutationObserver(function (mutations, observer) {{\n",
              "        var display = window.getComputedStyle(gd).display;\n",
              "        if (!display || display === 'none') {{\n",
              "            console.log([gd, 'removed!']);\n",
              "            Plotly.purge(gd);\n",
              "            observer.disconnect();\n",
              "        }}\n",
              "}});\n",
              "\n",
              "// Listen for the removal of the full notebook cells\n",
              "var notebookContainer = gd.closest('#notebook-container');\n",
              "if (notebookContainer) {{\n",
              "    x.observe(notebookContainer, {childList: true});\n",
              "}}\n",
              "\n",
              "// Listen for the clearing of the current output cell\n",
              "var outputEl = gd.closest('.output');\n",
              "if (outputEl) {{\n",
              "    x.observe(outputEl, {childList: true});\n",
              "}}\n",
              "\n",
              "                        })                };                            </script>        </div>\n",
              "</body>\n",
              "</html>"
            ]
          },
          "metadata": {}
        }
      ]
    },
    {
      "cell_type": "markdown",
      "metadata": {
        "id": "ZRUohBhTGYWN"
      },
      "source": [
        "# Text Preprocessing in NLP"
      ]
    },
    {
      "cell_type": "markdown",
      "metadata": {
        "id": "fuYmlO1SGYWO"
      },
      "source": [
        "Predtým, ako vložíme naše údaje ako vstup do algoritmu strojového učenia, je dôležité pripraviť údaje tak, aby sa skrátil čas na spracovanie, zaberali menej miesta v pamäti a poskytli najvyššie metrické vyhodnotenie.\n",
        "\n",
        "Pro další analýzu je nezbytné, aby textová data byla předzpracována:\n",
        "- Transformace na lowercase\n",
        "- Odstranění interpunkce\n",
        "- Odstranění stop slov\n",
        "\n",
        "\n",
        "## NLP knižnice\n",
        "\n",
        "**NLTK**\n",
        "\n",
        "NLTK je popredná platforma na vytváranie programov Python na prácu s údajmi ľudského jazyka. Poskytuje ľahko použiteľné rozhrania pre viac ako 50 korpusov a lexikálnych zdrojov, ako je WordNet, spolu so sadou knižníc na spracovanie textu na klasifikáciu, tokenizáciu, odvodzovanie, označovanie, analýzu a sémantické uvažovanie. Podporuje veľa jazykov no je pomalá a nemá žiadne modely neurónových sietí.\n",
        "\n",
        "**TextBlob**\n",
        "\n",
        "Je knižnica Pythonu, ktorá bola navrhnutá pre spracovanie textových dát. Bola navrhnutá nad NLTK a obsahuje funkcie naviac ako je napríklad kontrola pravopisu. Je jednoduchá na použitie ale tak isto ako NLTK nepoužíva modely neuronových sietí a je pomalá.\n",
        "\n",
        "**Gensim**\n",
        "\n",
        "Je NLP Python framework, ktorý sa bol navrhnutý na topic modeling a podobné detekcie. Má intuitívne prostredie a má funkcie ako latentnú sémantickú analýzu alebo vie vyrátať podobnosť dokumentov. Je určený na extrahovanie sémantických tém z dokumentov. Dokáže si poradiť s veľkými zbierkami textov. Preto sa líši od iných softvérových balíkov strojového učenia, ktoré sa zameriavajú na spracovanie pamäte. Ponúka sadu knižnic na vytvorenie matice TFIDF, vytváranie bigramov a trigramov, vytvorenie modelu Word2Vec, sumarizáciu textových dokumentov a pod.\n",
        "\n",
        "**SpaCy**\n",
        "\n",
        "Je to open-source Python knižnica na spracovanie textu, ktorá bola navrhnutá aby bola rýchla. Obsahuje podobné funkcie ako NLTK a používa modely neuronovych sietí na trénovanie."
      ]
    },
    {
      "cell_type": "markdown",
      "metadata": {
        "id": "aNsC0pHaGYWO"
      },
      "source": [
        "###  Určenie sentimnetu pomocou VADER"
      ]
    },
    {
      "cell_type": "markdown",
      "metadata": {
        "id": "MaovPdsjGYWP"
      },
      "source": [
        "NLTK už má vstavaný, vopred pripravený analyzátor sentimentu s názvom **VADER** (Valence Aware Dictionary and sEntiment Reasoner).\n",
        "\n",
        "Na rozdiel od niektorých kontrolovaných metód NLP sa nevyžadujú potreby predbežného spracovania, ako je tokenizácia a stemmatizácia/lemmatizácia. Môžete do značnej miery zapojiť akýkoľvek text a to určí sentiment.\n",
        "\n",
        "VADER je však najvhodnejší pre jazyk používaný v sociálnych médiách, ako sú krátke vety s určitým slangom a skratkami. Pri hodnotení dlhších štruktúrovaných viet je to menej presné, ale často je to dobrý štartovací bod.\n",
        "\n",
        "Lexikónový prístup znamená, že tento algoritmus vytvoril slovník, ktorý obsahuje komplexný zoznam vlastností sentimentu.\n",
        "Vader, je NLP algoritmus, ktorý spája slovníkový prístup určenia snetimentu, ako aj gramatické pravidlá a syntaktické konvencie na vyjadrenie polarity a intenzity sentimentu.\n",
        "\n",
        "Použijeme metódu **polarity_score** kde výsledkom sú 4 skóre:\n",
        "\n",
        "{‘neu’ : 0–1} — nakoľko neutrálny bol výrok.\n",
        "{‘neg’ : 0–1} – aké negatívne bolo vyjadrenie.\n",
        "{‘pos’ : 0–1} – aké pozitívne bolo vyhlásenie.\n",
        "{‘compound‘ : -1–1} — celkový dojem z vyhlásenia. "
      ]
    },
    {
      "cell_type": "code",
      "execution_count": null,
      "metadata": {
        "id": "z4de8pyJGYWP",
        "colab": {
          "base_uri": "https://localhost:8080/"
        },
        "outputId": "1324f6b7-8e60-4993-8b72-05c5fcf1f47f"
      },
      "outputs": [
        {
          "output_type": "stream",
          "name": "stderr",
          "text": [
            "[nltk_data] Downloading package vader_lexicon to /root/nltk_data...\n"
          ]
        },
        {
          "output_type": "execute_result",
          "data": {
            "text/plain": [
              "{'neg': 0.0, 'neu': 0.0, 'pos': 0.0, 'compound': 0.0}"
            ]
          },
          "metadata": {},
          "execution_count": 8
        }
      ],
      "source": [
        "#Ukázka: Napíšte si vetu a pozrite si ako bola vyhodnotená\n",
        "import nltk\n",
        "from nltk.sentiment import SentimentIntensityAnalyzer\n",
        "nltk.download('vader_lexicon') \n",
        "\n",
        "sid = SentimentIntensityAnalyzer()\n",
        "\n",
        "sentiment = sid.polarity_scores(\"\") #Napíšte si sem vlastný anglický text\n",
        "\n",
        "sentiment\n"
      ]
    },
    {
      "cell_type": "code",
      "execution_count": null,
      "metadata": {
        "id": "TDd4wDKHGYWP",
        "colab": {
          "base_uri": "https://localhost:8080/",
          "height": 201
        },
        "outputId": "a8e1b95e-19d8-4eee-8b6b-2e5972d11cd2"
      },
      "outputs": [
        {
          "output_type": "execute_result",
          "data": {
            "text/plain": [
              "                                              Review  Rating Rating_sentiment  \\\n",
              "0  nice hotel expensive parking got good deal sta...       4         Positive   \n",
              "1  ok nothing special charge diamond member hilto...       2         Negative   \n",
              "2  nice rooms not 4* experience hotel monaco seat...       3          Neutral   \n",
              "3  unique, great stay, wonderful time hotel monac...       5         Positive   \n",
              "4  great stay great stay, went seahawk game aweso...       5         Positive   \n",
              "\n",
              "                              VADER_Sentiment  \n",
              "0  {'neg': 0.072, 'neu': 0.643, 'pos': 0.285}  \n",
              "1   {'neg': 0.11, 'neu': 0.701, 'pos': 0.189}  \n",
              "2    {'neg': 0.081, 'neu': 0.7, 'pos': 0.219}  \n",
              "3   {'neg': 0.06, 'neu': 0.555, 'pos': 0.385}  \n",
              "4  {'neg': 0.135, 'neu': 0.643, 'pos': 0.221}  "
            ],
            "text/html": [
              "\n",
              "  <div id=\"df-cd6d15cf-280b-4210-a0a8-4065a0422c74\">\n",
              "    <div class=\"colab-df-container\">\n",
              "      <div>\n",
              "<style scoped>\n",
              "    .dataframe tbody tr th:only-of-type {\n",
              "        vertical-align: middle;\n",
              "    }\n",
              "\n",
              "    .dataframe tbody tr th {\n",
              "        vertical-align: top;\n",
              "    }\n",
              "\n",
              "    .dataframe thead th {\n",
              "        text-align: right;\n",
              "    }\n",
              "</style>\n",
              "<table border=\"1\" class=\"dataframe\">\n",
              "  <thead>\n",
              "    <tr style=\"text-align: right;\">\n",
              "      <th></th>\n",
              "      <th>Review</th>\n",
              "      <th>Rating</th>\n",
              "      <th>Rating_sentiment</th>\n",
              "      <th>VADER_Sentiment</th>\n",
              "    </tr>\n",
              "  </thead>\n",
              "  <tbody>\n",
              "    <tr>\n",
              "      <th>0</th>\n",
              "      <td>nice hotel expensive parking got good deal sta...</td>\n",
              "      <td>4</td>\n",
              "      <td>Positive</td>\n",
              "      <td>{'neg': 0.072, 'neu': 0.643, 'pos': 0.285}</td>\n",
              "    </tr>\n",
              "    <tr>\n",
              "      <th>1</th>\n",
              "      <td>ok nothing special charge diamond member hilto...</td>\n",
              "      <td>2</td>\n",
              "      <td>Negative</td>\n",
              "      <td>{'neg': 0.11, 'neu': 0.701, 'pos': 0.189}</td>\n",
              "    </tr>\n",
              "    <tr>\n",
              "      <th>2</th>\n",
              "      <td>nice rooms not 4* experience hotel monaco seat...</td>\n",
              "      <td>3</td>\n",
              "      <td>Neutral</td>\n",
              "      <td>{'neg': 0.081, 'neu': 0.7, 'pos': 0.219}</td>\n",
              "    </tr>\n",
              "    <tr>\n",
              "      <th>3</th>\n",
              "      <td>unique, great stay, wonderful time hotel monac...</td>\n",
              "      <td>5</td>\n",
              "      <td>Positive</td>\n",
              "      <td>{'neg': 0.06, 'neu': 0.555, 'pos': 0.385}</td>\n",
              "    </tr>\n",
              "    <tr>\n",
              "      <th>4</th>\n",
              "      <td>great stay great stay, went seahawk game aweso...</td>\n",
              "      <td>5</td>\n",
              "      <td>Positive</td>\n",
              "      <td>{'neg': 0.135, 'neu': 0.643, 'pos': 0.221}</td>\n",
              "    </tr>\n",
              "  </tbody>\n",
              "</table>\n",
              "</div>\n",
              "      <button class=\"colab-df-convert\" onclick=\"convertToInteractive('df-cd6d15cf-280b-4210-a0a8-4065a0422c74')\"\n",
              "              title=\"Convert this dataframe to an interactive table.\"\n",
              "              style=\"display:none;\">\n",
              "        \n",
              "  <svg xmlns=\"http://www.w3.org/2000/svg\" height=\"24px\"viewBox=\"0 0 24 24\"\n",
              "       width=\"24px\">\n",
              "    <path d=\"M0 0h24v24H0V0z\" fill=\"none\"/>\n",
              "    <path d=\"M18.56 5.44l.94 2.06.94-2.06 2.06-.94-2.06-.94-.94-2.06-.94 2.06-2.06.94zm-11 1L8.5 8.5l.94-2.06 2.06-.94-2.06-.94L8.5 2.5l-.94 2.06-2.06.94zm10 10l.94 2.06.94-2.06 2.06-.94-2.06-.94-.94-2.06-.94 2.06-2.06.94z\"/><path d=\"M17.41 7.96l-1.37-1.37c-.4-.4-.92-.59-1.43-.59-.52 0-1.04.2-1.43.59L10.3 9.45l-7.72 7.72c-.78.78-.78 2.05 0 2.83L4 21.41c.39.39.9.59 1.41.59.51 0 1.02-.2 1.41-.59l7.78-7.78 2.81-2.81c.8-.78.8-2.07 0-2.86zM5.41 20L4 18.59l7.72-7.72 1.47 1.35L5.41 20z\"/>\n",
              "  </svg>\n",
              "      </button>\n",
              "      \n",
              "  <style>\n",
              "    .colab-df-container {\n",
              "      display:flex;\n",
              "      flex-wrap:wrap;\n",
              "      gap: 12px;\n",
              "    }\n",
              "\n",
              "    .colab-df-convert {\n",
              "      background-color: #E8F0FE;\n",
              "      border: none;\n",
              "      border-radius: 50%;\n",
              "      cursor: pointer;\n",
              "      display: none;\n",
              "      fill: #1967D2;\n",
              "      height: 32px;\n",
              "      padding: 0 0 0 0;\n",
              "      width: 32px;\n",
              "    }\n",
              "\n",
              "    .colab-df-convert:hover {\n",
              "      background-color: #E2EBFA;\n",
              "      box-shadow: 0px 1px 2px rgba(60, 64, 67, 0.3), 0px 1px 3px 1px rgba(60, 64, 67, 0.15);\n",
              "      fill: #174EA6;\n",
              "    }\n",
              "\n",
              "    [theme=dark] .colab-df-convert {\n",
              "      background-color: #3B4455;\n",
              "      fill: #D2E3FC;\n",
              "    }\n",
              "\n",
              "    [theme=dark] .colab-df-convert:hover {\n",
              "      background-color: #434B5C;\n",
              "      box-shadow: 0px 1px 3px 1px rgba(0, 0, 0, 0.15);\n",
              "      filter: drop-shadow(0px 1px 2px rgba(0, 0, 0, 0.3));\n",
              "      fill: #FFFFFF;\n",
              "    }\n",
              "  </style>\n",
              "\n",
              "      <script>\n",
              "        const buttonEl =\n",
              "          document.querySelector('#df-cd6d15cf-280b-4210-a0a8-4065a0422c74 button.colab-df-convert');\n",
              "        buttonEl.style.display =\n",
              "          google.colab.kernel.accessAllowed ? 'block' : 'none';\n",
              "\n",
              "        async function convertToInteractive(key) {\n",
              "          const element = document.querySelector('#df-cd6d15cf-280b-4210-a0a8-4065a0422c74');\n",
              "          const dataTable =\n",
              "            await google.colab.kernel.invokeFunction('convertToInteractive',\n",
              "                                                     [key], {});\n",
              "          if (!dataTable) return;\n",
              "\n",
              "          const docLinkHtml = 'Like what you see? Visit the ' +\n",
              "            '<a target=\"_blank\" href=https://colab.research.google.com/notebooks/data_table.ipynb>data table notebook</a>'\n",
              "            + ' to learn more about interactive tables.';\n",
              "          element.innerHTML = '';\n",
              "          dataTable['output_type'] = 'display_data';\n",
              "          await google.colab.output.renderOutput(dataTable, element);\n",
              "          const docLink = document.createElement('div');\n",
              "          docLink.innerHTML = docLinkHtml;\n",
              "          element.appendChild(docLink);\n",
              "        }\n",
              "      </script>\n",
              "    </div>\n",
              "  </div>\n",
              "  "
            ]
          },
          "metadata": {},
          "execution_count": 9
        }
      ],
      "source": [
        "def calculate_sentiment_scores(sentence):\n",
        "    sntmnt = sid.polarity_scores(sentence)\n",
        "    sntmnt.pop('compound')\n",
        "    return(sntmnt)\n",
        "\n",
        "df['VADER_Sentiment'] = df['Review'].apply(calculate_sentiment_scores)\n",
        "df.head()\n"
      ]
    },
    {
      "cell_type": "code",
      "execution_count": null,
      "metadata": {
        "id": "cdwVavDNGYWQ",
        "colab": {
          "base_uri": "https://localhost:8080/",
          "height": 201
        },
        "outputId": "267f3118-815b-4260-e224-506b4a285ace"
      },
      "outputs": [
        {
          "output_type": "execute_result",
          "data": {
            "text/plain": [
              "                                              Review  Rating Rating_sentiment  \\\n",
              "0  nice hotel expensive parking got good deal sta...       4         Positive   \n",
              "1  ok nothing special charge diamond member hilto...       2         Negative   \n",
              "2  nice rooms not 4* experience hotel monaco seat...       3          Neutral   \n",
              "3  unique, great stay, wonderful time hotel monac...       5         Positive   \n",
              "4  great stay great stay, went seahawk game aweso...       5         Positive   \n",
              "\n",
              "                              VADER_Sentiment  VADER_Sentiment_Name  \n",
              "0  {'neg': 0.072, 'neu': 0.643, 'pos': 0.285}                     0  \n",
              "1   {'neg': 0.11, 'neu': 0.701, 'pos': 0.189}                     0  \n",
              "2    {'neg': 0.081, 'neu': 0.7, 'pos': 0.219}                     0  \n",
              "3   {'neg': 0.06, 'neu': 0.555, 'pos': 0.385}                     0  \n",
              "4  {'neg': 0.135, 'neu': 0.643, 'pos': 0.221}                     0  "
            ],
            "text/html": [
              "\n",
              "  <div id=\"df-1b609024-6f05-466b-ad56-6d396f8178fd\">\n",
              "    <div class=\"colab-df-container\">\n",
              "      <div>\n",
              "<style scoped>\n",
              "    .dataframe tbody tr th:only-of-type {\n",
              "        vertical-align: middle;\n",
              "    }\n",
              "\n",
              "    .dataframe tbody tr th {\n",
              "        vertical-align: top;\n",
              "    }\n",
              "\n",
              "    .dataframe thead th {\n",
              "        text-align: right;\n",
              "    }\n",
              "</style>\n",
              "<table border=\"1\" class=\"dataframe\">\n",
              "  <thead>\n",
              "    <tr style=\"text-align: right;\">\n",
              "      <th></th>\n",
              "      <th>Review</th>\n",
              "      <th>Rating</th>\n",
              "      <th>Rating_sentiment</th>\n",
              "      <th>VADER_Sentiment</th>\n",
              "      <th>VADER_Sentiment_Name</th>\n",
              "    </tr>\n",
              "  </thead>\n",
              "  <tbody>\n",
              "    <tr>\n",
              "      <th>0</th>\n",
              "      <td>nice hotel expensive parking got good deal sta...</td>\n",
              "      <td>4</td>\n",
              "      <td>Positive</td>\n",
              "      <td>{'neg': 0.072, 'neu': 0.643, 'pos': 0.285}</td>\n",
              "      <td>0</td>\n",
              "    </tr>\n",
              "    <tr>\n",
              "      <th>1</th>\n",
              "      <td>ok nothing special charge diamond member hilto...</td>\n",
              "      <td>2</td>\n",
              "      <td>Negative</td>\n",
              "      <td>{'neg': 0.11, 'neu': 0.701, 'pos': 0.189}</td>\n",
              "      <td>0</td>\n",
              "    </tr>\n",
              "    <tr>\n",
              "      <th>2</th>\n",
              "      <td>nice rooms not 4* experience hotel monaco seat...</td>\n",
              "      <td>3</td>\n",
              "      <td>Neutral</td>\n",
              "      <td>{'neg': 0.081, 'neu': 0.7, 'pos': 0.219}</td>\n",
              "      <td>0</td>\n",
              "    </tr>\n",
              "    <tr>\n",
              "      <th>3</th>\n",
              "      <td>unique, great stay, wonderful time hotel monac...</td>\n",
              "      <td>5</td>\n",
              "      <td>Positive</td>\n",
              "      <td>{'neg': 0.06, 'neu': 0.555, 'pos': 0.385}</td>\n",
              "      <td>0</td>\n",
              "    </tr>\n",
              "    <tr>\n",
              "      <th>4</th>\n",
              "      <td>great stay great stay, went seahawk game aweso...</td>\n",
              "      <td>5</td>\n",
              "      <td>Positive</td>\n",
              "      <td>{'neg': 0.135, 'neu': 0.643, 'pos': 0.221}</td>\n",
              "      <td>0</td>\n",
              "    </tr>\n",
              "  </tbody>\n",
              "</table>\n",
              "</div>\n",
              "      <button class=\"colab-df-convert\" onclick=\"convertToInteractive('df-1b609024-6f05-466b-ad56-6d396f8178fd')\"\n",
              "              title=\"Convert this dataframe to an interactive table.\"\n",
              "              style=\"display:none;\">\n",
              "        \n",
              "  <svg xmlns=\"http://www.w3.org/2000/svg\" height=\"24px\"viewBox=\"0 0 24 24\"\n",
              "       width=\"24px\">\n",
              "    <path d=\"M0 0h24v24H0V0z\" fill=\"none\"/>\n",
              "    <path d=\"M18.56 5.44l.94 2.06.94-2.06 2.06-.94-2.06-.94-.94-2.06-.94 2.06-2.06.94zm-11 1L8.5 8.5l.94-2.06 2.06-.94-2.06-.94L8.5 2.5l-.94 2.06-2.06.94zm10 10l.94 2.06.94-2.06 2.06-.94-2.06-.94-.94-2.06-.94 2.06-2.06.94z\"/><path d=\"M17.41 7.96l-1.37-1.37c-.4-.4-.92-.59-1.43-.59-.52 0-1.04.2-1.43.59L10.3 9.45l-7.72 7.72c-.78.78-.78 2.05 0 2.83L4 21.41c.39.39.9.59 1.41.59.51 0 1.02-.2 1.41-.59l7.78-7.78 2.81-2.81c.8-.78.8-2.07 0-2.86zM5.41 20L4 18.59l7.72-7.72 1.47 1.35L5.41 20z\"/>\n",
              "  </svg>\n",
              "      </button>\n",
              "      \n",
              "  <style>\n",
              "    .colab-df-container {\n",
              "      display:flex;\n",
              "      flex-wrap:wrap;\n",
              "      gap: 12px;\n",
              "    }\n",
              "\n",
              "    .colab-df-convert {\n",
              "      background-color: #E8F0FE;\n",
              "      border: none;\n",
              "      border-radius: 50%;\n",
              "      cursor: pointer;\n",
              "      display: none;\n",
              "      fill: #1967D2;\n",
              "      height: 32px;\n",
              "      padding: 0 0 0 0;\n",
              "      width: 32px;\n",
              "    }\n",
              "\n",
              "    .colab-df-convert:hover {\n",
              "      background-color: #E2EBFA;\n",
              "      box-shadow: 0px 1px 2px rgba(60, 64, 67, 0.3), 0px 1px 3px 1px rgba(60, 64, 67, 0.15);\n",
              "      fill: #174EA6;\n",
              "    }\n",
              "\n",
              "    [theme=dark] .colab-df-convert {\n",
              "      background-color: #3B4455;\n",
              "      fill: #D2E3FC;\n",
              "    }\n",
              "\n",
              "    [theme=dark] .colab-df-convert:hover {\n",
              "      background-color: #434B5C;\n",
              "      box-shadow: 0px 1px 3px 1px rgba(0, 0, 0, 0.15);\n",
              "      filter: drop-shadow(0px 1px 2px rgba(0, 0, 0, 0.3));\n",
              "      fill: #FFFFFF;\n",
              "    }\n",
              "  </style>\n",
              "\n",
              "      <script>\n",
              "        const buttonEl =\n",
              "          document.querySelector('#df-1b609024-6f05-466b-ad56-6d396f8178fd button.colab-df-convert');\n",
              "        buttonEl.style.display =\n",
              "          google.colab.kernel.accessAllowed ? 'block' : 'none';\n",
              "\n",
              "        async function convertToInteractive(key) {\n",
              "          const element = document.querySelector('#df-1b609024-6f05-466b-ad56-6d396f8178fd');\n",
              "          const dataTable =\n",
              "            await google.colab.kernel.invokeFunction('convertToInteractive',\n",
              "                                                     [key], {});\n",
              "          if (!dataTable) return;\n",
              "\n",
              "          const docLinkHtml = 'Like what you see? Visit the ' +\n",
              "            '<a target=\"_blank\" href=https://colab.research.google.com/notebooks/data_table.ipynb>data table notebook</a>'\n",
              "            + ' to learn more about interactive tables.';\n",
              "          element.innerHTML = '';\n",
              "          dataTable['output_type'] = 'display_data';\n",
              "          await google.colab.output.renderOutput(dataTable, element);\n",
              "          const docLink = document.createElement('div');\n",
              "          docLink.innerHTML = docLinkHtml;\n",
              "          element.appendChild(docLink);\n",
              "        }\n",
              "      </script>\n",
              "    </div>\n",
              "  </div>\n",
              "  "
            ]
          },
          "metadata": {},
          "execution_count": 10
        }
      ],
      "source": [
        "def calculate_sentiment_scores(sentence):\n",
        "    \n",
        "    max_value = max(sentence, key=sentence.get)\n",
        "    \n",
        "\n",
        "    if max_value == 'neg':\n",
        "        sentiment = 1\n",
        "    \n",
        "    elif max_value == 'pos':\n",
        "        sentiment = 2\n",
        "    \n",
        "    else :\n",
        "        sentiment = 0\n",
        "    return(sentiment)\n",
        "\n",
        "df['VADER_Sentiment_Name'] = df['VADER_Sentiment'].apply(calculate_sentiment_scores)\n",
        "\n",
        "df.head()"
      ]
    },
    {
      "cell_type": "markdown",
      "metadata": {
        "id": "quTcTw_UGYWQ"
      },
      "source": [
        "## Transformace na lowercase"
      ]
    },
    {
      "cell_type": "markdown",
      "metadata": {
        "id": "IDucSkaIGYWQ"
      },
      "source": [
        "Důležitým krokem předzpracování dat pro NLP je transformace všech slov na lowercase. Zmenšujeme tým veľkosť slovnej zásoby."
      ]
    },
    {
      "cell_type": "code",
      "execution_count": null,
      "metadata": {
        "id": "tGdJJxpkGYWR",
        "colab": {
          "base_uri": "https://localhost:8080/"
        },
        "outputId": "88076eaa-72cb-410c-dd48-6e01710aea34"
      },
      "outputs": [
        {
          "output_type": "execute_result",
          "data": {
            "text/plain": [
              "0    nice hotel expensive parking got good deal sta...\n",
              "1    ok nothing special charge diamond member hilto...\n",
              "2    nice rooms not 4* experience hotel monaco seat...\n",
              "3    unique, great stay, wonderful time hotel monac...\n",
              "4    great stay great stay, went seahawk game aweso...\n",
              "Name: Review, dtype: object"
            ]
          },
          "metadata": {},
          "execution_count": 11
        }
      ],
      "source": [
        "df['Review'] = df['Review'].str.lower()\n",
        "df['Review'].head()"
      ]
    },
    {
      "cell_type": "markdown",
      "metadata": {
        "id": "XrzaqOvfGYWR"
      },
      "source": [
        "## Odstranění interpunkce a čísel"
      ]
    },
    {
      "cell_type": "markdown",
      "metadata": {
        "id": "aTR1TtmaGYWR"
      },
      "source": [
        "Dalším krokem je odstranění interpunkčních znamének a čísel z textu."
      ]
    },
    {
      "cell_type": "code",
      "execution_count": null,
      "metadata": {
        "id": "CzTcgKpDGYWS",
        "colab": {
          "base_uri": "https://localhost:8080/"
        },
        "outputId": "50a086e7-daa3-4dad-9d9f-643c0e145791"
      },
      "outputs": [
        {
          "output_type": "execute_result",
          "data": {
            "text/plain": [
              "0    nice hotel expensive parking got good deal sta...\n",
              "1    ok nothing special charge diamond member hilto...\n",
              "2    nice rooms not    experience hotel monaco seat...\n",
              "3    unique  great stay  wonderful time hotel monac...\n",
              "4    great stay great stay  went seahawk game aweso...\n",
              "Name: Review, dtype: object"
            ]
          },
          "metadata": {},
          "execution_count": 12
        }
      ],
      "source": [
        "def remove_punctuations_numbers(inputs):\n",
        "    return re.sub(r'[^a-zA-Z]', ' ', inputs)\n",
        "\n",
        "\n",
        "df['Review'] = df['Review'].apply(remove_punctuations_numbers)\n",
        "df['Review'].head()"
      ]
    },
    {
      "cell_type": "markdown",
      "metadata": {
        "id": "7Kh-sV6PGYWS"
      },
      "source": [
        "## Tokenizace"
      ]
    },
    {
      "cell_type": "markdown",
      "metadata": {
        "id": "mzN6ioCEGYWS"
      },
      "source": [
        "Tokenizace se používá při zpracování přirozeného jazyka k rozdělení odstavců a vět na menší jednotky, kterým lze snadněji přiřadit význam."
      ]
    },
    {
      "cell_type": "markdown",
      "metadata": {
        "id": "9eVzYDDoGYWS"
      },
      "source": [
        "Prvním krokem procesu NLP je shromáždění dat (věta) a jejich rozdělení na srozumitelné části (slova)."
      ]
    },
    {
      "cell_type": "code",
      "execution_count": null,
      "metadata": {
        "id": "xVcnGshpGYWS",
        "colab": {
          "base_uri": "https://localhost:8080/"
        },
        "outputId": "709c174d-2253-4792-9036-15cfd0eae760"
      },
      "outputs": [
        {
          "output_type": "stream",
          "name": "stderr",
          "text": [
            "[nltk_data] Downloading package punkt to /root/nltk_data...\n",
            "[nltk_data]   Unzipping tokenizers/punkt.zip.\n"
          ]
        },
        {
          "output_type": "execute_result",
          "data": {
            "text/plain": [
              "True"
            ]
          },
          "metadata": {},
          "execution_count": 13
        }
      ],
      "source": [
        "from nltk import tokenize\n",
        "from nltk.tokenize import word_tokenize\n",
        "nltk.download('punkt')"
      ]
    },
    {
      "cell_type": "code",
      "execution_count": null,
      "metadata": {
        "id": "XNAoXc4zGYWT",
        "colab": {
          "base_uri": "https://localhost:8080/"
        },
        "outputId": "328153f9-4dca-46e9-ee95-583ee887ac26"
      },
      "outputs": [
        {
          "output_type": "execute_result",
          "data": {
            "text/plain": [
              "[]"
            ]
          },
          "metadata": {},
          "execution_count": 14
        }
      ],
      "source": [
        "#Ukázka: napiště si větu a tokenizujte ji\n",
        "sentence = \" \"\n",
        "word_tokenize(sentence)"
      ]
    },
    {
      "cell_type": "code",
      "execution_count": null,
      "metadata": {
        "id": "--DRUEO-GYWT",
        "colab": {
          "base_uri": "https://localhost:8080/"
        },
        "outputId": "7c0df060-b68f-406b-9b23-bf4fc9109aaa"
      },
      "outputs": [
        {
          "output_type": "execute_result",
          "data": {
            "text/plain": [
              "0    [nice, hotel, expensive, parking, got, good, d...\n",
              "1    [ok, nothing, special, charge, diamond, member...\n",
              "2    [nice, rooms, not, experience, hotel, monaco, ...\n",
              "3    [unique, great, stay, wonderful, time, hotel, ...\n",
              "4    [great, stay, great, stay, went, seahawk, game...\n",
              "Name: Tokens, dtype: object"
            ]
          },
          "metadata": {},
          "execution_count": 15
        }
      ],
      "source": [
        "\n",
        "def tokenization(inputs): \n",
        "    return word_tokenize(inputs)\n",
        "\n",
        "\n",
        "df['Tokens'] = df['Review'].apply(tokenization)\n",
        "df['Tokens'].head()"
      ]
    },
    {
      "cell_type": "markdown",
      "metadata": {
        "id": "CLIBrXJTGYWT"
      },
      "source": [
        "## Odstranění stop slov"
      ]
    },
    {
      "cell_type": "markdown",
      "metadata": {
        "id": "DiPVy6RuGYWT"
      },
      "source": [
        "**Stop slová**\n",
        "Stop slová sú bežné slová ako „**the**“, „**and**“, „**I**“ atď., ktoré sa v texte vyskytujú veľmi často, a preto neposkytujú informácie o konkrétnej téme dokumentu. \n",
        "Aj keď je to užitočné na pochopenie štruktúry viet, nepomôže vám to pochopiť sémantiku samotných viet.\n",
        "Tieto zastavovacie slová môžeme z textu v danom korpuse odstrániť, aby sme vyčistili údaje a identifikovali slová, ktoré sú zriedkavejšie a potenciálne relevantnejšie pre to, čo nás zaujíma. \n",
        "\n",
        "Vo výskume NLP neexistuje univerzálny zoznam stop words, my použijeme modul NLTK (Natural Language Toolkit), ktorý obsahuje zoznam 40 stop words.\n",
        "\n",
        "Tieto slová sú ignorované počas väčšiny úloh spracovania prirodzeného jazyka, ako je označovanie slovných druhov, tokenizácia a analýza."
      ]
    },
    {
      "cell_type": "code",
      "execution_count": null,
      "metadata": {
        "id": "AmYV99tLGYWU",
        "colab": {
          "base_uri": "https://localhost:8080/"
        },
        "outputId": "3f992e97-4fb5-4b8d-90c7-5d9f54d5c5ac"
      },
      "outputs": [
        {
          "output_type": "stream",
          "name": "stdout",
          "text": [
            "{\"couldn't\", 'above', 'didn', 'against', 'is', \"didn't\", \"you'd\", 'she', 'on', 'not', 'and', 'am', 'they', 'few', 'which', 'yours', 'will', 'don', 'yourself', \"won't\", 'are', 'what', \"mustn't\", 'mustn', 'than', \"hadn't\", 'wasn', 'over', 'to', 'haven', 'ma', 'being', 'hers', 'or', 'up', 'by', 'them', 'between', 'does', 'both', 'couldn', 'be', 'should', 'having', 'for', \"that'll\", 'yourselves', 'other', 'those', 've', 'isn', 'off', 'me', 's', 'hadn', 'themselves', 'mightn', \"isn't\", 'do', 'our', 'was', 'into', 'once', \"she's\", 'but', 'her', 'same', \"hasn't\", 'below', 'why', 'there', 'my', 'doing', 'then', 'as', 'during', 'too', 'll', 'been', 'after', 'won', 'at', 'ourselves', 'shouldn', \"shouldn't\", 't', \"doesn't\", 'hasn', 'wouldn', 'who', 'that', 'most', 'again', 'doesn', \"don't\", 'were', 'have', 'with', 'any', 'm', \"shan't\", 'him', 'd', 'the', 'did', 'we', 'in', 'nor', 'shan', 'from', 'until', 'while', 'down', 'o', 'y', 'such', \"should've\", 'had', 'more', 'only', 'its', 'so', 'himself', 'can', \"aren't\", 'you', 'it', 'when', 'whom', 'no', 'an', 'about', 'if', 'how', 'where', 'of', 'has', 'now', 'own', 'ours', 'a', 're', 'herself', 'myself', \"wasn't\", \"it's\", 'all', 'this', 'here', \"mightn't\", \"haven't\", 'their', \"weren't\", 'very', 'itself', 'through', 'just', 'each', 'i', 'before', 'he', 'out', 'some', 'your', 'aren', 'weren', 'theirs', \"you'll\", 'his', 'these', \"you're\", \"wouldn't\", 'under', \"needn't\", \"you've\", 'because', 'needn', 'ain', 'further'}\n"
          ]
        },
        {
          "output_type": "stream",
          "name": "stderr",
          "text": [
            "[nltk_data] Downloading package stopwords to /root/nltk_data...\n",
            "[nltk_data]   Unzipping corpora/stopwords.zip.\n"
          ]
        }
      ],
      "source": [
        "#Vypisanie stop slov, ktoré obsahuje modul NLTK\n",
        "from nltk.tokenize import word_tokenize\n",
        "from nltk.corpus import stopwords\n",
        "\n",
        "\n",
        "nltk.download('stopwords')\n",
        "stopWords_nltk = set(stopwords.words('english'))\n",
        "\n",
        "print(stopWords_nltk)"
      ]
    },
    {
      "cell_type": "code",
      "execution_count": null,
      "metadata": {
        "id": "ut9T64J9GYWU"
      },
      "outputs": [],
      "source": [
        "# Ukazka : vyskusajte si odstranenie stop slov na vlastnom texte\n",
        "\n",
        "data =  \" \" #Napíšte si sem vlastný anglický text\n",
        "\n",
        "words = word_tokenize(data) #Vetu alebo údaje možno rozdeliť na slová pomocou metódy word_tokenize():\n",
        "wordsFiltered = []\n",
        "\n",
        "for w in words:\n",
        "    if w not in stopWords_nltk: \n",
        "        wordsFiltered.append(w)\n",
        "\n",
        "#zobrazte si už vyfiltrovaný text.\n"
      ]
    },
    {
      "cell_type": "code",
      "execution_count": null,
      "metadata": {
        "id": "4Ga16FVuGYWU",
        "colab": {
          "base_uri": "https://localhost:8080/",
          "height": 201
        },
        "outputId": "a2c0c243-1800-402f-8450-667bb462e1bd"
      },
      "outputs": [
        {
          "output_type": "execute_result",
          "data": {
            "text/plain": [
              "                                              Review  \\\n",
              "0  nice hotel expensive parking got good deal sta...   \n",
              "1  ok nothing special charge diamond member hilto...   \n",
              "2  nice rooms not    experience hotel monaco seat...   \n",
              "3  unique  great stay  wonderful time hotel monac...   \n",
              "4  great stay great stay  went seahawk game aweso...   \n",
              "\n",
              "                                              Tokens  \n",
              "0  [nice, hotel, expensive, parking, got, good, d...  \n",
              "1  [ok, nothing, special, charge, diamond, member...  \n",
              "2  [nice, rooms, experience, hotel, monaco, seatt...  \n",
              "3  [unique, great, stay, wonderful, time, hotel, ...  \n",
              "4  [great, stay, great, stay, went, seahawk, game...  "
            ],
            "text/html": [
              "\n",
              "  <div id=\"df-d8abb28f-a413-4f57-a51c-2afc9e168b81\">\n",
              "    <div class=\"colab-df-container\">\n",
              "      <div>\n",
              "<style scoped>\n",
              "    .dataframe tbody tr th:only-of-type {\n",
              "        vertical-align: middle;\n",
              "    }\n",
              "\n",
              "    .dataframe tbody tr th {\n",
              "        vertical-align: top;\n",
              "    }\n",
              "\n",
              "    .dataframe thead th {\n",
              "        text-align: right;\n",
              "    }\n",
              "</style>\n",
              "<table border=\"1\" class=\"dataframe\">\n",
              "  <thead>\n",
              "    <tr style=\"text-align: right;\">\n",
              "      <th></th>\n",
              "      <th>Review</th>\n",
              "      <th>Tokens</th>\n",
              "    </tr>\n",
              "  </thead>\n",
              "  <tbody>\n",
              "    <tr>\n",
              "      <th>0</th>\n",
              "      <td>nice hotel expensive parking got good deal sta...</td>\n",
              "      <td>[nice, hotel, expensive, parking, got, good, d...</td>\n",
              "    </tr>\n",
              "    <tr>\n",
              "      <th>1</th>\n",
              "      <td>ok nothing special charge diamond member hilto...</td>\n",
              "      <td>[ok, nothing, special, charge, diamond, member...</td>\n",
              "    </tr>\n",
              "    <tr>\n",
              "      <th>2</th>\n",
              "      <td>nice rooms not    experience hotel monaco seat...</td>\n",
              "      <td>[nice, rooms, experience, hotel, monaco, seatt...</td>\n",
              "    </tr>\n",
              "    <tr>\n",
              "      <th>3</th>\n",
              "      <td>unique  great stay  wonderful time hotel monac...</td>\n",
              "      <td>[unique, great, stay, wonderful, time, hotel, ...</td>\n",
              "    </tr>\n",
              "    <tr>\n",
              "      <th>4</th>\n",
              "      <td>great stay great stay  went seahawk game aweso...</td>\n",
              "      <td>[great, stay, great, stay, went, seahawk, game...</td>\n",
              "    </tr>\n",
              "  </tbody>\n",
              "</table>\n",
              "</div>\n",
              "      <button class=\"colab-df-convert\" onclick=\"convertToInteractive('df-d8abb28f-a413-4f57-a51c-2afc9e168b81')\"\n",
              "              title=\"Convert this dataframe to an interactive table.\"\n",
              "              style=\"display:none;\">\n",
              "        \n",
              "  <svg xmlns=\"http://www.w3.org/2000/svg\" height=\"24px\"viewBox=\"0 0 24 24\"\n",
              "       width=\"24px\">\n",
              "    <path d=\"M0 0h24v24H0V0z\" fill=\"none\"/>\n",
              "    <path d=\"M18.56 5.44l.94 2.06.94-2.06 2.06-.94-2.06-.94-.94-2.06-.94 2.06-2.06.94zm-11 1L8.5 8.5l.94-2.06 2.06-.94-2.06-.94L8.5 2.5l-.94 2.06-2.06.94zm10 10l.94 2.06.94-2.06 2.06-.94-2.06-.94-.94-2.06-.94 2.06-2.06.94z\"/><path d=\"M17.41 7.96l-1.37-1.37c-.4-.4-.92-.59-1.43-.59-.52 0-1.04.2-1.43.59L10.3 9.45l-7.72 7.72c-.78.78-.78 2.05 0 2.83L4 21.41c.39.39.9.59 1.41.59.51 0 1.02-.2 1.41-.59l7.78-7.78 2.81-2.81c.8-.78.8-2.07 0-2.86zM5.41 20L4 18.59l7.72-7.72 1.47 1.35L5.41 20z\"/>\n",
              "  </svg>\n",
              "      </button>\n",
              "      \n",
              "  <style>\n",
              "    .colab-df-container {\n",
              "      display:flex;\n",
              "      flex-wrap:wrap;\n",
              "      gap: 12px;\n",
              "    }\n",
              "\n",
              "    .colab-df-convert {\n",
              "      background-color: #E8F0FE;\n",
              "      border: none;\n",
              "      border-radius: 50%;\n",
              "      cursor: pointer;\n",
              "      display: none;\n",
              "      fill: #1967D2;\n",
              "      height: 32px;\n",
              "      padding: 0 0 0 0;\n",
              "      width: 32px;\n",
              "    }\n",
              "\n",
              "    .colab-df-convert:hover {\n",
              "      background-color: #E2EBFA;\n",
              "      box-shadow: 0px 1px 2px rgba(60, 64, 67, 0.3), 0px 1px 3px 1px rgba(60, 64, 67, 0.15);\n",
              "      fill: #174EA6;\n",
              "    }\n",
              "\n",
              "    [theme=dark] .colab-df-convert {\n",
              "      background-color: #3B4455;\n",
              "      fill: #D2E3FC;\n",
              "    }\n",
              "\n",
              "    [theme=dark] .colab-df-convert:hover {\n",
              "      background-color: #434B5C;\n",
              "      box-shadow: 0px 1px 3px 1px rgba(0, 0, 0, 0.15);\n",
              "      filter: drop-shadow(0px 1px 2px rgba(0, 0, 0, 0.3));\n",
              "      fill: #FFFFFF;\n",
              "    }\n",
              "  </style>\n",
              "\n",
              "      <script>\n",
              "        const buttonEl =\n",
              "          document.querySelector('#df-d8abb28f-a413-4f57-a51c-2afc9e168b81 button.colab-df-convert');\n",
              "        buttonEl.style.display =\n",
              "          google.colab.kernel.accessAllowed ? 'block' : 'none';\n",
              "\n",
              "        async function convertToInteractive(key) {\n",
              "          const element = document.querySelector('#df-d8abb28f-a413-4f57-a51c-2afc9e168b81');\n",
              "          const dataTable =\n",
              "            await google.colab.kernel.invokeFunction('convertToInteractive',\n",
              "                                                     [key], {});\n",
              "          if (!dataTable) return;\n",
              "\n",
              "          const docLinkHtml = 'Like what you see? Visit the ' +\n",
              "            '<a target=\"_blank\" href=https://colab.research.google.com/notebooks/data_table.ipynb>data table notebook</a>'\n",
              "            + ' to learn more about interactive tables.';\n",
              "          element.innerHTML = '';\n",
              "          dataTable['output_type'] = 'display_data';\n",
              "          await google.colab.output.renderOutput(dataTable, element);\n",
              "          const docLink = document.createElement('div');\n",
              "          docLink.innerHTML = docLinkHtml;\n",
              "          element.appendChild(docLink);\n",
              "        }\n",
              "      </script>\n",
              "    </div>\n",
              "  </div>\n",
              "  "
            ]
          },
          "metadata": {},
          "execution_count": 18
        }
      ],
      "source": [
        "def stopwords_remove(inputs):  \n",
        "    return [k for k in inputs if k not in stopWords_nltk]\n",
        "\n",
        "\n",
        "df['Tokens'] = df['Tokens'].apply(stopwords_remove)\n",
        "df[['Review','Tokens']].head()"
      ]
    },
    {
      "cell_type": "markdown",
      "metadata": {
        "id": "KBt0gl_6GYWV"
      },
      "source": [
        "## Lemmatizace"
      ]
    },
    {
      "cell_type": "markdown",
      "metadata": {
        "id": "BHkKZqsyGYWV"
      },
      "source": [
        "Lemmatizace je technika normalizace textu používaná ve zpracování přirozeného jazyka (NLP), která přepíná jakýkoli druh slova do režimu základního tvaru, tzv. lemma. "
      ]
    },
    {
      "cell_type": "markdown",
      "metadata": {
        "id": "CZhYR1vRGYWV"
      },
      "source": [
        "Normalizácia pomáha zoskupovať slová s rovnakým významom, ale rôznymi formami. Bez normalizácie by sa slová „ran“, „runs“ a „running“ považovali za rôzne slová, aj keď možno chcete, aby sa s nimi zaobchádzalo ako s rovnakým slovom."
      ]
    },
    {
      "cell_type": "markdown",
      "metadata": {
        "id": "aLE1jD5mGYWV"
      },
      "source": [
        "Lematizačný algoritmus analyzuje štruktúru slova a jeho kontext, aby ho previedol do normalizovanej formy."
      ]
    },
    {
      "cell_type": "code",
      "execution_count": null,
      "metadata": {
        "id": "Zz6J_77OGYWV",
        "colab": {
          "base_uri": "https://localhost:8080/"
        },
        "outputId": "dda50d7f-16cd-4e30-d705-2c2e46f2b38f"
      },
      "outputs": [
        {
          "output_type": "stream",
          "name": "stderr",
          "text": [
            "[nltk_data] Downloading package wordnet to /root/nltk_data...\n",
            "[nltk_data] Downloading package averaged_perceptron_tagger to\n",
            "[nltk_data]     /root/nltk_data...\n",
            "[nltk_data]   Unzipping taggers/averaged_perceptron_tagger.zip.\n",
            "[nltk_data] Downloading package omw-1.4 to /root/nltk_data...\n"
          ]
        },
        {
          "output_type": "execute_result",
          "data": {
            "text/plain": [
              "True"
            ]
          },
          "metadata": {},
          "execution_count": 19
        }
      ],
      "source": [
        "from nltk.stem import WordNetLemmatizer\n",
        "from nltk.corpus import wordnet as wn\n",
        "nltk.download('wordnet') #wordnet is a lexical database for the English language that helps the script determine the base word.\n",
        "nltk.download('averaged_perceptron_tagger') #averaged_perceptron_tagger resource to determine the context of a word in a sentence.\n",
        "nltk.download('omw-1.4')"
      ]
    },
    {
      "cell_type": "code",
      "execution_count": null,
      "metadata": {
        "id": "rjsREfNqGYWW"
      },
      "outputs": [],
      "source": [
        "#Ukázka na lemmatizáciu\n",
        "\n",
        "sentence = \" \" #Doplňte vlastní větu\n",
        "\n",
        "lemmatizer = WordNetLemmatizer()\n",
        "#Najprv prevedte tokenizáciu\n",
        "#word_list = \n",
        "\n",
        "lemmatized_output = ' '.join([lemmatizer.lemmatize(w) for w in word_list])\n",
        "print(lemmatized_output)"
      ]
    },
    {
      "cell_type": "code",
      "execution_count": null,
      "metadata": {
        "id": "ywJpdB6sGYWW",
        "colab": {
          "base_uri": "https://localhost:8080/",
          "height": 201
        },
        "outputId": "67bebad0-b40c-42be-e69d-2f43c98058e6"
      },
      "outputs": [
        {
          "output_type": "execute_result",
          "data": {
            "text/plain": [
              "                                              Tokens  \\\n",
              "0  [nice, hotel, expensive, parking, got, good, d...   \n",
              "1  [ok, nothing, special, charge, diamond, member...   \n",
              "2  [nice, rooms, experience, hotel, monaco, seatt...   \n",
              "3  [unique, great, stay, wonderful, time, hotel, ...   \n",
              "4  [great, stay, great, stay, went, seahawk, game...   \n",
              "\n",
              "                                       Lemmatization  \n",
              "0  [nice, hotel, expensive, park, get, good, deal...  \n",
              "1  [ok, nothing, special, charge, diamond, member...  \n",
              "2  [nice, room, experience, hotel, monaco, seattl...  \n",
              "3  [unique, great, stay, wonderful, time, hotel, ...  \n",
              "4  [great, stay, great, stay, go, seahawk, game, ...  "
            ],
            "text/html": [
              "\n",
              "  <div id=\"df-f1e0e193-4489-4188-ae1a-303ae83c3960\">\n",
              "    <div class=\"colab-df-container\">\n",
              "      <div>\n",
              "<style scoped>\n",
              "    .dataframe tbody tr th:only-of-type {\n",
              "        vertical-align: middle;\n",
              "    }\n",
              "\n",
              "    .dataframe tbody tr th {\n",
              "        vertical-align: top;\n",
              "    }\n",
              "\n",
              "    .dataframe thead th {\n",
              "        text-align: right;\n",
              "    }\n",
              "</style>\n",
              "<table border=\"1\" class=\"dataframe\">\n",
              "  <thead>\n",
              "    <tr style=\"text-align: right;\">\n",
              "      <th></th>\n",
              "      <th>Tokens</th>\n",
              "      <th>Lemmatization</th>\n",
              "    </tr>\n",
              "  </thead>\n",
              "  <tbody>\n",
              "    <tr>\n",
              "      <th>0</th>\n",
              "      <td>[nice, hotel, expensive, parking, got, good, d...</td>\n",
              "      <td>[nice, hotel, expensive, park, get, good, deal...</td>\n",
              "    </tr>\n",
              "    <tr>\n",
              "      <th>1</th>\n",
              "      <td>[ok, nothing, special, charge, diamond, member...</td>\n",
              "      <td>[ok, nothing, special, charge, diamond, member...</td>\n",
              "    </tr>\n",
              "    <tr>\n",
              "      <th>2</th>\n",
              "      <td>[nice, rooms, experience, hotel, monaco, seatt...</td>\n",
              "      <td>[nice, room, experience, hotel, monaco, seattl...</td>\n",
              "    </tr>\n",
              "    <tr>\n",
              "      <th>3</th>\n",
              "      <td>[unique, great, stay, wonderful, time, hotel, ...</td>\n",
              "      <td>[unique, great, stay, wonderful, time, hotel, ...</td>\n",
              "    </tr>\n",
              "    <tr>\n",
              "      <th>4</th>\n",
              "      <td>[great, stay, great, stay, went, seahawk, game...</td>\n",
              "      <td>[great, stay, great, stay, go, seahawk, game, ...</td>\n",
              "    </tr>\n",
              "  </tbody>\n",
              "</table>\n",
              "</div>\n",
              "      <button class=\"colab-df-convert\" onclick=\"convertToInteractive('df-f1e0e193-4489-4188-ae1a-303ae83c3960')\"\n",
              "              title=\"Convert this dataframe to an interactive table.\"\n",
              "              style=\"display:none;\">\n",
              "        \n",
              "  <svg xmlns=\"http://www.w3.org/2000/svg\" height=\"24px\"viewBox=\"0 0 24 24\"\n",
              "       width=\"24px\">\n",
              "    <path d=\"M0 0h24v24H0V0z\" fill=\"none\"/>\n",
              "    <path d=\"M18.56 5.44l.94 2.06.94-2.06 2.06-.94-2.06-.94-.94-2.06-.94 2.06-2.06.94zm-11 1L8.5 8.5l.94-2.06 2.06-.94-2.06-.94L8.5 2.5l-.94 2.06-2.06.94zm10 10l.94 2.06.94-2.06 2.06-.94-2.06-.94-.94-2.06-.94 2.06-2.06.94z\"/><path d=\"M17.41 7.96l-1.37-1.37c-.4-.4-.92-.59-1.43-.59-.52 0-1.04.2-1.43.59L10.3 9.45l-7.72 7.72c-.78.78-.78 2.05 0 2.83L4 21.41c.39.39.9.59 1.41.59.51 0 1.02-.2 1.41-.59l7.78-7.78 2.81-2.81c.8-.78.8-2.07 0-2.86zM5.41 20L4 18.59l7.72-7.72 1.47 1.35L5.41 20z\"/>\n",
              "  </svg>\n",
              "      </button>\n",
              "      \n",
              "  <style>\n",
              "    .colab-df-container {\n",
              "      display:flex;\n",
              "      flex-wrap:wrap;\n",
              "      gap: 12px;\n",
              "    }\n",
              "\n",
              "    .colab-df-convert {\n",
              "      background-color: #E8F0FE;\n",
              "      border: none;\n",
              "      border-radius: 50%;\n",
              "      cursor: pointer;\n",
              "      display: none;\n",
              "      fill: #1967D2;\n",
              "      height: 32px;\n",
              "      padding: 0 0 0 0;\n",
              "      width: 32px;\n",
              "    }\n",
              "\n",
              "    .colab-df-convert:hover {\n",
              "      background-color: #E2EBFA;\n",
              "      box-shadow: 0px 1px 2px rgba(60, 64, 67, 0.3), 0px 1px 3px 1px rgba(60, 64, 67, 0.15);\n",
              "      fill: #174EA6;\n",
              "    }\n",
              "\n",
              "    [theme=dark] .colab-df-convert {\n",
              "      background-color: #3B4455;\n",
              "      fill: #D2E3FC;\n",
              "    }\n",
              "\n",
              "    [theme=dark] .colab-df-convert:hover {\n",
              "      background-color: #434B5C;\n",
              "      box-shadow: 0px 1px 3px 1px rgba(0, 0, 0, 0.15);\n",
              "      filter: drop-shadow(0px 1px 2px rgba(0, 0, 0, 0.3));\n",
              "      fill: #FFFFFF;\n",
              "    }\n",
              "  </style>\n",
              "\n",
              "      <script>\n",
              "        const buttonEl =\n",
              "          document.querySelector('#df-f1e0e193-4489-4188-ae1a-303ae83c3960 button.colab-df-convert');\n",
              "        buttonEl.style.display =\n",
              "          google.colab.kernel.accessAllowed ? 'block' : 'none';\n",
              "\n",
              "        async function convertToInteractive(key) {\n",
              "          const element = document.querySelector('#df-f1e0e193-4489-4188-ae1a-303ae83c3960');\n",
              "          const dataTable =\n",
              "            await google.colab.kernel.invokeFunction('convertToInteractive',\n",
              "                                                     [key], {});\n",
              "          if (!dataTable) return;\n",
              "\n",
              "          const docLinkHtml = 'Like what you see? Visit the ' +\n",
              "            '<a target=\"_blank\" href=https://colab.research.google.com/notebooks/data_table.ipynb>data table notebook</a>'\n",
              "            + ' to learn more about interactive tables.';\n",
              "          element.innerHTML = '';\n",
              "          dataTable['output_type'] = 'display_data';\n",
              "          await google.colab.output.renderOutput(dataTable, element);\n",
              "          const docLink = document.createElement('div');\n",
              "          docLink.innerHTML = docLinkHtml;\n",
              "          element.appendChild(docLink);\n",
              "        }\n",
              "      </script>\n",
              "    </div>\n",
              "  </div>\n",
              "  "
            ]
          },
          "metadata": {},
          "execution_count": 21
        }
      ],
      "source": [
        "lemmatizer = WordNetLemmatizer()\n",
        "\n",
        "\n",
        "def lemmatization(inputs):  \n",
        "    return [lemmatizer.lemmatize(word=kk, pos='v') for kk in inputs]\n",
        "\n",
        "\n",
        "df['Lemmatization'] = df['Tokens'].apply(lemmatization)\n",
        "df[['Tokens', 'Lemmatization']].head()"
      ]
    },
    {
      "cell_type": "markdown",
      "metadata": {
        "id": "TuJMKRAdGYWW"
      },
      "source": [
        "## Určení slovních druhů (POS)"
      ]
    },
    {
      "cell_type": "markdown",
      "metadata": {
        "id": "2iBNuvksGYWW"
      },
      "source": [
        "Part-of-speech (POS) tagování je populární proces zpracování přirozeného jazyka, který se týká kategorizace slov v textu (korpusu) v souladu s konkrétním slovním druhem v závislosti na definici slova a jeho kontextu."
      ]
    },
    {
      "cell_type": "markdown",
      "metadata": {
        "id": "6Oj03thKGYWX"
      },
      "source": [
        "### Ukázka"
      ]
    },
    {
      "cell_type": "code",
      "execution_count": null,
      "metadata": {
        "id": "2aabpdKhGYWX"
      },
      "outputs": [],
      "source": [
        "#Ukázka : PoS tagging :\n",
        "sentence = \" \" #Doplňte vlastní větu\n",
        "\n",
        "#Tokenizovanie slov:\n",
        "# tokenized_words =\n",
        "\n",
        "for words in tokenized_words:\n",
        "    tagged_words = nltk.pos_tag(tokenized_words)\n",
        "    \n",
        "tagged_words\n"
      ]
    },
    {
      "cell_type": "code",
      "execution_count": null,
      "metadata": {
        "id": "5IcX7nZiGYWX",
        "colab": {
          "base_uri": "https://localhost:8080/"
        },
        "outputId": "9e5e0ee5-8a2a-48f3-fc1b-8246dbba5a8e"
      },
      "outputs": [
        {
          "output_type": "execute_result",
          "data": {
            "text/plain": [
              "0    [(nice, JJ), (hotel, NN), (expensive, JJ), (pa...\n",
              "1    [(ok, JJ), (nothing, NN), (special, JJ), (char...\n",
              "2    [(nice, JJ), (rooms, NNS), (experience, VBP), ...\n",
              "3    [(unique, JJ), (great, JJ), (stay, NN), (wonde...\n",
              "4    [(great, JJ), (stay, NN), (great, JJ), (stay, ...\n",
              "Name: PoS, dtype: object"
            ]
          },
          "metadata": {},
          "execution_count": 23
        }
      ],
      "source": [
        "df['PoS'] = df['Tokens'].apply(nltk.pos_tag)\n",
        "df['PoS'].head()"
      ]
    },
    {
      "cell_type": "markdown",
      "metadata": {
        "id": "q9tvWO10GYWX"
      },
      "source": [
        "# Term Frequency Analysis"
      ]
    },
    {
      "cell_type": "markdown",
      "metadata": {
        "id": "ypmVIM6yGYWX"
      },
      "source": [
        "Zkoumání nejčastěji se vyskytujících slov je jedním z nejpopulárnějších systémů textové analýzy. Například právě při analýze sentimentu musí pozitivní text obsahovat slova jako „dobrý“, „skvělý“, „pěkný“ atd. ve větším počtu než jiná slova, která naznačují opak."
      ]
    },
    {
      "cell_type": "markdown",
      "metadata": {
        "id": "wSwQfirdGYWZ"
      },
      "source": [
        "# Feature extraction\n",
        "\n",
        "Extrakcia prvkov sa vzťahuje na proces transformácie nespracovaných údajov na číselné prvky, konkrétne na číslené vektory,  ktoré možno spracovať pri zachovaní informácií v pôvodnom súbore údajov. Prináša lepšie výsledky ako použitie strojového učenia priamo na nespracované údaje, keďže počítač lepšie pracuje s číselnými údajmi."
      ]
    },
    {
      "cell_type": "markdown",
      "metadata": {
        "id": "SzEN5ftAGYWZ"
      },
      "source": [
        "## Bag of Words\n",
        "\n",
        "Bag of words (BoW) je klasická technika reprezentácie textu, ktorá sa bežne používa v NLP, najmä pri problémoch s klasifikáciou textu. Kľúčová myšlienka za tým je nasledovná: reprezentovať uvažovaný text ako vrece (zbierku) slov, pričom ignoruje poradie a kontext.\n",
        "\n",
        "Povedzme, že máme slovnú zásobu V pozostávajúcu zo slov --> {the, cat, sat, in, hat, with}, potom vrece slovnej reprezentácie niekoľkých viet dostaneme ako: \n",
        "\n"
      ]
    },
    {
      "cell_type": "markdown",
      "metadata": {
        "id": "bgmIT6UWGYWZ"
      },
      "source": [
        "![Picture title](https://akela.mendelu.cz/~xgramato/AI/Images/image-20221126-211900.png)"
      ]
    },
    {
      "cell_type": "markdown",
      "metadata": {
        "id": "5R1VZ-cgGYWZ"
      },
      "source": [
        "Ak nám nezáleží na frekvencii výskytu slov v texte a chceme iba vyjadriť, či slovo v texte existuje alebo nie. V takýchto prípadoch len inicializujeme **CountVectorizer s binárnym = True**"
      ]
    },
    {
      "cell_type": "code",
      "execution_count": null,
      "metadata": {
        "id": "Z22e87EAGYWZ",
        "colab": {
          "base_uri": "https://localhost:8080/"
        },
        "outputId": "fce2633d-34a9-4422-a652-2ea3f19a4c2b"
      },
      "outputs": [
        {
          "output_type": "stream",
          "name": "stdout",
          "text": [
            "Mapovanie slovnej zásoby pre daný vzorový korpus : \n",
            " {'the': 4, 'cat': 0, 'sat': 3, 'in': 2, 'hat': 1, 'with': 5}\n",
            "\n",
            "Bag of word Representation vety 'the the the the cat cat sat in the hat'\n",
            "[[1 1 1 1 1 0]]\n"
          ]
        }
      ],
      "source": [
        "sample_bow = CountVectorizer(binary = True)\n",
        "\n",
        "sample_corpus = [\"the cat sat\", \"the cat sat in the hat\", \"the cat with the hat\"]\n",
        "\n",
        "sample_bow.fit(sample_corpus)\n",
        "\n",
        "def get_bow_representation(text):\n",
        "        return sample_bow.transform(text)\n",
        "    \n",
        "print(f\"Mapovanie slovnej zásoby pre daný vzorový korpus : \\n {sample_bow.vocabulary_}\")\n",
        "print(\"\\nBag of word Representation vety 'the the the the cat cat sat in the hat'\")\n",
        "print(get_bow_representation([\"the the the the cat cat sat in the hat\"]).toarray())"
      ]
    },
    {
      "cell_type": "markdown",
      "metadata": {
        "id": "Zq739nKgGYWa"
      },
      "source": [
        "Bag of words má vektorovú reprezentáciu s pevnou dĺžkou pre každé slovo. Veľkosť vektora sa zväčšuje s veľkosťou slovnej zásoby.\n",
        "Jedným zo spôsobov, ako to kontrolovať, je obmedzenie slovnej zásoby na n počet najfrekventovanejších slov.\n",
        "Nevýhodou je, že nezachytáva podobnosť medzi rôznymi slovami, ktoré znamenajú to isté a taktiež sa strácajú informácie o poradí slov."
      ]
    },
    {
      "cell_type": "markdown",
      "metadata": {
        "id": "FnFQMh-ZGYWa"
      },
      "source": [
        "## Bag of N-Grams\n",
        "\n",
        "**Co je to N-gram?**\n",
        "N-gram je posloupnost n slov v textu. Většina slov sama o sobě nemusí představovat celý kontext. Typicky se příslovce jako „většina“ nebo „velmi“ používají k úpravě sloves a přídavných jmen. Proto n-gramy pomáhají analyzovat fráze a ne pouze slova, což může vést k lepšímu pochopení.\n",
        "\n",
        "**Bigram** znamená dvě slova za sebou. „Velmi dobré“ nebo „Příliš skvělé“\n",
        "**Trigram** znamená tři slova za sebou. „Jaký byl tvůj den“ by bylo rozděleno na „Jaký byl tvůj“ a „byl tvůj den“.\n",
        "\n",
        "Ako sme spomenuli vššie Bag of words nezaznamenáva slovosled. Tento problém sa snaží napraviť prístup **Bag of n-gramov (BoN)**. \n",
        "Dá sa jednoducho povedať, že Bag of words (BoW) je špeciálny prípad Baog of  n-grams s **n = 1**.\n",
        "\n"
      ]
    },
    {
      "cell_type": "markdown",
      "metadata": {
        "id": "PcoMihYnGYWa"
      },
      "source": [
        "![Picture title](https://akela.mendelu.cz/~xgramato/AI/Images/image-20221126-214801.png)"
      ]
    },
    {
      "cell_type": "code",
      "execution_count": null,
      "metadata": {
        "id": "n9Fye7bwGYWa"
      },
      "outputs": [],
      "source": [
        "from nltk import ngrams\n",
        "sentence = input(\"Enter the sentence: \")\n",
        "n = int(input(\"Enter the value of n: \"))\n",
        "n_grams = ngrams(sentence.split(), n)\n",
        "for grams in n_grams:\n",
        "    print(grams)"
      ]
    },
    {
      "cell_type": "markdown",
      "metadata": {
        "id": "b_Gha3lfGYWb"
      },
      "source": [
        "## TF-IDF"
      ]
    },
    {
      "cell_type": "markdown",
      "metadata": {
        "id": "pFrJ17YjGYWb"
      },
      "source": [
        "V CountVectorizer počítame iba to, koľkokrát sa slovo objaví v dokumente, čo vedie k skresleniu v prospech najfrekventovanejších slov. Končí to ignorovaním vzácnych slov, ktoré nám mohli pomôcť pri efektívnejšom spracovaní našich údajov. TF-IDF, neboli frequency-inverse document frequency, řeší tento problém. Jeho cílem je kvantifikovat důležitost daného slova vzhledem k ostatním slovům v dokumentu a v korpusu."
      ]
    },
    {
      "cell_type": "markdown",
      "metadata": {
        "id": "Oxen4KO7GYWb"
      },
      "source": [
        "Pokud se slovo w vyskytuje mnohokrát ve větě S1, ale nevyskytuje se příliš ve zbytku vět, pak slovo w musí mít pro větu S1 velký význam. Význam w by měl vzrůst úměrně k jeho četnosti v S1 (kolikrát se toto slovo vyskytuje ve větě S1), ale zároveň by jeho význam měl klesat úměrně k četnosti slova v jiné větě. Matematicky je to zachyceno pomocí dvou veličin: TF a IDF. Tyto dvě se pak vynásobí, aby se dospělo ke skóre TF-IDF."
      ]
    },
    {
      "cell_type": "markdown",
      "metadata": {
        "id": "5bBs6H3MGYWb"
      },
      "source": [
        "### TF"
      ]
    },
    {
      "cell_type": "markdown",
      "metadata": {
        "id": "H6gvvPWJGYWc"
      },
      "source": [
        "TF (termín frekvence) měří, jak často se termín nebo slovo vyskytuje v daném dokumentu."
      ]
    },
    {
      "cell_type": "markdown",
      "metadata": {
        "id": "lEBWTu4tGYWc"
      },
      "source": [
        "![Picture title](https://akela.mendelu.cz/~xgramato/AI/Images/image-20221126-213220.png)"
      ]
    },
    {
      "cell_type": "markdown",
      "metadata": {
        "id": "LFM54KPbGYWc"
      },
      "source": [
        "### IDF"
      ]
    },
    {
      "cell_type": "markdown",
      "metadata": {
        "id": "rhOkgXE8GYWc"
      },
      "source": [
        "IDF (inverse document frequency) měří důležitost termínu. Při výpočtu TF mají všechny pojmy stejnou důležitost (váhu). Je však dobře známou skutečností, že stop slova jako: je, jsou, jsem atd., nejsou důležitá, i když se vyskytují často. Aby se takové případy zohlednily, IDF váží termíny, které jsou velmi běžné, a váží vzácné termíny."
      ]
    },
    {
      "cell_type": "markdown",
      "metadata": {
        "id": "0O8IGzOAGYWc"
      },
      "source": [
        "![Picture title](https://akela.mendelu.cz/~xgramato/AI/Images/image-20221126-213953.png)"
      ]
    },
    {
      "cell_type": "markdown",
      "metadata": {
        "id": "XdNmppdcGYWd"
      },
      "source": [
        "Skóre TF-IDF je součinem těchto dvou termínů. Tedy skóre TF-IDF = TF * IDF."
      ]
    },
    {
      "cell_type": "markdown",
      "metadata": {
        "id": "0TgwehWCGYWd"
      },
      "source": [
        "### Příklad výpočtu TF-IDF"
      ]
    },
    {
      "cell_type": "markdown",
      "metadata": {
        "id": "HIHb4_0nGYWd"
      },
      "source": [
        "Věta A = The Car is Driven on the Road\n",
        "Věta B = Truck is Driven on the highway"
      ]
    },
    {
      "cell_type": "markdown",
      "metadata": {
        "id": "6FD1uO2oGYWd"
      },
      "source": [
        "Výpočet skóre TF-IDF je uveden níže"
      ]
    },
    {
      "cell_type": "markdown",
      "metadata": {
        "id": "_HxwYKBOGYWd"
      },
      "source": [
        "![Picture title](https://akela.mendelu.cz/~xgramato/AI/Images/image-20221126-220916.png)"
      ]
    },
    {
      "cell_type": "code",
      "execution_count": null,
      "metadata": {
        "id": "Q0pXFH6SGYWd",
        "colab": {
          "base_uri": "https://localhost:8080/"
        },
        "outputId": "ead2e90d-c2a4-46a5-9e07-e97946bf77ea"
      },
      "outputs": [
        {
          "output_type": "stream",
          "name": "stdout",
          "text": [
            "IDF Values for sample corpus : [1.         1.28768207 1.69314718 1.28768207 1.         1.69314718]\n",
            "TF-IDF Representation for sentence 'the cat sat in the hat' :\n",
            "[[0.29903422 0.385061   0.50630894 0.385061   0.59806843 0.        ]]\n"
          ]
        }
      ],
      "source": [
        "from sklearn.feature_extraction.text import TfidfVectorizer\n",
        "\n",
        "tfidf = TfidfVectorizer()\n",
        "\n",
        "sample_corpus = [\"the cat sat\", \"the cat sat in the hat\", \"the cat with the hat\"]\n",
        "tfidf_rep = tfidf.fit_transform(sample_corpus)\n",
        "print(f\"IDF Values for sample corpus : {tfidf.idf_}\")\n",
        "\n",
        "\n",
        "print(\"TF-IDF Representation for sentence 'the cat sat in the hat' :\") \n",
        "print(tfidf.transform([\"the cat sat in the hat\"]).toarray())"
      ]
    },
    {
      "cell_type": "markdown",
      "metadata": {
        "id": "Xy1kYAVCGYWe"
      },
      "source": [
        "## Word2vec Word Embeddings\n",
        "\n",
        "Algoritmus word2vec využíva model neurónovej siete na učenie sa slovných asociácií z veľkého korpusu textu.\n",
        "\n",
        "Word2vec to operacionalizuje premietaním významu slov do vektorového priestoru, kde slová s podobným významom budú mať tendenciu zhlukovať sa.\n",
        "\n",
        "Word2Vec nájde vzťah (sémantický alebo syntaktický) medzi slovami, čo nebolo možné pomocou nášho tradičného TF-IDF.\n",
        "\n",
        "Našťastie v mnohých scenároch nie je potrebné trénovať vlastné vkladanie.\n",
        " Niekto urobil náročnú prácu na trénovaní vkladania slov vo veľkom korpuse, ako je Wikipedia, spravodajské články alebo dokonca celý web. \n",
        " \n",
        "\n",
        "\n",
        "Dva architektonické varianty, ktoré boli navrhnuté v pôvodnom prístupe Word2vec:\n",
        "\n",
        "**Continuous bag of words (CBOW)**\n",
        "**SkipGram**\n",
        "\n",
        "### Continuous bag of words\n",
        "V CBOW je primárnou úlohou vytvoriť jazykový model, ktorý správne predpovedá stredové slovo vzhľadom na kontextové slová. Ak vezmeme kontextovu veľkosť 2 tak príklad by vyzeral nasledujúco. \n",
        "\n",
        "*CBOW* používa kontextové slová na predpovedanie cieľového slova.\n",
        "\n",
        "\n",
        " "
      ]
    },
    {
      "cell_type": "markdown",
      "metadata": {
        "id": "zhAGV-8nGYWe"
      },
      "source": [
        "![Picture title](https://akela.mendelu.cz/~xgramato/AI/Images/image-20221126-224241.png)"
      ]
    },
    {
      "cell_type": "markdown",
      "metadata": {
        "id": "oEh-BnE9GYWe"
      },
      "source": [
        "Model CBOW s jednou skrytou vrstvou vyzerá nasledujúco:\n",
        "\n",
        "Predpokladáme, že sa chceme naučiť vkladanie D-dim slov. \n",
        "Ďalej nech **V** je slovná zásoba textového korpusu."
      ]
    },
    {
      "cell_type": "markdown",
      "metadata": {
        "id": "51h89hSJGYWe"
      },
      "source": []
    },
    {
      "cell_type": "markdown",
      "metadata": {
        "id": "0onyhlmMGYWe"
      },
      "source": [
        "![Picture title](https://akela.mendelu.cz/~xgramato/AI/Images/image-20221126-224957.png)"
      ]
    },
    {
      "cell_type": "markdown",
      "metadata": {
        "id": "BymliNhWGYWe"
      },
      "source": [
        "Jedna z najčastejšie používaných implementácií je s gensim.\n",
        "Musíme si zvoliť niekoľko hyperparametrov (t.j. premenných, ktoré je potrebné nastaviť pred začatím tréningového procesu).\n",
        "\n",
        "**Rozmerovosť vektorov slova** (vector_size)\n",
        " - Rozhoduje o priestore naučených embeddings. Hoci neexistuje ideálne číslo, je bežné vytvárať slovné vektory s rozmermi v rozsahu 50 – 500 a vyhodnocovať ich v úlohe, na ktorú ich používame, aby sme vybrali najlepšiu možnosť.\n",
        "\n",
        "**Context window** (window)\n",
        " - Ako dlhý alebo krátky je kontext, ktorý hľadáme, aby sme sa naučili vektorovú reprezentáciu.\n"
      ]
    },
    {
      "cell_type": "code",
      "execution_count": null,
      "metadata": {
        "id": "IUu_YoepGYWf",
        "colab": {
          "base_uri": "https://localhost:8080/"
        },
        "outputId": "ba9a2e51-6d1a-4c21-dd38-8a1e03007b87"
      },
      "outputs": [
        {
          "output_type": "stream",
          "name": "stderr",
          "text": [
            "WARNING:gensim.models.base_any2vec:under 10 jobs per worker: consider setting a smaller `batch_words' for smoother alpha decay\n"
          ]
        },
        {
          "output_type": "stream",
          "name": "stdout",
          "text": [
            "Vety, na ktorých budeme trénovať náš model CBOW Word2Vec:\n",
            "\n",
            "[['human', 'interface', 'computer'], ['survey', 'user', 'computer', 'system', 'response', 'time'], ['eps', 'user', 'interface', 'system'], ['system', 'human', 'system', 'eps'], ['user', 'response', 'time'], ['trees'], ['graph', 'trees'], ['graph', 'minors', 'trees'], ['graph', 'minors', 'survey']]\n",
            "Model Saved\n"
          ]
        }
      ],
      "source": [
        "from gensim import models\n",
        "from gensim.models import Word2Vec\n",
        "from gensim.test.utils import common_texts\n",
        "\n",
        "\n",
        "print(\"Vety, na ktorých budeme trénovať náš model CBOW Word2Vec:\\n\")\n",
        "print(common_texts)\n",
        "\n",
        "model = Word2Vec(sentences=common_texts, window=5, min_count=1, workers=4) #Create a CBOW model\n",
        "model.save(\"word2vec.model\")\n",
        "\n",
        "print(\"Model Saved\")"
      ]
    },
    {
      "cell_type": "code",
      "execution_count": null,
      "metadata": {
        "id": "PchQov8RGYWf",
        "colab": {
          "base_uri": "https://localhost:8080/"
        },
        "outputId": "c8eddd2e-2a17-412b-9dbb-a6baee00c3f2"
      },
      "outputs": [
        {
          "output_type": "execute_result",
          "data": {
            "text/plain": [
              "[('eps', 0.14223439991474152),\n",
              " ('interface', 0.09480923414230347),\n",
              " ('system', 0.014656100422143936),\n",
              " ('survey', -0.017933174967765808),\n",
              " ('graph', -0.03364161401987076)]"
            ]
          },
          "metadata": {},
          "execution_count": 30
        }
      ],
      "source": [
        "model.wv.most_similar('human', topn = 5) # vysledok nám poskytuje podobné slová s human, zoradené podľa pravdepodobnosti."
      ]
    },
    {
      "cell_type": "markdown",
      "metadata": {
        "id": "mDX7huQZGYWf"
      },
      "source": [
        "### SkipGram\n",
        "\n",
        "V Skip‐ Gram je úlohou predpovedať kontextové slová zo stredného slova."
      ]
    },
    {
      "cell_type": "markdown",
      "metadata": {
        "id": "kxTpZCyqGYWf"
      },
      "source": []
    },
    {
      "cell_type": "markdown",
      "metadata": {
        "id": "TPaFZKUoGYWg"
      },
      "source": [
        "![Picture title](https://akela.mendelu.cz/~xgramato/AI/Images/image-20221126-225824.png)"
      ]
    },
    {
      "cell_type": "markdown",
      "metadata": {
        "id": "n0hQWqWoGYWg"
      },
      "source": []
    },
    {
      "cell_type": "markdown",
      "metadata": {
        "id": "wN9IcFt0GYWg"
      },
      "source": [
        "![Picture title](https://akela.mendelu.cz/~xgramato/AI/Images/image-20221126-230012.png)"
      ]
    },
    {
      "cell_type": "markdown",
      "metadata": {
        "id": "ozfOJQhDGYWg"
      },
      "source": [
        "Existuje viac spôsobov, ako trénovať slovné vektory v Gensim, ako len Word2Vec. \n",
        "Ďalšie spôsoby sú : **Doc2Vec, FastText.**"
      ]
    },
    {
      "cell_type": "markdown",
      "metadata": {
        "id": "Zex8GhQkGYWg"
      },
      "source": [
        "# BERT"
      ]
    },
    {
      "cell_type": "markdown",
      "metadata": {
        "id": "_lNWIxO2GYWg"
      },
      "source": [
        "BERT je navržen tak, aby pomohl počítačům pochopit význam nejednoznačného jazyka v textu pomocí okolního textu k vytvoření kontextu. "
      ]
    },
    {
      "cell_type": "markdown",
      "metadata": {
        "id": "IvdezCeFGYWh"
      },
      "source": [
        "BERT (Bidirectional Encoder Representations from Transformers) je založen na Transformers, modelu hlubokého učení, ve kterém je každý výstupní prvek připojen ke každému vstupnímu prvku a váhy mezi nimi jsou dynamicky vypočítávány na základě jejich spojení (v NLP se tento proces nazývá \"attention\"). Transformers fungují ne úplně odlišné od toho, jak my lidé zpracováváme informace prostřednictvím pozornosti. Modely strojového učení se musí také naučit, jak věnovat pozornost pouze věcem, na kterých záleží, a neplýtvat výpočetními zdroji zpracováním nepodstatných informací. Transformátory vytvářejí rozdílové váhy signalizující, která slova ve větě jsou pro další zpracování nejdůležitější."
      ]
    },
    {
      "cell_type": "markdown",
      "metadata": {
        "id": "M2lQmbPeGYWh"
      },
      "source": [
        "Historicky mohly jazykové modely číst textový vstup pouze postupně – buď zleva doprava nebo zprava doleva – ale neuměly obojí současně. BERT je jiný, protože je navržen pro čtení v obou směrech najednou. Tato schopnost, kterou umožnilo zavedení Transformers, je známá jako obousměrnost. Pomocí této obousměrné schopnosti je BERT předtrénován na dvě různé, ale související úlohy NLP: Masked Language Modeling a Next Sentence Prediction."
      ]
    },
    {
      "cell_type": "markdown",
      "metadata": {
        "id": "bFcc8xDTGYWh"
      },
      "source": [
        "### Masked Language Model (MLM) "
      ]
    },
    {
      "cell_type": "markdown",
      "metadata": {
        "id": "cQba7aMqGYWh"
      },
      "source": [
        "Cílem Masked Language Model (MLM) trénování je skrýt slovo ve větě a poté nechat program předpovědět, jaké slovo bylo skryto (zamaskováno) na základě kontextu skrytého slova. "
      ]
    },
    {
      "cell_type": "markdown",
      "metadata": {
        "id": "SXTpD-A8GYWh"
      },
      "source": [
        "Vezměme si například následující slova:"
      ]
    },
    {
      "cell_type": "markdown",
      "metadata": {
        "id": "9XZWfm2mGYWh"
      },
      "source": [
        "The speed boat was packed close to the river bank."
      ]
    },
    {
      "cell_type": "markdown",
      "metadata": {
        "id": "Q3OvxEbRGYWh"
      },
      "source": [
        "Eddy went to the bank to deposit some money and store some jewels."
      ]
    },
    {
      "cell_type": "markdown",
      "metadata": {
        "id": "3RuaO3nHGYWi"
      },
      "source": [
        "Slovo bank znamená ve výše uvedených větách velmi odlišné věci. Pro tyto dvě věty by byla číselná reprezentace (také známá jako embedding) v tradičním jazykovém modelu slova bank stejná. Tento problém (mimo jiné) pomáhá vyřešit Masked Language Model."
      ]
    },
    {
      "cell_type": "markdown",
      "metadata": {
        "id": "erbdQdnIGYWi"
      },
      "source": [
        "### Next Sentence Prediction "
      ]
    },
    {
      "cell_type": "markdown",
      "metadata": {
        "id": "Hjy0vlGdGYWi"
      },
      "source": [
        "Cílem Next Sentence Prediction tréninku je nechat program předpovědět, zda dvě dané věty mají logické, sekvenční spojení nebo zda je jejich vztah jednoduše náhodný. "
      ]
    },
    {
      "cell_type": "markdown",
      "metadata": {
        "id": "sAZLNdUhGYWi"
      },
      "source": [
        "Příklad předpovědi další věty:"
      ]
    },
    {
      "cell_type": "markdown",
      "metadata": {
        "id": "IIdvsEwUGYWi"
      },
      "source": [
        "Paul went shopping. He bought a new shirt. (correct sentence pair)\n",
        "Ramona made coffee. Vanilla ice cream cones for sale. (incorrect sentence pair)\n",
        "Při tréninku se 50 % správných dvojic vět smísí s 50 % náhodných dvojic vět, aby BERT pomohl zvýšit přesnost předpovědi další věty."
      ]
    },
    {
      "cell_type": "markdown",
      "metadata": {
        "id": "Gg3_klfDGYWi"
      },
      "source": [
        "### Jak BERT funguje?"
      ]
    },
    {
      "cell_type": "markdown",
      "metadata": {
        "id": "kKWm75lMGYWj"
      },
      "source": [
        "Cílem jakékoli techniky NLP je porozumět lidskému jazyku tak, jak je mluvený přirozeně. V případě BERT to obvykle znamená předpovídání slova naprázdno. K tomu modely obvykle potřebují trénovat pomocí velkého datasetu specializovaných, označených trénovacích dat, což vyžaduje pracné ruční označování dat týmy lingvistů."
      ]
    },
    {
      "cell_type": "markdown",
      "metadata": {
        "id": "YlqgN0qkGYWj"
      },
      "source": [
        "BERT však byl předem předtrénován pouze s použitím neoznačeného korpusu prostého textu. BERT byl speciálně vyškolen na Wikipedii (~2,5 miliardy slov) a Google BooksCorpus (~800 milionů slov). Tyto velké informační soubory dat přispěly k hluboké znalosti BERT nejen o angličtině, ale také o našem světě. Pokračuje v učení bez učitele a zlepšuje se, i když je používán v praktických aplikacích (např. vyhledávání Google). Jeho předtrénink slouží jako základní vrstva „znalostí“, na kterých lze stavět. Odtud se BERT může přizpůsobit neustále rostoucímu množství prohledávatelného obsahu a dotazů a být doladěn podle specifikací uživatele. Tento proces je známý jako \"transfer learning\"."
      ]
    },
    {
      "cell_type": "markdown",
      "metadata": {
        "id": "V--iDBaKGYWj"
      },
      "source": [
        "BERT spoléhá na Transformer – mechanismus pozornosti, který se učí kontextové vztahy mezi slovy v textu. Základní transformátor se skládá z kodéru pro čtení zadávaného textu a dekodéru, který vytváří předpověď pro daný úkol. Protože cílem BERT je vygenerovat model jazykové reprezentace, potřebuje pouze část kodéru. Vstupem do kodéru pro BERT je sekvence tokenů, které jsou nejprve převedeny na vektory a poté zpracovány v neuronové síti. "
      ]
    },
    {
      "cell_type": "markdown",
      "metadata": {
        "id": "Y84VlMGLGYWj"
      },
      "source": [
        "Před zahájením zpracování však BERT potřebuje, aby byl vstup upraven dalšími metadaty:"
      ]
    },
    {
      "cell_type": "markdown",
      "metadata": {
        "id": "5nwZDKJOGYWj"
      },
      "source": [
        "- Token embeddings: Token [CLS] se přidá k tokenům vstupních slov na začátek první věty a token [SEP] se vloží na konec každé věty.                                                                            "
      ]
    },
    {
      "cell_type": "markdown",
      "metadata": {
        "id": "6YzabJpxGYWj"
      },
      "source": [
        "- Segment embeddings: Ke každému tokenu je přidána značka označující větu A nebo větu B. To umožňuje kodéru rozlišovat mezi větami."
      ]
    },
    {
      "cell_type": "markdown",
      "metadata": {
        "id": "VD8wteoXGYWj"
      },
      "source": [
        "- Positional embeddings: Ke každému tokenu je přidán poziční embedding, který označuje jeho pozici ve větě."
      ]
    },
    {
      "cell_type": "markdown",
      "metadata": {
        "id": "Ehasp9GkGYWk"
      },
      "source": [
        "![Picture title](https://akela.mendelu.cz/~xgramato/AI/Images/image-20221127-220948.png)"
      ]
    },
    {
      "cell_type": "markdown",
      "metadata": {
        "id": "v0qvIIfeGYWk"
      },
      "source": [
        "Pro daný token je jeho reprezentace inputu vytvořena sečtením odpovídajícího token embedding, segment embedding, a positional embedding. Tato vstupní reprezentace se nazývá initial embedding output, který lze nalézt na indexu 0 n-tice hidden_states. "
      ]
    },
    {
      "cell_type": "markdown",
      "metadata": {
        "id": "kJ-PMZNXGYWk"
      },
      "source": []
    },
    {
      "cell_type": "markdown",
      "metadata": {
        "id": "di5EvkUvGYWk"
      },
      "source": [
        "## Predspracovanie pre BERT "
      ]
    },
    {
      "cell_type": "code",
      "execution_count": null,
      "metadata": {
        "id": "_-LLvturmPpK"
      },
      "outputs": [],
      "source": [
        "df = df.iloc[:10000,:]"
      ]
    },
    {
      "cell_type": "markdown",
      "metadata": {
        "id": "oswvKARIGYWk"
      },
      "source": [
        "### Train and Validation Split"
      ]
    },
    {
      "cell_type": "code",
      "execution_count": null,
      "metadata": {
        "id": "dWSPdIomGYWk"
      },
      "outputs": [],
      "source": [
        "X = df['Review'].copy()\n",
        "y = df['VADER_Sentiment_Name'].copy()"
      ]
    },
    {
      "cell_type": "code",
      "execution_count": null,
      "metadata": {
        "id": "kKHTNTg0GYWl",
        "colab": {
          "base_uri": "https://localhost:8080/"
        },
        "outputId": "66a9c3c6-e8ad-4016-8935-acc2cef048fa"
      },
      "outputs": [
        {
          "output_type": "stream",
          "name": "stdout",
          "text": [
            "Examples in train data: 6700\n",
            "Examples in test data: 3300\n"
          ]
        }
      ],
      "source": [
        "from sklearn.model_selection import train_test_split\n",
        "\n",
        "train_texts, test_texts, train_labels, test_labels = train_test_split(\n",
        "    X.values.tolist(), y, test_size=.33, random_state=67, stratify=y)\n",
        "\n",
        "print(\"Examples in train data: {}\".format(len(train_texts)))\n",
        "print(\"Examples in test data: {}\".format(len(test_texts)))"
      ]
    },
    {
      "cell_type": "markdown",
      "metadata": {
        "id": "_0RrdT9sGYWl"
      },
      "source": [
        "### BERT tokenizer a encoding data"
      ]
    },
    {
      "cell_type": "markdown",
      "metadata": {
        "id": "KflT2SkTGYWl"
      },
      "source": [
        "**TF-IDF** neberie do úvahy sémantický význam alebo kontext slov.\n",
        "Modely **Word2Vec** generujú embeddings, ktoré sú nezávislé od kontextu: tj - pre každé slovo existuje len jedna vektorová/numerická reprezentácia. Rôzne významy slova (ak existujú) sú spojené do jedného vektora.\n",
        "**Model BERT** však generuje vloženia, ktoré nám umožňujú mať viac (viac ako jednu) vektorovú reprezentáciu toho istého slova na základe kontextu, v ktorom sa slovo používa. BERT embeddings sú teda závislé od kontextu."
      ]
    },
    {
      "cell_type": "code",
      "execution_count": null,
      "metadata": {
        "id": "IVAfDemXIMUX",
        "colab": {
          "base_uri": "https://localhost:8080/"
        },
        "outputId": "54a08f1e-f830-4ca3-8021-53ead77339d8"
      },
      "outputs": [
        {
          "output_type": "stream",
          "name": "stdout",
          "text": [
            "Looking in indexes: https://pypi.org/simple, https://us-python.pkg.dev/colab-wheels/public/simple/\n",
            "Collecting transformers\n",
            "  Downloading transformers-4.24.0-py3-none-any.whl (5.5 MB)\n",
            "\u001b[K     |████████████████████████████████| 5.5 MB 4.3 MB/s \n",
            "\u001b[?25hCollecting huggingface-hub<1.0,>=0.10.0\n",
            "  Downloading huggingface_hub-0.11.1-py3-none-any.whl (182 kB)\n",
            "\u001b[K     |████████████████████████████████| 182 kB 66.1 MB/s \n",
            "\u001b[?25hRequirement already satisfied: regex!=2019.12.17 in /usr/local/lib/python3.7/dist-packages (from transformers) (2022.6.2)\n",
            "Requirement already satisfied: tqdm>=4.27 in /usr/local/lib/python3.7/dist-packages (from transformers) (4.64.1)\n",
            "Requirement already satisfied: requests in /usr/local/lib/python3.7/dist-packages (from transformers) (2.23.0)\n",
            "Collecting tokenizers!=0.11.3,<0.14,>=0.11.1\n",
            "  Downloading tokenizers-0.13.2-cp37-cp37m-manylinux_2_17_x86_64.manylinux2014_x86_64.whl (7.6 MB)\n",
            "\u001b[K     |████████████████████████████████| 7.6 MB 38.6 MB/s \n",
            "\u001b[?25hRequirement already satisfied: packaging>=20.0 in /usr/local/lib/python3.7/dist-packages (from transformers) (21.3)\n",
            "Requirement already satisfied: pyyaml>=5.1 in /usr/local/lib/python3.7/dist-packages (from transformers) (6.0)\n",
            "Requirement already satisfied: filelock in /usr/local/lib/python3.7/dist-packages (from transformers) (3.8.0)\n",
            "Requirement already satisfied: importlib-metadata in /usr/local/lib/python3.7/dist-packages (from transformers) (4.13.0)\n",
            "Requirement already satisfied: numpy>=1.17 in /usr/local/lib/python3.7/dist-packages (from transformers) (1.21.6)\n",
            "Requirement already satisfied: typing-extensions>=3.7.4.3 in /usr/local/lib/python3.7/dist-packages (from huggingface-hub<1.0,>=0.10.0->transformers) (4.1.1)\n",
            "Requirement already satisfied: pyparsing!=3.0.5,>=2.0.2 in /usr/local/lib/python3.7/dist-packages (from packaging>=20.0->transformers) (3.0.9)\n",
            "Requirement already satisfied: zipp>=0.5 in /usr/local/lib/python3.7/dist-packages (from importlib-metadata->transformers) (3.10.0)\n",
            "Requirement already satisfied: idna<3,>=2.5 in /usr/local/lib/python3.7/dist-packages (from requests->transformers) (2.10)\n",
            "Requirement already satisfied: chardet<4,>=3.0.2 in /usr/local/lib/python3.7/dist-packages (from requests->transformers) (3.0.4)\n",
            "Requirement already satisfied: urllib3!=1.25.0,!=1.25.1,<1.26,>=1.21.1 in /usr/local/lib/python3.7/dist-packages (from requests->transformers) (1.24.3)\n",
            "Requirement already satisfied: certifi>=2017.4.17 in /usr/local/lib/python3.7/dist-packages (from requests->transformers) (2022.9.24)\n",
            "Installing collected packages: tokenizers, huggingface-hub, transformers\n",
            "Successfully installed huggingface-hub-0.11.1 tokenizers-0.13.2 transformers-4.24.0\n"
          ]
        }
      ],
      "source": [
        "!pip install transformers"
      ]
    },
    {
      "cell_type": "code",
      "execution_count": null,
      "metadata": {
        "id": "C81oK0yLGYWl",
        "colab": {
          "base_uri": "https://localhost:8080/",
          "height": 112,
          "referenced_widgets": [
            "033b277d0e88408397b6cc81c965e609",
            "6ee45ab8376b45e1a915f3b47aeb8b96",
            "baabf9dd66784715b04c987750b6c71e",
            "72d12237322540d3856821dc74d557bc",
            "d8865d236c8a4b069298f62d72f3f523",
            "13c5e250603e4b8492a5a1a673d5997d",
            "3c2c7eb305af44a1a49205439cf7ceb4",
            "aca422222b1e41c080a0d2f408c18235",
            "f738fb70578745dcad57af8767f2191f",
            "da1146764e1c45b6a2c6ec43ac969c63",
            "d75c2234e430405eb419b3aa4a80191f",
            "0b42a30db5484e7590dc7e3e907e8b16",
            "84f96643bb5a4513b9818049c34b2469",
            "2d28e2d69b714a9ba553a516f465f3c1",
            "2590656a145d4e4bba4638f46fb26eb4",
            "1607a552715d4d72b115f7b75777a54e",
            "363e825a537e4df783decd67bd59cb30",
            "eb95de441fcc403c8c74608007abd600",
            "c99577fe6d1c4e7a8b0760611ed5e1be",
            "69e002cd0891468682a19085683f1b02",
            "2415a35e20af4e9caf6ca955783123a7",
            "8b1f4ec623eb4a39b42b263c5ad7fca0",
            "5f3ec1d712594e80a956592b57214057",
            "335e27c0431342a1a23068953dfbf400",
            "e954ab99005043189bffe4e54d1c8d6c",
            "c8f285abcd9042428d53fd51b9ff95c2",
            "e41cb50da3f34df6ad78abb3fc5a5978",
            "9f7f827f773d44518ea213a46e80ae8d",
            "0b18fba227de4f12a1d375c9d8c496ae",
            "c6154db777a24e01a598ddf54ce72b00",
            "25bb65e0f89a4c00a172d0508af47ddd",
            "ca4b9ee6269544198713221c62574656",
            "08ef263d601d44bcbcf1a30be4e1d1b8"
          ]
        },
        "outputId": "ef18c868-2a65-441a-d1ff-2fbff0489d38"
      },
      "outputs": [
        {
          "output_type": "display_data",
          "data": {
            "text/plain": [
              "Downloading:   0%|          | 0.00/232k [00:00<?, ?B/s]"
            ],
            "application/vnd.jupyter.widget-view+json": {
              "version_major": 2,
              "version_minor": 0,
              "model_id": "033b277d0e88408397b6cc81c965e609"
            }
          },
          "metadata": {}
        },
        {
          "output_type": "display_data",
          "data": {
            "text/plain": [
              "Downloading:   0%|          | 0.00/28.0 [00:00<?, ?B/s]"
            ],
            "application/vnd.jupyter.widget-view+json": {
              "version_major": 2,
              "version_minor": 0,
              "model_id": "0b42a30db5484e7590dc7e3e907e8b16"
            }
          },
          "metadata": {}
        },
        {
          "output_type": "display_data",
          "data": {
            "text/plain": [
              "Downloading:   0%|          | 0.00/570 [00:00<?, ?B/s]"
            ],
            "application/vnd.jupyter.widget-view+json": {
              "version_major": 2,
              "version_minor": 0,
              "model_id": "5f3ec1d712594e80a956592b57214057"
            }
          },
          "metadata": {}
        }
      ],
      "source": [
        "\n",
        "from transformers import BertTokenizer\n",
        "tokenizer = BertTokenizer.from_pretrained('bert-base-uncased', do_lower_case=True)"
      ]
    },
    {
      "cell_type": "code",
      "execution_count": null,
      "metadata": {
        "id": "nsTKUSPAGYWl",
        "colab": {
          "base_uri": "https://localhost:8080/"
        },
        "outputId": "d33ba3bd-8039-4149-cc21-2a4bf4432a7f"
      },
      "outputs": [
        {
          "output_type": "stream",
          "name": "stderr",
          "text": [
            "Token indices sequence length is longer than the specified maximum sequence length for this model (641 > 512). Running this sequence through the model will result in indexing errors\n"
          ]
        }
      ],
      "source": [
        "# data tokenize with bert tokenizer\n",
        "df[\"sent_bert_token_length\"] = df[\"Review\"].apply(lambda x: len(tokenizer(x, add_special_tokens=False)[\"input_ids\"]))"
      ]
    },
    {
      "cell_type": "code",
      "execution_count": null,
      "metadata": {
        "id": "Gq-20XW1GYWm",
        "colab": {
          "base_uri": "https://localhost:8080/",
          "height": 201
        },
        "outputId": "13a0c238-470e-4d20-c428-08e0718c4e32"
      },
      "outputs": [
        {
          "output_type": "execute_result",
          "data": {
            "text/plain": [
              "                                              Review  sent_bert_token_length\n",
              "0  nice hotel expensive parking got good deal sta...                      90\n",
              "1  ok nothing special charge diamond member hilto...                     260\n",
              "2  nice rooms not    experience hotel monaco seat...                     259\n",
              "3  unique  great stay  wonderful time hotel monac...                     101\n",
              "4  great stay great stay  went seahawk game aweso...                     211"
            ],
            "text/html": [
              "\n",
              "  <div id=\"df-865a3463-effb-41e7-8b76-7e72600f2835\">\n",
              "    <div class=\"colab-df-container\">\n",
              "      <div>\n",
              "<style scoped>\n",
              "    .dataframe tbody tr th:only-of-type {\n",
              "        vertical-align: middle;\n",
              "    }\n",
              "\n",
              "    .dataframe tbody tr th {\n",
              "        vertical-align: top;\n",
              "    }\n",
              "\n",
              "    .dataframe thead th {\n",
              "        text-align: right;\n",
              "    }\n",
              "</style>\n",
              "<table border=\"1\" class=\"dataframe\">\n",
              "  <thead>\n",
              "    <tr style=\"text-align: right;\">\n",
              "      <th></th>\n",
              "      <th>Review</th>\n",
              "      <th>sent_bert_token_length</th>\n",
              "    </tr>\n",
              "  </thead>\n",
              "  <tbody>\n",
              "    <tr>\n",
              "      <th>0</th>\n",
              "      <td>nice hotel expensive parking got good deal sta...</td>\n",
              "      <td>90</td>\n",
              "    </tr>\n",
              "    <tr>\n",
              "      <th>1</th>\n",
              "      <td>ok nothing special charge diamond member hilto...</td>\n",
              "      <td>260</td>\n",
              "    </tr>\n",
              "    <tr>\n",
              "      <th>2</th>\n",
              "      <td>nice rooms not    experience hotel monaco seat...</td>\n",
              "      <td>259</td>\n",
              "    </tr>\n",
              "    <tr>\n",
              "      <th>3</th>\n",
              "      <td>unique  great stay  wonderful time hotel monac...</td>\n",
              "      <td>101</td>\n",
              "    </tr>\n",
              "    <tr>\n",
              "      <th>4</th>\n",
              "      <td>great stay great stay  went seahawk game aweso...</td>\n",
              "      <td>211</td>\n",
              "    </tr>\n",
              "  </tbody>\n",
              "</table>\n",
              "</div>\n",
              "      <button class=\"colab-df-convert\" onclick=\"convertToInteractive('df-865a3463-effb-41e7-8b76-7e72600f2835')\"\n",
              "              title=\"Convert this dataframe to an interactive table.\"\n",
              "              style=\"display:none;\">\n",
              "        \n",
              "  <svg xmlns=\"http://www.w3.org/2000/svg\" height=\"24px\"viewBox=\"0 0 24 24\"\n",
              "       width=\"24px\">\n",
              "    <path d=\"M0 0h24v24H0V0z\" fill=\"none\"/>\n",
              "    <path d=\"M18.56 5.44l.94 2.06.94-2.06 2.06-.94-2.06-.94-.94-2.06-.94 2.06-2.06.94zm-11 1L8.5 8.5l.94-2.06 2.06-.94-2.06-.94L8.5 2.5l-.94 2.06-2.06.94zm10 10l.94 2.06.94-2.06 2.06-.94-2.06-.94-.94-2.06-.94 2.06-2.06.94z\"/><path d=\"M17.41 7.96l-1.37-1.37c-.4-.4-.92-.59-1.43-.59-.52 0-1.04.2-1.43.59L10.3 9.45l-7.72 7.72c-.78.78-.78 2.05 0 2.83L4 21.41c.39.39.9.59 1.41.59.51 0 1.02-.2 1.41-.59l7.78-7.78 2.81-2.81c.8-.78.8-2.07 0-2.86zM5.41 20L4 18.59l7.72-7.72 1.47 1.35L5.41 20z\"/>\n",
              "  </svg>\n",
              "      </button>\n",
              "      \n",
              "  <style>\n",
              "    .colab-df-container {\n",
              "      display:flex;\n",
              "      flex-wrap:wrap;\n",
              "      gap: 12px;\n",
              "    }\n",
              "\n",
              "    .colab-df-convert {\n",
              "      background-color: #E8F0FE;\n",
              "      border: none;\n",
              "      border-radius: 50%;\n",
              "      cursor: pointer;\n",
              "      display: none;\n",
              "      fill: #1967D2;\n",
              "      height: 32px;\n",
              "      padding: 0 0 0 0;\n",
              "      width: 32px;\n",
              "    }\n",
              "\n",
              "    .colab-df-convert:hover {\n",
              "      background-color: #E2EBFA;\n",
              "      box-shadow: 0px 1px 2px rgba(60, 64, 67, 0.3), 0px 1px 3px 1px rgba(60, 64, 67, 0.15);\n",
              "      fill: #174EA6;\n",
              "    }\n",
              "\n",
              "    [theme=dark] .colab-df-convert {\n",
              "      background-color: #3B4455;\n",
              "      fill: #D2E3FC;\n",
              "    }\n",
              "\n",
              "    [theme=dark] .colab-df-convert:hover {\n",
              "      background-color: #434B5C;\n",
              "      box-shadow: 0px 1px 3px 1px rgba(0, 0, 0, 0.15);\n",
              "      filter: drop-shadow(0px 1px 2px rgba(0, 0, 0, 0.3));\n",
              "      fill: #FFFFFF;\n",
              "    }\n",
              "  </style>\n",
              "\n",
              "      <script>\n",
              "        const buttonEl =\n",
              "          document.querySelector('#df-865a3463-effb-41e7-8b76-7e72600f2835 button.colab-df-convert');\n",
              "        buttonEl.style.display =\n",
              "          google.colab.kernel.accessAllowed ? 'block' : 'none';\n",
              "\n",
              "        async function convertToInteractive(key) {\n",
              "          const element = document.querySelector('#df-865a3463-effb-41e7-8b76-7e72600f2835');\n",
              "          const dataTable =\n",
              "            await google.colab.kernel.invokeFunction('convertToInteractive',\n",
              "                                                     [key], {});\n",
              "          if (!dataTable) return;\n",
              "\n",
              "          const docLinkHtml = 'Like what you see? Visit the ' +\n",
              "            '<a target=\"_blank\" href=https://colab.research.google.com/notebooks/data_table.ipynb>data table notebook</a>'\n",
              "            + ' to learn more about interactive tables.';\n",
              "          element.innerHTML = '';\n",
              "          dataTable['output_type'] = 'display_data';\n",
              "          await google.colab.output.renderOutput(dataTable, element);\n",
              "          const docLink = document.createElement('div');\n",
              "          docLink.innerHTML = docLinkHtml;\n",
              "          element.appendChild(docLink);\n",
              "        }\n",
              "      </script>\n",
              "    </div>\n",
              "  </div>\n",
              "  "
            ]
          },
          "metadata": {},
          "execution_count": 37
        }
      ],
      "source": [
        "df[['Review', 'sent_bert_token_length']].head()"
      ]
    },
    {
      "cell_type": "code",
      "execution_count": null,
      "metadata": {
        "id": "AHYVdx_JGYWm",
        "colab": {
          "base_uri": "https://localhost:8080/",
          "height": 542
        },
        "outputId": "785aa7c9-2f77-4f4f-906c-01e363dd4c6a"
      },
      "outputs": [
        {
          "output_type": "display_data",
          "data": {
            "text/html": [
              "<html>\n",
              "<head><meta charset=\"utf-8\" /></head>\n",
              "<body>\n",
              "    <div>            <script src=\"https://cdnjs.cloudflare.com/ajax/libs/mathjax/2.7.5/MathJax.js?config=TeX-AMS-MML_SVG\"></script><script type=\"text/javascript\">if (window.MathJax) {MathJax.Hub.Config({SVG: {font: \"STIX-Web\"}});}</script>                <script type=\"text/javascript\">window.PlotlyConfig = {MathJaxConfig: 'local'};</script>\n",
              "        <script src=\"https://cdn.plot.ly/plotly-2.8.3.min.js\"></script>                <div id=\"8b2a277f-8765-4700-bbcf-5300f5cbd0a5\" class=\"plotly-graph-div\" style=\"height:525px; width:100%;\"></div>            <script type=\"text/javascript\">                                    window.PLOTLYENV=window.PLOTLYENV || {};                                    if (document.getElementById(\"8b2a277f-8765-4700-bbcf-5300f5cbd0a5\")) {                    Plotly.newPlot(                        \"8b2a277f-8765-4700-bbcf-5300f5cbd0a5\",                        [{\"alignmentgroup\":\"True\",\"bingroup\":\"x\",\"histnorm\":\"percent\",\"hovertemplate\":\"sent_bert_token_length=%{x}<br>percent=%{y}<extra></extra>\",\"legendgroup\":\"\",\"marker\":{\"color\":\"rgb(214, 249, 207)\",\"pattern\":{\"shape\":\"\"}},\"name\":\"\",\"nbinsx\":20,\"offsetgroup\":\"\",\"orientation\":\"v\",\"showlegend\":false,\"x\":[90,260,259,101,211,148,106,102,65,38,52,55,93,75,30,216,274,168,21,168,197,23,53,143,34,74,47,78,172,39,37,69,92,91,48,86,147,44,68,55,143,64,25,58,54,228,72,75,63,41,53,93,73,32,140,124,65,238,37,134,61,60,69,113,80,20,76,231,27,18,34,266,104,61,36,138,68,41,43,139,114,19,113,112,52,79,67,104,168,236,48,23,250,75,157,27,95,95,146,135,58,113,187,125,69,82,233,51,268,57,230,26,132,138,59,113,76,16,30,68,36,145,68,83,36,80,80,47,121,119,136,84,144,87,130,89,172,103,284,115,31,26,52,87,82,42,154,37,43,27,98,52,157,203,84,38,38,120,81,51,52,80,43,151,23,45,391,78,58,71,34,36,102,55,68,21,226,147,61,112,60,186,40,56,66,84,50,55,60,49,70,45,146,61,37,77,239,214,210,77,25,15,117,22,34,88,83,99,130,50,61,42,81,84,79,105,54,28,50,84,171,53,186,96,184,36,39,50,81,78,76,47,74,99,116,28,247,71,50,139,31,132,77,73,41,58,94,70,168,92,76,60,37,100,27,117,33,107,56,110,104,132,121,134,121,117,109,35,281,72,105,41,83,167,105,42,50,52,49,40,52,79,75,105,154,86,67,115,199,71,69,65,118,98,160,72,96,83,125,82,67,152,186,35,63,18,53,82,33,28,118,53,138,78,102,52,77,66,103,61,60,209,58,50,162,114,119,131,87,142,70,258,47,80,116,49,206,100,52,44,52,48,40,111,641,61,83,23,123,37,98,94,109,104,90,79,65,88,140,84,66,36,24,43,51,66,62,81,425,84,45,142,252,59,308,253,43,106,202,65,120,55,180,73,113,24,28,85,132,132,69,42,34,102,75,231,70,50,103,21,39,119,166,115,152,100,86,96,14,86,64,101,116,102,49,116,60,72,161,168,44,95,52,120,55,69,25,179,51,122,61,29,137,43,109,153,95,58,35,92,90,151,532,420,70,125,61,186,143,46,85,66,17,55,149,85,85,55,191,72,95,32,64,197,51,125,47,30,40,146,26,35,85,37,134,105,49,121,27,76,13,188,236,82,57,38,36,794,9,54,65,42,63,127,46,48,91,106,67,37,31,61,169,187,41,130,269,193,57,97,96,131,95,173,54,131,315,231,193,297,255,87,35,56,53,168,58,21,66,27,138,94,122,101,35,47,51,46,108,37,39,76,16,27,70,39,104,52,47,166,88,143,24,276,109,212,16,49,71,55,45,45,106,96,203,54,51,25,283,39,61,69,130,43,51,105,33,89,324,160,120,43,208,47,230,42,100,120,133,70,141,182,74,60,79,147,42,70,19,15,54,21,51,99,72,165,174,157,38,42,67,179,35,150,52,34,64,31,59,18,50,80,56,34,53,90,52,59,118,150,128,65,127,109,53,59,125,195,123,112,83,174,145,87,33,84,53,227,110,59,65,247,82,69,30,153,106,87,56,201,20,47,174,235,251,93,116,42,166,55,132,66,154,186,83,21,176,181,70,70,126,63,87,78,43,159,48,215,71,104,138,46,48,49,96,157,115,31,58,70,75,81,57,41,68,62,82,48,195,105,40,65,46,98,145,34,106,50,161,86,81,100,189,204,33,36,166,96,34,36,19,61,52,52,170,40,59,57,73,54,106,142,91,62,58,35,147,61,170,52,36,54,40,95,67,45,70,20,174,137,116,39,97,69,41,27,128,110,81,36,74,41,30,134,38,38,114,76,153,163,193,87,293,33,185,77,87,27,137,45,66,139,127,75,36,138,45,35,51,49,31,88,116,100,41,159,61,85,120,88,69,138,135,86,98,73,63,34,31,21,83,107,131,46,55,101,158,40,137,79,155,71,66,191,210,33,56,14,110,59,35,53,88,61,77,38,81,191,73,92,92,227,77,77,28,114,114,80,69,107,48,117,25,148,102,112,66,42,174,91,79,49,84,26,47,208,34,159,70,24,78,78,110,59,44,26,71,54,28,63,107,105,182,42,35,121,80,116,120,40,57,45,63,95,31,81,31,45,49,85,70,57,64,53,56,50,27,58,145,70,50,21,57,48,67,54,50,133,86,62,35,211,88,54,30,59,17,46,55,154,68,130,31,43,27,62,47,135,206,59,48,107,101,43,85,15,43,75,170,70,101,150,42,62,99,80,213,156,66,71,28,35,72,40,90,64,81,101,108,57,102,145,110,121,121,326,60,90,77,79,99,178,192,37,390,21,80,70,70,71,117,151,26,106,70,59,113,46,30,23,98,50,97,176,51,68,101,127,287,33,104,31,10,85,93,42,33,199,156,43,29,55,392,147,80,51,116,47,22,30,91,76,270,183,19,21,173,42,82,57,47,36,28,201,66,76,72,44,197,94,101,149,61,38,73,55,42,157,49,69,61,68,75,60,89,55,25,122,54,253,72,137,104,82,265,66,78,30,157,114,112,370,63,101,45,51,11,28,85,92,98,383,40,33,91,24,159,116,54,227,141,41,108,123,104,85,46,45,78,20,38,173,67,40,193,105,52,75,43,49,109,220,77,130,76,83,200,33,125,84,97,72,25,44,68,32,61,60,85,44,94,79,53,78,33,60,51,31,111,51,115,75,85,89,105,88,78,139,106,48,15,80,43,93,44,97,30,121,58,106,103,92,111,32,80,21,113,167,14,62,59,111,74,71,76,110,119,46,94,193,31,74,86,117,76,72,75,81,94,44,100,139,127,34,63,93,261,40,75,88,37,101,88,88,75,54,61,22,279,93,185,36,71,52,96,95,73,60,56,54,39,93,76,63,27,45,164,111,161,251,69,40,49,201,118,104,98,75,16,160,47,89,32,100,28,48,43,60,76,105,70,28,74,64,129,43,234,63,50,213,62,63,37,169,474,94,130,213,26,97,113,311,157,75,49,175,155,35,177,44,67,410,97,229,144,85,102,32,72,149,48,67,73,290,65,89,63,83,61,47,114,42,300,25,146,199,122,401,475,301,82,303,173,114,99,271,377,55,86,122,202,45,74,1059,31,33,105,75,64,194,57,75,60,94,129,64,38,39,44,38,131,30,176,79,75,37,84,98,91,27,85,56,24,153,55,57,149,117,87,113,200,93,37,231,78,90,54,53,99,94,155,96,35,97,107,45,46,52,38,59,48,53,91,93,142,94,60,51,200,220,63,70,351,33,30,124,33,213,119,116,90,532,90,170,198,74,124,63,107,84,78,68,120,48,155,97,31,25,84,122,99,51,83,36,205,166,80,131,118,24,317,160,474,42,121,41,72,28,182,58,206,87,103,129,29,93,64,26,90,101,73,97,66,95,108,56,26,141,236,396,46,239,359,69,92,311,70,153,456,29,355,101,29,164,117,71,48,40,73,123,209,7,26,59,282,31,181,221,173,153,109,114,90,237,100,72,75,95,142,98,109,52,52,200,41,188,84,19,79,55,30,167,91,146,123,209,107,55,23,158,24,83,83,35,31,60,32,271,115,72,59,251,77,102,52,128,91,101,104,41,33,60,49,43,176,42,16,86,60,164,19,14,88,46,114,123,172,54,82,28,40,66,273,162,64,141,100,135,154,38,95,34,152,59,35,115,94,46,33,84,147,217,209,48,34,35,127,63,67,56,67,105,54,51,118,47,156,124,125,76,95,55,185,52,61,79,208,86,114,81,44,117,50,152,64,123,90,48,81,63,48,57,14,91,60,16,33,33,78,74,61,45,157,64,36,117,46,87,39,43,47,45,52,47,100,70,109,140,109,134,103,74,30,47,154,26,34,133,40,53,19,35,262,85,37,87,90,22,68,95,75,89,31,38,85,136,38,257,122,47,120,97,95,122,55,26,119,47,70,124,106,189,92,88,44,98,79,57,107,102,149,180,27,44,78,37,49,153,92,124,59,100,102,30,92,46,32,140,111,139,83,66,36,98,157,51,127,29,45,43,45,108,46,108,33,56,50,30,192,35,56,48,32,118,165,45,51,114,68,42,241,105,91,15,101,37,88,86,66,35,235,24,99,21,41,131,119,55,100,70,111,63,50,25,32,79,159,615,37,131,62,88,78,55,140,270,111,238,130,72,84,62,98,75,81,49,83,20,112,87,60,49,45,159,84,100,32,43,41,34,73,35,56,35,51,160,37,80,145,99,57,63,49,134,84,28,281,97,155,87,118,95,64,89,44,69,70,105,64,158,86,122,46,49,129,68,65,77,76,153,81,59,64,95,89,189,42,46,99,112,60,23,35,97,88,40,35,28,159,43,78,41,54,35,141,320,43,95,113,48,119,71,99,103,56,112,113,27,53,39,81,138,111,27,132,34,52,98,99,39,70,83,109,81,56,33,148,30,74,101,31,53,57,70,39,59,93,29,55,21,48,112,43,105,112,51,159,220,33,70,128,277,62,86,346,84,22,65,13,287,55,204,93,105,116,185,215,147,129,75,36,131,53,73,71,80,180,286,85,37,310,248,62,211,52,490,80,140,175,87,108,57,63,182,192,399,53,127,64,101,175,57,60,37,221,132,48,95,69,94,38,73,198,77,105,43,56,216,110,148,61,144,75,53,39,100,78,58,91,102,87,62,202,493,204,101,90,96,78,24,110,34,139,626,90,54,88,47,90,60,36,127,256,112,102,64,194,124,136,62,132,141,113,80,194,100,99,84,59,152,119,132,103,203,18,158,95,304,189,130,113,122,105,81,140,40,70,53,83,97,102,23,104,51,48,22,28,81,112,42,224,113,128,88,155,128,81,23,63,72,17,34,44,171,42,82,55,48,26,226,47,56,111,90,55,61,110,43,41,71,27,25,35,117,21,267,65,55,75,72,93,109,70,72,96,103,37,51,69,191,89,237,120,155,87,27,62,165,147,146,102,217,12,69,38,23,68,70,19,17,56,36,42,95,82,181,115,123,193,87,44,280,68,143,46,74,56,93,74,60,18,165,166,91,71,10,111,22,53,44,90,48,78,111,86,89,249,45,71,62,96,95,15,71,135,143,49,48,55,294,115,70,33,30,50,62,70,88,39,30,106,116,81,106,115,88,142,71,128,61,206,42,255,66,313,192,120,189,53,428,181,73,147,140,91,66,183,99,110,98,46,48,92,108,56,120,83,57,39,101,76,95,20,66,111,96,123,200,55,45,643,251,197,80,51,40,67,49,43,51,82,61,428,101,302,44,84,102,38,27,63,85,53,153,40,27,67,410,94,111,35,144,37,84,289,62,215,51,53,160,84,108,575,73,79,62,16,72,109,38,85,78,13,24,92,65,145,88,59,135,93,109,82,45,96,26,15,175,73,95,170,32,81,36,80,262,32,82,48,26,91,98,250,65,53,81,24,208,16,288,97,127,38,50,100,88,155,49,116,227,161,55,92,154,38,22,51,69,71,41,81,71,55,42,130,57,236,94,60,73,135,213,45,123,343,89,103,126,32,25,82,88,63,55,43,46,61,76,50,16,47,1056,147,120,78,55,353,119,267,129,187,176,120,117,74,42,111,52,35,57,41,212,192,174,428,85,323,176,60,114,357,183,30,137,279,143,107,44,80,59,130,92,92,138,320,192,66,94,88,114,111,81,238,16,165,235,109,195,51,95,143,51,38,54,60,47,60,66,95,190,134,217,293,508,549,50,144,105,180,77,128,109,60,89,78,31,20,180,339,57,135,209,88,50,47,44,200,43,47,82,405,76,61,346,419,181,148,331,53,65,50,181,78,182,146,61,63,220,147,242,100,449,137,124,38,143,33,338,227,52,40,345,23,58,296,246,72,224,77,99,405,59,105,479,145,274,102,36,107,304,234,243,385,103,124,168,161,269,153,219,177,222,72,212,209,248,315,249,245,383,35,297,138,249,119,29,87,115,145,135,37,400,250,185,262,345,93,91,86,88,135,95,56,322,56,313,289,142,118,251,188,157,127,124,461,133,166,37,76,103,184,274,55,209,237,173,218,173,333,160,177,87,66,93,126,150,99,306,177,61,50,64,166,320,161,163,175,143,300,116,383,81,156,317,89,291,63,62,131,440,84,42,56,98,86,198,88,277,238,164,289,99,57,26,110,50,38,24,62,82,75,409,217,112,123,273,125,361,134,87,102,33,50,33,182,84,215,108,379,297,38,262,116,147,37,92,24,100,89,254,271,78,82,87,385,274,38,90,164,114,92,162,575,181,287,371,184,302,109,106,392,145,182,132,392,247,88,57,389,543,55,139,56,296,288,146,365,163,241,124,91,89,132,61,148,188,85,94,210,197,168,339,108,218,136,52,42,225,536,218,569,601,227,91,364,384,33,161,59,232,25,185,79,52,47,485,106,1292,344,233,203,160,83,294,53,377,733,102,293,37,397,438,117,179,131,129,182,140,81,725,164,103,657,75,215,298,596,198,83,52,301,31,146,108,118,234,151,359,108,101,131,332,226,177,76,164,424,56,86,345,78,133,28,179,165,297,270,172,155,182,203,67,213,105,104,220,192,185,102,63,40,564,120,87,178,350,490,71,86,109,55,343,157,154,150,281,272,76,325,60,372,326,443,152,126,66,535,144,326,343,256,236,157,256,93,133,952,442,58,162,190,118,149,101,68,232,112,246,49,319,100,553,159,79,251,178,128,852,502,162,99,26,176,118,99,505,180,273,50,225,163,580,79,183,379,124,345,66,730,68,223,91,112,525,168,91,95,152,219,156,344,201,1498,385,132,82,150,1350,263,127,381,128,262,327,731,139,117,231,120,112,1133,296,57,171,73,261,87,85,147,35,184,149,173,38,42,673,96,132,424,42,143,352,135,254,156,43,308,74,187,435,334,220,81,131,192,166,295,347,59,245,127,79,657,720,161,116,251,364,245,255,745,68,310,443,242,82,118,110,154,85,343,592,130,371,84,204,240,185,213,1112,546,112,250,127,282,814,151,183,380,91,48,65,275,404,180,175,289,120,665,596,521,68,141,749,55,48,203,66,92,140,499,556,530,140,145,225,109,267,227,95,240,563,224,82,222,187,156,361,339,141,84,85,203,562,120,309,239,91,172,163,285,692,436,138,938,348,563,298,51,111,579,150,1090,83,63,143,113,389,65,341,119,129,122,205,202,100,243,186,222,151,262,148,215,151,33,157,60,46,191,365,104,247,81,200,195,142,180,149,39,62,63,123,144,149,169,374,84,47,67,149,202,58,166,55,83,550,147,51,339,373,112,37,73,63,58,578,408,103,447,85,73,527,196,243,64,250,154,284,12,59,52,76,85,30,224,169,89,622,84,62,138,1342,307,240,151,28,66,108,159,319,122,132,400,60,530,192,398,537,76,129,482,148,183,230,171,172,131,292,390,111,134,58,230,687,386,221,212,435,321,45,59,40,124,85,110,120,263,527,87,179,66,116,150,58,93,440,36,223,99,244,767,181,220,67,137,97,111,31,371,310,308,237,38,235,105,179,97,119,244,156,41,77,129,18,71,112,175,49,32,80,64,176,94,132,114,116,129,82,92,48,149,96,70,49,262,37,14,423,127,128,79,122,92,161,102,117,65,60,148,426,342,180,364,135,73,35,168,119,182,113,204,124,138,38,91,55,185,40,53,178,26,32,220,144,59,14,65,222,361,51,95,92,30,58,286,72,48,116,178,115,239,82,133,118,79,264,33,49,128,68,59,152,155,30,82,152,130,202,254,143,72,184,194,91,121,95,134,62,144,184,27,150,19,193,209,238,98,273,170,39,100,30,89,226,44,172,138,73,120,124,197,91,72,187,35,66,186,541,80,81,106,176,96,72,110,133,262,134,42,53,31,160,103,138,44,92,82,187,362,207,368,172,143,315,127,17,101,26,141,216,214,98,48,80,116,235,67,166,61,110,25,41,264,115,149,49,429,253,86,210,37,85,62,87,83,55,109,23,103,212,79,139,140,68,194,99,19,357,122,122,103,96,85,50,44,285,30,52,66,71,172,117,129,156,114,251,83,33,264,92,39,322,129,115,133,295,670,297,164,99,118,255,217,127,128,109,123,203,196,24,221,87,534,83,256,96,514,180,140,370,399,133,126,65,128,298,96,230,635,157,188,87,382,582,121,97,207,101,252,191,26,251,114,716,82,356,268,94,100,93,203,108,215,204,100,116,91,151,32,147,221,256,156,187,691,335,829,32,282,123,279,218,344,63,88,73,167,137,152,258,179,327,466,150,137,188,56,70,459,91,24,468,64,208,346,398,27,169,152,394,51,85,199,108,114,40,195,705,152,266,263,294,79,377,111,187,225,338,16,330,266,255,271,220,142,70,436,345,191,120,38,118,952,167,213,122,126,167,267,190,324,78,226,305,31,368,135,82,69,61,94,130,175,89,134,125,84,555,232,131,136,114,53,272,212,117,105,269,82,293,157,377,156,325,109,233,78,197,161,122,419,230,289,380,154,69,96,80,360,52,102,117,166,127,412,504,166,1360,186,157,178,98,286,56,229,294,198,102,334,162,337,340,111,54,85,184,119,85,133,604,310,329,156,406,135,87,156,205,307,98,44,40,96,640,102,27,185,170,37,38,357,58,35,45,123,126,264,88,217,103,274,529,224,252,94,148,94,160,219,82,167,227,204,223,147,256,202,78,82,140,133,129,53,93,708,175,63,125,410,185,96,80,195,64,56,103,52,41,127,109,84,73,119,293,203,47,485,125,355,445,112,228,201,112,76,209,186,81,72,122,123,58,196,111,24,27,130,77,129,61,47,102,101,255,274,207,169,55,480,99,386,278,369,57,321,585,495,214,200,141,126,342,102,185,215,166,369,179,128,107,45,451,221,93,60,43,146,174,72,141,469,217,165,207,486,307,399,78,73,16,103,85,135,595,211,306,390,51,235,45,210,114,29,146,121,95,83,134,126,126,64,128,120,78,91,28,77,149,31,220,235,128,30,262,429,224,82,196,72,50,179,139,100,170,111,286,28,49,79,80,160,44,56,115,71,89,53,45,236,264,256,119,61,206,72,141,35,55,68,84,154,50,76,223,50,140,36,72,82,17,64,195,110,285,187,49,237,76,212,124,70,79,91,29,54,192,72,52,19,77,47,71,66,176,175,85,81,79,24,63,77,159,72,62,76,61,54,61,127,25,70,47,83,152,93,44,31,60,48,81,71,54,70,107,48,65,82,64,66,136,84,27,207,43,140,47,20,113,118,67,46,48,107,177,47,50,92,107,95,363,229,128,38,153,331,93,37,254,58,73,108,98,96,15,32,45,31,53,59,72,114,59,70,31,90,53,58,33,69,96,52,27,49,95,44,45,34,33,288,14,84,159,94,74,49,99,50,74,51,176,149,70,65,347,74,389,230,36,63,70,81,167,306,56,610,124,191,66,23,94,65,242,75,74,97,211,118,88,90,33,113,208,45,81,131,43,91,482,369,372,88,105,317,198,80,81,492,355,92,101,222,76,69,75,30,163,258,39,106,119,89,103,62,92,78,95,121,150,151,32,92,117,80,65,21,101,61,105,110,41,100,88,100,69,35,48,117,86,101,113,54,91,49,124,68,35,75,105,31,60,108,83,138,155,135,95,45,51,82,49,79,121,99,60,47,30,118,154,27,28,128,41,34,121,38,179,98,72,100,34,43,83,49,30,63,53,90,144,49,27,56,34,41,19,145,109,45,127,27,126,53,321,65,63,168,33,184,122,100,89,68,32,157,96,74,130,29,31,153,65,19,37,54,76,43,56,58,136,134,136,88,122,70,109,132,44,123,49,84,120,88,51,55,54,89,151,87,50,60,20,87,37,95,56,57,473,18,35,38,25,37,69,84,79,77,86,24,83,88,43,41,161,48,54,112,129,172,146,121,40,25,90,168,134,119,80,87,100,99,38,208,125,195,24,22,104,262,55,119,110,43,72,53,131,297,196,14,115,164,54,73,76,38,41,164,65,43,30,41,68,41,81,52,158,48,104,57,16,49,33,74,134,299,48,63,64,125,106,22,255,74,117,65,348,58,138,41,233,64,184,49,72,166,71,54,50,30,120,88,159,84,66,82,90,108,81,83,141,43,65,17,70,90,142,122,95,71,59,74,76,74,51,101,99,40,19,49,55,86,96,34,45,67,178,30,218,35,30,38,103,68,91,31,410,210,25,94,65,33,16,49,47,115,180,39,54,218,159,129,169,167,113,37,64,44,68,31,37,28,71,31,67,92,35,22,120,47,68,16,74,108,115,101,35,14,14,37,116,82,116,27,36,56,34,201,54,146,31,129,53,65,32,66,164,11,51,41,96,84,48,207,43,99,113,26,144,78,91,69,64,96,56,67,63,124,327,62,62,126,70,52,43,229,176,91,67,90,214,109,197,38,51,16,24,50,78,51,32,224,48,50,40,145,123,166,49,341,65,85,19,106,44,105,126,57,93,185,62,128,17,149,66,216,39,77,53,73,74,47,53,79,56,188,14,126,102,32,97,109,54,83,172,237,76,28,63,137,184,51,85,48,67,48,49,49,42,35,118,117,41,73,78,201,58,89,42,119,82,99,73,86,141,52,39,56,47,59,47,113,40,86,112,30,77,103,91,51,235,32,34,42,149,147,55,197,92,42,42,49,70,69,49,55,37,113,95,68,99,47,57,96,36,38,63,34,85,48,170,103,62,77,101,89,67,42,23,19,85,124,93,77,74,27,46,102,129,67,67,19,78,139,49,57,43,53,157,114,40,35,11,116,102,32,104,28,152,137,115,28,81,57,136,56,19,171,32,38,113,111,44,13,79,71,29,56,138,146,169,47,103,27,80,131,21,39,80,26,39,26,67,25,217,31,35,89,79,114,92,99,130,123,110,234,55,48,33,102,152,58,166,31,68,57,72,64,58,33,79,59,34,70,66,141,109,95,45,59,126,35,42,128,101,59,82,41,72,136,30,156,77,112,102,197,106,68,45,37,98,76,40,50,64,60,22,109,30,68,51,225,45,288,52,74,52,40,128,127,77,89,76,44,66,61,100,119,73,177,199,46,56,79,23,162,136,131,103,57,19,161,102,27,64,150,135,71,81,64,49,90,41,82,126,71,128,85,172,40,66,16,119,62,64,45,43,84,56,41,94,55,124,35,125,44,106,38,72,48,99,126,39,126,169,68,72,36,50,188,45,141,74,64,100,95,138,120,38,257,268,188,61,72,145,72,36,103,60,124,25,176,87,98,20,99,123,104,147,62,140,71,74,153,211,47,116,183,72,85,65,36,202,134,55,25,39,179,162,58,20,153,109,183,80,53,51,22,50,87,32,219,203,100,27,160,149,113,285,177,83,53,117,75,75,153,57,86,97,76,42,14,67,30,109,97,34,34,42,30,95,68,58,76,45,53,44,98,85,67,56,23,71,34,62,136,50,122,83,93,60,53,36,64,51,131,52,14,63,36,62,108,45,145,58,60,40,94,123,65,92,80,107,100,68,32,97,26,26,46,41,38,42,73,84,22,119,42,130,70,42,53,83,39,36,74,39,53,50,45,87,84,40,157,89,40,65,52,37,38,24,31,41,176,34,62,85,47,86,18,69,47,70,18,127,154,81,94,75,43,64,23,69,110,183,75,90,127,54,131,138,169,61,62,42,57,97,43,86,123,50,33,120,108,103,45,67,112,76,130,39,74,21,60,44,44,68,60,24,63,208,27,246,359,39,57,60,70,85,41,33,36,151,103,62,39,77,69,86,27,28,172,32,214,63,124,56,60,63,40,32,79,254,49,124,27,211,20,21,28,80,100,88,254,29,413,67,37,61,12,51,34,21,40,39,23,78,177,66,49,92,60,87,160,102,81,141,109,43,39,34,199,127,128,81,49,46,107,92,33,24,79,94,20,171,54,50,101,33,72,48,73,176,70,50,75,65,70,73,47,50,195,29,74,430,24,68,63,191,20,58,92,106,49,30,46,56,40,78,212,135,115,42,32,70,38,56,108,89,86,145,54,88,93,115,64,145,47,85,35,36,95,71,81,93,71,64,72,245,65,41,244,82,157,26,85,156,123,59,58,29,166,63,63,174,30,228,60,182,48,85,227,31,90,86,59,32,69,109,81,100,29,83,72,161,66,49,135,20,133,66,66,185,26,251,58,33,72,56,61,29,48,158,98,124,51,47,191,75,52,249,172,47,67,61,79,134,62,204,98,87,59,57,24,42,70,280,63,195,51,177,57,157,79,61,106,83,30,67,79,57,94,43,40,114,45,57,114,48,93,64,88,26,172,24,308,120,109,55,28,32,138,45,68,85,44,33,171,55,234,42,121,63,40,53,35,119,122,44,174,176,128,87,47,98,39,59,45,67,39,53,60,14,50,64,140,46,32,57,55,23,135,140,159,134,194,198,110,333,90,119,18,93,92,198,114,167,82,130,107,61,37,39,101,74,50,57,63,108,275,757,112,51,19,38,93,73,49,58,129,85,55,79,55,29,68,36,96,63,46,76,119,28,96,52,170,32,44,160,91,101,196,69,154,97,54,174,104,108,29,86,109,60,109,85,60,52,61,67,60,53,133,74,29,113,40,60,105,326,110,88,51,37,32,56,29,156,277,109,29,122,51,35,53,110,34,143,88,103,68,43,62,134,56,118,68,20,75,201,46,20,113,69,87,55,28,108,31,28,18,67,261,140,17,44,171,55,54,68,67,98,45,240,89,88,109,71,28,46,46,66,177,41,76,48,100,194,132,28,58,94,39,64,85,28,37,55,70,81,47,65,18,80,33,79,34,103,106,36,108,31,67,128,138,78,181,41,113,58,75,129,43,51,63,126,48,46,67,15,56,36,63,72,105,144,19,49,62,50,94,178,83,76,75,136,65,54,108,94,495,64,64,39,127,115,31,80,131,81,63,30,163,19,33,182,78,84,55,77,25,38,24,18,87,27,65,86,149,16,270,100,62,81,45,142,52,139,13,105,55,26,233,45,105,212,61,78,56,342,99,74,218,50,131,120,159,112,190,107,91,29,52,23,210,81,47,50,140,155,117,66,59,62,165,314,53,194,96,17,40,28,52,45,169,61,35,142,135,125,61,53,48,134,51,65,60,73,89,48,146,92,81,26,17,77,107,49,38,118,50,46,35,62,50,70,219,72,67,64,92,39,180,36,56,23,53,112,78,35,235,32,36,78,45,52,117,82,605,39,99,51,237,103,107,152,62,36,79,58,156,98,54,80,43,29,130,34,76,128,102,207,216,27,104,42,76,186,98,356,134,65,18,112,207,223,73,218,168,77,138,85,133,36,149,143,117,82,83,57,28,95,56,74,35,42,106,74,55,120,86,98,120,46,73,39,53,43,46,36,61,21,154,86,122,127,34,64,25,104,47,41,42,81,36,109,76,54,97,52,272,76,71,80,117,74,69,93,126,92,26,154,104,57,39,49,47,86,146,20,114,129,76,413,88,86,91,196,56,75,39,37,50,27,79,123,52,30,94,42,101,28,25,93,66,91,108,367,29,128,33,125,70,43,118,64,67,33,57,49,80,211,178,36,81,157,61,133,79,49,61,43,58,80,45,102,83,75,138,86,135,454,154,55,25,53,29,125,218,55,83,171,162,76,141,316,29,57,99,257,99,98,155,136,91,215,48,70,112,125,33,163,80,89,94,184,102,34,50,32,196,100,792,58,127,129,18,76,24,114,139,28,87,155,64,357,151,241,95,607,281,453,163,69,371,273,142,268,282,297,165,91,444,169,67,69,111,422,205,177,383,154,177,555,187,338,127,48,498,78,305,492,92,445,434,358,85,300,286,198,38,345,94,382,476,189,251,64,164,47,38,110,360,163,177,81,104,503,69,110,112,96,82,331,135,103,87,227,308,297,54,158,101,40,69,32,57,65,175,127,26,146,24,127,65,51,70,30,89,171,235,247,28,213,380,105,200,100,89,81,125,46,71,95,43,64,53,136,47,103,184,167,117,57,98,182,120,78,39,125,33,33,123,94,63,63,79,137,64,75,96,145,153,100,43,81,74,60,63,23,42,154,77,105,84,127,131,81,104,201,348,144,50,91,87,45,93,218,111,53,190,104,95,56,30,45,133,47,313,139,49,69,42,48,112,439,23,76,78,178,121,35,68,130,54,39,102,146,64,111,76,111,90,64,139,92,51,41,202,65,73,57,37,43,54,22,121,53,58,185,194,101,84,246,26,41,73,125,142,146,65,39,45,104,54,82,47,86,48,34,60,53,47,43,51,95,136,135,197,28,52,127,80,67,204,41,111,80,206,51,24,22,36,100,59,90,74,48,158,84,37,53,42,64,92,100,177,141,95,388,122,167,39,84,181,45,73,100,83,152,25,47,62,35,39,194,39,196,228,83,105,56,40,57,41,33,96,100,161,97,105,67,115,65,40,177,45,72,62,168,34,41,40,48,58,67,43,123,99,55,81,44,104,127,172,83,51,104,71,58,59,89,33,58,103,97,147,27,46,115,220,65,36,27,197,37,106,48,88,86,109,109,57,112,60,48,35,85,59,79,60,190,39,29,113,201,77,134,201,106,108,70,56,42,79,148,12,117,67,31,84,34,63,230,104,102,100,72,44,100,121,50,41,51,48,22,51,53,37,86,94,61,47,89,53,136,54,29,66,21,156,70,20,45,128,31,93,98,118,50,78,196,55,35,81,120,79,674,83,91,52,33,71,61,83,211,91,51,114,76,186,117,56,91,91,27,26,115,74,144,31,29,78,108,61,34,206,58,62,55,182,102,75,71,48,162,64,64,34,94,60,52,55,221,80,75,254,64,41,21,168,33,46,53,59,70,176,33,122,31,250,58,44,51,74,59,55,75,146,51,13,44,62,297,137,85,105,47,44,108,68,67,49,96,49,25,101,26,63,26,54,78,84,65,64,26,116,22,145,198,216,37,48,37,136,92,36,53,192,59,21,119,105,72,58,50,250,87,101,76,25,270,146,185,128,197,308,37,37,320,98,146,175,49,106,51,358,104,97,268,217,31,385,149,161,131,135,172,451,203,289,100,165,247,149,173,273,188,449,123,405,130,752,412,62,151,256,28,21,113,113,60,896,445,516,193,553,521,123,131,208,202,95,436,360,296,176,448,313,463,181,99,294,202,364,249,195,160,625,313,140,695,73,131,279,346,472,443,363,568,218,180,193,301,30,202,372,330,124,441,177,117,266,110,194,74,111,417,500,102,411,37,250,805,143,319,41,224,412,198,158,46,151,581,52,187,200,74,39,71,310,279,337,149,886,86,165,213,50,119,103,164,364,110,157,136,86,157,420,141,35,399,108,138,167,171,44,63,220,115,567,105,145,132,119,89,234,200,175,399,711,186,473,173,191,435,605,40,111,49,142,80,117,178,356,258,233,270,110,183,49,217,233,85,140,179,279,395,101,119,132,246,123,172,236,93,209,93,272,107,405,92,257,86,98,73,105,64,95,97,46,39,311,66,216,42,363,68,36,29,97,49,46,146,220,76,54,103,111,18,89,125,257,63,33,1626,36,1601,131,112,105,94,435,567,224,158,248,524,145,142,370,142,152,28,250,59,286,221,171,109,86,52,162,104,162,25,353,495,68,432,170,112,65,325,618,63,31,116,311,60,429,479,435,68,112,291,203,150,182,131,705,334,118,20,267,278,521,79,207,170,109,260,85,13,505,266,243,229,325,114,264,409,220,178,224,85,128,253,193,95,63,101,77,287,136,294,156,207,36,83,105,131,101,133,81,93,497,35,107,622,189,72,90,112,353,146,41,85,96,166,424,241,357,87,46,272,140,75,397,197,137,173,316,489,64,148,110,71,266,271,44,181,116,149,248,528,132,43,89,305,90,130,125,161,277,273,42,52,181,412,244,80,77,403,291,61,277,370,118,403,49,315,143,170,180,51,112,174,423,166,353,187,91,211,207,356,949,446,61,108,69,199,210,184,231,122,201,42,284,134,105,187,312,114,429,697,295,60,269,120,257,1255,422,382,75,411,316,203,309,46,241,581,120,489,226,131,54,181,143,66,297,63,298,1970,60,492,100,119,175,142,583,74,145,720,638,209,424,305,93,48,273,96,180,78,418,66,2182,364,600,490,152,133,53,94,179,122,56,193,433,47,155,69,205,39,111,137,151,199,193,76,25,217,238,105,117,154,402,382,309,79,266,195,329,246,465,218,92,413,193,131,57,74,373,233,189,139,407,101,67,250,150,102,108,36,253,98,362,59,145,195,174,18,111,349,410,103,74,79,381,394,111,75,90,157,258,121,68,124,49,380,240,179,248,222,32,230,127,231,264,701,33,69,95,456,302,212,406,115,440,238,332,190,217,178,108,113,76,92,22,37,45,55,83,132,68,210,74,121,74,70,74,22,127,82,92,43,27,228,34,59,20,90,110,102,101,79,87,117,37,189,156,158,71,295,260,111,35,46,33,166,49,30,78,40,28,56,92,75,77,155,54,95,25,208,17,77,68,16,48,240,29,83,97,26,106,10,48,83,30,56,89,46,77,21,73,28,29,39,67,48,39,29,88,19,76,87,73,199,83,46,39,78,70,72,128,104,76,114,177,43,90,100,101,124,136,112,59,64,54,60,39,126,147,203,162,155,221,34,76,106,90,24,74,106,173,130,411,152,106,148,61,124,110,82,256,172,53,25,86,64,70,122,84,47,122,129,98,165,112,95,95,207,46,89,306,26,351,97,53,65,20,92,106,183,84,385,275,122,113,441,63,135,44,104,33,55,87,160,136,81,165,197,244,64,58,35,201,25,45,76,33,46,100,20,57,49,101,94,62,144,67,70,111,51,10,68,37,49,160,32,48,48,98,35,38,85,168,42,66,85,39,98,42,114,253,88,122,41,132,57,62,93,118,28,79,97,60,64,126,222,97,77,115,130,16,138,67,77,50,105,148,81,80,30,114,108,101,130,112,81,82,40,92,116,130,47,61,79,79,142,110,26,48,80,32,78,245,103,138,90,19,20,54,193,61,27,120,71,24,59,78,92,50,71,31,111,34,41,140,137,88,40,14,74,145,20,30,157,149,36,137,44,186,44,92,111,93,79,59,162,161,145,119,30,37,48,29,33,46,145,25,59,77,190,107,43,179,110,113,141,246,140,137,63,113,93,93,435,162,25,133,232,24,72,78,105,263,118,171,112,176,117,112,44,60,135,74,144,32,37,57,30,139,223,98,50,89,148,147,218,20,65,77,113,47,133,92,122,57,155,32,107,39,75,81,68,172,189,190,45,27,62,82,55,127,81,40,88,61,85,128,74,86,125,94,179,191,96,58,96,124,125,189,99,78,70,178,63,40,261,99,30,23,63,275,21,29,172,73,43,70,88,145,882,339,94,92,943,228,35,287,157,128,166,113,119,53,35,58,73,58,118,50,284,69,43,54,118,45,135,61,219,86,55,111,224,106,213,269,107,129,73,122,125,49,84,37,36,145,78,76,182,65,18,88,85,52,101,120,115,68,43,64,74,80,60,35,60,34,74,89,52,172,38,61,18,34,118,79,44,40,54,113,10,71,51,64,54,72,41,48,85,76,37,139,85,75,78,79,60,89,90,207,56,148,13,160,368,86,15,199,56,41,54,94,45,102,50,30,266,111,67,72,74,59,93,47,80,60,68,143,194,65,30,71,66,73,167,142,76,116,74,17,130,25,45,105,303,72,86,103,34,57,57,37,484,38,45,84,88,141,55,87,72,59,239,104,169,102,62,212,116,112,216,72,68,57,63,48,114,55,54,51,27,36,32,123,45,337,118,116,35,23,85,57,59,123,79,78,154,99,86,125,136,39,47,81,89,96,60,74,67,185,84,292,15,44,92,92,76,88,214,179,49,67,140,81,172,85,231,162,62,104,25,25,134,12,127,73,134,77,14,41,118,24,59,168,136,49,29,54,29,78,150,83,63,214,296,93,160,137,156,31,72,76,102,71,121,40,61,67,73,47,152,165,29,152,57,24,116,80,21,38,27,52,140,49,91,66,171,539,171,49,98,119,79,27,185,90,15,95,52,108,68,52,37,160,46,22,107,37,80,59,175,84,241,78,44,223,135,71,59,170,98,140,143,90,46,98,50,156,76,42,123,48,137,151,83,28,90,17,35,104,306,78,118,20,52,79,250,67,148,104,113,27,58,133,122,57,166,124,45,36,87,38,188,30,54,37,65,126,55,48,34,28,110,42,38,177,58,93,88,142,143,62,47,281,46,102,122,187,152,51,102,311,62,285,54,187,41,160,68,56,153,51,206,110,118,115,165,67,131,110,70,80,33,121,10,67,147,53,40,70,78,96,45,78,138,89,276,67,53,58,31,91,70,53,73,41,127,43,80,75,34,145,385,71,32,389,40,54,43,185,58,120,129,53,70,70,37,81,37,309,32,62,22,31,33,193,79,104,39,24,72,36,62,42,170,87,44,172,168,25,42,192,79,142,171,139,40,95,80,93,113,119,135,26,77,35,100,27,87,64,63,88,79,139,78,37,84,60,425,26,60,65,127,85,23,73,63,22,59,150,162,44,19,58,91,55,58,109,93,56,35,78,87,28,37,121,108,56,118,287,88,218,12,180,46,71,58,240,171,99,96,66,75,30,141,47,117,81,60,54,104,52,124,65,38,86,39,21,89,69,58,63,64,60,71,56,17,63,28,92,76,36,83,80,46,142,19,102,67,140,151,58,36,165,113,143,93,33,34,238,41,81,297,199,91,131,76,46,110,139,40,157,144,67,60,119,65,44,53,119,39,35,51,47,52,66,139,76,37,94,41,44,68,127,104,30,46,76,180,77,39,74,29,142,94,83,89,148,18,80,138,25,36,119,65,47,48,183,85,42,45,76,85,72,66,205,56,70,229,60,147,30,134,23,64,30,51,61,20,109,71,34,89,39,133,150,66,66,45,198,50,72,77,65,47,76,22,28,37,49,68,43,49,89,80,104,124,63,114,92,66,117,66,67,161,61,61,95,41,116,89,194,32,64,66,161,133,41,39,119,83,132,17,120,99,33,105,81,57,124,76,99,80,46,46,93,32,29,104,46,38,103,91,128,105,82,60,95,148,166,25,24,60,76,59,50,90,172,77,175,87,106,325,53,63,47,132,76,125,348,258,151,44,87,67,117,125,206,140,107,43,89,27,74,36,163,45,107,99,56,330,29,130,82,58,82,97,74,139,27,327,60,45,89,35,70,43,138,45,73,200,40,47,89,331,44,54,54,40,25,36,68,123,165,67,44,148,37,47,57,25,105,56,32,170,88,129,153,44,244,46,103,116,62,20,135,106,151,86,18,57,19,34,38,92,40,84,82,58,76,74,162,90,67,105,68,91,71,101,44,29,84,40,70,49,27,106,125,61,105,122,107,94,72,73,43,82,62,45,36,48,41,94,57,75,31,144,50,27,48,39,13,59,35,64,85,69,21,26,112,154,139,120,36,48,16,167,42,41,21,304,69,82,90,104,88,68,49,68,177,27,126,68,70,46,71,58,33,33,97,41,79,44,36,278,80,64,44,63,65,60,47,53,60,38,100,43,305,174,54,51,84,291,29,74,55,71,101,52,64,55,61,100,35,43,84,60,44,36,28,42,62,249,33,44,35,33,39,56,162,38,131,96,134,59,79,192,51,68,60,87,49,46,77,21,39,89,43,68,120,75,67,51,119,62,97,21,57,125,53,100,39,67,38,145,33,63,91,96,70,30,42,34,80,225,57,118,110,20,104,52,242,20,108,131,85,102,41,286,174,60,53,63,82,129,65,89,48,63,39,91,102,73,122,76,37,48,62,98,98,68,42,51,131,88,61,248,58,57,134,111,205,166,27,136,95,51,73,44,68,72,65,83,107,36,129,96,169,129,175,125,41,50,126,109,126,35,103,88,23,61,376,178,48,98,139,204,32,81,88,61,35,119,162,315,190,77,216,26,76,57,45,128,183,353,135,66,411,112,81,45,47,27,145,62,88,67,73,93,86,81,59,96,81,88,86,46,108,60,144,65,33,33,88,75,128,42,85,185,116,50,67,49,55,83,90,76,148,94,74,85,64,49,94,98,56,80,84,143,101,75,97,56,74,99,59,109,103,138,53,81,39,86,106,172,39,96,101,40,110,25,39,47,56,57,79,38,53,234,141,172,68,106,69,185,112,59,78,128,78,54,81,157,61,76,25,49,52,94,68,73,108,140,85,113,127,103,72,77,122,68,180,61,59,100,67,82,60,31,28,128,52,173,44,51,36,64,42,55,33,25,162,155,53,88,33,30,51,108,75,27,77,70,143,148,94,86,56,64,139,179,64,103,220,41,69,70,106,22,43,31,208,95,119,132,128,33,227,289,68,116,79,50,56,248,52,63,83,157,77,88,164,185,129,19,39,119,31,96,452,61,43,135,63,36,33,123,99,74,64,85,84,157,113,126,84,58,151,73,139,97,35,47,129,103,208,24,139,45,74,116,225,50,86,45,39,70,102,103,94,61,32,44,81,93,67,82,168,58,68,30,86,47,87,43,96,110,103,80,87,28,113,106,120,93,76,55,69,68,100,115,40,32,93,69,87,74,85,139,65,136,136,33,70,41,53,71,107,43,129,207,23,96,20,104,49,41,45,88,53,160,29,75,36,139,65,50,147,15,25,92,102,48,138,124,61,69,116,56,48,34,336,161,69,77,84,153,151,55,88,178,44,56,31,71,36,174,115,113,52,114,81,108,110,180,47,34,64,51,107,71,22,173,63,34,77,235,71,221,101,32,68,43,70,82,70,43,74,80,40,238,120,37,43,71,84,149,151,77,49,105,56,45,18,39,53,47,111,32,45,143,139,177,41,23,17,82,232,72,21,86,23,29,62,154,41,296,22,79,17,37,67,152,127,178,107,51,117,69,77,172,74,144,41,79,71,57,65,44,82,220,67,97,91,94,96,44,28,59,124,41,76,77,39,131,94,21,310,112,52,78,32,90,155,96,54,40,98,84,34,196,51,67,143,27,37,29,69,23,57,114,97,59,33,34,43,46,101,87,124,23,89,383,55,31,37,80,76,38,225,34,50,38,66,295,152,37,28,60,128,88,322,193,170,110,122,54,68,56,76,56,67,89,72,40,170,51,59,121,98,47,160,94,24,18,101,22,25,121,39,155,127,36,91,42,21,78,166,146,59,116,63,116,120,32,35,62,80,37,74,25,77,74,66,55,51,67,36,159,96,73,89,30,47,64,81,92,56,40,94,48,37,229,75,121,201,29,161,81,40,195,50,78,63,69,25,93,168,27,42,27,125,56,50,69,74,48,62,135,95,73,56,94,143,29,42,71,65,124,37,75,105,288,83,39,18,118,148,97,106,26,83,58,133,26,156,79,65,67,62,79,194,93,101,43,47,205,137,108,352,40,90,105,134,209,64,251,88,163,201,66,198,36,85,180,77,43,95,128,72,242,82,63,51,51,76,191,58,95,20,78,111,420,108,105,170,45,97,65,116,96,25,164,120,99,110,54,233,56,43,10,59,136,36,50,78,42,166,78,62,99,106,199,107,88,144,78,99,68,42,101,31,96,45,61,94,49,13,29,52,35,37,36,28,26,129,69,51,76,80,49,76,52,30,76,87,120,69,56,65,153,119,76,138,54,17,121,94,58,67,117,40,53,92,37,97,127,93,75,28,266,125,97,95,146,179,17,94,29,91,63,28,201,52,153,174,152,94,85,186,60,200,37,54,40,133,47,69,53,92,41,132,59,24,25,102,93,37,105,34,61,93,126,59,36,25,23,23,17,35,82,70,57,91,124,109,57,84,85,104,81,96,58,123,29,124,96,61,63,72,83,105,78,110,97,37,25,14,35,55,56,48,30,26,100,55,24,131,29,102,116,57,75,67,83,145,25,52,43,57,146,90,79,260,42,36,43,48,84,42,182,142,14,64,122,93,49,81,62,40,36,142,167,73,71,61,124,125,53,46,93,107,52,42,92,18,79,45,36,36,31,47,86,73,107,71,40,62,35,23,32,29,70,134,23,50,36,30,35,44,34,59,95,37,45,134,31,78,81,58,38,71,70,99,64,83,79,156,127,41,52,53,29,69,86,56,16,66,42,446,91,107,33,219,50,81,11,78,154,148,161,97,83,73,114,109,50,123,80,53,104,79,38,51,35,68,97,46,82,43,86,83,85,90,112,95,207,97,140,176,60,192,23,104,94,242,65,109,113,41,281,63,48,85,84,137,65,40,31,40,60,185,47,86,67,112,169,58,45,62,54,68,100,28,32,14,48,23,240,100,136,76,284,144,65,56,49,41,53,56,51,58,75,130,175,108,35,76,32,95,66,131,46,63,101,136,82,46,228,59,21,45,55,213,66,48,38,64,21,77,37,32,63,107,50,103,55,34,46,90,307,34,55,32,101,130,65,42,83,80,47,34,55,61,58,127,58,40,84,174,41,30,78,38,72,110,48,114,27,259,134,103,72,117,75,329,42,161,36,79,82,102,142,54,176,295,61,30,35,46,40,37,30,50,81,66,17,87,191,53,114,163,178,168,41,47,200,111,34,52,46,92,99,87,108,30,69,93,60,18,23,40,78,41,118,78,142,62,81,63,30,106,431,63,63,97,116,47,80,82,52,207,54,59,59,87,11,171,66,116,94,108,75,30,34,37,75,60,121,88,10,49,164,156,46,154,59,79,84,131,32,60,32,138,102,118,170,61,223,233,68,149,142,32,68,36,119,81,41,251,112],\"xaxis\":\"x\",\"yaxis\":\"y\",\"type\":\"histogram\"}],                        {\"template\":{\"data\":{\"bar\":[{\"error_x\":{\"color\":\"#2a3f5f\"},\"error_y\":{\"color\":\"#2a3f5f\"},\"marker\":{\"line\":{\"color\":\"#E5ECF6\",\"width\":0.5},\"pattern\":{\"fillmode\":\"overlay\",\"size\":10,\"solidity\":0.2}},\"type\":\"bar\"}],\"barpolar\":[{\"marker\":{\"line\":{\"color\":\"#E5ECF6\",\"width\":0.5},\"pattern\":{\"fillmode\":\"overlay\",\"size\":10,\"solidity\":0.2}},\"type\":\"barpolar\"}],\"carpet\":[{\"aaxis\":{\"endlinecolor\":\"#2a3f5f\",\"gridcolor\":\"white\",\"linecolor\":\"white\",\"minorgridcolor\":\"white\",\"startlinecolor\":\"#2a3f5f\"},\"baxis\":{\"endlinecolor\":\"#2a3f5f\",\"gridcolor\":\"white\",\"linecolor\":\"white\",\"minorgridcolor\":\"white\",\"startlinecolor\":\"#2a3f5f\"},\"type\":\"carpet\"}],\"choropleth\":[{\"colorbar\":{\"outlinewidth\":0,\"ticks\":\"\"},\"type\":\"choropleth\"}],\"contour\":[{\"colorbar\":{\"outlinewidth\":0,\"ticks\":\"\"},\"colorscale\":[[0.0,\"#0d0887\"],[0.1111111111111111,\"#46039f\"],[0.2222222222222222,\"#7201a8\"],[0.3333333333333333,\"#9c179e\"],[0.4444444444444444,\"#bd3786\"],[0.5555555555555556,\"#d8576b\"],[0.6666666666666666,\"#ed7953\"],[0.7777777777777778,\"#fb9f3a\"],[0.8888888888888888,\"#fdca26\"],[1.0,\"#f0f921\"]],\"type\":\"contour\"}],\"contourcarpet\":[{\"colorbar\":{\"outlinewidth\":0,\"ticks\":\"\"},\"type\":\"contourcarpet\"}],\"heatmap\":[{\"colorbar\":{\"outlinewidth\":0,\"ticks\":\"\"},\"colorscale\":[[0.0,\"#0d0887\"],[0.1111111111111111,\"#46039f\"],[0.2222222222222222,\"#7201a8\"],[0.3333333333333333,\"#9c179e\"],[0.4444444444444444,\"#bd3786\"],[0.5555555555555556,\"#d8576b\"],[0.6666666666666666,\"#ed7953\"],[0.7777777777777778,\"#fb9f3a\"],[0.8888888888888888,\"#fdca26\"],[1.0,\"#f0f921\"]],\"type\":\"heatmap\"}],\"heatmapgl\":[{\"colorbar\":{\"outlinewidth\":0,\"ticks\":\"\"},\"colorscale\":[[0.0,\"#0d0887\"],[0.1111111111111111,\"#46039f\"],[0.2222222222222222,\"#7201a8\"],[0.3333333333333333,\"#9c179e\"],[0.4444444444444444,\"#bd3786\"],[0.5555555555555556,\"#d8576b\"],[0.6666666666666666,\"#ed7953\"],[0.7777777777777778,\"#fb9f3a\"],[0.8888888888888888,\"#fdca26\"],[1.0,\"#f0f921\"]],\"type\":\"heatmapgl\"}],\"histogram\":[{\"marker\":{\"pattern\":{\"fillmode\":\"overlay\",\"size\":10,\"solidity\":0.2}},\"type\":\"histogram\"}],\"histogram2d\":[{\"colorbar\":{\"outlinewidth\":0,\"ticks\":\"\"},\"colorscale\":[[0.0,\"#0d0887\"],[0.1111111111111111,\"#46039f\"],[0.2222222222222222,\"#7201a8\"],[0.3333333333333333,\"#9c179e\"],[0.4444444444444444,\"#bd3786\"],[0.5555555555555556,\"#d8576b\"],[0.6666666666666666,\"#ed7953\"],[0.7777777777777778,\"#fb9f3a\"],[0.8888888888888888,\"#fdca26\"],[1.0,\"#f0f921\"]],\"type\":\"histogram2d\"}],\"histogram2dcontour\":[{\"colorbar\":{\"outlinewidth\":0,\"ticks\":\"\"},\"colorscale\":[[0.0,\"#0d0887\"],[0.1111111111111111,\"#46039f\"],[0.2222222222222222,\"#7201a8\"],[0.3333333333333333,\"#9c179e\"],[0.4444444444444444,\"#bd3786\"],[0.5555555555555556,\"#d8576b\"],[0.6666666666666666,\"#ed7953\"],[0.7777777777777778,\"#fb9f3a\"],[0.8888888888888888,\"#fdca26\"],[1.0,\"#f0f921\"]],\"type\":\"histogram2dcontour\"}],\"mesh3d\":[{\"colorbar\":{\"outlinewidth\":0,\"ticks\":\"\"},\"type\":\"mesh3d\"}],\"parcoords\":[{\"line\":{\"colorbar\":{\"outlinewidth\":0,\"ticks\":\"\"}},\"type\":\"parcoords\"}],\"pie\":[{\"automargin\":true,\"type\":\"pie\"}],\"scatter\":[{\"marker\":{\"colorbar\":{\"outlinewidth\":0,\"ticks\":\"\"}},\"type\":\"scatter\"}],\"scatter3d\":[{\"line\":{\"colorbar\":{\"outlinewidth\":0,\"ticks\":\"\"}},\"marker\":{\"colorbar\":{\"outlinewidth\":0,\"ticks\":\"\"}},\"type\":\"scatter3d\"}],\"scattercarpet\":[{\"marker\":{\"colorbar\":{\"outlinewidth\":0,\"ticks\":\"\"}},\"type\":\"scattercarpet\"}],\"scattergeo\":[{\"marker\":{\"colorbar\":{\"outlinewidth\":0,\"ticks\":\"\"}},\"type\":\"scattergeo\"}],\"scattergl\":[{\"marker\":{\"colorbar\":{\"outlinewidth\":0,\"ticks\":\"\"}},\"type\":\"scattergl\"}],\"scattermapbox\":[{\"marker\":{\"colorbar\":{\"outlinewidth\":0,\"ticks\":\"\"}},\"type\":\"scattermapbox\"}],\"scatterpolar\":[{\"marker\":{\"colorbar\":{\"outlinewidth\":0,\"ticks\":\"\"}},\"type\":\"scatterpolar\"}],\"scatterpolargl\":[{\"marker\":{\"colorbar\":{\"outlinewidth\":0,\"ticks\":\"\"}},\"type\":\"scatterpolargl\"}],\"scatterternary\":[{\"marker\":{\"colorbar\":{\"outlinewidth\":0,\"ticks\":\"\"}},\"type\":\"scatterternary\"}],\"surface\":[{\"colorbar\":{\"outlinewidth\":0,\"ticks\":\"\"},\"colorscale\":[[0.0,\"#0d0887\"],[0.1111111111111111,\"#46039f\"],[0.2222222222222222,\"#7201a8\"],[0.3333333333333333,\"#9c179e\"],[0.4444444444444444,\"#bd3786\"],[0.5555555555555556,\"#d8576b\"],[0.6666666666666666,\"#ed7953\"],[0.7777777777777778,\"#fb9f3a\"],[0.8888888888888888,\"#fdca26\"],[1.0,\"#f0f921\"]],\"type\":\"surface\"}],\"table\":[{\"cells\":{\"fill\":{\"color\":\"#EBF0F8\"},\"line\":{\"color\":\"white\"}},\"header\":{\"fill\":{\"color\":\"#C8D4E3\"},\"line\":{\"color\":\"white\"}},\"type\":\"table\"}]},\"layout\":{\"annotationdefaults\":{\"arrowcolor\":\"#2a3f5f\",\"arrowhead\":0,\"arrowwidth\":1},\"autotypenumbers\":\"strict\",\"coloraxis\":{\"colorbar\":{\"outlinewidth\":0,\"ticks\":\"\"}},\"colorscale\":{\"diverging\":[[0,\"#8e0152\"],[0.1,\"#c51b7d\"],[0.2,\"#de77ae\"],[0.3,\"#f1b6da\"],[0.4,\"#fde0ef\"],[0.5,\"#f7f7f7\"],[0.6,\"#e6f5d0\"],[0.7,\"#b8e186\"],[0.8,\"#7fbc41\"],[0.9,\"#4d9221\"],[1,\"#276419\"]],\"sequential\":[[0.0,\"#0d0887\"],[0.1111111111111111,\"#46039f\"],[0.2222222222222222,\"#7201a8\"],[0.3333333333333333,\"#9c179e\"],[0.4444444444444444,\"#bd3786\"],[0.5555555555555556,\"#d8576b\"],[0.6666666666666666,\"#ed7953\"],[0.7777777777777778,\"#fb9f3a\"],[0.8888888888888888,\"#fdca26\"],[1.0,\"#f0f921\"]],\"sequentialminus\":[[0.0,\"#0d0887\"],[0.1111111111111111,\"#46039f\"],[0.2222222222222222,\"#7201a8\"],[0.3333333333333333,\"#9c179e\"],[0.4444444444444444,\"#bd3786\"],[0.5555555555555556,\"#d8576b\"],[0.6666666666666666,\"#ed7953\"],[0.7777777777777778,\"#fb9f3a\"],[0.8888888888888888,\"#fdca26\"],[1.0,\"#f0f921\"]]},\"colorway\":[\"#636efa\",\"#EF553B\",\"#00cc96\",\"#ab63fa\",\"#FFA15A\",\"#19d3f3\",\"#FF6692\",\"#B6E880\",\"#FF97FF\",\"#FECB52\"],\"font\":{\"color\":\"#2a3f5f\"},\"geo\":{\"bgcolor\":\"white\",\"lakecolor\":\"white\",\"landcolor\":\"#E5ECF6\",\"showlakes\":true,\"showland\":true,\"subunitcolor\":\"white\"},\"hoverlabel\":{\"align\":\"left\"},\"hovermode\":\"closest\",\"mapbox\":{\"style\":\"light\"},\"paper_bgcolor\":\"white\",\"plot_bgcolor\":\"#E5ECF6\",\"polar\":{\"angularaxis\":{\"gridcolor\":\"white\",\"linecolor\":\"white\",\"ticks\":\"\"},\"bgcolor\":\"#E5ECF6\",\"radialaxis\":{\"gridcolor\":\"white\",\"linecolor\":\"white\",\"ticks\":\"\"}},\"scene\":{\"xaxis\":{\"backgroundcolor\":\"#E5ECF6\",\"gridcolor\":\"white\",\"gridwidth\":2,\"linecolor\":\"white\",\"showbackground\":true,\"ticks\":\"\",\"zerolinecolor\":\"white\"},\"yaxis\":{\"backgroundcolor\":\"#E5ECF6\",\"gridcolor\":\"white\",\"gridwidth\":2,\"linecolor\":\"white\",\"showbackground\":true,\"ticks\":\"\",\"zerolinecolor\":\"white\"},\"zaxis\":{\"backgroundcolor\":\"#E5ECF6\",\"gridcolor\":\"white\",\"gridwidth\":2,\"linecolor\":\"white\",\"showbackground\":true,\"ticks\":\"\",\"zerolinecolor\":\"white\"}},\"shapedefaults\":{\"line\":{\"color\":\"#2a3f5f\"}},\"ternary\":{\"aaxis\":{\"gridcolor\":\"white\",\"linecolor\":\"white\",\"ticks\":\"\"},\"baxis\":{\"gridcolor\":\"white\",\"linecolor\":\"white\",\"ticks\":\"\"},\"bgcolor\":\"#E5ECF6\",\"caxis\":{\"gridcolor\":\"white\",\"linecolor\":\"white\",\"ticks\":\"\"}},\"title\":{\"x\":0.05},\"xaxis\":{\"automargin\":true,\"gridcolor\":\"white\",\"linecolor\":\"white\",\"ticks\":\"\",\"title\":{\"standoff\":15},\"zerolinecolor\":\"white\",\"zerolinewidth\":2},\"yaxis\":{\"automargin\":true,\"gridcolor\":\"white\",\"linecolor\":\"white\",\"ticks\":\"\",\"title\":{\"standoff\":15},\"zerolinecolor\":\"white\",\"zerolinewidth\":2}}},\"xaxis\":{\"anchor\":\"y\",\"domain\":[0.0,1.0],\"title\":{\"text\":\"sent_bert_token_length\"}},\"yaxis\":{\"anchor\":\"x\",\"domain\":[0.0,1.0],\"title\":{\"text\":\"percent\"}},\"legend\":{\"tracegroupgap\":0},\"margin\":{\"t\":60},\"barmode\":\"group\"},                        {\"responsive\": true}                    ).then(function(){\n",
              "                            \n",
              "var gd = document.getElementById('8b2a277f-8765-4700-bbcf-5300f5cbd0a5');\n",
              "var x = new MutationObserver(function (mutations, observer) {{\n",
              "        var display = window.getComputedStyle(gd).display;\n",
              "        if (!display || display === 'none') {{\n",
              "            console.log([gd, 'removed!']);\n",
              "            Plotly.purge(gd);\n",
              "            observer.disconnect();\n",
              "        }}\n",
              "}});\n",
              "\n",
              "// Listen for the removal of the full notebook cells\n",
              "var notebookContainer = gd.closest('#notebook-container');\n",
              "if (notebookContainer) {{\n",
              "    x.observe(notebookContainer, {childList: true});\n",
              "}}\n",
              "\n",
              "// Listen for the clearing of the current output cell\n",
              "var outputEl = gd.closest('.output');\n",
              "if (outputEl) {{\n",
              "    x.observe(outputEl, {childList: true});\n",
              "}}\n",
              "\n",
              "                        })                };                            </script>        </div>\n",
              "</body>\n",
              "</html>"
            ]
          },
          "metadata": {}
        }
      ],
      "source": [
        "fig = px.histogram(df, x=\"sent_bert_token_length\", nbins=20, color_discrete_sequence=px.colors.cmocean.algae, barmode='group', histnorm=\"percent\")\n",
        "fig.show()"
      ]
    },
    {
      "cell_type": "code",
      "execution_count": null,
      "metadata": {
        "id": "UckO2nmOGYWm",
        "colab": {
          "base_uri": "https://localhost:8080/"
        },
        "outputId": "5d0f0596-8e0d-4452-f852-b34c835d73b6"
      },
      "outputs": [
        {
          "output_type": "stream",
          "name": "stdout",
          "text": [
            "[101, 2002, 3464, 8281, 3973, 9657, 1998, 21931, 1012, 102]\n",
            "['[CLS]', 'he', 'remains', 'characteristic', '##ally', 'confident', 'and', 'optimistic', '.', '[SEP]']\n"
          ]
        }
      ],
      "source": [
        "#Príklad tokenizácie\n",
        "sample = 'He remains characteristically confident and optimistic.'\n",
        "\n",
        "print(tokenizer.encode(sample))\n",
        "print(tokenizer.convert_ids_to_tokens(tokenizer.encode(sample)))"
      ]
    },
    {
      "cell_type": "markdown",
      "metadata": {
        "id": "f1-4E83VGYWn"
      },
      "source": [
        "Ve výše uvedeném kódu jsme jednoduše zavolali funkci kódování a to, co dostaneme v output1, jsou indexy vstupních tokenů ze souboru vocab a output2 je naopak, člověkem čitelný token input_ids. \n",
        "\n",
        "Kromě vstupních tokenů jsme dostali také 2 speciální tokeny „[CLS]“ a „[SEP]“. Model BERT je navržen tak, že věta musí začínat tokenem [CLS] a končit tokenem [SEP]. \n",
        "Pokud pracujeme na zodpovězení otázek nebo jazykovém překladu, musíme mezi dvě věty použít token [SEP], abychom je oddělili, ale díky knihovně Hugging-face to knihovna tokenizeru udělá za nás. "
      ]
    },
    {
      "cell_type": "code",
      "execution_count": null,
      "metadata": {
        "id": "4ZxjQJPsGYWn",
        "colab": {
          "base_uri": "https://localhost:8080/"
        },
        "outputId": "638ace0a-3d86-4ff6-ed7a-145c289b655b"
      },
      "outputs": [
        {
          "output_type": "execute_result",
          "data": {
            "text/plain": [
              "0.9605"
            ]
          },
          "metadata": {},
          "execution_count": 40
        }
      ],
      "source": [
        "# Less than 350 covers how many of the data\n",
        "(df.sent_bert_token_length < 350).mean()"
      ]
    },
    {
      "cell_type": "code",
      "execution_count": null,
      "metadata": {
        "id": "YsA2HdDCrQt5"
      },
      "outputs": [],
      "source": [
        "df = df.drop(df[df.sent_bert_token_length > 250].index)"
      ]
    },
    {
      "cell_type": "code",
      "execution_count": null,
      "metadata": {
        "id": "z__0hpMKGYWn"
      },
      "outputs": [],
      "source": [
        "#Tokenize the input\n",
        "\n",
        "seq_len = 252\n",
        "\n",
        "train_encodings = tokenizer(train_texts, truncation=True, padding=True, max_length= seq_len)\n",
        "test_encodings = tokenizer(test_texts, truncation=True, padding=True, max_length= seq_len)\n",
        "\n",
        "input_ids_train = np.array(train_encodings['input_ids']) \n",
        "attention_mask_train = np.array(train_encodings['attention_mask'])\n",
        "\n",
        "input_ids_test = np.array(test_encodings['input_ids']) \n",
        "attention_mask_test = np.array(test_encodings['attention_mask'])"
      ]
    },
    {
      "cell_type": "code",
      "execution_count": null,
      "metadata": {
        "id": "IpiqXpt7GYWn",
        "colab": {
          "base_uri": "https://localhost:8080/"
        },
        "outputId": "8768699f-9bd4-4558-c815-fd32eb2429c8"
      },
      "outputs": [
        {
          "output_type": "stream",
          "name": "stdout",
          "text": [
            "\n",
            "Example:\n",
            "\n",
            "Sentence:\n",
            "lovely time overall just returned week hotel  overall lovely relaxing holiday exactly hoped  say week long just evening entertainment quite dull personally quite bored relaxing week  hotel location lovely rooms clean tidy kept plenty space  problems  flickering bulbs fixed quickly  pool clean  beach fantastic having previous occasions dom rep refreshing able stroll miles beach feel safe people  gym facilities jacuzzi sauna good  food good eat meat especially recommended seafood restaurant vegetarians beware caribbean countries not good catering hotel struggled label foods  bean soup lamb  little choice veggies speciality restaurants  make sure book early speciality restaurants spaces limited  problems staff limited english rude unhelpful  checked tried overcharge laundry calling teresa refused manager nearly caused miss transfer airport  make sure check time transfer learnt staff not good dealing problems despite minute problem recommend hotel wants week relaxation sunshine lovely location   \n",
            "\n",
            "After tokenizing :\n",
            "[101, 8403, 2051, 3452, 2074, 2513, 2733, 3309, 3452, 8403, 19613, 6209, 3599, 5113, 2360, 2733, 2146, 2074, 3944, 4024, 3243, 10634, 7714, 3243, 11471, 19613, 2733, 3309, 3295, 8403, 4734, 4550, 29369, 2921, 7564, 2686, 3471, 20046, 25548, 4964, 2855, 4770, 4550, 3509, 10392, 2383, 3025, 6642, 14383, 16360, 27150, 2583, 27244, 2661, 3509, 2514, 3647, 2111, 9726, 4128, 14855, 10841, 13793, 7842, 9521, 2204, 2833, 2204, 4521, 6240, 2926, 6749, 23621, 4825, 23566, 2015, 2022, 8059, 7139, 3032, 2025, 2204, 18640, 3309, 6915, 3830, 9440, 14068, 11350, 12559, 2210, 3601, 2310, 13871, 3111, 2569, 3012, 7884, 2191, 2469, 2338, 2220, 2569, 3012, 7884, 7258, 3132, 3471, 3095, 3132, 2394, 12726, 4895, 16001, 14376, 5313, 7039, 2699, 2058, 7507, 20800, 14533, 4214, 12409, 4188, 3208, 3053, 3303, 3335, 4651, 3199, 2191, 2469, 4638, 2051, 4651, 20215, 3095, 2025, 2204, 7149, 3471, 2750, 3371, 3291, 16755, 3309, 4122, 2733, 23370, 9609, 8403, 3295, 102]\n",
            "\n",
            "After padding :\n",
            "[  101  8403  2051  3452  2074  2513  2733  3309  3452  8403 19613  6209\n",
            "  3599  5113  2360  2733  2146  2074  3944  4024  3243 10634  7714  3243\n",
            " 11471 19613  2733  3309  3295  8403  4734  4550 29369  2921  7564  2686\n",
            "  3471 20046 25548  4964  2855  4770  4550  3509 10392  2383  3025  6642\n",
            " 14383 16360 27150  2583 27244  2661  3509  2514  3647  2111  9726  4128\n",
            " 14855 10841 13793  7842  9521  2204  2833  2204  4521  6240  2926  6749\n",
            " 23621  4825 23566  2015  2022  8059  7139  3032  2025  2204 18640  3309\n",
            "  6915  3830  9440 14068 11350 12559  2210  3601  2310 13871  3111  2569\n",
            "  3012  7884  2191  2469  2338  2220  2569  3012  7884  7258  3132  3471\n",
            "  3095  3132  2394 12726  4895 16001 14376  5313  7039  2699  2058  7507\n",
            " 20800 14533  4214 12409  4188  3208  3053  3303  3335  4651  3199  2191\n",
            "  2469  4638  2051  4651 20215  3095  2025  2204  7149  3471  2750  3371\n",
            "  3291 16755  3309  4122  2733 23370  9609  8403  3295   102     0     0\n",
            "     0     0     0     0     0     0     0     0     0     0     0     0\n",
            "     0     0     0     0     0     0     0     0     0     0     0     0\n",
            "     0     0     0     0     0     0     0     0     0     0     0     0\n",
            "     0     0     0     0     0     0     0     0     0     0     0     0\n",
            "     0     0     0     0     0     0     0     0     0     0     0     0\n",
            "     0     0     0     0     0     0     0     0     0     0     0     0\n",
            "     0     0     0     0     0     0     0     0     0     0     0     0\n",
            "     0     0     0     0     0     0     0     0     0     0     0     0]\n",
            "252\n"
          ]
        }
      ],
      "source": [
        "# Example\n",
        "exp_sen = 1\n",
        "\n",
        "print(\"\\nExample:\\n\")\n",
        "print(\"Sentence:\\n{}\".format(train_texts[exp_sen]))\n",
        "print(\"\\nAfter tokenizing :\\n{}\".format(tokenizer.encode(train_texts[exp_sen])))\n",
        "print(\"\\nAfter padding :\\n{}\".format(input_ids_train[exp_sen]))\n",
        "\n",
        "print(len(input_ids_train[4]))"
      ]
    },
    {
      "cell_type": "markdown",
      "metadata": {
        "id": "4kCITdACGYWn"
      },
      "source": [
        "## BERT modeling"
      ]
    },
    {
      "cell_type": "markdown",
      "metadata": {
        "id": "e8Fm8hu8GYWo"
      },
      "source": [
        "**Steps**:\n",
        "Načítať predtrénovaný model Bert.\n",
        "\n",
        "Odovzdať celé údaje od Berta a vypočítajte konečné skryté stavy.\n",
        "\n",
        "Trénovať vlastný model na prvom vektore konečných skrytých stavov bert.\n",
        "\n",
        "Potom vytvoríme vlastnú funkciu na hosťovanie vopred vyškoleného modelu BERT a pripojíme k nemu výstupnú vrstvu 3 neurónov, ktorá je potrebná na vykonanie klasifikácie 3 rôznych tried súboru údajov (3 emócií)."
      ]
    },
    {
      "cell_type": "markdown",
      "metadata": {
        "id": "UtoFm1r8GYWo"
      },
      "source": [
        "### Načtení BERT modelu"
      ]
    },
    {
      "cell_type": "code",
      "execution_count": null,
      "metadata": {
        "id": "npErvGwyGYWo",
        "colab": {
          "base_uri": "https://localhost:8080/",
          "height": 151,
          "referenced_widgets": [
            "67a4ad32fa8e4265903323009ecb6d6e",
            "bafad5068c31479ea2f3d4e2a41c9f13",
            "9d2ae98b48004b9f955e308afa3e1670",
            "643dfa477bb9421ab2c62e35ea0559e3",
            "c39364ab12b744c88c0bfa92ebd6c6bb",
            "85fa4ea6df6544c7af2ec47851c34394",
            "940fce6f13da4e1198a6b56e903abf00",
            "13654380f4da40aa9cf49349968d5d3f",
            "061a24897dd3468a8dde7e0e1f5f895e",
            "bb60ff28191849529aa271e34ed68fdc",
            "bff11e8f08904082a74e5641fcff3ff0"
          ]
        },
        "outputId": "dd78b74c-629d-46e5-8b3b-dfe35ad289de"
      },
      "outputs": [
        {
          "output_type": "display_data",
          "data": {
            "text/plain": [
              "Downloading:   0%|          | 0.00/536M [00:00<?, ?B/s]"
            ],
            "application/vnd.jupyter.widget-view+json": {
              "version_major": 2,
              "version_minor": 0,
              "model_id": "67a4ad32fa8e4265903323009ecb6d6e"
            }
          },
          "metadata": {}
        },
        {
          "output_type": "stream",
          "name": "stderr",
          "text": [
            "Some layers from the model checkpoint at bert-base-uncased were not used when initializing TFBertModel: ['nsp___cls', 'mlm___cls']\n",
            "- This IS expected if you are initializing TFBertModel from the checkpoint of a model trained on another task or with another architecture (e.g. initializing a BertForSequenceClassification model from a BertForPreTraining model).\n",
            "- This IS NOT expected if you are initializing TFBertModel from the checkpoint of a model that you expect to be exactly identical (initializing a BertForSequenceClassification model from a BertForSequenceClassification model).\n",
            "All the layers of TFBertModel were initialized from the model checkpoint at bert-base-uncased.\n",
            "If your task is similar to the task the model of the checkpoint was trained on, you can already use TFBertModel for predictions without further training.\n"
          ]
        }
      ],
      "source": [
        "from transformers import BertModel, TFBertModel\n",
        "bert = TFBertModel.from_pretrained('bert-base-uncased')"
      ]
    },
    {
      "cell_type": "markdown",
      "metadata": {
        "id": "r1s4wEUhGYWo"
      },
      "source": [
        "### Vytvoření BERT modelu"
      ]
    },
    {
      "cell_type": "code",
      "execution_count": null,
      "metadata": {
        "id": "7j84LvNZGYWo"
      },
      "outputs": [],
      "source": [
        "import tensorflow as tf\n",
        "import tensorflow.keras.layers as L\n",
        "\n",
        "# Creating bert model\n",
        "inp_ids = L.Input(shape=(seq_len,), dtype=tf.int32) # Shape:(batch_size, seq_len)\n",
        "attention_mask = L.Input(shape=(seq_len,), dtype=tf.int32) # Shape:(batch_size, seq_len)\n",
        "last_hidden_state = bert(inp_ids,attention_mask=attention_mask)[0] # Shape:(batch_size, seq_len, 768)\n",
        "out = last_hidden_state[:,0,:] # Shape:(Batch_size, 768)\n",
        "\n",
        "bert_model = tf.keras.Model(inputs=[inp_ids, attention_mask], outputs=out)"
      ]
    },
    {
      "cell_type": "code",
      "execution_count": null,
      "metadata": {
        "id": "WrXPJOu5GYWp",
        "colab": {
          "base_uri": "https://localhost:8080/",
          "height": 397
        },
        "outputId": "c2e09864-4ee1-496e-f999-b04268db381b"
      },
      "outputs": [
        {
          "output_type": "stream",
          "name": "stdout",
          "text": [
            "Passing train data\n",
            " 11/419 [..............................] - ETA: 1:41:31"
          ]
        },
        {
          "output_type": "error",
          "ename": "KeyboardInterrupt",
          "evalue": "ignored",
          "traceback": [
            "\u001b[0;31m---------------------------------------------------------------------------\u001b[0m",
            "\u001b[0;31mKeyboardInterrupt\u001b[0m                         Traceback (most recent call last)",
            "\u001b[0;32m<ipython-input-46-38f94dd9f2c8>\u001b[0m in \u001b[0;36m<module>\u001b[0;34m\u001b[0m\n\u001b[1;32m      2\u001b[0m \u001b[0mprint\u001b[0m\u001b[0;34m(\u001b[0m\u001b[0;34m\"Passing train data\"\u001b[0m\u001b[0;34m)\u001b[0m\u001b[0;34m\u001b[0m\u001b[0;34m\u001b[0m\u001b[0m\n\u001b[1;32m      3\u001b[0m bert_output_train = bert_model.predict(\n\u001b[0;32m----> 4\u001b[0;31m     [input_ids_train, attention_mask_train], batch_size=16, verbose=1)\n\u001b[0m\u001b[1;32m      5\u001b[0m \u001b[0;34m\u001b[0m\u001b[0m\n\u001b[1;32m      6\u001b[0m \u001b[0mprint\u001b[0m\u001b[0;34m(\u001b[0m\u001b[0;34m\"Passing test data\"\u001b[0m\u001b[0;34m)\u001b[0m\u001b[0;34m\u001b[0m\u001b[0;34m\u001b[0m\u001b[0m\n",
            "\u001b[0;32m/usr/local/lib/python3.7/dist-packages/keras/utils/traceback_utils.py\u001b[0m in \u001b[0;36merror_handler\u001b[0;34m(*args, **kwargs)\u001b[0m\n\u001b[1;32m     62\u001b[0m     \u001b[0mfiltered_tb\u001b[0m \u001b[0;34m=\u001b[0m \u001b[0;32mNone\u001b[0m\u001b[0;34m\u001b[0m\u001b[0;34m\u001b[0m\u001b[0m\n\u001b[1;32m     63\u001b[0m     \u001b[0;32mtry\u001b[0m\u001b[0;34m:\u001b[0m\u001b[0;34m\u001b[0m\u001b[0;34m\u001b[0m\u001b[0m\n\u001b[0;32m---> 64\u001b[0;31m       \u001b[0;32mreturn\u001b[0m \u001b[0mfn\u001b[0m\u001b[0;34m(\u001b[0m\u001b[0;34m*\u001b[0m\u001b[0margs\u001b[0m\u001b[0;34m,\u001b[0m \u001b[0;34m**\u001b[0m\u001b[0mkwargs\u001b[0m\u001b[0;34m)\u001b[0m\u001b[0;34m\u001b[0m\u001b[0;34m\u001b[0m\u001b[0m\n\u001b[0m\u001b[1;32m     65\u001b[0m     \u001b[0;32mexcept\u001b[0m \u001b[0mException\u001b[0m \u001b[0;32mas\u001b[0m \u001b[0me\u001b[0m\u001b[0;34m:\u001b[0m  \u001b[0;31m# pylint: disable=broad-except\u001b[0m\u001b[0;34m\u001b[0m\u001b[0;34m\u001b[0m\u001b[0m\n\u001b[1;32m     66\u001b[0m       \u001b[0mfiltered_tb\u001b[0m \u001b[0;34m=\u001b[0m \u001b[0m_process_traceback_frames\u001b[0m\u001b[0;34m(\u001b[0m\u001b[0me\u001b[0m\u001b[0;34m.\u001b[0m\u001b[0m__traceback__\u001b[0m\u001b[0;34m)\u001b[0m\u001b[0;34m\u001b[0m\u001b[0;34m\u001b[0m\u001b[0m\n",
            "\u001b[0;32m/usr/local/lib/python3.7/dist-packages/keras/engine/training.py\u001b[0m in \u001b[0;36mpredict\u001b[0;34m(self, x, batch_size, verbose, steps, callbacks, max_queue_size, workers, use_multiprocessing)\u001b[0m\n\u001b[1;32m   2031\u001b[0m           \u001b[0;32mfor\u001b[0m \u001b[0mstep\u001b[0m \u001b[0;32min\u001b[0m \u001b[0mdata_handler\u001b[0m\u001b[0;34m.\u001b[0m\u001b[0msteps\u001b[0m\u001b[0;34m(\u001b[0m\u001b[0;34m)\u001b[0m\u001b[0;34m:\u001b[0m\u001b[0;34m\u001b[0m\u001b[0;34m\u001b[0m\u001b[0m\n\u001b[1;32m   2032\u001b[0m             \u001b[0mcallbacks\u001b[0m\u001b[0;34m.\u001b[0m\u001b[0mon_predict_batch_begin\u001b[0m\u001b[0;34m(\u001b[0m\u001b[0mstep\u001b[0m\u001b[0;34m)\u001b[0m\u001b[0;34m\u001b[0m\u001b[0;34m\u001b[0m\u001b[0m\n\u001b[0;32m-> 2033\u001b[0;31m             \u001b[0mtmp_batch_outputs\u001b[0m \u001b[0;34m=\u001b[0m \u001b[0mself\u001b[0m\u001b[0;34m.\u001b[0m\u001b[0mpredict_function\u001b[0m\u001b[0;34m(\u001b[0m\u001b[0miterator\u001b[0m\u001b[0;34m)\u001b[0m\u001b[0;34m\u001b[0m\u001b[0;34m\u001b[0m\u001b[0m\n\u001b[0m\u001b[1;32m   2034\u001b[0m             \u001b[0;32mif\u001b[0m \u001b[0mdata_handler\u001b[0m\u001b[0;34m.\u001b[0m\u001b[0mshould_sync\u001b[0m\u001b[0;34m:\u001b[0m\u001b[0;34m\u001b[0m\u001b[0;34m\u001b[0m\u001b[0m\n\u001b[1;32m   2035\u001b[0m               \u001b[0mcontext\u001b[0m\u001b[0;34m.\u001b[0m\u001b[0masync_wait\u001b[0m\u001b[0;34m(\u001b[0m\u001b[0;34m)\u001b[0m\u001b[0;34m\u001b[0m\u001b[0;34m\u001b[0m\u001b[0m\n",
            "\u001b[0;32m/usr/local/lib/python3.7/dist-packages/tensorflow/python/util/traceback_utils.py\u001b[0m in \u001b[0;36merror_handler\u001b[0;34m(*args, **kwargs)\u001b[0m\n\u001b[1;32m    148\u001b[0m     \u001b[0mfiltered_tb\u001b[0m \u001b[0;34m=\u001b[0m \u001b[0;32mNone\u001b[0m\u001b[0;34m\u001b[0m\u001b[0;34m\u001b[0m\u001b[0m\n\u001b[1;32m    149\u001b[0m     \u001b[0;32mtry\u001b[0m\u001b[0;34m:\u001b[0m\u001b[0;34m\u001b[0m\u001b[0;34m\u001b[0m\u001b[0m\n\u001b[0;32m--> 150\u001b[0;31m       \u001b[0;32mreturn\u001b[0m \u001b[0mfn\u001b[0m\u001b[0;34m(\u001b[0m\u001b[0;34m*\u001b[0m\u001b[0margs\u001b[0m\u001b[0;34m,\u001b[0m \u001b[0;34m**\u001b[0m\u001b[0mkwargs\u001b[0m\u001b[0;34m)\u001b[0m\u001b[0;34m\u001b[0m\u001b[0;34m\u001b[0m\u001b[0m\n\u001b[0m\u001b[1;32m    151\u001b[0m     \u001b[0;32mexcept\u001b[0m \u001b[0mException\u001b[0m \u001b[0;32mas\u001b[0m \u001b[0me\u001b[0m\u001b[0;34m:\u001b[0m\u001b[0;34m\u001b[0m\u001b[0;34m\u001b[0m\u001b[0m\n\u001b[1;32m    152\u001b[0m       \u001b[0mfiltered_tb\u001b[0m \u001b[0;34m=\u001b[0m \u001b[0m_process_traceback_frames\u001b[0m\u001b[0;34m(\u001b[0m\u001b[0me\u001b[0m\u001b[0;34m.\u001b[0m\u001b[0m__traceback__\u001b[0m\u001b[0;34m)\u001b[0m\u001b[0;34m\u001b[0m\u001b[0;34m\u001b[0m\u001b[0m\n",
            "\u001b[0;32m/usr/local/lib/python3.7/dist-packages/tensorflow/python/eager/def_function.py\u001b[0m in \u001b[0;36m__call__\u001b[0;34m(self, *args, **kwds)\u001b[0m\n\u001b[1;32m    913\u001b[0m \u001b[0;34m\u001b[0m\u001b[0m\n\u001b[1;32m    914\u001b[0m       \u001b[0;32mwith\u001b[0m \u001b[0mOptionalXlaContext\u001b[0m\u001b[0;34m(\u001b[0m\u001b[0mself\u001b[0m\u001b[0;34m.\u001b[0m\u001b[0m_jit_compile\u001b[0m\u001b[0;34m)\u001b[0m\u001b[0;34m:\u001b[0m\u001b[0;34m\u001b[0m\u001b[0;34m\u001b[0m\u001b[0m\n\u001b[0;32m--> 915\u001b[0;31m         \u001b[0mresult\u001b[0m \u001b[0;34m=\u001b[0m \u001b[0mself\u001b[0m\u001b[0;34m.\u001b[0m\u001b[0m_call\u001b[0m\u001b[0;34m(\u001b[0m\u001b[0;34m*\u001b[0m\u001b[0margs\u001b[0m\u001b[0;34m,\u001b[0m \u001b[0;34m**\u001b[0m\u001b[0mkwds\u001b[0m\u001b[0;34m)\u001b[0m\u001b[0;34m\u001b[0m\u001b[0;34m\u001b[0m\u001b[0m\n\u001b[0m\u001b[1;32m    916\u001b[0m \u001b[0;34m\u001b[0m\u001b[0m\n\u001b[1;32m    917\u001b[0m       \u001b[0mnew_tracing_count\u001b[0m \u001b[0;34m=\u001b[0m \u001b[0mself\u001b[0m\u001b[0;34m.\u001b[0m\u001b[0mexperimental_get_tracing_count\u001b[0m\u001b[0;34m(\u001b[0m\u001b[0;34m)\u001b[0m\u001b[0;34m\u001b[0m\u001b[0;34m\u001b[0m\u001b[0m\n",
            "\u001b[0;32m/usr/local/lib/python3.7/dist-packages/tensorflow/python/eager/def_function.py\u001b[0m in \u001b[0;36m_call\u001b[0;34m(self, *args, **kwds)\u001b[0m\n\u001b[1;32m    952\u001b[0m       \u001b[0;31m# In this case we have not created variables on the first call. So we can\u001b[0m\u001b[0;34m\u001b[0m\u001b[0;34m\u001b[0m\u001b[0;34m\u001b[0m\u001b[0m\n\u001b[1;32m    953\u001b[0m       \u001b[0;31m# run the first trace but we should fail if variables are created.\u001b[0m\u001b[0;34m\u001b[0m\u001b[0;34m\u001b[0m\u001b[0;34m\u001b[0m\u001b[0m\n\u001b[0;32m--> 954\u001b[0;31m       \u001b[0mresults\u001b[0m \u001b[0;34m=\u001b[0m \u001b[0mself\u001b[0m\u001b[0;34m.\u001b[0m\u001b[0m_stateful_fn\u001b[0m\u001b[0;34m(\u001b[0m\u001b[0;34m*\u001b[0m\u001b[0margs\u001b[0m\u001b[0;34m,\u001b[0m \u001b[0;34m**\u001b[0m\u001b[0mkwds\u001b[0m\u001b[0;34m)\u001b[0m\u001b[0;34m\u001b[0m\u001b[0;34m\u001b[0m\u001b[0m\n\u001b[0m\u001b[1;32m    955\u001b[0m       \u001b[0;32mif\u001b[0m \u001b[0mself\u001b[0m\u001b[0;34m.\u001b[0m\u001b[0m_created_variables\u001b[0m \u001b[0;32mand\u001b[0m \u001b[0;32mnot\u001b[0m \u001b[0mALLOW_DYNAMIC_VARIABLE_CREATION\u001b[0m\u001b[0;34m:\u001b[0m\u001b[0;34m\u001b[0m\u001b[0;34m\u001b[0m\u001b[0m\n\u001b[1;32m    956\u001b[0m         raise ValueError(\"Creating variables on a non-first call to a function\"\n",
            "\u001b[0;32m/usr/local/lib/python3.7/dist-packages/tensorflow/python/eager/function.py\u001b[0m in \u001b[0;36m__call__\u001b[0;34m(self, *args, **kwargs)\u001b[0m\n\u001b[1;32m   2452\u001b[0m        filtered_flat_args) = self._maybe_define_function(args, kwargs)\n\u001b[1;32m   2453\u001b[0m     return graph_function._call_flat(\n\u001b[0;32m-> 2454\u001b[0;31m         filtered_flat_args, captured_inputs=graph_function.captured_inputs)  # pylint: disable=protected-access\n\u001b[0m\u001b[1;32m   2455\u001b[0m \u001b[0;34m\u001b[0m\u001b[0m\n\u001b[1;32m   2456\u001b[0m   \u001b[0;34m@\u001b[0m\u001b[0mproperty\u001b[0m\u001b[0;34m\u001b[0m\u001b[0;34m\u001b[0m\u001b[0m\n",
            "\u001b[0;32m/usr/local/lib/python3.7/dist-packages/tensorflow/python/eager/function.py\u001b[0m in \u001b[0;36m_call_flat\u001b[0;34m(self, args, captured_inputs, cancellation_manager)\u001b[0m\n\u001b[1;32m   1859\u001b[0m       \u001b[0;31m# No tape is watching; skip to running the function.\u001b[0m\u001b[0;34m\u001b[0m\u001b[0;34m\u001b[0m\u001b[0;34m\u001b[0m\u001b[0m\n\u001b[1;32m   1860\u001b[0m       return self._build_call_outputs(self._inference_function.call(\n\u001b[0;32m-> 1861\u001b[0;31m           ctx, args, cancellation_manager=cancellation_manager))\n\u001b[0m\u001b[1;32m   1862\u001b[0m     forward_backward = self._select_forward_and_backward_functions(\n\u001b[1;32m   1863\u001b[0m         \u001b[0margs\u001b[0m\u001b[0;34m,\u001b[0m\u001b[0;34m\u001b[0m\u001b[0;34m\u001b[0m\u001b[0m\n",
            "\u001b[0;32m/usr/local/lib/python3.7/dist-packages/tensorflow/python/eager/function.py\u001b[0m in \u001b[0;36mcall\u001b[0;34m(self, ctx, args, cancellation_manager)\u001b[0m\n\u001b[1;32m    500\u001b[0m               \u001b[0minputs\u001b[0m\u001b[0;34m=\u001b[0m\u001b[0margs\u001b[0m\u001b[0;34m,\u001b[0m\u001b[0;34m\u001b[0m\u001b[0;34m\u001b[0m\u001b[0m\n\u001b[1;32m    501\u001b[0m               \u001b[0mattrs\u001b[0m\u001b[0;34m=\u001b[0m\u001b[0mattrs\u001b[0m\u001b[0;34m,\u001b[0m\u001b[0;34m\u001b[0m\u001b[0;34m\u001b[0m\u001b[0m\n\u001b[0;32m--> 502\u001b[0;31m               ctx=ctx)\n\u001b[0m\u001b[1;32m    503\u001b[0m         \u001b[0;32melse\u001b[0m\u001b[0;34m:\u001b[0m\u001b[0;34m\u001b[0m\u001b[0;34m\u001b[0m\u001b[0m\n\u001b[1;32m    504\u001b[0m           outputs = execute.execute_with_cancellation(\n",
            "\u001b[0;32m/usr/local/lib/python3.7/dist-packages/tensorflow/python/eager/execute.py\u001b[0m in \u001b[0;36mquick_execute\u001b[0;34m(op_name, num_outputs, inputs, attrs, ctx, name)\u001b[0m\n\u001b[1;32m     53\u001b[0m     \u001b[0mctx\u001b[0m\u001b[0;34m.\u001b[0m\u001b[0mensure_initialized\u001b[0m\u001b[0;34m(\u001b[0m\u001b[0;34m)\u001b[0m\u001b[0;34m\u001b[0m\u001b[0;34m\u001b[0m\u001b[0m\n\u001b[1;32m     54\u001b[0m     tensors = pywrap_tfe.TFE_Py_Execute(ctx._handle, device_name, op_name,\n\u001b[0;32m---> 55\u001b[0;31m                                         inputs, attrs, num_outputs)\n\u001b[0m\u001b[1;32m     56\u001b[0m   \u001b[0;32mexcept\u001b[0m \u001b[0mcore\u001b[0m\u001b[0;34m.\u001b[0m\u001b[0m_NotOkStatusException\u001b[0m \u001b[0;32mas\u001b[0m \u001b[0me\u001b[0m\u001b[0;34m:\u001b[0m\u001b[0;34m\u001b[0m\u001b[0;34m\u001b[0m\u001b[0m\n\u001b[1;32m     57\u001b[0m     \u001b[0;32mif\u001b[0m \u001b[0mname\u001b[0m \u001b[0;32mis\u001b[0m \u001b[0;32mnot\u001b[0m \u001b[0;32mNone\u001b[0m\u001b[0;34m:\u001b[0m\u001b[0;34m\u001b[0m\u001b[0;34m\u001b[0m\u001b[0m\n",
            "\u001b[0;31mKeyboardInterrupt\u001b[0m: "
          ]
        }
      ],
      "source": [
        "# Passing data from bert pretrained model and extracting the final state.\n",
        "print(\"Passing train data\")\n",
        "bert_output_train = bert_model.predict(\n",
        "    [input_ids_train, attention_mask_train], batch_size=16, verbose=1)\n",
        "\n",
        "print(\"Passing test data\")\n",
        "bert_output_test = bert_model.predict(\n",
        "    [input_ids_test, attention_mask_test], batch_size=16, verbose=1)"
      ]
    },
    {
      "cell_type": "code",
      "execution_count": null,
      "metadata": {
        "id": "bxKhQbBxGYWp"
      },
      "outputs": [],
      "source": [
        "print(\"Bert output train: {}\".format(bert_output_train.shape))\n",
        "print(\"Bert output test: {}\".format(bert_output_test.shape))"
      ]
    },
    {
      "cell_type": "code",
      "execution_count": null,
      "metadata": {
        "id": "LnDzIBT6GYWp"
      },
      "outputs": [],
      "source": [
        "#Building a custom model\n",
        "\n",
        "import random as rn\n",
        "from tensorflow.keras.losses import SparseCategoricalCrossentropy\n",
        "\n",
        "seed_value = 1337\n",
        "np.random.seed(seed_value)\n",
        "tf.random.set_seed(seed_value)\n",
        "rn.seed(seed_value)\n",
        "\n",
        "model = tf.keras.Sequential([\n",
        "    L.Input(shape=(768)),\n",
        "    L.Dense(128,activation='relu'),\n",
        "    L.Dropout(0.5),\n",
        "    L.Dense(5, activation=\"softmax\")\n",
        "])\n",
        "\n",
        "\n",
        "model.compile(loss=SparseCategoricalCrossentropy(),\n",
        "              optimizer='adam',metrics=['accuracy']\n",
        "             )\n",
        "\n",
        "model.summary()"
      ]
    },
    {
      "cell_type": "markdown",
      "metadata": {
        "id": "y-iNjA_bGYWp"
      },
      "source": [
        "## Bert training"
      ]
    },
    {
      "cell_type": "code",
      "execution_count": null,
      "metadata": {
        "id": "_C5AF473GYWq"
      },
      "outputs": [],
      "source": [
        "# Passing bert output for training\n",
        "history = model.fit(\n",
        "    bert_output_train, #x_train\n",
        "    train_labels,  #y_train\n",
        "    epochs=22, \n",
        "    validation_split=0.12, \n",
        "    batch_size=16, \n",
        "    verbose=1)"
      ]
    },
    {
      "cell_type": "markdown",
      "source": [
        "Training history"
      ],
      "metadata": {
        "id": "6qii19VieS4G"
      }
    },
    {
      "cell_type": "code",
      "source": [
        "fig = px.line(\n",
        "    history.history, y=['loss', 'val_loss'],\n",
        "    labels={'index': 'epoch', 'value': 'loss'}\n",
        ")\n",
        "\n",
        "fig.show()"
      ],
      "metadata": {
        "id": "p3ybd7vV16gt"
      },
      "execution_count": null,
      "outputs": []
    },
    {
      "cell_type": "code",
      "source": [
        "fig = px.line(\n",
        "    history.history, y=['accuracy', 'val_accuracy'],\n",
        "    labels={'index': 'epoch', 'value': 'accuracy'}\n",
        ")\n",
        "\n",
        "fig.show()"
      ],
      "metadata": {
        "id": "PoMN9yP82Efn"
      },
      "execution_count": null,
      "outputs": []
    },
    {
      "cell_type": "markdown",
      "metadata": {
        "id": "rd9637K5GYWq"
      },
      "source": [
        "## Evaluating"
      ]
    },
    {
      "cell_type": "code",
      "source": [
        "score = model.evaluate(bert_output_train, train_labels, verbose=2)\n",
        "print('Test loss:', score[0])\n",
        "print('Test accuracy:', score[1])"
      ],
      "metadata": {
        "id": "fRU6c8Wq5Zyn"
      },
      "execution_count": null,
      "outputs": []
    },
    {
      "cell_type": "code",
      "source": [
        "predictions = model.predict(bert_output_test)"
      ],
      "metadata": {
        "id": "Kci0w0s_mF8S"
      },
      "execution_count": null,
      "outputs": []
    },
    {
      "cell_type": "markdown",
      "metadata": {
        "id": "KVxCFh-7GYWq"
      },
      "source": [
        "# Porovnanie transformer modelov\n",
        "\n",
        "## Stručné informácie o RoBERTa\n",
        "Robustne optimalizovaný prístup BERT RoBERTa, predstavený na Facebooku, predstavuje preškolenie BERT s vylepšenou metodikou školenia, o 1000 % viac dát a výpočtového výkonu.\n",
        "\n",
        "Dôležité je, že RoBERTa používa 160 GB textu na predbežné školenie, vrátane 16 GB knižného korpusu a anglickej Wikipédie používaných v BERT. Dodatočné údaje zahŕňali dataset CommonCrawl News (63 miliónov článkov, 76 GB), webový textový korpus (38 GB) a Stories from Common Crawl (31 GB). To spolu s neuveriteľným 1024 V100 Tesla GPU spusteným jeden deň viedlo k predbežnému tréningu RoBERTa.\n",
        "\n",
        "## Stručné infomrácie o XLNET\n",
        "\n",
        "XLNet je veľký obojsmerný transformátor, ktorý využíva vylepšenú školiacu metodiku, väčšie údaje a väčší výpočtový výkon na dosiahnutie lepších metrík predikcie ako BERT pri 20 jazykových úlohách.\n",
        "\n",
        "Na zlepšenie školenia XLNet zavádza modelovanie permutačných jazykov, kde sú všetky tokeny predpovedané, ale v náhodnom poradí. To je v kontraste s modelom maskovaného jazyka BERT, kde sa predpovedajú iba maskované (15%) tokeny.\n",
        "\n",
        "To je tiež v kontraste s tradičnými jazykovými modelmi, kde boli všetky tokeny predpovedané v sekvenčnom poradí namiesto náhodného poradia. To pomáha modelu naučiť sa obojsmerné vzťahy, a preto lepšie zvláda závislosti a vzťahy medzi slovami.\n",
        "\n",
        "XLNet bol trénovaný s viac ako 130 GB textových údajov a 512 čipmi TPU spustenými počas 2,5 dňa, pričom oba sú oveľa väčšie ako BERT."
      ]
    },
    {
      "cell_type": "markdown",
      "metadata": {
        "id": "e7YEQINQGYWq"
      },
      "source": [
        "![Picture title](https://akela.mendelu.cz/~xgramato/AI/Images/image-20221127-120800.png)"
      ]
    }
  ],
  "metadata": {
    "accelerator": "GPU",
    "colab": {
      "collapsed_sections": [
        "fpiZSwcXGYWF",
        "y-iNjA_bGYWp",
        "rd9637K5GYWq"
      ],
      "provenance": [],
      "include_colab_link": true
    },
    "deepnote": {},
    "deepnote_app_layout": "article",
    "deepnote_execution_queue": [],
    "deepnote_notebook_id": "7abe6a87e2d746f684ba310a7288bd38",
    "gpuClass": "standard",
    "kernelspec": {
      "display_name": "Python 3",
      "name": "python3"
    },
    "language_info": {
      "name": "python"
    },
    "widgets": {
      "application/vnd.jupyter.widget-state+json": {
        "033b277d0e88408397b6cc81c965e609": {
          "model_module": "@jupyter-widgets/controls",
          "model_name": "HBoxModel",
          "model_module_version": "1.5.0",
          "state": {
            "_dom_classes": [],
            "_model_module": "@jupyter-widgets/controls",
            "_model_module_version": "1.5.0",
            "_model_name": "HBoxModel",
            "_view_count": null,
            "_view_module": "@jupyter-widgets/controls",
            "_view_module_version": "1.5.0",
            "_view_name": "HBoxView",
            "box_style": "",
            "children": [
              "IPY_MODEL_6ee45ab8376b45e1a915f3b47aeb8b96",
              "IPY_MODEL_baabf9dd66784715b04c987750b6c71e",
              "IPY_MODEL_72d12237322540d3856821dc74d557bc"
            ],
            "layout": "IPY_MODEL_d8865d236c8a4b069298f62d72f3f523"
          }
        },
        "6ee45ab8376b45e1a915f3b47aeb8b96": {
          "model_module": "@jupyter-widgets/controls",
          "model_name": "HTMLModel",
          "model_module_version": "1.5.0",
          "state": {
            "_dom_classes": [],
            "_model_module": "@jupyter-widgets/controls",
            "_model_module_version": "1.5.0",
            "_model_name": "HTMLModel",
            "_view_count": null,
            "_view_module": "@jupyter-widgets/controls",
            "_view_module_version": "1.5.0",
            "_view_name": "HTMLView",
            "description": "",
            "description_tooltip": null,
            "layout": "IPY_MODEL_13c5e250603e4b8492a5a1a673d5997d",
            "placeholder": "​",
            "style": "IPY_MODEL_3c2c7eb305af44a1a49205439cf7ceb4",
            "value": "Downloading: 100%"
          }
        },
        "baabf9dd66784715b04c987750b6c71e": {
          "model_module": "@jupyter-widgets/controls",
          "model_name": "FloatProgressModel",
          "model_module_version": "1.5.0",
          "state": {
            "_dom_classes": [],
            "_model_module": "@jupyter-widgets/controls",
            "_model_module_version": "1.5.0",
            "_model_name": "FloatProgressModel",
            "_view_count": null,
            "_view_module": "@jupyter-widgets/controls",
            "_view_module_version": "1.5.0",
            "_view_name": "ProgressView",
            "bar_style": "success",
            "description": "",
            "description_tooltip": null,
            "layout": "IPY_MODEL_aca422222b1e41c080a0d2f408c18235",
            "max": 231508,
            "min": 0,
            "orientation": "horizontal",
            "style": "IPY_MODEL_f738fb70578745dcad57af8767f2191f",
            "value": 231508
          }
        },
        "72d12237322540d3856821dc74d557bc": {
          "model_module": "@jupyter-widgets/controls",
          "model_name": "HTMLModel",
          "model_module_version": "1.5.0",
          "state": {
            "_dom_classes": [],
            "_model_module": "@jupyter-widgets/controls",
            "_model_module_version": "1.5.0",
            "_model_name": "HTMLModel",
            "_view_count": null,
            "_view_module": "@jupyter-widgets/controls",
            "_view_module_version": "1.5.0",
            "_view_name": "HTMLView",
            "description": "",
            "description_tooltip": null,
            "layout": "IPY_MODEL_da1146764e1c45b6a2c6ec43ac969c63",
            "placeholder": "​",
            "style": "IPY_MODEL_d75c2234e430405eb419b3aa4a80191f",
            "value": " 232k/232k [00:00&lt;00:00, 346kB/s]"
          }
        },
        "d8865d236c8a4b069298f62d72f3f523": {
          "model_module": "@jupyter-widgets/base",
          "model_name": "LayoutModel",
          "model_module_version": "1.2.0",
          "state": {
            "_model_module": "@jupyter-widgets/base",
            "_model_module_version": "1.2.0",
            "_model_name": "LayoutModel",
            "_view_count": null,
            "_view_module": "@jupyter-widgets/base",
            "_view_module_version": "1.2.0",
            "_view_name": "LayoutView",
            "align_content": null,
            "align_items": null,
            "align_self": null,
            "border": null,
            "bottom": null,
            "display": null,
            "flex": null,
            "flex_flow": null,
            "grid_area": null,
            "grid_auto_columns": null,
            "grid_auto_flow": null,
            "grid_auto_rows": null,
            "grid_column": null,
            "grid_gap": null,
            "grid_row": null,
            "grid_template_areas": null,
            "grid_template_columns": null,
            "grid_template_rows": null,
            "height": null,
            "justify_content": null,
            "justify_items": null,
            "left": null,
            "margin": null,
            "max_height": null,
            "max_width": null,
            "min_height": null,
            "min_width": null,
            "object_fit": null,
            "object_position": null,
            "order": null,
            "overflow": null,
            "overflow_x": null,
            "overflow_y": null,
            "padding": null,
            "right": null,
            "top": null,
            "visibility": null,
            "width": null
          }
        },
        "13c5e250603e4b8492a5a1a673d5997d": {
          "model_module": "@jupyter-widgets/base",
          "model_name": "LayoutModel",
          "model_module_version": "1.2.0",
          "state": {
            "_model_module": "@jupyter-widgets/base",
            "_model_module_version": "1.2.0",
            "_model_name": "LayoutModel",
            "_view_count": null,
            "_view_module": "@jupyter-widgets/base",
            "_view_module_version": "1.2.0",
            "_view_name": "LayoutView",
            "align_content": null,
            "align_items": null,
            "align_self": null,
            "border": null,
            "bottom": null,
            "display": null,
            "flex": null,
            "flex_flow": null,
            "grid_area": null,
            "grid_auto_columns": null,
            "grid_auto_flow": null,
            "grid_auto_rows": null,
            "grid_column": null,
            "grid_gap": null,
            "grid_row": null,
            "grid_template_areas": null,
            "grid_template_columns": null,
            "grid_template_rows": null,
            "height": null,
            "justify_content": null,
            "justify_items": null,
            "left": null,
            "margin": null,
            "max_height": null,
            "max_width": null,
            "min_height": null,
            "min_width": null,
            "object_fit": null,
            "object_position": null,
            "order": null,
            "overflow": null,
            "overflow_x": null,
            "overflow_y": null,
            "padding": null,
            "right": null,
            "top": null,
            "visibility": null,
            "width": null
          }
        },
        "3c2c7eb305af44a1a49205439cf7ceb4": {
          "model_module": "@jupyter-widgets/controls",
          "model_name": "DescriptionStyleModel",
          "model_module_version": "1.5.0",
          "state": {
            "_model_module": "@jupyter-widgets/controls",
            "_model_module_version": "1.5.0",
            "_model_name": "DescriptionStyleModel",
            "_view_count": null,
            "_view_module": "@jupyter-widgets/base",
            "_view_module_version": "1.2.0",
            "_view_name": "StyleView",
            "description_width": ""
          }
        },
        "aca422222b1e41c080a0d2f408c18235": {
          "model_module": "@jupyter-widgets/base",
          "model_name": "LayoutModel",
          "model_module_version": "1.2.0",
          "state": {
            "_model_module": "@jupyter-widgets/base",
            "_model_module_version": "1.2.0",
            "_model_name": "LayoutModel",
            "_view_count": null,
            "_view_module": "@jupyter-widgets/base",
            "_view_module_version": "1.2.0",
            "_view_name": "LayoutView",
            "align_content": null,
            "align_items": null,
            "align_self": null,
            "border": null,
            "bottom": null,
            "display": null,
            "flex": null,
            "flex_flow": null,
            "grid_area": null,
            "grid_auto_columns": null,
            "grid_auto_flow": null,
            "grid_auto_rows": null,
            "grid_column": null,
            "grid_gap": null,
            "grid_row": null,
            "grid_template_areas": null,
            "grid_template_columns": null,
            "grid_template_rows": null,
            "height": null,
            "justify_content": null,
            "justify_items": null,
            "left": null,
            "margin": null,
            "max_height": null,
            "max_width": null,
            "min_height": null,
            "min_width": null,
            "object_fit": null,
            "object_position": null,
            "order": null,
            "overflow": null,
            "overflow_x": null,
            "overflow_y": null,
            "padding": null,
            "right": null,
            "top": null,
            "visibility": null,
            "width": null
          }
        },
        "f738fb70578745dcad57af8767f2191f": {
          "model_module": "@jupyter-widgets/controls",
          "model_name": "ProgressStyleModel",
          "model_module_version": "1.5.0",
          "state": {
            "_model_module": "@jupyter-widgets/controls",
            "_model_module_version": "1.5.0",
            "_model_name": "ProgressStyleModel",
            "_view_count": null,
            "_view_module": "@jupyter-widgets/base",
            "_view_module_version": "1.2.0",
            "_view_name": "StyleView",
            "bar_color": null,
            "description_width": ""
          }
        },
        "da1146764e1c45b6a2c6ec43ac969c63": {
          "model_module": "@jupyter-widgets/base",
          "model_name": "LayoutModel",
          "model_module_version": "1.2.0",
          "state": {
            "_model_module": "@jupyter-widgets/base",
            "_model_module_version": "1.2.0",
            "_model_name": "LayoutModel",
            "_view_count": null,
            "_view_module": "@jupyter-widgets/base",
            "_view_module_version": "1.2.0",
            "_view_name": "LayoutView",
            "align_content": null,
            "align_items": null,
            "align_self": null,
            "border": null,
            "bottom": null,
            "display": null,
            "flex": null,
            "flex_flow": null,
            "grid_area": null,
            "grid_auto_columns": null,
            "grid_auto_flow": null,
            "grid_auto_rows": null,
            "grid_column": null,
            "grid_gap": null,
            "grid_row": null,
            "grid_template_areas": null,
            "grid_template_columns": null,
            "grid_template_rows": null,
            "height": null,
            "justify_content": null,
            "justify_items": null,
            "left": null,
            "margin": null,
            "max_height": null,
            "max_width": null,
            "min_height": null,
            "min_width": null,
            "object_fit": null,
            "object_position": null,
            "order": null,
            "overflow": null,
            "overflow_x": null,
            "overflow_y": null,
            "padding": null,
            "right": null,
            "top": null,
            "visibility": null,
            "width": null
          }
        },
        "d75c2234e430405eb419b3aa4a80191f": {
          "model_module": "@jupyter-widgets/controls",
          "model_name": "DescriptionStyleModel",
          "model_module_version": "1.5.0",
          "state": {
            "_model_module": "@jupyter-widgets/controls",
            "_model_module_version": "1.5.0",
            "_model_name": "DescriptionStyleModel",
            "_view_count": null,
            "_view_module": "@jupyter-widgets/base",
            "_view_module_version": "1.2.0",
            "_view_name": "StyleView",
            "description_width": ""
          }
        },
        "0b42a30db5484e7590dc7e3e907e8b16": {
          "model_module": "@jupyter-widgets/controls",
          "model_name": "HBoxModel",
          "model_module_version": "1.5.0",
          "state": {
            "_dom_classes": [],
            "_model_module": "@jupyter-widgets/controls",
            "_model_module_version": "1.5.0",
            "_model_name": "HBoxModel",
            "_view_count": null,
            "_view_module": "@jupyter-widgets/controls",
            "_view_module_version": "1.5.0",
            "_view_name": "HBoxView",
            "box_style": "",
            "children": [
              "IPY_MODEL_84f96643bb5a4513b9818049c34b2469",
              "IPY_MODEL_2d28e2d69b714a9ba553a516f465f3c1",
              "IPY_MODEL_2590656a145d4e4bba4638f46fb26eb4"
            ],
            "layout": "IPY_MODEL_1607a552715d4d72b115f7b75777a54e"
          }
        },
        "84f96643bb5a4513b9818049c34b2469": {
          "model_module": "@jupyter-widgets/controls",
          "model_name": "HTMLModel",
          "model_module_version": "1.5.0",
          "state": {
            "_dom_classes": [],
            "_model_module": "@jupyter-widgets/controls",
            "_model_module_version": "1.5.0",
            "_model_name": "HTMLModel",
            "_view_count": null,
            "_view_module": "@jupyter-widgets/controls",
            "_view_module_version": "1.5.0",
            "_view_name": "HTMLView",
            "description": "",
            "description_tooltip": null,
            "layout": "IPY_MODEL_363e825a537e4df783decd67bd59cb30",
            "placeholder": "​",
            "style": "IPY_MODEL_eb95de441fcc403c8c74608007abd600",
            "value": "Downloading: 100%"
          }
        },
        "2d28e2d69b714a9ba553a516f465f3c1": {
          "model_module": "@jupyter-widgets/controls",
          "model_name": "FloatProgressModel",
          "model_module_version": "1.5.0",
          "state": {
            "_dom_classes": [],
            "_model_module": "@jupyter-widgets/controls",
            "_model_module_version": "1.5.0",
            "_model_name": "FloatProgressModel",
            "_view_count": null,
            "_view_module": "@jupyter-widgets/controls",
            "_view_module_version": "1.5.0",
            "_view_name": "ProgressView",
            "bar_style": "success",
            "description": "",
            "description_tooltip": null,
            "layout": "IPY_MODEL_c99577fe6d1c4e7a8b0760611ed5e1be",
            "max": 28,
            "min": 0,
            "orientation": "horizontal",
            "style": "IPY_MODEL_69e002cd0891468682a19085683f1b02",
            "value": 28
          }
        },
        "2590656a145d4e4bba4638f46fb26eb4": {
          "model_module": "@jupyter-widgets/controls",
          "model_name": "HTMLModel",
          "model_module_version": "1.5.0",
          "state": {
            "_dom_classes": [],
            "_model_module": "@jupyter-widgets/controls",
            "_model_module_version": "1.5.0",
            "_model_name": "HTMLModel",
            "_view_count": null,
            "_view_module": "@jupyter-widgets/controls",
            "_view_module_version": "1.5.0",
            "_view_name": "HTMLView",
            "description": "",
            "description_tooltip": null,
            "layout": "IPY_MODEL_2415a35e20af4e9caf6ca955783123a7",
            "placeholder": "​",
            "style": "IPY_MODEL_8b1f4ec623eb4a39b42b263c5ad7fca0",
            "value": " 28.0/28.0 [00:00&lt;00:00, 464B/s]"
          }
        },
        "1607a552715d4d72b115f7b75777a54e": {
          "model_module": "@jupyter-widgets/base",
          "model_name": "LayoutModel",
          "model_module_version": "1.2.0",
          "state": {
            "_model_module": "@jupyter-widgets/base",
            "_model_module_version": "1.2.0",
            "_model_name": "LayoutModel",
            "_view_count": null,
            "_view_module": "@jupyter-widgets/base",
            "_view_module_version": "1.2.0",
            "_view_name": "LayoutView",
            "align_content": null,
            "align_items": null,
            "align_self": null,
            "border": null,
            "bottom": null,
            "display": null,
            "flex": null,
            "flex_flow": null,
            "grid_area": null,
            "grid_auto_columns": null,
            "grid_auto_flow": null,
            "grid_auto_rows": null,
            "grid_column": null,
            "grid_gap": null,
            "grid_row": null,
            "grid_template_areas": null,
            "grid_template_columns": null,
            "grid_template_rows": null,
            "height": null,
            "justify_content": null,
            "justify_items": null,
            "left": null,
            "margin": null,
            "max_height": null,
            "max_width": null,
            "min_height": null,
            "min_width": null,
            "object_fit": null,
            "object_position": null,
            "order": null,
            "overflow": null,
            "overflow_x": null,
            "overflow_y": null,
            "padding": null,
            "right": null,
            "top": null,
            "visibility": null,
            "width": null
          }
        },
        "363e825a537e4df783decd67bd59cb30": {
          "model_module": "@jupyter-widgets/base",
          "model_name": "LayoutModel",
          "model_module_version": "1.2.0",
          "state": {
            "_model_module": "@jupyter-widgets/base",
            "_model_module_version": "1.2.0",
            "_model_name": "LayoutModel",
            "_view_count": null,
            "_view_module": "@jupyter-widgets/base",
            "_view_module_version": "1.2.0",
            "_view_name": "LayoutView",
            "align_content": null,
            "align_items": null,
            "align_self": null,
            "border": null,
            "bottom": null,
            "display": null,
            "flex": null,
            "flex_flow": null,
            "grid_area": null,
            "grid_auto_columns": null,
            "grid_auto_flow": null,
            "grid_auto_rows": null,
            "grid_column": null,
            "grid_gap": null,
            "grid_row": null,
            "grid_template_areas": null,
            "grid_template_columns": null,
            "grid_template_rows": null,
            "height": null,
            "justify_content": null,
            "justify_items": null,
            "left": null,
            "margin": null,
            "max_height": null,
            "max_width": null,
            "min_height": null,
            "min_width": null,
            "object_fit": null,
            "object_position": null,
            "order": null,
            "overflow": null,
            "overflow_x": null,
            "overflow_y": null,
            "padding": null,
            "right": null,
            "top": null,
            "visibility": null,
            "width": null
          }
        },
        "eb95de441fcc403c8c74608007abd600": {
          "model_module": "@jupyter-widgets/controls",
          "model_name": "DescriptionStyleModel",
          "model_module_version": "1.5.0",
          "state": {
            "_model_module": "@jupyter-widgets/controls",
            "_model_module_version": "1.5.0",
            "_model_name": "DescriptionStyleModel",
            "_view_count": null,
            "_view_module": "@jupyter-widgets/base",
            "_view_module_version": "1.2.0",
            "_view_name": "StyleView",
            "description_width": ""
          }
        },
        "c99577fe6d1c4e7a8b0760611ed5e1be": {
          "model_module": "@jupyter-widgets/base",
          "model_name": "LayoutModel",
          "model_module_version": "1.2.0",
          "state": {
            "_model_module": "@jupyter-widgets/base",
            "_model_module_version": "1.2.0",
            "_model_name": "LayoutModel",
            "_view_count": null,
            "_view_module": "@jupyter-widgets/base",
            "_view_module_version": "1.2.0",
            "_view_name": "LayoutView",
            "align_content": null,
            "align_items": null,
            "align_self": null,
            "border": null,
            "bottom": null,
            "display": null,
            "flex": null,
            "flex_flow": null,
            "grid_area": null,
            "grid_auto_columns": null,
            "grid_auto_flow": null,
            "grid_auto_rows": null,
            "grid_column": null,
            "grid_gap": null,
            "grid_row": null,
            "grid_template_areas": null,
            "grid_template_columns": null,
            "grid_template_rows": null,
            "height": null,
            "justify_content": null,
            "justify_items": null,
            "left": null,
            "margin": null,
            "max_height": null,
            "max_width": null,
            "min_height": null,
            "min_width": null,
            "object_fit": null,
            "object_position": null,
            "order": null,
            "overflow": null,
            "overflow_x": null,
            "overflow_y": null,
            "padding": null,
            "right": null,
            "top": null,
            "visibility": null,
            "width": null
          }
        },
        "69e002cd0891468682a19085683f1b02": {
          "model_module": "@jupyter-widgets/controls",
          "model_name": "ProgressStyleModel",
          "model_module_version": "1.5.0",
          "state": {
            "_model_module": "@jupyter-widgets/controls",
            "_model_module_version": "1.5.0",
            "_model_name": "ProgressStyleModel",
            "_view_count": null,
            "_view_module": "@jupyter-widgets/base",
            "_view_module_version": "1.2.0",
            "_view_name": "StyleView",
            "bar_color": null,
            "description_width": ""
          }
        },
        "2415a35e20af4e9caf6ca955783123a7": {
          "model_module": "@jupyter-widgets/base",
          "model_name": "LayoutModel",
          "model_module_version": "1.2.0",
          "state": {
            "_model_module": "@jupyter-widgets/base",
            "_model_module_version": "1.2.0",
            "_model_name": "LayoutModel",
            "_view_count": null,
            "_view_module": "@jupyter-widgets/base",
            "_view_module_version": "1.2.0",
            "_view_name": "LayoutView",
            "align_content": null,
            "align_items": null,
            "align_self": null,
            "border": null,
            "bottom": null,
            "display": null,
            "flex": null,
            "flex_flow": null,
            "grid_area": null,
            "grid_auto_columns": null,
            "grid_auto_flow": null,
            "grid_auto_rows": null,
            "grid_column": null,
            "grid_gap": null,
            "grid_row": null,
            "grid_template_areas": null,
            "grid_template_columns": null,
            "grid_template_rows": null,
            "height": null,
            "justify_content": null,
            "justify_items": null,
            "left": null,
            "margin": null,
            "max_height": null,
            "max_width": null,
            "min_height": null,
            "min_width": null,
            "object_fit": null,
            "object_position": null,
            "order": null,
            "overflow": null,
            "overflow_x": null,
            "overflow_y": null,
            "padding": null,
            "right": null,
            "top": null,
            "visibility": null,
            "width": null
          }
        },
        "8b1f4ec623eb4a39b42b263c5ad7fca0": {
          "model_module": "@jupyter-widgets/controls",
          "model_name": "DescriptionStyleModel",
          "model_module_version": "1.5.0",
          "state": {
            "_model_module": "@jupyter-widgets/controls",
            "_model_module_version": "1.5.0",
            "_model_name": "DescriptionStyleModel",
            "_view_count": null,
            "_view_module": "@jupyter-widgets/base",
            "_view_module_version": "1.2.0",
            "_view_name": "StyleView",
            "description_width": ""
          }
        },
        "5f3ec1d712594e80a956592b57214057": {
          "model_module": "@jupyter-widgets/controls",
          "model_name": "HBoxModel",
          "model_module_version": "1.5.0",
          "state": {
            "_dom_classes": [],
            "_model_module": "@jupyter-widgets/controls",
            "_model_module_version": "1.5.0",
            "_model_name": "HBoxModel",
            "_view_count": null,
            "_view_module": "@jupyter-widgets/controls",
            "_view_module_version": "1.5.0",
            "_view_name": "HBoxView",
            "box_style": "",
            "children": [
              "IPY_MODEL_335e27c0431342a1a23068953dfbf400",
              "IPY_MODEL_e954ab99005043189bffe4e54d1c8d6c",
              "IPY_MODEL_c8f285abcd9042428d53fd51b9ff95c2"
            ],
            "layout": "IPY_MODEL_e41cb50da3f34df6ad78abb3fc5a5978"
          }
        },
        "335e27c0431342a1a23068953dfbf400": {
          "model_module": "@jupyter-widgets/controls",
          "model_name": "HTMLModel",
          "model_module_version": "1.5.0",
          "state": {
            "_dom_classes": [],
            "_model_module": "@jupyter-widgets/controls",
            "_model_module_version": "1.5.0",
            "_model_name": "HTMLModel",
            "_view_count": null,
            "_view_module": "@jupyter-widgets/controls",
            "_view_module_version": "1.5.0",
            "_view_name": "HTMLView",
            "description": "",
            "description_tooltip": null,
            "layout": "IPY_MODEL_9f7f827f773d44518ea213a46e80ae8d",
            "placeholder": "​",
            "style": "IPY_MODEL_0b18fba227de4f12a1d375c9d8c496ae",
            "value": "Downloading: 100%"
          }
        },
        "e954ab99005043189bffe4e54d1c8d6c": {
          "model_module": "@jupyter-widgets/controls",
          "model_name": "FloatProgressModel",
          "model_module_version": "1.5.0",
          "state": {
            "_dom_classes": [],
            "_model_module": "@jupyter-widgets/controls",
            "_model_module_version": "1.5.0",
            "_model_name": "FloatProgressModel",
            "_view_count": null,
            "_view_module": "@jupyter-widgets/controls",
            "_view_module_version": "1.5.0",
            "_view_name": "ProgressView",
            "bar_style": "success",
            "description": "",
            "description_tooltip": null,
            "layout": "IPY_MODEL_c6154db777a24e01a598ddf54ce72b00",
            "max": 570,
            "min": 0,
            "orientation": "horizontal",
            "style": "IPY_MODEL_25bb65e0f89a4c00a172d0508af47ddd",
            "value": 570
          }
        },
        "c8f285abcd9042428d53fd51b9ff95c2": {
          "model_module": "@jupyter-widgets/controls",
          "model_name": "HTMLModel",
          "model_module_version": "1.5.0",
          "state": {
            "_dom_classes": [],
            "_model_module": "@jupyter-widgets/controls",
            "_model_module_version": "1.5.0",
            "_model_name": "HTMLModel",
            "_view_count": null,
            "_view_module": "@jupyter-widgets/controls",
            "_view_module_version": "1.5.0",
            "_view_name": "HTMLView",
            "description": "",
            "description_tooltip": null,
            "layout": "IPY_MODEL_ca4b9ee6269544198713221c62574656",
            "placeholder": "​",
            "style": "IPY_MODEL_08ef263d601d44bcbcf1a30be4e1d1b8",
            "value": " 570/570 [00:00&lt;00:00, 3.69kB/s]"
          }
        },
        "e41cb50da3f34df6ad78abb3fc5a5978": {
          "model_module": "@jupyter-widgets/base",
          "model_name": "LayoutModel",
          "model_module_version": "1.2.0",
          "state": {
            "_model_module": "@jupyter-widgets/base",
            "_model_module_version": "1.2.0",
            "_model_name": "LayoutModel",
            "_view_count": null,
            "_view_module": "@jupyter-widgets/base",
            "_view_module_version": "1.2.0",
            "_view_name": "LayoutView",
            "align_content": null,
            "align_items": null,
            "align_self": null,
            "border": null,
            "bottom": null,
            "display": null,
            "flex": null,
            "flex_flow": null,
            "grid_area": null,
            "grid_auto_columns": null,
            "grid_auto_flow": null,
            "grid_auto_rows": null,
            "grid_column": null,
            "grid_gap": null,
            "grid_row": null,
            "grid_template_areas": null,
            "grid_template_columns": null,
            "grid_template_rows": null,
            "height": null,
            "justify_content": null,
            "justify_items": null,
            "left": null,
            "margin": null,
            "max_height": null,
            "max_width": null,
            "min_height": null,
            "min_width": null,
            "object_fit": null,
            "object_position": null,
            "order": null,
            "overflow": null,
            "overflow_x": null,
            "overflow_y": null,
            "padding": null,
            "right": null,
            "top": null,
            "visibility": null,
            "width": null
          }
        },
        "9f7f827f773d44518ea213a46e80ae8d": {
          "model_module": "@jupyter-widgets/base",
          "model_name": "LayoutModel",
          "model_module_version": "1.2.0",
          "state": {
            "_model_module": "@jupyter-widgets/base",
            "_model_module_version": "1.2.0",
            "_model_name": "LayoutModel",
            "_view_count": null,
            "_view_module": "@jupyter-widgets/base",
            "_view_module_version": "1.2.0",
            "_view_name": "LayoutView",
            "align_content": null,
            "align_items": null,
            "align_self": null,
            "border": null,
            "bottom": null,
            "display": null,
            "flex": null,
            "flex_flow": null,
            "grid_area": null,
            "grid_auto_columns": null,
            "grid_auto_flow": null,
            "grid_auto_rows": null,
            "grid_column": null,
            "grid_gap": null,
            "grid_row": null,
            "grid_template_areas": null,
            "grid_template_columns": null,
            "grid_template_rows": null,
            "height": null,
            "justify_content": null,
            "justify_items": null,
            "left": null,
            "margin": null,
            "max_height": null,
            "max_width": null,
            "min_height": null,
            "min_width": null,
            "object_fit": null,
            "object_position": null,
            "order": null,
            "overflow": null,
            "overflow_x": null,
            "overflow_y": null,
            "padding": null,
            "right": null,
            "top": null,
            "visibility": null,
            "width": null
          }
        },
        "0b18fba227de4f12a1d375c9d8c496ae": {
          "model_module": "@jupyter-widgets/controls",
          "model_name": "DescriptionStyleModel",
          "model_module_version": "1.5.0",
          "state": {
            "_model_module": "@jupyter-widgets/controls",
            "_model_module_version": "1.5.0",
            "_model_name": "DescriptionStyleModel",
            "_view_count": null,
            "_view_module": "@jupyter-widgets/base",
            "_view_module_version": "1.2.0",
            "_view_name": "StyleView",
            "description_width": ""
          }
        },
        "c6154db777a24e01a598ddf54ce72b00": {
          "model_module": "@jupyter-widgets/base",
          "model_name": "LayoutModel",
          "model_module_version": "1.2.0",
          "state": {
            "_model_module": "@jupyter-widgets/base",
            "_model_module_version": "1.2.0",
            "_model_name": "LayoutModel",
            "_view_count": null,
            "_view_module": "@jupyter-widgets/base",
            "_view_module_version": "1.2.0",
            "_view_name": "LayoutView",
            "align_content": null,
            "align_items": null,
            "align_self": null,
            "border": null,
            "bottom": null,
            "display": null,
            "flex": null,
            "flex_flow": null,
            "grid_area": null,
            "grid_auto_columns": null,
            "grid_auto_flow": null,
            "grid_auto_rows": null,
            "grid_column": null,
            "grid_gap": null,
            "grid_row": null,
            "grid_template_areas": null,
            "grid_template_columns": null,
            "grid_template_rows": null,
            "height": null,
            "justify_content": null,
            "justify_items": null,
            "left": null,
            "margin": null,
            "max_height": null,
            "max_width": null,
            "min_height": null,
            "min_width": null,
            "object_fit": null,
            "object_position": null,
            "order": null,
            "overflow": null,
            "overflow_x": null,
            "overflow_y": null,
            "padding": null,
            "right": null,
            "top": null,
            "visibility": null,
            "width": null
          }
        },
        "25bb65e0f89a4c00a172d0508af47ddd": {
          "model_module": "@jupyter-widgets/controls",
          "model_name": "ProgressStyleModel",
          "model_module_version": "1.5.0",
          "state": {
            "_model_module": "@jupyter-widgets/controls",
            "_model_module_version": "1.5.0",
            "_model_name": "ProgressStyleModel",
            "_view_count": null,
            "_view_module": "@jupyter-widgets/base",
            "_view_module_version": "1.2.0",
            "_view_name": "StyleView",
            "bar_color": null,
            "description_width": ""
          }
        },
        "ca4b9ee6269544198713221c62574656": {
          "model_module": "@jupyter-widgets/base",
          "model_name": "LayoutModel",
          "model_module_version": "1.2.0",
          "state": {
            "_model_module": "@jupyter-widgets/base",
            "_model_module_version": "1.2.0",
            "_model_name": "LayoutModel",
            "_view_count": null,
            "_view_module": "@jupyter-widgets/base",
            "_view_module_version": "1.2.0",
            "_view_name": "LayoutView",
            "align_content": null,
            "align_items": null,
            "align_self": null,
            "border": null,
            "bottom": null,
            "display": null,
            "flex": null,
            "flex_flow": null,
            "grid_area": null,
            "grid_auto_columns": null,
            "grid_auto_flow": null,
            "grid_auto_rows": null,
            "grid_column": null,
            "grid_gap": null,
            "grid_row": null,
            "grid_template_areas": null,
            "grid_template_columns": null,
            "grid_template_rows": null,
            "height": null,
            "justify_content": null,
            "justify_items": null,
            "left": null,
            "margin": null,
            "max_height": null,
            "max_width": null,
            "min_height": null,
            "min_width": null,
            "object_fit": null,
            "object_position": null,
            "order": null,
            "overflow": null,
            "overflow_x": null,
            "overflow_y": null,
            "padding": null,
            "right": null,
            "top": null,
            "visibility": null,
            "width": null
          }
        },
        "08ef263d601d44bcbcf1a30be4e1d1b8": {
          "model_module": "@jupyter-widgets/controls",
          "model_name": "DescriptionStyleModel",
          "model_module_version": "1.5.0",
          "state": {
            "_model_module": "@jupyter-widgets/controls",
            "_model_module_version": "1.5.0",
            "_model_name": "DescriptionStyleModel",
            "_view_count": null,
            "_view_module": "@jupyter-widgets/base",
            "_view_module_version": "1.2.0",
            "_view_name": "StyleView",
            "description_width": ""
          }
        },
        "67a4ad32fa8e4265903323009ecb6d6e": {
          "model_module": "@jupyter-widgets/controls",
          "model_name": "HBoxModel",
          "model_module_version": "1.5.0",
          "state": {
            "_dom_classes": [],
            "_model_module": "@jupyter-widgets/controls",
            "_model_module_version": "1.5.0",
            "_model_name": "HBoxModel",
            "_view_count": null,
            "_view_module": "@jupyter-widgets/controls",
            "_view_module_version": "1.5.0",
            "_view_name": "HBoxView",
            "box_style": "",
            "children": [
              "IPY_MODEL_bafad5068c31479ea2f3d4e2a41c9f13",
              "IPY_MODEL_9d2ae98b48004b9f955e308afa3e1670",
              "IPY_MODEL_643dfa477bb9421ab2c62e35ea0559e3"
            ],
            "layout": "IPY_MODEL_c39364ab12b744c88c0bfa92ebd6c6bb"
          }
        },
        "bafad5068c31479ea2f3d4e2a41c9f13": {
          "model_module": "@jupyter-widgets/controls",
          "model_name": "HTMLModel",
          "model_module_version": "1.5.0",
          "state": {
            "_dom_classes": [],
            "_model_module": "@jupyter-widgets/controls",
            "_model_module_version": "1.5.0",
            "_model_name": "HTMLModel",
            "_view_count": null,
            "_view_module": "@jupyter-widgets/controls",
            "_view_module_version": "1.5.0",
            "_view_name": "HTMLView",
            "description": "",
            "description_tooltip": null,
            "layout": "IPY_MODEL_85fa4ea6df6544c7af2ec47851c34394",
            "placeholder": "​",
            "style": "IPY_MODEL_940fce6f13da4e1198a6b56e903abf00",
            "value": "Downloading: 100%"
          }
        },
        "9d2ae98b48004b9f955e308afa3e1670": {
          "model_module": "@jupyter-widgets/controls",
          "model_name": "FloatProgressModel",
          "model_module_version": "1.5.0",
          "state": {
            "_dom_classes": [],
            "_model_module": "@jupyter-widgets/controls",
            "_model_module_version": "1.5.0",
            "_model_name": "FloatProgressModel",
            "_view_count": null,
            "_view_module": "@jupyter-widgets/controls",
            "_view_module_version": "1.5.0",
            "_view_name": "ProgressView",
            "bar_style": "success",
            "description": "",
            "description_tooltip": null,
            "layout": "IPY_MODEL_13654380f4da40aa9cf49349968d5d3f",
            "max": 536063208,
            "min": 0,
            "orientation": "horizontal",
            "style": "IPY_MODEL_061a24897dd3468a8dde7e0e1f5f895e",
            "value": 536063208
          }
        },
        "643dfa477bb9421ab2c62e35ea0559e3": {
          "model_module": "@jupyter-widgets/controls",
          "model_name": "HTMLModel",
          "model_module_version": "1.5.0",
          "state": {
            "_dom_classes": [],
            "_model_module": "@jupyter-widgets/controls",
            "_model_module_version": "1.5.0",
            "_model_name": "HTMLModel",
            "_view_count": null,
            "_view_module": "@jupyter-widgets/controls",
            "_view_module_version": "1.5.0",
            "_view_name": "HTMLView",
            "description": "",
            "description_tooltip": null,
            "layout": "IPY_MODEL_bb60ff28191849529aa271e34ed68fdc",
            "placeholder": "​",
            "style": "IPY_MODEL_bff11e8f08904082a74e5641fcff3ff0",
            "value": " 536M/536M [00:16&lt;00:00, 48.4MB/s]"
          }
        },
        "c39364ab12b744c88c0bfa92ebd6c6bb": {
          "model_module": "@jupyter-widgets/base",
          "model_name": "LayoutModel",
          "model_module_version": "1.2.0",
          "state": {
            "_model_module": "@jupyter-widgets/base",
            "_model_module_version": "1.2.0",
            "_model_name": "LayoutModel",
            "_view_count": null,
            "_view_module": "@jupyter-widgets/base",
            "_view_module_version": "1.2.0",
            "_view_name": "LayoutView",
            "align_content": null,
            "align_items": null,
            "align_self": null,
            "border": null,
            "bottom": null,
            "display": null,
            "flex": null,
            "flex_flow": null,
            "grid_area": null,
            "grid_auto_columns": null,
            "grid_auto_flow": null,
            "grid_auto_rows": null,
            "grid_column": null,
            "grid_gap": null,
            "grid_row": null,
            "grid_template_areas": null,
            "grid_template_columns": null,
            "grid_template_rows": null,
            "height": null,
            "justify_content": null,
            "justify_items": null,
            "left": null,
            "margin": null,
            "max_height": null,
            "max_width": null,
            "min_height": null,
            "min_width": null,
            "object_fit": null,
            "object_position": null,
            "order": null,
            "overflow": null,
            "overflow_x": null,
            "overflow_y": null,
            "padding": null,
            "right": null,
            "top": null,
            "visibility": null,
            "width": null
          }
        },
        "85fa4ea6df6544c7af2ec47851c34394": {
          "model_module": "@jupyter-widgets/base",
          "model_name": "LayoutModel",
          "model_module_version": "1.2.0",
          "state": {
            "_model_module": "@jupyter-widgets/base",
            "_model_module_version": "1.2.0",
            "_model_name": "LayoutModel",
            "_view_count": null,
            "_view_module": "@jupyter-widgets/base",
            "_view_module_version": "1.2.0",
            "_view_name": "LayoutView",
            "align_content": null,
            "align_items": null,
            "align_self": null,
            "border": null,
            "bottom": null,
            "display": null,
            "flex": null,
            "flex_flow": null,
            "grid_area": null,
            "grid_auto_columns": null,
            "grid_auto_flow": null,
            "grid_auto_rows": null,
            "grid_column": null,
            "grid_gap": null,
            "grid_row": null,
            "grid_template_areas": null,
            "grid_template_columns": null,
            "grid_template_rows": null,
            "height": null,
            "justify_content": null,
            "justify_items": null,
            "left": null,
            "margin": null,
            "max_height": null,
            "max_width": null,
            "min_height": null,
            "min_width": null,
            "object_fit": null,
            "object_position": null,
            "order": null,
            "overflow": null,
            "overflow_x": null,
            "overflow_y": null,
            "padding": null,
            "right": null,
            "top": null,
            "visibility": null,
            "width": null
          }
        },
        "940fce6f13da4e1198a6b56e903abf00": {
          "model_module": "@jupyter-widgets/controls",
          "model_name": "DescriptionStyleModel",
          "model_module_version": "1.5.0",
          "state": {
            "_model_module": "@jupyter-widgets/controls",
            "_model_module_version": "1.5.0",
            "_model_name": "DescriptionStyleModel",
            "_view_count": null,
            "_view_module": "@jupyter-widgets/base",
            "_view_module_version": "1.2.0",
            "_view_name": "StyleView",
            "description_width": ""
          }
        },
        "13654380f4da40aa9cf49349968d5d3f": {
          "model_module": "@jupyter-widgets/base",
          "model_name": "LayoutModel",
          "model_module_version": "1.2.0",
          "state": {
            "_model_module": "@jupyter-widgets/base",
            "_model_module_version": "1.2.0",
            "_model_name": "LayoutModel",
            "_view_count": null,
            "_view_module": "@jupyter-widgets/base",
            "_view_module_version": "1.2.0",
            "_view_name": "LayoutView",
            "align_content": null,
            "align_items": null,
            "align_self": null,
            "border": null,
            "bottom": null,
            "display": null,
            "flex": null,
            "flex_flow": null,
            "grid_area": null,
            "grid_auto_columns": null,
            "grid_auto_flow": null,
            "grid_auto_rows": null,
            "grid_column": null,
            "grid_gap": null,
            "grid_row": null,
            "grid_template_areas": null,
            "grid_template_columns": null,
            "grid_template_rows": null,
            "height": null,
            "justify_content": null,
            "justify_items": null,
            "left": null,
            "margin": null,
            "max_height": null,
            "max_width": null,
            "min_height": null,
            "min_width": null,
            "object_fit": null,
            "object_position": null,
            "order": null,
            "overflow": null,
            "overflow_x": null,
            "overflow_y": null,
            "padding": null,
            "right": null,
            "top": null,
            "visibility": null,
            "width": null
          }
        },
        "061a24897dd3468a8dde7e0e1f5f895e": {
          "model_module": "@jupyter-widgets/controls",
          "model_name": "ProgressStyleModel",
          "model_module_version": "1.5.0",
          "state": {
            "_model_module": "@jupyter-widgets/controls",
            "_model_module_version": "1.5.0",
            "_model_name": "ProgressStyleModel",
            "_view_count": null,
            "_view_module": "@jupyter-widgets/base",
            "_view_module_version": "1.2.0",
            "_view_name": "StyleView",
            "bar_color": null,
            "description_width": ""
          }
        },
        "bb60ff28191849529aa271e34ed68fdc": {
          "model_module": "@jupyter-widgets/base",
          "model_name": "LayoutModel",
          "model_module_version": "1.2.0",
          "state": {
            "_model_module": "@jupyter-widgets/base",
            "_model_module_version": "1.2.0",
            "_model_name": "LayoutModel",
            "_view_count": null,
            "_view_module": "@jupyter-widgets/base",
            "_view_module_version": "1.2.0",
            "_view_name": "LayoutView",
            "align_content": null,
            "align_items": null,
            "align_self": null,
            "border": null,
            "bottom": null,
            "display": null,
            "flex": null,
            "flex_flow": null,
            "grid_area": null,
            "grid_auto_columns": null,
            "grid_auto_flow": null,
            "grid_auto_rows": null,
            "grid_column": null,
            "grid_gap": null,
            "grid_row": null,
            "grid_template_areas": null,
            "grid_template_columns": null,
            "grid_template_rows": null,
            "height": null,
            "justify_content": null,
            "justify_items": null,
            "left": null,
            "margin": null,
            "max_height": null,
            "max_width": null,
            "min_height": null,
            "min_width": null,
            "object_fit": null,
            "object_position": null,
            "order": null,
            "overflow": null,
            "overflow_x": null,
            "overflow_y": null,
            "padding": null,
            "right": null,
            "top": null,
            "visibility": null,
            "width": null
          }
        },
        "bff11e8f08904082a74e5641fcff3ff0": {
          "model_module": "@jupyter-widgets/controls",
          "model_name": "DescriptionStyleModel",
          "model_module_version": "1.5.0",
          "state": {
            "_model_module": "@jupyter-widgets/controls",
            "_model_module_version": "1.5.0",
            "_model_name": "DescriptionStyleModel",
            "_view_count": null,
            "_view_module": "@jupyter-widgets/base",
            "_view_module_version": "1.2.0",
            "_view_name": "StyleView",
            "description_width": ""
          }
        }
      }
    }
  },
  "nbformat": 4,
  "nbformat_minor": 0
}