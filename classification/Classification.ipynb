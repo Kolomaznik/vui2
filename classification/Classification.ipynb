{
 "cells": [
  {
   "cell_type": "markdown",
   "metadata": {},
   "source": [
    "# Machine learning\n",
    "## Supervised learning\n",
    "Classification, Regression\n",
    "## Unsupervised learning\n",
    "Clustering, Association\n",
    "\n",
    "# Klasifikace a její algoritmy\n",
    "Binary classification, Multi-classification, Multi-label\n",
    "Sentimentální analýza, Email Spam, třídění dokumentů podle jejich obsahu, klasifikace obrázků\n",
    "## Logistická Regrese\n",
    "Logistická regerese by měla být použita pouze tehdy, pokud cílové proměnné spadají do diskrétních kategorií.\n",
    "Situace kdy využít logistickou regresi: \n",
    "    * Predikování jestli je email spam nebo ne\n",
    "    * Jestli je nádor zhoubná nebo ne\n",
    "    * Jestli je houba jedná nebo jedovatá\n",
    "    * Sentimentální analýza\n",
    "    \n",
    "## K-nearst Neighbours (K-NN)\n",
    "\n",
    "## Suport Vector Machine (SVM)\n",
    "\n",
    "## Naive Bayes\n",
    "\n",
    "## Decision Tree Classification\n",
    "\n",
    "## Random Forest Classification\n",
    "    \n",
    "    "
   ]
  },
  {
   "cell_type": "code",
   "execution_count": null,
   "metadata": {},
   "outputs": [],
   "source": []
  }
 ],
 "metadata": {
  "kernelspec": {
   "display_name": "Python 3",
   "language": "python",
   "name": "python3"
  },
  "language_info": {
   "codemirror_mode": {
    "name": "ipython",
    "version": 3
   },
   "file_extension": ".py",
   "mimetype": "text/x-python",
   "name": "python",
   "nbconvert_exporter": "python",
   "pygments_lexer": "ipython3",
   "version": "3.8.3"
  }
 },
 "nbformat": 4,
 "nbformat_minor": 4
}
