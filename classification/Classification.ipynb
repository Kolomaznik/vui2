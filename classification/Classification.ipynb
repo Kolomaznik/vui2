{
 "cells": [
  {
   "cell_type": "markdown",
   "metadata": {},
   "source": [
    "# Machine learning\n",
    "***Definice:*** Machine Learning je aplikace Umělé Inteligence, která umožňuje se neustále učit a zlepšovat ze zkušeností, aniž by byly explicitně naprogramované. Machine Learning se zaměřuje na vývoj počítačových programů, které mohou přistoupit k datům, učit se znich a používat je pro vlastní účely. Hlavním cílem je umožnit počítačům se neustále učit, aniž by bylo potřeba lidského zásahu nebo asistence a podle toho pak upravovat své jednání.\n",
    "\n",
    "<img src=\"resources/learning.jpeg\">\n",
    "\n",
    "***Proces učení začíná u dat, ve kterých se snažíme hledat vzory.***\n",
    "\n",
    "Machine Learning lze rozdělit do několika kategorií:\n",
    "- **Supervised learning**\n",
    "- **Unsupervised learning**\n",
    "- **Reinforcment learning**\n",
    "\n",
    "<img src=\"resources/machine_learning_kinds_and_using.png\">\n",
    "\n",
    "## Supervised learning\n",
    "Classification vs. Regression\n",
    "## Unsupervis\n",
    "ed learning\n",
    "Classification vs. Clustering. \n",
    "(Classification vs. Association)\n",
    "## Reinforcement Learning\n",
    "\n",
    "## Machine learning vs. Deep learning\n",
    "\n",
    "# Klasifikace a její algoritmy\n",
    "Binary classification, Multi-classification, Multi-label.\n",
    "Příklady použití klasifikace\n",
    "## Logistická Regrese\n",
    "U každého algoritmu bude teoretické a matematické vysvětlení a nějaký jednoduchý příklad v pythonu. Pokud je to složitý alg. tak jenom obecně vysvětlit.\n",
    "## K-nearst Neighbours (K-NN)\n",
    "## Suport Vector Machine (SVM)\n",
    "## Naive Bayes\n",
    "## Decision Tree Classification\n",
    "## Random Forest Classification\n",
    "# Příklad\n",
    "Pokud to pujde dobře, tak můžeme dát nějaký složitější příklad.\n"
   ]
  },
  {
   "cell_type": "code",
   "execution_count": null,
   "metadata": {},
   "outputs": [],
   "source": []
  }
 ],
 "metadata": {
  "kernelspec": {
   "display_name": "Python 3",
   "language": "python",
   "name": "python3"
  },
  "language_info": {
   "codemirror_mode": {
    "name": "ipython",
    "version": 3
   },
   "file_extension": ".py",
   "mimetype": "text/x-python",
   "name": "python",
   "nbconvert_exporter": "python",
   "pygments_lexer": "ipython3",
   "version": "3.8.3"
  }
 },
 "nbformat": 4,
 "nbformat_minor": 4
}
