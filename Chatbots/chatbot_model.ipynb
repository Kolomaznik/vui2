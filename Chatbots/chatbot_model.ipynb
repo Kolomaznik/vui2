{
 "cells": [
  {
   "cell_type": "code",
   "execution_count": 12,
   "metadata": {},
   "outputs": [
    {
     "name": "stdout",
     "output_type": "stream",
     "text": [
      "Event loop ready.\n"
     ]
    }
   ],
   "source": [
    "import nest_asyncio\n",
    "nest_asyncio.apply()\n",
    "print(\"Event loop ready.\")"
   ]
  },
  {
   "cell_type": "code",
   "execution_count": 13,
   "metadata": {},
   "outputs": [
    {
     "name": "stdout",
     "output_type": "stream",
     "text": [
      "chatbot_rasa/config.yml chatbot_rasa/data/ chatbot_rasa/domain.yml chatbot_rasa/models/\n"
     ]
    }
   ],
   "source": [
    "config = \"chatbot_rasa/config.yml\"\n",
    "training_files = \"chatbot_rasa/data/\"\n",
    "domain = \"chatbot_rasa/domain.yml\"\n",
    "output = \"chatbot_rasa/models/\"\n",
    "print(config, training_files, domain, output)"
   ]
  },
  {
   "cell_type": "markdown",
   "metadata": {},
   "source": []
  },
  {
   "cell_type": "code",
   "execution_count": 14,
   "metadata": {},
   "outputs": [
    {
     "name": "stdout",
     "output_type": "stream",
     "text": [
      "\u001b[94mThe configuration for pipeline and policies was chosen automatically. It was written into the config file at 'chatbot_rasa/config.yml'.\u001b[0m\n",
      "\u001b[92mNothing changed. You can use the old model stored at '/Users/petrajavorkova/Projects/UI2Git/vui2/Chatbots/chatbot_rasa/models/20201126-102251.tar.gz'.\u001b[0m\n",
      "chatbot_rasa/models/20201126-102251.tar.gz\n"
     ]
    }
   ],
   "source": [
    "import rasa\n",
    "model_path = rasa.train(domain, config, [training_files], output)\n",
    "print(model_path)"
   ]
  },
  {
   "cell_type": "code",
   "execution_count": 15,
   "metadata": {},
   "outputs": [],
   "source": [
    "from rasa.jupyter import chat\n"
   ]
  },
  {
   "cell_type": "code",
   "execution_count": null,
   "metadata": {},
   "outputs": [
    {
     "name": "stdout",
     "output_type": "stream",
     "text": [
      "WARNING:tensorflow:From /usr/local/lib/python3.7/site-packages/rasa/utils/tensorflow/layers.py:639: calling while_loop_v2 (from tensorflow.python.ops.control_flow_ops) with back_prop=False is deprecated and will be removed in a future version.\n",
      "Instructions for updating:\n",
      "back_prop=False is deprecated. Consider using tf.stop_gradient instead.\n",
      "Instead of:\n",
      "results = tf.while_loop(c, b, vars, back_prop=False)\n",
      "Use:\n",
      "results = tf.nest.map_structure(tf.stop_gradient, tf.while_loop(c, b, vars))\n",
      "Your bot is ready to talk! Type your messages here or send '/stop'.\n",
      "hello\n",
      "\u001b[92mHey! How are you?\u001b[0m\n"
     ]
    }
   ],
   "source": [
    "chat(model_path)"
   ]
  },
  {
   "cell_type": "code",
   "execution_count": null,
   "metadata": {},
   "outputs": [],
   "source": []
  },
  {
   "cell_type": "code",
   "execution_count": null,
   "metadata": {},
   "outputs": [],
   "source": []
  }
 ],
 "metadata": {
  "kernelspec": {
   "display_name": "Python 3",
   "language": "python",
   "name": "python3"
  },
  "language_info": {
   "codemirror_mode": {
    "name": "ipython",
    "version": 3
   },
   "file_extension": ".py",
   "mimetype": "text/x-python",
   "name": "python",
   "nbconvert_exporter": "python",
   "pygments_lexer": "ipython3",
   "version": "3.7.3"
  }
 },
 "nbformat": 4,
 "nbformat_minor": 4
}
