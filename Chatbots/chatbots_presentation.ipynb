{
 "cells": [
  {
   "cell_type": "markdown",
   "metadata": {},
   "source": [
    "# Chatbots\n",
    "**Autoři**: Petra Javorková, Filip Procházka\n",
    "\n",
    "## Úvod\n",
    "\n",
    "### Co je to chatbot?\n",
    "\n",
    "Na nejnižší úrovni vnímáme chatboty jako formu nového uživatelského rozhraní. Toto nové oživatelské rozhraní umožňuje uživatelům interaktivně využívat služby a brand prostřednictvím konverzačních platforem [1].\n",
    "\n",
    "### Conversational AI\n",
    "\n",
    "Technologie, která zabezpečuje automatizované konverzace mezi byznysem a zákazníky. Konverzace mohou probíhat **textově**, **hlasově formou zpráv**, nebo na **voice-based komunikační platformě**.\n",
    "\n",
    "AI se vyvinula na takovou úroveň, že dokáže simulovat lidskou konverzaci s vysokou přesností. Klíčem k dosažení tak vysoké úrovně lidské konverzace je využití **NLP (Natural Language Processing)**. NLP pomáchá chatbotům porozumět **lidské řeči**, **textu**, **záměru**, **rozpoznat jazyk**, **porozumět kontextu**, či **personalizovat konverzaci**, a nakonec **reagovat jako člověk** [2].\n",
    "\n",
    "## Historie chatbotů\n",
    "\n",
    "### Slovo \"robot\"\n",
    "\n",
    "**Chatbot = chat + bot**. Slovo robot se dostalu do slovníků světových jazyků díky českému spisovateli **Karlovi Čapkovi** a jeho sci-fi dílu **R.U.R (Rossumovi univerzální roboti)**.\n",
    "\n",
    "### ELIZA, rok 1960\n",
    "\n",
    "*Chatbot: https://www.masswerk.at/elizabot/*\n",
    "\n",
    "Eliza přijímá a zkoumá na vstupu klíčová slova, která analyzuje pomocí definovaného souboru pravidel a generuje výstup. Ve svém výstupu použije buď klíčové slovo se vstupu a nebo použije generickou odpověď. Autorem tohoto NLP programu je Joseph Weizenbaum, který na něm demonstroval dialog mezi člověkem a počítačovým programem na bázi Rogersova přístupu (v překladu přístup zaměřený na člověka). Eliza dosahuje nejlepších terapeutických výsledků když je uživatel vyzván k popisování jeho pocitů. Takový způsob rozhovoru byl zvolený z toho důvodu, že psychiatrický rozhovor je jedním z mála příkladů kategorizované dialogové komunikace v přirozeném jazyce, ve kterém jeden ze zůčastněných může předstírat, že neví téměř nic o skutečném světě.\n",
    "\n",
    "![Eliza](img/eliza.png)\n",
    "\n",
    "### PARRY, rok 1972, autor Kenneth Colby\n",
    "\n",
    "Kenneth Colby vytvořil chatbota, který modeloval chování paranoidního schizofrenického pacienta. Podle Kennetha Colbyho byl **PARRY** něco jako **Eliza** s určitým postojem [4].\n",
    "\n",
    "V lednu roku 1973 podstoupil průkopník počítačové vědy Vint Cerf během počítačové mezinárodní konference ony dva zmíněné chatboty (Elisa vs PARRY) vzájemné konverzaci. Tuto událost označil jako vzájemné střetnutí počítačových myslí.\n",
    "\n",
    "![Eliza vs PARRY](img/eliza_vs_parry.png)\n",
    "\n",
    "*Ukázka výsledku této konverzace: https://tools.ietf.org/html/rfc439*\n",
    "\n",
    "### Eugene Goostman, rok 2014\n",
    "\n",
    "*Chatbot: http://eugenegoostman.elasticbeanstalk.com*\n",
    "\n",
    "Chatbot, který v roce 2014 přesvědčil přesvědčil nic netušící porotce soutěžní hry *Can Machines Think?*, že je člověk [5]. Eugene Goostman prošel Turingovým testem, který zkoumá, zda lidští tazatelé odhhalí respondenta, který není člověkem. Soutěž se konala při příležitosti 60. výročí Turingovi smrti. V sérii 5minutévých rozhovorů se podařilo Eugenovi přesvědčit 33 % rozhodčí, že je člověk, což ještě nikdy předtím žádný jiný program nedokázal.\n",
    "\n",
    "## Evoluce chatbotů"
   ]
  },
  {
   "cell_type": "code",
   "execution_count": null,
   "metadata": {},
   "outputs": [],
   "source": []
  },
  {
   "cell_type": "code",
   "execution_count": null,
   "metadata": {},
   "outputs": [],
   "source": []
  }
 ],
 "metadata": {
  "kernelspec": {
   "display_name": "Python 3",
   "language": "python",
   "name": "python3"
  },
  "language_info": {
   "codemirror_mode": {
    "name": "ipython",
    "version": 3
   },
   "file_extension": ".py",
   "mimetype": "text/x-python",
   "name": "python",
   "nbconvert_exporter": "python",
   "pygments_lexer": "ipython3",
   "version": "3.8.3"
  }
 },
 "nbformat": 4,
 "nbformat_minor": 4
}
